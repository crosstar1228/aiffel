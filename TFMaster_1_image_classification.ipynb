{
  "nbformat": 4,
  "nbformat_minor": 0,
  "metadata": {
    "colab": {
      "name": " TFMaster 1 image classification .ipynb",
      "provenance": [],
      "collapsed_sections": []
    },
    "kernelspec": {
      "name": "python3",
      "display_name": "Python 3"
    },
    "language_info": {
      "name": "python"
    }
  },
  "cells": [
    {
      "cell_type": "markdown",
      "metadata": {
        "id": "q8M7UudTyHpg"
      },
      "source": [
        "## TFMaster 1. image classification "
      ]
    },
    {
      "cell_type": "code",
      "metadata": {
        "colab": {
          "base_uri": "https://localhost:8080/"
        },
        "id": "J68IR4PgyV7x",
        "outputId": "38c8d49a-7f7f-4c5f-f2b4-382fb9b3404a"
      },
      "source": [
        "import numpy as np\n",
        "import matplotlib.pyplot as plt\n",
        "import tensorflow as tf\n",
        "from tensorflow.keras.layers import Dense, Flatten, Softmax\n",
        "from tensorflow.keras.models import Sequential\n",
        "from tensorflow import keras\n",
        "from tensorflow.keras.callbacks import ModelCheckpoint\n",
        "print(tf.__version__)"
      ],
      "execution_count": 40,
      "outputs": [
        {
          "output_type": "stream",
          "text": [
            "2.5.0\n"
          ],
          "name": "stdout"
        }
      ]
    },
    {
      "cell_type": "code",
      "metadata": {
        "colab": {
          "base_uri": "https://localhost:8080/"
        },
        "id": "B8Ny8xe5yp3v",
        "outputId": "8bd50e63-8e0f-437a-8512-0181cf9d7ad0"
      },
      "source": [
        "fashion_mnist = keras.datasets.fashion_mnist\n",
        "(x_train, y_train), (x_test, y_test) = fashion_mnist.load_data()\n",
        "\n"
      ],
      "execution_count": 5,
      "outputs": [
        {
          "output_type": "stream",
          "text": [
            "Downloading data from https://storage.googleapis.com/tensorflow/tf-keras-datasets/train-labels-idx1-ubyte.gz\n",
            "32768/29515 [=================================] - 0s 0us/step\n",
            "Downloading data from https://storage.googleapis.com/tensorflow/tf-keras-datasets/train-images-idx3-ubyte.gz\n",
            "26427392/26421880 [==============================] - 0s 0us/step\n",
            "Downloading data from https://storage.googleapis.com/tensorflow/tf-keras-datasets/t10k-labels-idx1-ubyte.gz\n",
            "8192/5148 [===============================================] - 0s 0us/step\n",
            "Downloading data from https://storage.googleapis.com/tensorflow/tf-keras-datasets/t10k-images-idx3-ubyte.gz\n",
            "4423680/4422102 [==============================] - 0s 0us/step\n"
          ],
          "name": "stdout"
        }
      ]
    },
    {
      "cell_type": "code",
      "metadata": {
        "id": "3wrlxdkQzXSR"
      },
      "source": [
        "class_names = ['T-shirt/top', 'Trouser', 'Pullover', 'Dress', 'Coat',\n",
        "               'Sandal', 'Shirt', 'Sneaker', 'Bag', 'Ankle boot']\n"
      ],
      "execution_count": 6,
      "outputs": []
    },
    {
      "cell_type": "code",
      "metadata": {
        "colab": {
          "base_uri": "https://localhost:8080/"
        },
        "id": "jKRi9p2XztYv",
        "outputId": "cf559c53-bee2-46e2-c8a3-9f19172df8fe"
      },
      "source": [
        "y_train.shape"
      ],
      "execution_count": 7,
      "outputs": [
        {
          "output_type": "execute_result",
          "data": {
            "text/plain": [
              "(60000,)"
            ]
          },
          "metadata": {
            "tags": []
          },
          "execution_count": 7
        }
      ]
    },
    {
      "cell_type": "markdown",
      "metadata": {
        "id": "08jbtEVs0JWY"
      },
      "source": [
        "### preprocessing"
      ]
    },
    {
      "cell_type": "code",
      "metadata": {
        "colab": {
          "base_uri": "https://localhost:8080/",
          "height": 281
        },
        "id": "AhtLKVWv0PYQ",
        "outputId": "84c0b6b0-12ec-46dc-b7fc-5ce37e8dca8e"
      },
      "source": [
        "plt.figure()\n",
        "plt.imshow(x_train[0])\n",
        "plt.title('image train')\n",
        "plt.colorbar()\n",
        "plt.grid(False)\n",
        "plt.show()"
      ],
      "execution_count": 8,
      "outputs": [
        {
          "output_type": "display_data",
          "data": {
            "image/png": "[encoded data removed]",
            "text/plain": [
              "<Figure size 432x288 with 2 Axes>"
            ]
          },
          "metadata": {
            "tags": [],
            "needs_background": "light"
          }
        }
      ]
    },
    {
      "cell_type": "code",
      "metadata": {
        "id": "YamX3Dw50mtQ"
      },
      "source": [
        "x_train = x_train/255\n",
        "x_test = x_test/255"
      ],
      "execution_count": 9,
      "outputs": []
    },
    {
      "cell_type": "code",
      "metadata": {
        "colab": {
          "base_uri": "https://localhost:8080/",
          "height": 251
        },
        "id": "guYIyjqs1KxX",
        "outputId": "21978f48-3417-4018-a1ed-26c17805b3c4"
      },
      "source": [
        "plt.figure(figsize=(10,10))\n",
        "for i in range(10):\n",
        "  plt.subplot(5,5,i+1)\n",
        "  plt.xticks([])\n",
        "  plt.yticks([])\n",
        "  plt.grid(False)\n",
        "  plt.imshow(x_train[i+1],cmap='gray')\n",
        "  plt.xlabel(class_names[y_train[i+1]])"
      ],
      "execution_count": 10,
      "outputs": [
        {
          "output_type": "display_data",
          "data": {
            "image/png": "[encoded data removed]",
            "text/plain": [
              "<Figure size 720x720 with 10 Axes>"
            ]
          },
          "metadata": {
            "tags": []
          }
        }
      ]
    },
    {
      "cell_type": "markdown",
      "metadata": {
        "id": "q353I-TMo5hL"
      },
      "source": [
        "## Modeling"
      ]
    },
    {
      "cell_type": "code",
      "metadata": {
        "id": "_E7laZui2FhH"
      },
      "source": [
        "model = tf.keras.Sequential([\n",
        "                             Flatten(input_shape=(28,28,1)),\n",
        "                             Dense(128,activation ='relu'),\n",
        "                             Dense(64,activation ='relu'),\n",
        "                             Dense(32,activation ='relu'),\n",
        "                             Dense(10, activation = 'softmax')\n",
        "\n",
        "])"
      ],
      "execution_count": 11,
      "outputs": []
    },
    {
      "cell_type": "code",
      "metadata": {
        "id": "sazMAmUJ4hC-"
      },
      "source": [
        "model.compile(optimizer='adam', loss = 'sparse_categorical_crossentropy',metrics='acc')"
      ],
      "execution_count": 12,
      "outputs": []
    },
    {
      "cell_type": "markdown",
      "metadata": {
        "id": "pRNPD-aapBNz"
      },
      "source": [
        "**loss가 가장 적은 지점 추적**"
      ]
    },
    {
      "cell_type": "code",
      "metadata": {
        "id": "WbXRKeoBl34s"
      },
      "source": [
        "checkpoint_path = 'my_checkpoint.ckpt'\n",
        "checkpoint = ModelCheckpoint(checkpoint_path,\n",
        "                             monitor='loss',\n",
        "                             verbose=1,\n",
        "                             save_best_only=True,\n",
        "                             save_weights_only=True)\n",
        "                             "
      ],
      "execution_count": 43,
      "outputs": []
    },
    {
      "cell_type": "code",
      "metadata": {
        "colab": {
          "base_uri": "https://localhost:8080/"
        },
        "id": "EB6Wc6N_5PYu",
        "outputId": "4de9f676-0056-4706-c2c1-a2ab14a678ac"
      },
      "source": [
        "history = model.fit(x_train,y_train,epochs=20, callbacks=[checkpoint])"
      ],
      "execution_count": 48,
      "outputs": [
        {
          "output_type": "stream",
          "text": [
            "Epoch 1/20\n",
            "1875/1875 [==============================] - 5s 3ms/step - loss: 0.0916 - acc: 0.9643\n",
            "\n",
            "Epoch 00001: loss improved from 0.09297 to 0.09163, saving model to my_checkpoint.ckpt\n",
            "Epoch 2/20\n",
            "1875/1875 [==============================] - 5s 3ms/step - loss: 0.0918 - acc: 0.9658\n",
            "\n",
            "Epoch 00002: loss did not improve from 0.09163\n",
            "Epoch 3/20\n",
            "1875/1875 [==============================] - 5s 3ms/step - loss: 0.0906 - acc: 0.9664\n",
            "\n",
            "Epoch 00003: loss improved from 0.09163 to 0.09057, saving model to my_checkpoint.ckpt\n",
            "Epoch 4/20\n",
            "1875/1875 [==============================] - 5s 3ms/step - loss: 0.0890 - acc: 0.9663\n",
            "\n",
            "Epoch 00004: loss improved from 0.09057 to 0.08896, saving model to my_checkpoint.ckpt\n",
            "Epoch 5/20\n",
            "1875/1875 [==============================] - 5s 3ms/step - loss: 0.0886 - acc: 0.9664\n",
            "\n",
            "Epoch 00005: loss improved from 0.08896 to 0.08860, saving model to my_checkpoint.ckpt\n",
            "Epoch 6/20\n",
            "1875/1875 [==============================] - 5s 3ms/step - loss: 0.0891 - acc: 0.9659\n",
            "\n",
            "Epoch 00006: loss did not improve from 0.08860\n",
            "Epoch 7/20\n",
            "1875/1875 [==============================] - 5s 3ms/step - loss: 0.0867 - acc: 0.9669\n",
            "\n",
            "Epoch 00007: loss improved from 0.08860 to 0.08671, saving model to my_checkpoint.ckpt\n",
            "Epoch 8/20\n",
            "1875/1875 [==============================] - 5s 3ms/step - loss: 0.0846 - acc: 0.9683\n",
            "\n",
            "Epoch 00008: loss improved from 0.08671 to 0.08462, saving model to my_checkpoint.ckpt\n",
            "Epoch 9/20\n",
            "1875/1875 [==============================] - 5s 3ms/step - loss: 0.0894 - acc: 0.9668\n",
            "\n",
            "Epoch 00009: loss did not improve from 0.08462\n",
            "Epoch 10/20\n",
            "1875/1875 [==============================] - 5s 3ms/step - loss: 0.0832 - acc: 0.9686\n",
            "\n",
            "Epoch 00010: loss improved from 0.08462 to 0.08324, saving model to my_checkpoint.ckpt\n",
            "Epoch 11/20\n",
            "1875/1875 [==============================] - 5s 3ms/step - loss: 0.0849 - acc: 0.9681\n",
            "\n",
            "Epoch 00011: loss did not improve from 0.08324\n",
            "Epoch 12/20\n",
            "1875/1875 [==============================] - 5s 3ms/step - loss: 0.0810 - acc: 0.9695\n",
            "\n",
            "Epoch 00012: loss improved from 0.08324 to 0.08099, saving model to my_checkpoint.ckpt\n",
            "Epoch 13/20\n",
            "1875/1875 [==============================] - 5s 3ms/step - loss: 0.0801 - acc: 0.9691\n",
            "\n",
            "Epoch 00013: loss improved from 0.08099 to 0.08007, saving model to my_checkpoint.ckpt\n",
            "Epoch 14/20\n",
            "1875/1875 [==============================] - 5s 3ms/step - loss: 0.0801 - acc: 0.9693\n",
            "\n",
            "Epoch 00014: loss did not improve from 0.08007\n",
            "Epoch 15/20\n",
            "1875/1875 [==============================] - 5s 3ms/step - loss: 0.0812 - acc: 0.9694\n",
            "\n",
            "Epoch 00015: loss did not improve from 0.08007\n",
            "Epoch 16/20\n",
            "1875/1875 [==============================] - 5s 3ms/step - loss: 0.0774 - acc: 0.9705\n",
            "\n",
            "Epoch 00016: loss improved from 0.08007 to 0.07742, saving model to my_checkpoint.ckpt\n",
            "Epoch 17/20\n",
            "1875/1875 [==============================] - 5s 3ms/step - loss: 0.0789 - acc: 0.9702\n",
            "\n",
            "Epoch 00017: loss did not improve from 0.07742\n",
            "Epoch 18/20\n",
            "1875/1875 [==============================] - 5s 3ms/step - loss: 0.0787 - acc: 0.9692\n",
            "\n",
            "Epoch 00018: loss did not improve from 0.07742\n",
            "Epoch 19/20\n",
            "1875/1875 [==============================] - 5s 2ms/step - loss: 0.0741 - acc: 0.9728\n",
            "\n",
            "Epoch 00019: loss improved from 0.07742 to 0.07409, saving model to my_checkpoint.ckpt\n",
            "Epoch 20/20\n",
            "1875/1875 [==============================] - 5s 3ms/step - loss: 0.0802 - acc: 0.9706\n",
            "\n",
            "Epoch 00020: loss did not improve from 0.07409\n"
          ],
          "name": "stdout"
        }
      ]
    },
    {
      "cell_type": "code",
      "metadata": {
        "colab": {
          "base_uri": "https://localhost:8080/"
        },
        "id": "B7ipcfOXod3c",
        "outputId": "0ec07158-7ff8-430f-e1d5-4b65e1343ba9"
      },
      "source": [
        "model.load_weights(checkpoint_path)"
      ],
      "execution_count": 45,
      "outputs": [
        {
          "output_type": "execute_result",
          "data": {
            "text/plain": [
              "<tensorflow.python.training.tracking.util.CheckpointLoadStatus at 0x7f954c549d90>"
            ]
          },
          "metadata": {
            "tags": []
          },
          "execution_count": 45
        }
      ]
    },
    {
      "cell_type": "markdown",
      "metadata": {
        "id": "7u26tbDwpQ7z"
      },
      "source": [
        "__평가 및 예측__"
      ]
    },
    {
      "cell_type": "code",
      "metadata": {
        "colab": {
          "base_uri": "https://localhost:8080/"
        },
        "id": "_n9zzqDm596_",
        "outputId": "78dc2e29-f6b8-40dd-a0a4-b2f4d4e67810"
      },
      "source": [
        "test_loss, test_acc = model.evaluate(x_test,y_test, verbose=1)"
      ],
      "execution_count": 46,
      "outputs": [
        {
          "output_type": "stream",
          "text": [
            "313/313 [==============================] - 0s 2ms/step - loss: 0.5760 - acc: 0.8931\n"
          ],
          "name": "stdout"
        }
      ]
    },
    {
      "cell_type": "code",
      "metadata": {
        "id": "O8Wc7-Pq73U_",
        "colab": {
          "base_uri": "https://localhost:8080/"
        },
        "outputId": "29c07ddd-6fa6-4c00-ded6-224530127381"
      },
      "source": [
        "predictions = model.predict(x_test)\n",
        "print(predictions.shape)"
      ],
      "execution_count": 21,
      "outputs": [
        {
          "output_type": "stream",
          "text": [
            "(10000, 10)\n"
          ],
          "name": "stdout"
        }
      ]
    },
    {
      "cell_type": "code",
      "metadata": {
        "colab": {
          "base_uri": "https://localhost:8080/"
        },
        "id": "CmQ0H1UN8Jy3",
        "outputId": "f7fc186b-630d-44e6-bf34-74250285511a"
      },
      "source": [
        "np.argmax(predictions[1])\n",
        "y_test[1]"
      ],
      "execution_count": 17,
      "outputs": [
        {
          "output_type": "execute_result",
          "data": {
            "text/plain": [
              "2"
            ]
          },
          "metadata": {
            "tags": []
          },
          "execution_count": 17
        }
      ]
    },
    {
      "cell_type": "markdown",
      "metadata": {
        "id": "lCWNH-T9pWDb"
      },
      "source": [
        "### Plotting"
      ]
    },
    {
      "cell_type": "code",
      "metadata": {
        "id": "yNFypPMQBvNX"
      },
      "source": [
        " def plot_image(i, predictions_array, true_label, img):\n",
        "   true_label, img = true_label[i], img[i]\n",
        "   plt.xticks([])\n",
        "   plt.yticks([])\n",
        "\n",
        "   plt.imshow(img, cmap = plt.cm.binary)\n",
        "   predicted_label = np.argmax(predictions_array)\n",
        "   if predicted_label == true_label : \n",
        "      color = 'blue'\n",
        "   else :\n",
        "      color = 'red'\n",
        "   plt.xlabel(\"{} {:2.0f}% ({})\".format(class_names[predicted_label], \n",
        "                                        100*np.max(predictions_array),\n",
        "                                        class_names[true_label],\n",
        "                                        color='blue'))\n",
        " def plot_value_array(i,predictions_array, true_label):\n",
        "  true_label = true_label[i]\n",
        "  plt.xticks(range(10))\n",
        "  plt.yticks([])\n",
        "  thisplot = plt.bar(range(10), predictions_array, color = '#7777')\n",
        "  plt.ylim([0,1])\n",
        "  predicted_label = np.argmax(predictions_array)\n",
        "\n",
        "  thisplot[predicted_label].set_color('red')\n",
        "  thisplot[true_label].set_color('blue')"
      ],
      "execution_count": 36,
      "outputs": []
    },
    {
      "cell_type": "code",
      "metadata": {
        "colab": {
          "base_uri": "https://localhost:8080/",
          "height": 211
        },
        "id": "XDG5FCTa8Y1g",
        "outputId": "c81eff9a-b0a3-4499-f041-b7943444ccd2"
      },
      "source": [
        "i=444\n",
        "\n",
        "plt.figure(figsize=(6,3))\n",
        "plt.subplot(1,2,1)\n",
        "plot_image(i, predictions[i], y_test, x_test)\n",
        "plt.subplot(1,2,2)\n",
        "plot_value_array(i,predictions[i], y_test)\n",
        "plt.show()\n"
      ],
      "execution_count": 39,
      "outputs": [
        {
          "output_type": "display_data",
          "data": {
            "image/png": "[encoded data removed]",
            "text/plain": [
              "<Figure size 432x216 with 2 Axes>"
            ]
          },
          "metadata": {
            "tags": [],
            "needs_background": "light"
          }
        }
      ]
    },
    {
      "cell_type": "markdown",
      "metadata": {
        "id": "gLYPCfENGIIX"
      },
      "source": [
        "###  Loss 시각화"
      ]
    },
    {
      "cell_type": "code",
      "metadata": {
        "colab": {
          "base_uri": "https://localhost:8080/",
          "height": 389
        },
        "id": "LZXM5TsBpgq7",
        "outputId": "7854afab-6697-43d9-ce11-cd1a7cbc9cb1"
      },
      "source": [
        "plt.figure(figsize=(10,6))\n",
        "plt.subplot(1,1,1)\n",
        "plt.plot(np.arange(1,21),history.history['loss'])\n",
        "plt.xlabel('Epochs')\n",
        "plt.ylabel('Loss')\n",
        "plt.show()"
      ],
      "execution_count": 49,
      "outputs": [
        {
          "output_type": "display_data",
          "data": {
            "image/png": "[encoded data removed]",
            "text/plain": [
              "<Figure size 720x432 with 1 Axes>"
            ]
          },
          "metadata": {
            "tags": [],
            "needs_background": "light"
          }
        }
      ]
    }
  ]
}