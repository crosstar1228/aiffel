{
 "cells": [
  {
   "cell_type": "markdown",
   "id": "grand-egypt",
   "metadata": {},
   "source": [
    "# Movielens recommendation hands-on\n",
    "### Movielens data\n",
    "- 유저가 영화에 대해 평점을 매긴 데이터가 데이터 크기 별로 있습니다. MovieLens 1M Dataset 사용을 권장합니다.\n",
    "- 별점 데이터는 대표적인 explicit 데이터입니다. 하지만 implicit 데이터로 간주하고 테스트해볼 수 있습니다.\n",
    "- 별점을 시청횟수로 해석해서 생각하겠습니다.\n",
    "- 또한 유저가 3점 미만으로 준 데이터는 선호하지 않는다고 가정하고 제외하겠습니다."
   ]
  },
  {
   "cell_type": "markdown",
   "id": "stuffed-court",
   "metadata": {},
   "source": [
    "## Project Flow\n",
    "### 1) Preprocessing\n",
    "### 2) Data Analysis\n",
    "### 3) Pick 5 favorite movies and add to 'rating'\n",
    "### 4) make CSR matrix\n",
    "### 5) composite model and fit\n",
    "#### - als_model = AlternatingleastSquares\n",
    "### 6) pick \n",
    "#### - one of my favorite\n",
    "#### - another\n",
    "#### - and check out the preference rate the model predicted\n",
    "### 7) get recommendation of similar movies(similar_items)\n",
    "### 8) get recommendation of what i may like"
   ]
  },
  {
   "cell_type": "code",
   "execution_count": 92,
   "id": "utility-center",
   "metadata": {},
   "outputs": [],
   "source": [
    "import pandas as pd\n",
    "import os\n",
    "from implicit.als import AlternatingLeastSquares\n",
    "from scipy.sparse import csr_matrix\n",
    "import numpy as np\n",
    "import re"
   ]
  },
  {
   "cell_type": "markdown",
   "id": "ideal-kitty",
   "metadata": {},
   "source": [
    "### 1) Preprocessing"
   ]
  },
  {
   "cell_type": "code",
   "execution_count": 93,
   "id": "mounted-harvard",
   "metadata": {},
   "outputs": [
    {
     "data": {
      "text/html": [
       "<div>\n",
       "<style scoped>\n",
       "    .dataframe tbody tr th:only-of-type {\n",
       "        vertical-align: middle;\n",
       "    }\n",
       "\n",
       "    .dataframe tbody tr th {\n",
       "        vertical-align: top;\n",
       "    }\n",
       "\n",
       "    .dataframe thead th {\n",
       "        text-align: right;\n",
       "    }\n",
       "</style>\n",
       "<table border=\"1\" class=\"dataframe\">\n",
       "  <thead>\n",
       "    <tr style=\"text-align: right;\">\n",
       "      <th></th>\n",
       "      <th>user_id</th>\n",
       "      <th>movie_id</th>\n",
       "      <th>rating</th>\n",
       "      <th>timestamp</th>\n",
       "    </tr>\n",
       "  </thead>\n",
       "  <tbody>\n",
       "    <tr>\n",
       "      <th>0</th>\n",
       "      <td>1</td>\n",
       "      <td>1193</td>\n",
       "      <td>5</td>\n",
       "      <td>978300760</td>\n",
       "    </tr>\n",
       "    <tr>\n",
       "      <th>1</th>\n",
       "      <td>1</td>\n",
       "      <td>661</td>\n",
       "      <td>3</td>\n",
       "      <td>978302109</td>\n",
       "    </tr>\n",
       "    <tr>\n",
       "      <th>2</th>\n",
       "      <td>1</td>\n",
       "      <td>914</td>\n",
       "      <td>3</td>\n",
       "      <td>978301968</td>\n",
       "    </tr>\n",
       "    <tr>\n",
       "      <th>3</th>\n",
       "      <td>1</td>\n",
       "      <td>3408</td>\n",
       "      <td>4</td>\n",
       "      <td>978300275</td>\n",
       "    </tr>\n",
       "    <tr>\n",
       "      <th>4</th>\n",
       "      <td>1</td>\n",
       "      <td>2355</td>\n",
       "      <td>5</td>\n",
       "      <td>978824291</td>\n",
       "    </tr>\n",
       "  </tbody>\n",
       "</table>\n",
       "</div>"
      ],
      "text/plain": [
       "   user_id  movie_id  rating  timestamp\n",
       "0        1      1193       5  978300760\n",
       "1        1       661       3  978302109\n",
       "2        1       914       3  978301968\n",
       "3        1      3408       4  978300275\n",
       "4        1      2355       5  978824291"
      ]
     },
     "execution_count": 93,
     "metadata": {},
     "output_type": "execute_result"
    }
   ],
   "source": [
    "rating_file_path=os.getenv('HOME') + '/aiffel/recommendata_iu/data/ml-1m/ratings.dat'\n",
    "ratings_cols = ['user_id', 'movie_id', 'rating', 'timestamp']\n",
    "ratings = pd.read_csv(rating_file_path, sep='::', names=ratings_cols, engine='python', encoding = \"ISO-8859-1\")\n",
    "orginal_data_size = len(ratings)\n",
    "ratings.head()"
   ]
  },
  {
   "cell_type": "code",
   "execution_count": 94,
   "id": "afraid-melissa",
   "metadata": {},
   "outputs": [
    {
     "name": "stdout",
     "output_type": "stream",
     "text": [
      "orginal_data_size: 1000209, filtered_data_size: 836478\n",
      "Ratio of Remaining Data is 83.63%\n"
     ]
    }
   ],
   "source": [
    "# 3점 이상만 남깁니다.\n",
    "ratings = ratings[ratings['rating']>=3]\n",
    "filtered_data_size = len(ratings)\n",
    "\n",
    "print(f'orginal_data_size: {orginal_data_size}, filtered_data_size: {filtered_data_size}')\n",
    "print(f'Ratio of Remaining Data is {filtered_data_size / orginal_data_size:.2%}')"
   ]
  },
  {
   "cell_type": "code",
   "execution_count": 95,
   "id": "advised-memorial",
   "metadata": {},
   "outputs": [],
   "source": [
    "# rating 컬럼의 이름을 count로 바꿉니다.\n",
    "ratings.rename(columns={'rating':'count'}, inplace=True)"
   ]
  },
  {
   "cell_type": "code",
   "execution_count": 96,
   "id": "qualified-wholesale",
   "metadata": {},
   "outputs": [
    {
     "data": {
      "text/html": [
       "<div>\n",
       "<style scoped>\n",
       "    .dataframe tbody tr th:only-of-type {\n",
       "        vertical-align: middle;\n",
       "    }\n",
       "\n",
       "    .dataframe tbody tr th {\n",
       "        vertical-align: top;\n",
       "    }\n",
       "\n",
       "    .dataframe thead th {\n",
       "        text-align: right;\n",
       "    }\n",
       "</style>\n",
       "<table border=\"1\" class=\"dataframe\">\n",
       "  <thead>\n",
       "    <tr style=\"text-align: right;\">\n",
       "      <th></th>\n",
       "      <th>movie_id</th>\n",
       "      <th>title</th>\n",
       "      <th>genre</th>\n",
       "    </tr>\n",
       "  </thead>\n",
       "  <tbody>\n",
       "    <tr>\n",
       "      <th>0</th>\n",
       "      <td>1</td>\n",
       "      <td>Toy Story (1995)</td>\n",
       "      <td>Animation|Children's|Comedy</td>\n",
       "    </tr>\n",
       "    <tr>\n",
       "      <th>1</th>\n",
       "      <td>2</td>\n",
       "      <td>Jumanji (1995)</td>\n",
       "      <td>Adventure|Children's|Fantasy</td>\n",
       "    </tr>\n",
       "    <tr>\n",
       "      <th>2</th>\n",
       "      <td>3</td>\n",
       "      <td>Grumpier Old Men (1995)</td>\n",
       "      <td>Comedy|Romance</td>\n",
       "    </tr>\n",
       "    <tr>\n",
       "      <th>3</th>\n",
       "      <td>4</td>\n",
       "      <td>Waiting to Exhale (1995)</td>\n",
       "      <td>Comedy|Drama</td>\n",
       "    </tr>\n",
       "    <tr>\n",
       "      <th>4</th>\n",
       "      <td>5</td>\n",
       "      <td>Father of the Bride Part II (1995)</td>\n",
       "      <td>Comedy</td>\n",
       "    </tr>\n",
       "  </tbody>\n",
       "</table>\n",
       "</div>"
      ],
      "text/plain": [
       "   movie_id                               title                         genre\n",
       "0         1                    Toy Story (1995)   Animation|Children's|Comedy\n",
       "1         2                      Jumanji (1995)  Adventure|Children's|Fantasy\n",
       "2         3             Grumpier Old Men (1995)                Comedy|Romance\n",
       "3         4            Waiting to Exhale (1995)                  Comedy|Drama\n",
       "4         5  Father of the Bride Part II (1995)                        Comedy"
      ]
     },
     "execution_count": 96,
     "metadata": {},
     "output_type": "execute_result"
    }
   ],
   "source": [
    "# 영화 제목을 보기 위해 메타 데이터를 읽어옵니다.\n",
    "movie_file_path=os.getenv('HOME') + '/aiffel/recommendata_iu/data/ml-1m/movies.dat'\n",
    "cols = ['movie_id', 'title', 'genre'] \n",
    "movies = pd.read_csv(movie_file_path, sep='::', names=cols, engine='python', encoding='ISO-8859-1')\n",
    "movies.head()"
   ]
  },
  {
   "cell_type": "markdown",
   "id": "basic-territory",
   "metadata": {},
   "source": [
    "### 2) Data Analysis\n",
    "- ratings에 있는 유니크한 영화 개수\n",
    "- rating에 있는 유니크한 사용자 수\n",
    "- 가장 인기 있는 영화 30개(인기순)"
   ]
  },
  {
   "cell_type": "code",
   "execution_count": 97,
   "id": "grave-finding",
   "metadata": {},
   "outputs": [
    {
     "name": "stdout",
     "output_type": "stream",
     "text": [
      "the number of unique movies is 3628\n"
     ]
    }
   ],
   "source": [
    "num_unique_movies=ratings['movie_id'].nunique()\n",
    "print(f'the number of unique movies is {num_unique_movies}')"
   ]
  },
  {
   "cell_type": "code",
   "execution_count": 98,
   "id": "speaking-qatar",
   "metadata": {},
   "outputs": [
    {
     "name": "stdout",
     "output_type": "stream",
     "text": [
      "the number of unique users is 6039\n"
     ]
    }
   ],
   "source": [
    "num_unique_users = ratings['user_id'].nunique()\n",
    "print(f'the number of unique users is {num_unique_users}')\n"
   ]
  },
  {
   "cell_type": "code",
   "execution_count": 99,
   "id": "bulgarian-simon",
   "metadata": {},
   "outputs": [
    {
     "data": {
      "text/plain": [
       "Int64Index([      0,       1,       2,       3,       4,       5,       6,\n",
       "                  7,       8,       9,\n",
       "            ...\n",
       "            1000198, 1000199, 1000200, 1000201, 1000202, 1000203, 1000205,\n",
       "            1000206, 1000207, 1000208],\n",
       "           dtype='int64', length=836478)"
      ]
     },
     "execution_count": 99,
     "metadata": {},
     "output_type": "execute_result"
    }
   ],
   "source": [
    "ratings.index"
   ]
  },
  {
   "cell_type": "code",
   "execution_count": 100,
   "id": "criminal-globe",
   "metadata": {},
   "outputs": [
    {
     "data": {
      "text/plain": [
       "movie_id\n",
       "2858    3211\n",
       "260     2910\n",
       "1196    2885\n",
       "1210    2716\n",
       "2028    2561\n",
       "589     2509\n",
       "593     2498\n",
       "1198    2473\n",
       "1270    2460\n",
       "2571    2434\n",
       "480     2413\n",
       "2762    2385\n",
       "608     2371\n",
       "110     2314\n",
       "1580    2297\n",
       "527     2257\n",
       "1197    2252\n",
       "2396    2213\n",
       "1617    2210\n",
       "318     2194\n",
       "858     2167\n",
       "1265    2121\n",
       "1097    2102\n",
       "2997    2066\n",
       "2716    2051\n",
       "296     2030\n",
       "356     2022\n",
       "1240    2019\n",
       "1       2000\n",
       "457     1941\n",
       "Name: user_id, dtype: int64"
      ]
     },
     "execution_count": 100,
     "metadata": {},
     "output_type": "execute_result"
    }
   ],
   "source": [
    "movie_count = ratings.groupby('movie_id',axis=0,sort=True)['user_id'].count()\n",
    "movie_count.sort_values(ascending=False).head(30)\n",
    "#ratings.groupby('movie_id',axis=0,sort=True)['user_id'].count().sum()"
   ]
  },
  {
   "cell_type": "markdown",
   "id": "destroyed-safety",
   "metadata": {},
   "source": [
    "### That's not good, **I want to add movie name** for intuitive data grasp.."
   ]
  },
  {
   "cell_type": "code",
   "execution_count": 101,
   "id": "confident-tuner",
   "metadata": {},
   "outputs": [
    {
     "name": "stdout",
     "output_type": "stream",
     "text": [
      "0                         Toy Story (1995)\n",
      "1                           Jumanji (1995)\n",
      "2                  Grumpier Old Men (1995)\n",
      "3                 Waiting to Exhale (1995)\n",
      "4       Father of the Bride Part II (1995)\n",
      "                       ...                \n",
      "3878               Meet the Parents (2000)\n",
      "3879            Requiem for a Dream (2000)\n",
      "3880                      Tigerland (2000)\n",
      "3881               Two Family House (2000)\n",
      "3882                 Contender, The (2000)\n",
      "Name: title, Length: 3883, dtype: object\n"
     ]
    }
   ],
   "source": [
    "unique_movies2 =movies['title']\n",
    "print(unique_movies2)"
   ]
  },
  {
   "cell_type": "markdown",
   "id": "automatic-montreal",
   "metadata": {},
   "source": [
    "1. eliminate space and year"
   ]
  },
  {
   "cell_type": "code",
   "execution_count": 102,
   "id": "going-cameroon",
   "metadata": {},
   "outputs": [
    {
     "name": "stdout",
     "output_type": "stream",
     "text": [
      "3883\n"
     ]
    },
    {
     "name": "stderr",
     "output_type": "stream",
     "text": [
      "/opt/conda/lib/python3.7/site-packages/ipykernel_launcher.py:5: SettingWithCopyWarning: \n",
      "A value is trying to be set on a copy of a slice from a DataFrame\n",
      "\n",
      "See the caveats in the documentation: https://pandas.pydata.org/pandas-docs/stable/user_guide/indexing.html#returning-a-view-versus-a-copy\n",
      "  \"\"\"\n",
      "/opt/conda/lib/python3.7/site-packages/ipykernel_launcher.py:6: SettingWithCopyWarning: \n",
      "A value is trying to be set on a copy of a slice from a DataFrame\n",
      "\n",
      "See the caveats in the documentation: https://pandas.pydata.org/pandas-docs/stable/user_guide/indexing.html#returning-a-view-versus-a-copy\n",
      "  \n"
     ]
    },
    {
     "data": {
      "text/html": [
       "<div>\n",
       "<style scoped>\n",
       "    .dataframe tbody tr th:only-of-type {\n",
       "        vertical-align: middle;\n",
       "    }\n",
       "\n",
       "    .dataframe tbody tr th {\n",
       "        vertical-align: top;\n",
       "    }\n",
       "\n",
       "    .dataframe thead th {\n",
       "        text-align: right;\n",
       "    }\n",
       "</style>\n",
       "<table border=\"1\" class=\"dataframe\">\n",
       "  <thead>\n",
       "    <tr style=\"text-align: right;\">\n",
       "      <th></th>\n",
       "      <th>movie_id</th>\n",
       "      <th>title</th>\n",
       "      <th>genre</th>\n",
       "    </tr>\n",
       "  </thead>\n",
       "  <tbody>\n",
       "    <tr>\n",
       "      <th>0</th>\n",
       "      <td>1</td>\n",
       "      <td>ToyStory</td>\n",
       "      <td>Animation|Children's|Comedy</td>\n",
       "    </tr>\n",
       "    <tr>\n",
       "      <th>1</th>\n",
       "      <td>2</td>\n",
       "      <td>Jumanji</td>\n",
       "      <td>Adventure|Children's|Fantasy</td>\n",
       "    </tr>\n",
       "    <tr>\n",
       "      <th>2</th>\n",
       "      <td>3</td>\n",
       "      <td>GrumpierOldMen</td>\n",
       "      <td>Comedy|Romance</td>\n",
       "    </tr>\n",
       "    <tr>\n",
       "      <th>3</th>\n",
       "      <td>4</td>\n",
       "      <td>WaitingtoExhale</td>\n",
       "      <td>Comedy|Drama</td>\n",
       "    </tr>\n",
       "    <tr>\n",
       "      <th>4</th>\n",
       "      <td>5</td>\n",
       "      <td>FatheroftheBridePartII</td>\n",
       "      <td>Comedy</td>\n",
       "    </tr>\n",
       "  </tbody>\n",
       "</table>\n",
       "</div>"
      ],
      "text/plain": [
       "   movie_id                   title                         genre\n",
       "0         1                ToyStory   Animation|Children's|Comedy\n",
       "1         2                 Jumanji  Adventure|Children's|Fantasy\n",
       "2         3          GrumpierOldMen                Comedy|Romance\n",
       "3         4         WaitingtoExhale                  Comedy|Drama\n",
       "4         5  FatheroftheBridePartII                        Comedy"
      ]
     },
     "execution_count": 102,
     "metadata": {},
     "output_type": "execute_result"
    }
   ],
   "source": [
    "# p= re.complie('\\([0-9]+\\)')\n",
    "print(len(movies.index))\n",
    "\n",
    "for i in range(len(movies.index)):\n",
    "    movies['title'][i] = re.sub(' ', '',movies['title'][i])\n",
    "    movies['title'][i] = re.sub('\\([0-9]+\\)', '',movies['title'][i] )\n",
    "movies.head()"
   ]
  },
  {
   "cell_type": "markdown",
   "id": "signal-genesis",
   "metadata": {},
   "source": [
    "data mapping"
   ]
  },
  {
   "cell_type": "code",
   "execution_count": 103,
   "id": "prescription-talent",
   "metadata": {},
   "outputs": [
    {
     "name": "stdout",
     "output_type": "stream",
     "text": [
      "{0: 'ToyStory', 1: 'Jumanji', 2: 'GrumpierOldMen', 3: 'WaitingtoExhale', 4: 'FatheroftheBridePartII', 5: 'Heat', 6: 'Sabrina', 7: 'TomandHuck', 8: 'SuddenDeath', 9: 'GoldenEye', 10: 'AmericanPresident,The', 11: 'Dracula:DeadandLovingIt', 12: 'Balto', 13: 'Nixon', 14: 'CutthroatIsland', 15: 'Casino', 16: 'SenseandSensibility', 17: 'FourRooms', 18: 'AceVentura:WhenNatureCalls', 19: 'MoneyTrain', 20: 'GetShorty', 21: 'Copycat', 22: 'Assassins', 23: 'Powder', 24: 'LeavingLasVegas', 25: 'Othello', 26: 'NowandThen', 27: 'Persuasion', 28: 'CityofLostChildren,The', 29: 'ShanghaiTriad(Yaoayaoyaodaowaipoqiao)', 30: 'DangerousMinds', 31: 'TwelveMonkeys', 32: 'WingsofCourage', 33: 'Babe', 34: 'Carrington', 35: 'DeadManWalking', 36: 'AcrosstheSeaofTime', 37: 'ItTakesTwo', 38: 'Clueless', 39: 'Cry,theBelovedCountry', 40: 'RichardIII', 41: 'DeadPresidents', 42: 'Restoration', 43: 'MortalKombat', 44: 'ToDieFor', 45: 'HowtoMakeanAmericanQuilt', 46: 'Seven(Se7en)', 47: 'Pocahontas', 48: 'WhenNightIsFalling', 49: 'UsualSuspects,The', 50: 'GuardianAngel', 51: 'MightyAphrodite', 52: 'Lamerica', 53: 'BigGreen,The', 54: 'Georgia', 55: 'KidsoftheRoundTable', 56: 'HomefortheHolidays', 57: 'Postino,Il(ThePostman)', 58: 'Confessional,The(LeConfessionnal)', 59: 'IndianintheCupboard,The', 60: 'EyeforanEye', 61: \"Mr.Holland'sOpus\", 62: \"Don'tBeaMenacetoSouthCentralWhileDrinkingYourJuiceintheHood\", 63: 'TwoifbySea', 64: 'Bio-Dome', 65: 'LawnmowerMan2:BeyondCyberspace', 66: 'TwoBits', 67: 'FrenchTwist(Gazonmaudit)', 68: 'Friday', 69: 'FromDuskTillDawn', 70: 'FairGame', 71: 'KickingandScreaming', 72: 'Misérables,Les', 73: 'BedofRoses', 74: 'BigBully', 75: 'Screamers', 76: 'NicoIcon', 77: 'CrossingGuard,The', 78: 'Juror,The', 79: 'WhiteBalloon,The(BadkonakeSefid)', 80: \"ThingstoDoinDenverwhenYou'reDead\", 81: \"Antonia'sLine(Antonia)\", 82: 'OnceUponaTime...WhenWeWereColored', 83: 'LastSummerintheHamptons', 84: 'AngelsandInsects', 85: 'WhiteSquall', 86: 'DunstonChecksIn', 87: 'BlackSheep', 88: 'NickofTime', 89: 'JourneyofAugustKing,The', 90: 'MaryReilly', 91: 'VampireinBrooklyn', 92: 'BeautifulGirls', 93: 'BrokenArrow', 94: 'IntheBleakMidwinter', 95: 'Hate(Haine,La)', 96: 'Shopping', 97: 'HeidiFleiss:HollywoodMadam', 98: 'CityHall', 99: 'BottleRocket', 100: 'Mr.Wrong', 101: 'Unforgettable', 102: 'HappyGilmore', 103: 'BridgesofMadisonCounty,The', 104: 'NobodyLovesMe(Keinerliebtmich)', 105: 'MuppetTreasureIsland', 106: 'Catwalk', 107: 'HeadlessBodyinToplessBar', 108: 'Braveheart', 109: 'TaxiDriver', 110: 'RumbleintheBronx', 111: 'BeforeandAfter', 112: \"Margaret'sMuseum\", 113: 'HappinessIsintheField', 114: 'AnneFrankRemembered', 115: \"YoungPoisoner'sHandbook,The\", 116: 'IfLucyFell', 117: 'StealBig,StealLittle', 118: 'RacetheSun', 119: 'BoysofSt.Vincent,The', 120: 'Boomerang', 121: 'ChungkingExpress', 122: \"StarMaker,The(Uomodellestelle,L')\", 123: 'FlirtingWithDisaster', 124: 'NeverEndingStoryIII,The', 125: 'SilenceofthePalace,The(SaimtelQusur)', 126: \"Jupiter'sWife\", 127: 'PieintheSky', 128: 'Angela', 129: 'FrankieStarlight', 130: 'Jade', 131: 'NuebaYol', 132: 'SonicOutlaws', 133: 'DownPeriscope', 134: 'FromtheJournalsofJeanSeberg', 135: 'ManoftheYear', 136: 'NeonBible,The', 137: 'Target', 138: 'UpCloseandPersonal', 139: 'Birdcage,The', 140: 'Shadows(Cienie)', 141: 'Gospa', 142: 'BrothersMcMullen,The', 143: 'BadBoys', 144: 'AmazingPandaAdventure,The', 145: 'BasketballDiaries,The', 146: 'AwfullyBigAdventure,An', 147: 'Amateur', 148: 'Apollo13', 149: 'RobRoy', 150: 'Addiction,The', 151: 'BatmanForever', 152: 'Belledejour', 153: 'BeyondRangoon', 154: 'BlueintheFace', 155: 'CanadianBacon', 156: 'Casper', 157: 'Clockers', 158: 'Congo', 159: 'CrimsonTide', 160: 'Crumb', 161: 'Desperado', 162: 'DevilinaBlueDress', 163: 'DieHard:WithaVengeance', 164: 'DoomGeneration,The', 165: 'FeastofJuly', 166: 'FirstKnight', 167: 'FreeWilly2:TheAdventureHome', 168: 'Hackers', 169: 'Jeffrey', 170: 'JohnnyMnemonic', 171: 'JudgeDredd', 172: 'JuryDuty', 173: 'Kids', 174: 'LivinginOblivion', 175: 'LordofIllusions', 176: 'Love&HumanRemains', 177: 'MadLove', 178: 'Mallrats', 179: 'MightyMorphinPowerRangers:TheMovie', 180: 'MoonlightandValentino', 181: 'MuteWitness', 182: 'Nadja', 183: 'Net,The', 184: 'NineMonths', 185: 'PartyGirl', 186: 'Prophecy,The', 187: 'Reckless', 188: 'Safe', 189: 'ScarletLetter,The', 190: 'Show,The', 191: 'Showgirls', 192: 'Smoke', 193: 'SomethingtoTalkAbout', 194: 'Species', 195: 'StarsFellonHenrietta,The', 196: 'StrangeDays', 197: 'UmbrellasofCherbourg,The(ParapluiesdeCherbourg,Les)', 198: 'TieThatBinds,The', 199: 'ThreeWishes', 200: 'TotalEclipse', 201: 'ToWongFoo,ThanksforEverything!JulieNewmar', 202: 'UnderSiege2:DarkTerritory', 203: 'UnstrungHeroes', 204: 'Unzipped', 205: 'WalkintheClouds,A', 206: 'Waterworld', 207: \"WhiteMan'sBurden\", 208: 'WildBill', 209: 'BrowningVersion,The', 210: 'Bushwhacked', 211: 'BurntBytheSun(Utomlyonnyesolntsem)', 212: 'BeforetheRain(Preddozhdot)', 213: 'BeforeSunrise', 214: 'BillyMadison', 215: 'Babysitter,The', 216: 'BoysontheSide', 217: 'Cure,The', 218: 'CastleFreak', 219: 'CircleofFriends', 220: 'Clerks', 221: 'DonJuanDeMarco', 222: 'Disclosure', 223: 'DreamMan', 224: 'DropZone', 225: 'DestinyTurnsontheRadio', 226: 'DeathandtheMaiden', 227: 'DoloresClaiborne', 228: 'Dumb&Dumber', 229: 'EatDrinkManWoman', 230: 'Exotica', 231: 'ExittoEden', 232: 'EdWood', 233: 'FrenchKiss', 234: 'ForgetParis', 235: 'FarFromHome:TheAdventuresofYellowDog', 236: 'GoofyMovie,A', 237: 'Hideaway', 238: 'Fluke', 239: 'Farinelli:ilcastrato', 240: 'Gordy', 241: 'Gumby:TheMovie', 242: 'GlassShield,The', 243: 'HoopDreams', 244: 'HeavenlyCreatures', 245: 'Houseguest', 246: 'ImmortalBeloved', 247: 'Heavyweights', 248: 'Hunted,The', 249: 'I.Q.', 250: 'InterviewwiththeVampire', 251: 'JeffersoninParis', 252: 'JerkyBoys,The', 253: 'Junior', 254: 'JustCause', 255: \"KidinKingArthur'sCourt,A\", 256: 'KissofDeath', 257: 'StarWars:EpisodeIV-ANewHope', 258: 'LittleWomen', 259: 'LittlePrincess,A', 260: 'LadybirdLadybird', 261: \"Enfer,L'\", 262: 'LikeWaterforChocolate(Comoaguaparachocolate)', 263: 'LegendsoftheFall', 264: 'MajorPayne', 265: 'LittleOdessa', 266: 'MyCrazyLife(Mividaloca)', 267: 'LoveAffair', 268: 'LosingIsaiah', 269: 'MadnessofKingGeorge,The', 270: \"MaryShelley'sFrankenstein\", 271: 'ManoftheHouse', 272: 'MixedNuts', 273: 'MilkMoney', 274: 'Miracleon34thStreet', 275: 'MiamiRhapsody', 276: 'MyFamily', 277: 'MurderintheFirst', 278: \"Nobody'sFool\", 279: 'Nell', 280: 'NewJerseyDrive', 281: 'NewYorkCop', 282: 'BeyondBedlam', 283: 'Nemesis2:Nebula', 284: 'NinaTakesaLover', 285: 'NaturalBornKillers', 286: 'OnlyYou', 287: 'OnceWereWarriors', 288: 'PoisonIvyII', 289: 'Outbreak', 290: 'Professional,The(a.k.a.Leon:TheProfessional)', 291: 'PerezFamily,The', 292: \"Pyromaniac'sLoveStory,A\", 293: 'PulpFiction', 294: 'Panther', 295: 'PushingHands', 296: 'Priest', 297: 'QuizShow', 298: 'PictureBride', 299: 'QueenMargot(LaReineMargot)', 300: 'QuickandtheDead,The', 301: 'Roommates', 302: 'ReadytoWear(Pret-A-Porter)', 303: 'ThreeColors:Red', 304: 'ThreeColors:Blue', 305: 'ThreeColors:White', 306: 'RedFirecracker,GreenFirecracker', 307: 'Rent-a-Kid', 308: 'RelativeFear', 309: 'StuartSavesHisFamily', 310: 'SwanPrincess,The', 311: 'SecretofRoanInish,The', 312: 'Specialist,The', 313: 'Stargate', 314: 'SantaClause,The', 315: 'ShawshankRedemption,The', 316: 'ShallowGrave', 317: 'Suture', 318: 'StrawberryandChocolate(Fresaychocolate)', 319: 'SwimmingwithSharks', 320: 'SumofUs,The', 321: \"NationalLampoon'sSeniorTrip\", 322: 'ToLive(Huozhe)', 323: 'TankGirl', 324: 'TalesFromtheCryptPresents:DemonKnight', 325: 'StarTrek:Generations', 326: 'TalesfromtheHood', 327: 'Tom&Viv', 328: 'VillageoftheDamned', 329: 'TommyBoy', 330: 'Vanyaon42ndStreet', 331: 'Underneath,The', 332: 'WalkingDead,The', 333: \"What'sEatingGilbertGrape\", 334: 'Virtuosity', 335: 'WhileYouWereSleeping', 336: 'War,The', 337: 'DoubleHappiness', 338: \"Muriel'sWedding\", 339: 'Baby-SittersClub,The', 340: 'AceVentura:PetDetective', 341: 'AdventuresofPriscilla,QueenoftheDesert,The', 342: 'Backbeat', 343: 'BitterMoon', 344: 'BulletsOverBroadway', 345: 'ClearandPresentDanger', 346: 'Client,The', 347: 'Corrina,Corrina', 348: 'Crooklyn', 349: 'Crow,The', 350: 'Cobb', 351: 'Flintstones,The', 352: 'ForrestGump', 353: 'FourWeddingsandaFuneral', 354: 'HigherLearning', 355: 'ILikeItLikeThat', 356: 'ILoveTrouble', 357: 'ItCouldHappentoYou', 358: 'JungleBook,The', 359: 'Wonderful,HorribleLifeofLeniRiefenstahl,The(DieMachtderBilder)', 360: 'LionKing,The', 361: 'LittleBuddha', 362: \"WesCraven'sNewNightmare\", 363: 'Mask,The', 364: 'Maverick', 365: 'Mrs.ParkerandtheViciousCircle', 366: 'NakedGun331/3:TheFinalInsult', 367: 'Paper,The', 368: 'RealityBites', 369: 'RedRockWest', 370: 'RichieRich', 371: 'SafePassage', 372: 'RiverWild,The', 373: 'Speed', 374: 'Speechless', 375: 'Timecop', 376: 'TrueLies', 377: 'WhenaManLovesaWoman', 378: 'Wolf', 379: 'WyattEarp', 380: 'BadCompany', 381: 'ManofNoImportance,A', 382: 'S.F.W.', 383: 'LowDownDirtyShame,A', 384: 'BoysLife', 385: 'ColonelChabert,Le', 386: 'FasterPussycat!Kill!Kill!', 387: \"Jason'sLyric\", 388: 'SecretAdventuresofTomThumb,The', 389: 'StreetFighter', 390: 'Coldblooded', 391: 'DesertWinds', 392: 'FallTime', 393: 'Fear,The', 394: 'FrankandOllie', 395: 'GirlintheCadillac', 396: 'Homage', 397: 'Mirage', 398: 'OpenSeason', 399: 'TwoCrimes', 400: 'BrotherMinister:TheAssassinationofMalcolmX', 401: 'HighlanderIII:TheSorcerer', 402: 'FederalHill', 403: 'IntheMouthofMadness', 404: '8Seconds', 405: 'AbovetheRim', 406: 'AddamsFamilyValues', 407: 'YouSoCrazy', 408: 'AgeofInnocence,The', 409: 'Airheads', 410: 'AirUpThere,The', 411: 'AnotherStakeout', 412: 'BadGirls', 413: 'Barcelona', 414: 'BeingHuman', 415: 'BeverlyHillbillies,The', 416: 'BeverlyHillsCopIII', 417: 'BlackBeauty', 418: 'Blink', 419: 'BlownAway', 420: 'BlueChips', 421: 'BlueSky', 422: 'BodySnatchers', 423: 'BoxingHelena', 424: 'BronxTale,A', 425: 'CabinBoy', 426: 'CalendarGirl', 427: \"Carlito'sWay\", 428: \"CitySlickersII:TheLegendofCurly'sGold\", 429: 'CleanSlate', 430: 'Cliffhanger', 431: 'Coneheads', 432: 'ColorofNight', 433: 'CopsandRobbersons', 434: 'CowboyWay,The', 435: 'DangerousGame', 436: 'Dave', 437: 'DazedandConfused', 438: 'DemolitionMan', 439: 'EndlessSummer2,The', 440: 'EvenCowgirlsGettheBlues', 441: 'FatalInstinct', 442: 'FarewellMyConcubine', 443: 'Favor,The', 444: 'Fearless', 445: 'FearofaBlackHat', 446: 'WithHonors', 447: 'FleshandBone', 448: \"Widows'Peak\", 449: 'ForLoveorMoney', 450: 'Firm,The', 451: 'FreeWilly', 452: 'Fresh', 453: 'Fugitive,The', 454: 'Geronimo:AnAmericanLegend', 455: 'Getaway,The', 456: 'GettingEvenwithDad', 457: 'GoFish', 458: 'GoodManinAfrica,A', 459: 'GuiltyasSin', 460: 'HardTarget', 461: 'Heaven&Earth', 462: 'HotShots!PartDeux', 463: 'LiveNudeGirls', 464: 'EnglishmanWhoWentUpaHill,ButCameDownaMountain,The', 465: 'HouseoftheSpirits,The', 466: 'HouseParty3', 467: 'HudsuckerProxy,The', 468: \"I'llDoAnything\", 469: 'IntheArmyNow', 470: 'IntheLineofFire', 471: 'IntheNameoftheFather', 472: 'Inkwell,The', 473: \"What'sLoveGottoDowithIt?\", 474: 'JimmyHollywood', 475: 'JudgmentNight', 476: 'JurassicPark', 477: 'Kalifornia', 478: 'KillingZoe', 479: 'KingoftheHill', 480: 'Lassie', 481: 'LastActionHero', 482: 'LifewithMikey', 483: 'LightningJack', 484: 'M.Butterfly', 485: 'MadeinAmerica', 486: 'Malice', 487: 'ManWithoutaFace,The', 488: 'ManhattanMurderMystery', 489: 'MenaceIISociety', 490: 'ExecutiveDecision', 491: 'IntheRealmoftheSenses(Ainocorrida)', 492: 'WhatHappenedWas...', 493: 'MuchAdoAboutNothing', 494: 'Mr.Jones', 495: 'Mr.Wonderful', 496: 'Mrs.Doubtfire', 497: 'Naked', 498: 'NextKarateKid,The', 499: 'NewAge,The', 500: 'NoEscape', 501: 'North', 502: 'Orlando', 503: 'PerfectWorld,A', 504: 'Philadelphia', 505: 'Piano,The', 506: 'PoeticJustice', 507: 'Program,The', 508: \"RobertA.Heinlein'sThePuppetMasters\", 509: 'RadiolandMurders', 510: 'Ref,The', 511: 'RemainsoftheDay,The', 512: 'RenaissanceMan', 513: 'RisingSun', 514: 'RoadtoWellville,The', 515: 'Robocop3', 516: 'RobinHood:MeninTights', 517: 'RomeoIsBleeding', 518: 'RomperStomper', 519: 'RubyinParadise', 520: 'Rudy', 521: 'SaintofFortWashington,The', 522: 'SavageNights(Nuitsfauves,Les)', 523: \"Schindler'sList\", 524: 'Scout,The', 525: 'SearchingforBobbyFischer', 526: 'SecondBest', 527: 'SecretGarden,The', 528: 'SerialMom', 529: 'Shadow,The', 530: 'Shadowlands', 531: 'ShortCuts', 532: 'SimpleTwistofFate,A', 533: 'Sirens', 534: 'SixDegreesofSeparation', 535: 'SleeplessinSeattle', 536: 'Sliver', 537: 'BladeRunner', 538: 'SoninLaw', 539: 'SoIMarriedanAxeMurderer', 540: 'StrikingDistance', 541: 'Harlem', 542: 'SuperMarioBros.', 543: 'SurvivingtheGame', 544: 'TerminalVelocity', 545: 'Thirty-TwoShortFilmsAboutGlennGould', 546: 'Threesome', 547: 'NightmareBeforeChristmas,The', 548: 'ThreeMusketeers,The', 549: 'Tombstone', 550: 'TrialbyJury', 551: 'TrueRomance', 552: 'WarRoom,The', 553: 'MammaRoma', 554: 'Pagemaster,The', 555: 'Paris,France', 556: 'BeansofEgypt,Maine,The', 557: 'Killer(BulletproofHeart)', 558: 'WelcometotheDollhouse', 559: 'Germinal', 560: 'Chasers', 561: 'Cronos', 562: 'NakedinNewYork', 563: 'Kika', 564: 'BhajiontheBeach', 565: 'LittleBigLeague', 566: 'Slingshot,The(Kådisbellan)', 567: 'WeddingGift,The', 568: 'ForeignStudent', 569: 'Ciao,Professore!(Iosperiamochemelacavo)', 570: 'SpankingtheMonkey', 571: 'LittleRascals,The', 572: 'Fausto', 573: 'Andre', 574: 'HourofthePig,The', 575: 'Scorta,La', 576: 'PrincessCaraboo', 577: 'CelluloidCloset,The', 578: 'Metisse(CaféauLait)', 579: 'DearDiary(CaroDiario)', 580: \"IDon'tWanttoTalkAboutIt(Deesonosehabla)\", 581: 'BradyBunchMovie,The', 582: 'HomeAlone', 583: 'Ghost', 584: 'Aladdin', 585: 'Terminator2:JudgmentDay', 586: 'DanceswithWolves', 587: 'ToughandDeadly', 588: 'Batman', 589: 'SilenceoftheLambs,The', 590: 'SnowWhiteandtheSevenDwarfs', 591: 'BeautyandtheBeast', 592: 'Pinocchio', 593: 'PrettyWoman', 594: 'WindowtoParis', 595: 'WildBunch,The', 596: 'Loveanda.45', 597: \"WoodenMan'sBride,The(WuKui)\", 598: 'GreatDayinHarlem,A', 599: 'ByeBye,Love', 600: 'Criminals', 601: 'OneFineDay', 602: 'Candyman:FarewelltotheFlesh', 603: 'Century', 604: 'Fargo', 605: 'HomewardBoundII:LostinSanFrancisco', 606: 'HeavyMetal', 607: 'Hellraiser:Bloodline', 608: 'Pallbearer,The', 609: 'JaneEyre', 610: 'Loaded', 611: 'BreadandChocolate(Paneecioccolata)', 612: 'Aristocats,The', 613: 'FlowerofMySecret,The(LaFlordeMiSecreto)', 614: 'TwoMuch', 615: 'Ed', 616: 'ScreamofStone(SchreiausStein)', 617: 'MyFavoriteSeason', 618: 'ModernAffair,A', 619: 'ConditionRed', 620: 'AsfourStah', 621: 'ThinLineBetweenLoveandHate,A', 622: 'LastSupper,The', 623: 'PrimalFear', 624: 'Rude', 625: 'CarriedAway', 626: 'AllDogsGotoHeaven2', 627: 'LandandFreedom(Tierraylibertad)', 628: 'DeniseCallsUp', 629: 'TheodoreRex', 630: 'FamilyThing,A', 631: 'Frisk', 632: 'Sgt.Bilko', 633: 'JackandSarah', 634: 'Girl6', 635: 'Diabolique', 636: 'LittleIndian,BigCity(Unindiendanslaville)', 637: 'Roula', 638: 'Peanuts-DieBankzahltalles', 639: 'HappyWeekend', 640: 'Nelly&MonsieurArnaud', 641: 'CourageUnderFire', 642: 'Mission:Impossible', 643: 'ColdFever(Áköldumklaka)', 644: 'MollFlanders', 645: 'Superweib,Das', 646: '301,302', 647: 'Dragonheart', 648: 'Undkeinerweintmirnach', 649: 'MuttersCourage', 650: 'Eddie', 651: 'YankeeZulu', 652: \"Billy'sHoliday\", 653: 'PurpleNoon', 654: 'August', 655: 'JamesandtheGiantPeach', 656: 'Fear', 657: 'KidsintheHall:BrainCandy', 658: 'Faithful', 659: 'Underground', 660: 'AllThingsFair', 661: 'Bloodsport2', 662: 'PatherPanchali', 663: 'Aparajito', 664: 'WorldofApu,The(ApurSansar)', 665: 'MysteryScienceTheater3000:TheMovie', 666: 'Tarantella', 667: 'SpaceJam', 668: 'Barbarella', 669: 'HostileIntentions', 670: 'TheyBite', 671: 'SomeFolksCallItaSlingBlade', 672: 'RunoftheCountry,The', 673: 'Alphaville', 674: 'CleanSlate(CoupdeTorchon)', 675: 'Tigrero:AFilmThatWasNeverMade', 676: \"EyeofVichy,The(OeildeVichy,L')\", 677: 'Windows', 678: \"It'sMyParty\", 679: 'CountryLife', 680: 'OperationDumboDrop', 681: 'Promise,The(Versprechen,Das)', 682: 'Mrs.Winterbourne', 683: 'Solo', 684: 'UndertheDominTree(EtzHadomimTafus)', 685: 'Substitute,The', 686: 'TrueCrime', 687: 'ButterflyKiss', 688: 'FeelingMinnesota', 689: 'DeltaofVenus', 690: 'ToCrosstheRubicon', 691: 'Angus', 692: 'Daens', 693: 'Faces', 694: 'Boys', 695: 'Quest,The', 696: 'Cosi', 697: 'SunsetPark', 698: 'MulhollandFalls', 699: 'TruthAboutCats&Dogs,The', 700: 'Oliver&Company', 701: 'CelticPride', 702: 'Flipper', 703: 'Captives', 704: 'OfLoveandShadows', 705: 'DeadMan', 706: 'HorsemanontheRoof,The(Hussardsurletoit,Le)', 707: 'SwitchbladeSisters', 708: 'MouthtoMouth(Bocaaboca)', 709: 'Visitors,The(LesVisiteurs)', 710: 'Multiplicity', 711: 'Wallace&Gromit:TheBestofAardmanAnimation', 712: 'Halfmoon(PaulBowles-Halbmond)', 713: 'HauntedWorldofEdwardD.WoodJr.,The', 714: 'TwoFriends', 715: 'Craft,The', 716: 'GreatWhiteHype,The', 717: 'LastDance', 718: 'WarStories', 719: 'ColdComfortFarm', 720: 'InstituteBenjamenta,orThisDreamPeopleCallHumanLife', 721: 'LowLife,The', 722: \"Heaven'sPrisoners\", 723: 'OriginalGangstas', 724: 'Rock,The', 725: 'GettingAwayWithMurder', 726: 'CemeteryMan(DellamorteDellamore)', 727: 'Twister', 728: 'BarbWire', 729: 'Garcu,Le', 730: 'Honigmond', 731: 'GhostintheShell(Kokakukidotai)', 732: 'Thinner', 733: 'SpyHard', 734: 'BrothersinTrouble', 735: 'CloseShave,A', 736: 'ForceofEvil', 737: 'Stupids,The', 738: 'Arrival,The', 739: 'ManfromDownUnder,The', 740: 'Dr.Strangeloveor:HowILearnedtoStopWorryingandLovetheBomb', 741: 'Careful', 742: 'VermontIsForLovers', 743: 'MonthbytheLake,A', 744: 'GoldDiggers:TheSecretofBearMountain', 745: 'Kim', 746: 'CarmenMiranda:BananasIsMyBusiness', 747: 'AshesofTime', 748: 'Jar,The(Khomreh)', 749: 'MayaLin:AStrongClearVision', 750: 'Stalingrad', 751: 'Phantom,The', 752: 'Striptease', 753: 'LastoftheHighKings,The(a.k.a.SummerFling)', 754: 'Heavy', 755: 'Jack', 756: 'IShotAndyWarhol', 757: 'GrassHarp,The', 758: \"SomeoneElse'sAmerica\", 759: 'MarleneDietrich:ShadowandLight', 760: 'CostaBrava', 761: 'Vieestbelle,La(LifeisRosey)', 762: 'QuartierMozart', 763: 'ToukiBouki(JourneyoftheHyena)', 764: \"WendKuuni(God'sGift)\", 765: 'SpiritsoftheDead(TrePassinelDelirio)', 766: 'Babyfever', 767: \"Pharaoh'sArmy\", 768: 'Trainspotting', 769: \"'TilThereWasYou\", 770: 'IndependenceDay(ID4)', 771: 'StealingBeauty', 772: 'Fan,The', 773: 'HunchbackofNotreDame,The', 774: 'CableGuy,The', 775: 'Kingpin', 776: 'Eraser', 777: 'GateofHeavenlyPeace,The', 778: 'NuttyProfessor,The', 779: 'I,WorstofAll(Yo,lapeordetodas)', 780: 'AnUnforgettableSummer', 781: 'LastKlezmer:LeopoldKozlowski,HisLifeandMusic,The', 782: 'HungarianFairyTale,A', 783: \"MyLifeandTimesWithAntoninArtaud(Encompagnied'AntoninArtaud)\", 784: 'MidnightDancers(Sibak)', 785: 'SomebodytoLove', 786: 'VeryNaturalThing,A', 787: 'OldLadyWhoWalkedintheSea,The(Vieillequimarchaitdanslamer,La)', 788: 'Daylight', 789: 'Frighteners,The', 790: 'LoneStar', 791: 'HarriettheSpy', 792: 'Phenomenon', 793: 'WalkingandTalking', 794: \"She'stheOne\", 795: 'TimetoKill,A', 796: 'AmericanBuffalo', 797: 'RendezvousinParis(Rendez-vousdeParis,Les)', 798: 'Alaska', 799: 'Fled', 800: 'Kazaam', 801: 'BewegteMann,Der', 802: 'MagicHunter', 803: 'LargerThanLife', 804: 'BoyCalledHate,A', 805: 'Power98', 806: 'TwoDeaths', 807: 'VeryBradySequel,A', 808: 'StefanoQuantestorie', 809: 'DeathintheGarden(Mortencejardin,La)', 810: 'CrudeOasis,The', 811: 'HeddWyn', 812: 'Collectionneuse,La', 813: 'KasparHauser', 814: 'EchteKerle', 815: 'Diebinnen', 816: 'Convent,The(Convento,O)', 817: 'AdventuresofPinocchio,The', 818: \"Joe'sApartment\", 819: 'FirstWivesClub,The', 820: 'Stonewall', 821: 'Ransom', 822: 'HighSchoolHigh', 823: 'PhatBeach', 824: 'Foxfire', 825: 'ChainReaction', 826: 'Matilda', 827: 'Emma', 828: 'Crow:CityofAngels,The', 829: 'HouseArrest', 830: 'EyesWithoutaFace', 831: 'TalesfromtheCryptPresents:BordelloofBlood', 832: 'LottoLand', 833: 'StoryofXinghua,The', 834: 'DaytheSunTurnedCold,The(Tianguoniezi)', 835: 'Flirt', 836: 'BigSqueeze,The', 837: 'SpitfireGrill,The', 838: 'EscapefromL.A.', 839: 'Cyclo', 840: 'Basquiat', 841: 'TinCup', 842: 'Dingo', 843: 'BalladofNarayama,The(NarayamaBushiko)', 844: 'EveryOtherWeekend', 845: 'Millebolleblu', 846: 'CrowsandSparrows', 847: 'Godfather,The', 848: 'HippieRevolution,The', 849: 'Maybe,MaybeNot(BewegteMann,Der)', 850: 'Supercop', 851: 'Manny&Lo', 852: 'CelestialClockwork', 853: 'Wife,The', 854: 'SmallFaces', 855: 'Bound', 856: 'Carpool', 857: 'DeathinBrunswick', 858: 'KansasCity', 859: \"GoneFishin'\", 860: \"Lover'sKnot\", 861: 'Aiqingwansui', 862: 'ShadowofAngels(SchattenderEngel)', 863: 'Killer:AJournalofMurder', 864: 'NothingtoLose', 865: 'PoliceStory4:ProjectS(Chaojijihua)', 866: 'GirlsTown', 867: 'Bye-Bye', 868: 'Relic,The', 869: 'IslandofDr.Moreau,The', 870: 'FirstKid', 871: 'TriggerEffect,The', 872: 'SweetNothing', 873: 'Bogus', 874: 'Bulletproof', 875: 'TalkofAngels', 876: 'LandBeforeTimeIII:TheTimeoftheGreatGiving', 877: '1-900', 878: 'BatonRouge', 879: 'Halloween:TheCurseofMichaelMyers', 880: 'TwelfthNight', 881: 'MotherNight', 882: 'Liebelei', 883: 'Venice/Venice', 884: 'WildReeds', 885: 'ForWhomtheBellTolls', 886: 'PhiladelphiaStory,The', 887: \"Singin'intheRain\", 888: 'AmericaninParis,An', 889: 'FunnyFace', 890: \"BreakfastatTiffany's\", 891: 'Vertigo', 892: 'RearWindow', 893: 'ItHappenedOneNight', 894: 'Gaslight', 895: 'GayDivorcee,The', 896: 'NorthbyNorthwest', 897: 'Apartment,The', 898: 'SomeLikeItHot', 899: 'Charade', 900: 'Casablanca', 901: 'MalteseFalcon,The', 902: 'MyFairLady', 903: 'RomanHoliday', 904: 'LittlePrincess,The', 905: 'MeetMeinSt.Louis', 906: 'WizardofOz,The', 907: 'GonewiththeWind', 908: 'MyFavoriteYear', 909: 'SunsetBlvd.(a.k.a.SunsetBoulevard)', 910: 'CitizenKane', 911: '2001:ASpaceOdyssey', 912: 'GoldenEarrings', 913: 'AllAboutEve', 914: 'Women,The', 915: 'Rebecca', 916: 'ForeignCorrespondent', 917: 'Notorious', 918: 'Spellbound', 919: 'AffairtoRemember,An', 920: 'ToCatchaThief', 921: 'FatheroftheBride', 922: 'BandWagon,The', 923: 'Ninotchka', 924: 'LoveintheAfternoon', 925: 'Gigi', 926: 'ReluctantDebutante,The', 927: 'AdventuresofRobinHood,The', 928: 'MarkofZorro,The', 929: 'Laura', 930: 'GhostandMrs.Muir,The', 931: 'LostHorizon', 932: 'TopHat', 933: 'ToBeorNottoBe', 934: 'MyManGodfrey', 935: 'Giant', 936: 'EastofEden', 937: 'ThinMan,The', 938: 'HisGirlFriday', 939: 'AroundtheWorldin80Days', 940: \"It'saWonderfulLife\", 941: 'Mr.SmithGoestoWashington', 942: 'BringingUpBaby', 943: 'PennySerenade', 944: 'LadyofBurlesque', 945: 'OfHumanBondage', 946: 'AngelonMyShoulder', 947: 'LittleLordFauntleroy', 948: 'TheyMadeMeaCriminal', 949: 'InspectorGeneral,The', 950: 'AngelandtheBadman', 951: '39Steps,The', 952: 'WalkintheSun,A', 953: 'Outlaw,The', 954: 'NightoftheLivingDead', 955: 'AfricanQueen,The', 956: 'BeattheDevil', 957: 'CatonaHotTinRoof', 958: 'LastTimeISawParis,The', 959: 'MeetJohnDoe', 960: 'Algiers', 961: 'SomethingtoSingAbout', 962: 'FarewelltoArms,A', 963: 'MoonlightMurder', 964: 'BlueAngel,The(BlaueEngel,Der)', 965: 'NothingPersonal', 966: 'IntheLineofDuty2', 967: 'DangerousGround', 968: 'Picnic', 969: 'MadagascarSkin', 970: 'PompatusofLove,The', 971: 'SmallWonders', 972: 'FlyAwayHome', 973: 'Bliss', 974: 'GraceofMyHeart', 975: 'SchlafesBruder(BrotherofSleep)', 976: 'MaximumRisk', 977: 'MichaelCollins', 978: \"RichMan'sWife,The\", 979: 'Infinity', 980: 'BigNight', 981: 'LastManStanding', 982: 'Caught', 983: 'SetItOff', 984: '2DaysintheValley', 985: 'Curdled', 986: \"Associate,The(L'Associe)\", 987: \"Ed'sNextMove\", 988: 'ExtremeMeasures', 989: 'GlimmerMan,The', 990: 'D3:TheMightyDucks', 991: 'Chamber,The', 992: 'AppleDumplingGang,The', 993: 'DavyCrockett,KingoftheWildFrontier', 994: 'EscapetoWitchMountain', 995: 'LoveBug,The', 996: 'HerbieRidesAgain', 997: 'OldYeller', 998: 'ParentTrap,The', 999: 'Pollyanna', 1000: 'HomewardBound:TheIncredibleJourney', 1001: 'ShaggyDog,The', 1002: 'SwissFamilyRobinson', 1003: 'ThatDarnCat!', 1004: '20,000LeaguesUndertheSea', 1005: 'CoolRunnings', 1006: 'AngelsintheOutfield', 1007: 'Cinderella', 1008: 'WinniethePoohandtheBlusteryDay', 1009: 'ThreeCaballeros,The', 1010: 'SwordintheStone,The', 1011: 'SoDeartoMyHeart', 1012: 'RobinHood:PrinceofThieves', 1013: 'MaryPoppins', 1014: 'Dumbo', 1015: \"Pete'sDragon\", 1016: 'BedknobsandBroomsticks', 1017: 'AliceinWonderland', 1018: 'FoxandtheHound,The', 1019: 'Freeway', 1020: 'SoundofMusic,The', 1021: 'DieHard', 1022: 'LawnmowerMan,The', 1023: 'UnhooktheStars', 1024: 'SyntheticPleasures', 1025: 'SecretAgent,The', 1026: 'Secrets&Lies', 1027: 'ThatThingYouDo!', 1028: 'ToGillianonHer37thBirthday', 1029: 'SurvivingPicasso', 1030: 'LoveIsAllThereIs', 1031: 'BeautifulThing', 1032: 'LongKissGoodnight,The', 1033: 'GhostandtheDarkness,The', 1034: 'LookingforRichard', 1035: 'TreesLounge', 1036: 'Proprietor,The', 1037: 'NormalLife', 1038: 'GetontheBus', 1039: 'ShadowConspiracy', 1040: 'Jude', 1041: 'EveryoneSaysILoveYou', 1042: 'BitterSugar(AzucarAmargo)', 1043: \"WilliamShakespeare'sRomeoandJuliet\", 1044: 'Swingers', 1045: 'Sleepers', 1046: 'Sunchaser,The', 1047: 'Johns', 1048: 'AladdinandtheKingofThieves', 1049: 'WomaninQuestion,The', 1050: 'ShallWeDance?', 1051: 'DamselinDistress,A', 1052: 'Crossfire', 1053: 'Murder,MySweet', 1054: 'Macao', 1055: 'FortheMoment', 1056: 'WillyWonkaandtheChocolateFactory', 1057: 'SexualLifeoftheBelgians,The', 1058: 'Innocents,The', 1059: 'Sleeper', 1060: 'Bananas', 1061: 'FishCalledWanda,A', 1062: \"MontyPython'sLifeofBrian\", 1063: 'Victor/Victoria', 1064: 'Candidate,The', 1065: 'GreatRace,The', 1066: 'BonnieandClyde', 1067: 'OldManandtheSea,The', 1068: 'DialMforMurder', 1069: 'MadameButterfly', 1070: 'DirtyDancing', 1071: 'ReservoirDogs', 1072: 'Platoon', 1073: \"WeekendatBernie's\", 1074: 'BasicInstinct', 1075: 'Doors,The', 1076: 'CryingGame,The', 1077: 'GlengarryGlenRoss', 1078: \"Sophie'sChoice\", 1079: 'E.T.theExtra-Terrestrial', 1080: 'SearchforOne-eyeJimmy,The', 1081: 'ChristmasCarol,A', 1082: 'DaysofThunder', 1083: 'TopGun', 1084: 'AmericanStrays', 1085: 'RebelWithoutaCause', 1086: 'StreetcarNamedDesire,A', 1087: 'ChildrenoftheCornIV:TheGathering', 1088: 'LeopardSon,The', 1089: 'Loser', 1090: 'PrerokbeOgnja', 1091: \"Charm'sIncidents\", 1092: 'BirdofPrey', 1093: \"Microcosmos(Microcosmos:Lepeupledel'herbe)\", 1094: 'Palookaville', 1095: 'Associate,The', 1096: 'Funeral,The', 1097: 'Sleepover', 1098: 'SingleGirl,A(LaFilleSeule)', 1099: 'EighthDay,The(LeHuitièmejour)', 1100: 'Tashunga', 1101: 'Drunks', 1102: 'Peoplevs.LarryFlynt,The', 1103: 'GloryDaze', 1104: 'PlutoniumCircus', 1105: 'PerfectCandidate,A', 1106: 'OnGoldenPond', 1107: 'ReturnofthePinkPanther,The', 1108: 'DropDeadFred', 1109: 'Abyss,The', 1110: 'Fog,The', 1111: 'EscapefromNewYork', 1112: 'Howling,The', 1113: 'JeandeFlorette', 1114: 'ManonoftheSpring(Manondessources)', 1115: 'TalkingAboutSex', 1116: 'Johnny100Pesos', 1117: 'PrivateBenjamin', 1118: 'MontyPythonandtheHolyGrail', 1119: 'HustlerWhite', 1120: 'Dadetown', 1121: 'EverythingRelative', 1122: 'EntertainingAngels:TheDorothyDayStory', 1123: 'Hoogstetijd', 1124: 'GetOverIt', 1125: 'ThreeLivesandOnlyOneDeath', 1126: 'LineKing:AlHirschfeld,The', 1127: 'Snowriders', 1128: \"Curtis'sCharm\", 1129: 'WhenWeWereKings', 1130: 'WrongTrousers,The', 1131: 'JLG/JLG-autoportraitdedécembre', 1132: 'ReturnofMartinGuerre,The(RetourdeMartinGuerre,Le)', 1133: 'Faust', 1134: 'HeWalkedbyNight', 1135: 'RawDeal', 1136: 'T-Men', 1137: 'Invitation,The(Zaproszenie)', 1138: 'ChildrenAreWatchingus,The(Bambiniciguardano,I)', 1139: 'Symphoniepastorale,La', 1140: 'HereComesCookie', 1141: 'LoveinBloom', 1142: 'SixofaKind', 1143: 'TinDrum,The(Blechtrommel,Die)', 1144: 'RulingClass,The', 1145: 'MinaTannenbaum', 1146: 'TwoorThreeThingsIKnowAboutHer', 1147: 'BloodyChild,The', 1148: 'Farmer&Chase', 1149: 'DearGod', 1150: 'BadMoon', 1151: 'AmericanDream', 1152: 'BestoftheBest3:NoTurningBack', 1153: 'BobRoberts', 1154: 'CinemaParadiso', 1155: 'CooktheThiefHisWife&HerLover,The', 1156: 'GrosseFatigue', 1157: 'Delicatessen', 1158: 'DoubleLifeofVeronique,The(LaDoubleViedeVéronique)', 1159: 'EnchantedApril', 1160: 'PathsofGlory', 1161: 'Grifters,The', 1162: 'HearMySong', 1163: 'Shooter,The', 1164: 'EnglishPatient,The', 1165: 'Mediterraneo', 1166: 'MyLeftFoot', 1167: 'Sex,Lies,andVideotape', 1168: 'PassionFish', 1169: 'StrictlyBallroom', 1170: 'ThinBlueLine,The', 1171: 'TieMeUp!TieMeDown!', 1172: 'Madonna:TruthorDare', 1173: 'ParisIsBurning', 1174: \"OneFlewOvertheCuckoo'sNest\", 1175: 'UpinSmoke', 1176: 'StarWars:EpisodeV-TheEmpireStrikesBack', 1177: 'PrincessBride,The', 1178: 'RaidersoftheLostArk', 1179: 'Brazil', 1180: 'Aliens', 1181: 'Good,TheBadandTheUgly,The', 1182: 'WithnailandI', 1183: '12AngryMen', 1184: 'LawrenceofArabia', 1185: 'Transformers:TheMovie,The', 1186: 'ClockworkOrange,A', 1187: 'ToKillaMockingbird', 1188: 'ApocalypseNow', 1189: 'OnceUponaTimeintheWest', 1190: 'StarWars:EpisodeVI-ReturnoftheJedi', 1191: 'WingsofDesire(DerHimmelüberBerlin)', 1192: 'ThirdMan,The', 1193: 'GoodFellas', 1194: 'Alien', 1195: 'ArmyofDarkness', 1196: 'BigBlue,The(LeGrandBleu)', 1197: 'Ran', 1198: 'Killer,The(Diexueshuangxiong)', 1199: 'Psycho', 1200: 'BluesBrothers,The', 1201: 'Godfather:PartII,The', 1202: 'FullMetalJacket', 1203: 'GrandDayOut,A', 1204: 'HenryV', 1205: 'Amadeus', 1206: 'QuietMan,The', 1207: 'OnceUponaTimeinAmerica', 1208: 'RagingBull', 1209: 'AnnieHall', 1210: 'RightStuff,The', 1211: 'Stalker', 1212: 'Boat,The(DasBoot)', 1213: 'Sting,The', 1214: 'HaroldandMaude', 1215: 'Trust', 1216: 'SeventhSeal,The(Sjundeinseglet,Det)', 1217: 'LocalHero', 1218: 'Terminator,The', 1219: 'Braindead', 1220: 'Glory', 1221: 'RosencrantzandGuildensternAreDead', 1222: 'Manhattan', 1223: \"Miller'sCrossing\", 1224: 'DeadPoetsSociety', 1225: 'Graduate,The', 1226: 'TouchofEvil', 1227: 'Nikita(LaFemmeNikita)', 1228: 'BridgeontheRiverKwai,The', 1229: '81/2', 1230: 'Chinatown', 1231: 'DaytheEarthStoodStill,The', 1232: 'TreasureoftheSierraMadre,The', 1233: 'BadTaste', 1234: 'DuckSoup', 1235: 'BetterOffDead...', 1236: 'Shining,The', 1237: 'StandbyMe', 1238: 'M', 1239: 'EvilDeadII(DeadByDawn)', 1240: 'GreatEscape,The', 1241: 'DeerHunter,The', 1242: 'Diva', 1243: 'GroundhogDay', 1244: 'Unforgiven', 1245: 'ManchurianCandidate,The', 1246: 'PumpUptheVolume', 1247: 'ArsenicandOldLace', 1248: 'BacktotheFuture', 1249: 'FriedGreenTomatoes', 1250: 'Patton', 1251: 'DownbyLaw', 1252: 'Akira', 1253: 'Highlander', 1254: 'CoolHandLuke', 1255: 'CyranodeBergerac', 1256: 'YoungFrankenstein', 1257: 'NightonEarth', 1258: 'RaisetheRedLantern', 1259: 'GreatDictator,The', 1260: 'Fantasia', 1261: 'HighNoon', 1262: 'BigSleep,The', 1263: 'Heathers', 1264: 'SomewhereinTime', 1265: 'Ben-Hur', 1266: 'ThisIsSpinalTap', 1267: 'Koyaanisqatsi', 1268: 'SomeKindofWonderful', 1269: 'IndianaJonesandtheLastCrusade', 1270: 'BeingThere', 1271: 'Gandhi', 1272: 'M*A*S*H', 1273: 'UnbearableLightnessofBeing,The', 1274: 'RoomwithaView,A', 1275: 'RealGenius', 1276: 'PinkFloyd-TheWall', 1277: 'KillingFields,The', 1278: 'MyLifeasaDog(Mittlivsomhund)', 1279: 'ForbiddenPlanet', 1280: 'FieldofDreams', 1281: 'ManWhoWouldBeKing,The', 1282: 'ButchCassidyandtheSundanceKid', 1283: 'Paris,Texas', 1284: 'UntiltheEndoftheWorld(BisansEndederWelt)', 1285: 'WhenHarryMetSally...', 1286: 'IShotaManinVegas', 1287: 'ParallelSons', 1288: 'Hype!', 1289: 'SantawithMuscles', 1290: 'FemalePerversions', 1291: 'MadDogTime', 1292: 'BreathingRoom', 1293: 'ParisWasaWoman', 1294: 'Anna', 1295: \"I'mNotRappaport\", 1296: 'BlueJuice', 1297: 'KidsofSurvival', 1298: 'Alien³', 1299: 'AmericanWerewolfinLondon,An', 1300: \"Amityville1992:It'sAboutTime\", 1301: 'Amityville3-D', 1302: 'Amityville:Dollhouse', 1303: 'Amityville:ANewGeneration', 1304: 'AmityvilleII:ThePossession', 1305: 'AmityvilleHorror,The', 1306: 'AmityvilleCurse,The', 1307: \"BloodForDracula(AndyWarhol'sDracula)\", 1308: \"AprilFool'sDay\", 1309: 'AudreyRose', 1310: 'Believers,The', 1311: 'Birds,The', 1312: 'Blob,The', 1313: 'BloodBeach', 1314: 'BodyParts', 1315: 'BodySnatcher,The', 1316: \"BramStoker'sDracula\", 1317: 'BrideofFrankenstein', 1318: 'BurntOfferings', 1319: 'Candyman', 1320: 'CapeFear', 1321: 'Carrie', 1322: 'CatPeople', 1323: 'NightmareonElmStreet,A', 1324: 'Nosferatu(Nosferatu,eineSymphoniedesGrauens)', 1325: 'NosferatuaVenezia', 1326: 'Omen,The', 1327: 'Blood&Wine', 1328: 'AlbinoAlligator', 1329: 'MirrorHasTwoFaces,The', 1330: 'BreakingtheWaves', 1331: 'Nightwatch', 1332: 'StarTrek:FirstContact', 1333: 'Shine', 1334: 'SlingBlade', 1335: 'JingleAlltheWay', 1336: 'IdentificationofaWoman(Identificazionediunadonna)', 1337: 'ParadiseLost:TheChildMurdersatRobinHoodHills', 1338: 'GardenofFinzi-Contini,The(GiardinodeiFinzi-Contini,Il)', 1339: \"Preacher'sWife,The\", 1340: 'ZeroKelvin(Kjærlighetenskjøtere)', 1341: 'Ridicule', 1342: 'Crucible,The', 1343: '101Dalmatians', 1344: 'ForbiddenChrist,The(Cristoproibito,Il)', 1345: \"ICan'tSleep(J'aipassommeil)\", 1346: 'DieHard2', 1347: 'StarTrek:TheMotionPicture', 1348: 'StarTrekVI:TheUndiscoveredCountry', 1349: 'StarTrekV:TheFinalFrontier', 1350: 'StarTrek:TheWrathofKhan', 1351: 'StarTrekIII:TheSearchforSpock', 1352: 'StarTrekIV:TheVoyageHome', 1353: 'BatmanReturns', 1354: 'YoungGuns', 1355: 'YoungGunsII', 1356: 'Grease', 1357: 'Grease2', 1358: 'MarkedforDeath', 1359: 'Adrenalin:FeartheRush', 1360: 'SubstanceofFire,The', 1361: 'UnderSiege', 1362: 'TerrorinaTexasTown', 1363: 'Jaws', 1364: 'Jaws2', 1365: 'Jaws3-D', 1366: 'MyFellowAmericans', 1367: 'MarsAttacks!', 1368: 'CitizenRuth', 1369: 'JerryMaguire', 1370: 'RaisingArizona', 1371: 'TinMen', 1372: 'Sneakers', 1373: 'BastardOutofCarolina', 1374: 'InLoveandWar', 1375: \"Marvin'sRoom\", 1376: 'SomebodyisWaiting', 1377: 'GhostsofMississippi', 1378: 'NightFallsonManhattan', 1379: 'BeavisandButt-headDoAmerica', 1380: 'Cérémonie,La', 1381: 'Scream', 1382: 'LastoftheMohicans,The', 1383: 'Michael', 1384: 'EveningStar,The', 1385: 'Hamlet', 1386: \"SomeMother'sSon\", 1387: 'WholeWideWorld,The', 1388: 'Mother', 1389: 'Thieves(Voleurs,Les)', 1390: 'Evita', 1391: 'PortraitofaLady,The', 1392: 'Walkabout', 1393: 'MessagetoLove:TheIsleofWightFestival', 1394: 'GratefulDead', 1395: 'Murderat1600', 1396: 'HeartsandMinds', 1397: 'Inside', 1398: 'FierceCreatures', 1399: 'ZeusandRoxanne', 1400: 'Turbulence', 1401: 'AngelBaby', 1402: \"JackieChan'sFirstStrike\", 1403: 'Underworld', 1404: 'BeverlyHillsNinja', 1405: 'Metro', 1406: 'Machine,The', 1407: 'Stranger,The', 1408: 'FallinginLoveAgain', 1409: 'CementGarden,The', 1410: \"Dante'sPeak\", 1411: 'MeetWallySparks', 1412: 'Amos&Andrew', 1413: 'Benny&Joon', 1414: 'Prefontaine', 1415: 'TickleintheHeart,A', 1416: 'Guantanamera', 1417: \"McHale'sNavy\", 1418: 'Kolya', 1419: \"Gridlock'd\", 1420: 'FireontheMountain', 1421: 'WaitingforGuffman', 1422: 'PrisoneroftheMountains(KavkazskyPlennik)', 1423: 'BeauticianandtheBeast,The', 1424: 'SubUrbia', 1425: 'HoteldeLove', 1426: 'Pest,The', 1427: 'FoolsRushIn', 1428: 'Touch', 1429: 'AbsolutePower', 1430: 'VegasVacation', 1431: 'Unforgotten:Twenty-FiveYearsAfterWillowbrook', 1432: 'ThatOldFeeling', 1433: 'LostHighway', 1434: 'Rosewood', 1435: 'DonnieBrasco', 1436: 'Salutcousin!', 1437: 'BootyCall', 1438: 'Rhyme&Reason', 1439: 'BoysLife2', 1440: 'CityofIndustry', 1441: 'BestMen', 1442: 'Jungle2Jungle(a.k.a.Jungle2Jungle)', 1443: 'KamaSutra:ATaleofLove', 1444: 'PrivateParts', 1445: 'LoveJones', 1446: 'Saint,The', 1447: \"Smilla'sSenseofSnow\", 1448: 'Van,The', 1449: 'Crash', 1450: 'Daytrippers,The', 1451: 'LiarLiar', 1452: 'QuietRoom,The', 1453: 'Selena', 1454: \"Devil'sOwn,The\", 1455: \"CatsDon'tDance\", 1456: 'B*A*P*S', 1457: 'LoveandOtherCatastrophes', 1458: 'SixthMan,The', 1459: 'Turbo:APowerRangersMovie', 1460: 'AnnaKarenina', 1461: 'DoubleTeam', 1462: 'InventingtheAbbotts', 1463: 'Anaconda', 1464: 'GrossePointeBlank', 1465: 'KeystoTulsa', 1466: 'Kissed', 1467: '8HeadsinaDuffelBag', 1468: 'HollowReed', 1469: 'ParadiseRoad', 1470: 'Traveller', 1471: 'AllOverMe', 1472: \"Brother'sKiss,A\", 1473: 'AChefinLove', 1474: \"RomyandMichele'sHighSchoolReunion\", 1475: 'TemptressMoon(FengYue)', 1476: 'Volcano', 1477: 'ChildrenoftheRevolution', 1478: 'AustinPowers:InternationalManofMystery', 1479: 'Breakdown', 1480: 'BrokenEnglish', 1481: 'Commandments', 1482: 'Ripe', 1483: 'TruthorConsequences,N.M.', 1484: 'Turning,The', 1485: 'WarriorsofVirtue', 1486: \"Fathers'Day\", 1487: 'FifthElement,The', 1488: 'IntimateRelations', 1489: 'Nowhere', 1490: 'LosingChase', 1491: 'Sprung', 1492: 'Promise,The(LaPromesse)', 1493: 'Bonheur,Le', 1494: 'Love!Valour!Compassion!', 1495: 'ShallWeDance?(ShallWeDansu?)', 1496: 'SecondJungleBook:Mowgli&Baloo,The', 1497: 'TwinTown', 1498: 'AddictedtoLove', 1499: 'BrassedOff', 1500: 'DesignatedMourner,The', 1501: 'LostWorld:JurassicPark,The', 1502: 'Ponette', 1503: 'Schizopolis', 1504: 'Shiloh', 1505: 'WaratHome,The', 1506: 'RoughMagic', 1507: 'TrialandError', 1508: 'Buddy', 1509: 'ConAir', 1510: 'LateBloomers', 1511: 'PillowBook,The', 1512: 'ToHave,orNot', 1513: 'Speed2:CruiseControl', 1514: 'Squeeze', 1515: 'SuddenManhattan', 1516: 'NextStep,The', 1517: 'WeddingBellBlues', 1518: 'Batman&Robin', 1519: 'DreamWiththeFishes', 1520: \"Roseanna'sGrave(ForRoseanna)\", 1521: 'HeadAboveWater', 1522: 'Hercules', 1523: 'LastTimeICommittedSuicide,The', 1524: 'MURDERandmurder', 1525: \"MyBestFriend'sWedding\", 1526: 'TetsuoII:BodyHammer', 1527: 'WhentheCatsAway(Chacuncherchesonchat)', 1528: 'Contempt(LeMépris)', 1529: 'Face/Off', 1530: 'Fall', 1531: 'Gabbeh', 1532: 'Mondo', 1533: 'InnocentSleep,The', 1534: 'ForEverMozart', 1535: 'MeninBlack', 1536: 'OuttoSea', 1537: 'WildAmerica', 1538: 'SimpleWish,A', 1539: 'Contact', 1540: 'LoveSerenade', 1541: 'G.I.Jane', 1542: 'ConantheBarbarian', 1543: 'GeorgeoftheJungle', 1544: 'CopLand', 1545: 'EventHorizon', 1546: 'Spawn', 1547: 'AirBud', 1548: 'PicturePerfect', 1549: 'IntheCompanyofMen', 1550: 'FreeWilly3:TheRescue', 1551: 'CareerGirls', 1552: 'ConspiracyTheory', 1553: 'DesperateMeasures', 1554: 'Steel', 1555: \"She'sSoLovely\", 1556: 'Hoodlum', 1557: 'LeaveIttoBeaver', 1558: 'Mimic', 1559: 'MoneyTalks', 1560: 'ExcessBaggage', 1561: 'KulltheConqueror', 1562: 'AirForceOne', 1563: '187', 1564: 'HuntforRedOctober,The', 1565: 'MyOwnPrivateIdaho', 1566: 'KissMe,Guido', 1567: 'StarMaps', 1568: 'In&Out', 1569: 'Edge,The', 1570: 'Peacemaker,The', 1571: 'L.A.Confidential', 1572: 'SevenYearsinTibet', 1573: 'KisstheGirls', 1574: 'SoulFood', 1575: 'KickedintheHead', 1576: 'Wishmaster', 1577: 'ThousandAcres,A', 1578: 'Game,The', 1579: 'FireDownBelow', 1580: 'UTurn', 1581: 'Locusts,The', 1582: 'MatchMaker,The', 1583: 'LayoftheLand,The', 1584: 'Assignment,The', 1585: 'SmileLikeYours,A', 1586: \"Ulee'sGold\", 1587: 'IceStorm,The', 1588: 'Stag', 1589: 'ChasingAmy', 1590: 'HowtoBeaPlayer', 1591: 'FullMonty,The', 1592: 'IndianSummer(a.k.a.Alive&Kicking)', 1593: 'Mrs.Brown(HerMajesty,Mrs.Brown)', 1594: 'IKnowWhatYouDidLastSummer', 1595: \"Devil'sAdvocate,The\", 1596: 'RocketMan', 1597: 'PlayingGod', 1598: 'HouseofYes,The', 1599: 'Fast,Cheap&OutofControl', 1600: 'WashingtonSquare', 1601: 'TellingLiesinAmerica', 1602: 'YearoftheHorse', 1603: 'Gattaca', 1604: 'FairyTale:ATrueStory', 1605: 'Phantoms', 1606: 'SweptfromtheSea', 1607: 'Wonderland', 1608: 'LifeLessOrdinary,A', 1609: 'HurricaneStreets', 1610: \"Eve'sBayou\", 1611: 'Switchback', 1612: 'GangRelated', 1613: 'Stripes', 1614: 'NénetteetBoni', 1615: 'Bean', 1616: 'HugoPool', 1617: 'MadCity', 1618: 'OneNightStand', 1619: 'TangoLesson,The', 1620: 'WelcomeToSarajevo', 1621: 'Deceiver', 1622: 'Rainmaker,The', 1623: 'BoogieNights', 1624: 'Witness', 1625: 'Incognito', 1626: 'StarshipTroopers', 1627: 'CriticalCare', 1628: 'JoyLuckClub,The', 1629: 'ChairmanoftheBoard', 1630: 'SlidingDoors', 1631: 'MortalKombat:Annihilation', 1632: 'TrumanShow,The', 1633: 'WingsoftheDove,The', 1634: 'Mrs.Dalloway', 1635: 'ILoveYou,ILoveYouNot', 1636: 'RedCorner', 1637: 'Jackal,The', 1638: 'Anastasia', 1639: 'ManWhoKnewTooLittle,The', 1640: 'Alien:Resurrection', 1641: 'AlienEscape', 1642: 'Amistad', 1643: 'Apostle,The', 1644: 'Artemisia', 1645: 'Bent', 1646: 'BigBangTheory,The', 1647: 'Boys,Les', 1648: 'ButcherBoy,The', 1649: 'DeconstructingHarry', 1650: 'Flubber', 1651: 'ForRicherorPoorer', 1652: 'GoodWillHunting', 1653: 'Guy', 1654: 'HarlemRiverDrive', 1655: 'HomeAlone3', 1656: 'IllGottenGains', 1657: 'LegalDeceit', 1658: 'ManofHerDreams', 1659: 'MidnightintheGardenofGoodandEvil', 1660: 'MouseHunt', 1661: 'NeverMetPicasso', 1662: 'OfficeKiller', 1663: 'OtherVoices,OtherRooms', 1664: 'Scream2', 1665: 'StrangerintheHouse', 1666: 'SweetHereafter,The', 1667: 'TimeTracers', 1668: 'Titanic', 1669: 'TomorrowNeverDies', 1670: 'Twisted', 1671: 'FullSpeed', 1672: 'EducationofLittleTree,The', 1673: 'Postman,The', 1674: 'HorseWhisperer,The', 1675: 'WinterGuest,The', 1676: 'JackieBrown', 1677: 'Kundun', 1678: 'Mr.Magoo', 1679: 'BigLebowski,The', 1680: 'Afterglow', 1681: 'MyLifeinPink(Mavieenrose)', 1682: 'GreatExpectations', 1683: 'Vermin', 1684: '3Ninjas:HighNoonOnMegaMountain', 1685: 'MenofMeans', 1686: 'MidaqAlley(Callejóndelosmilagros,El)', 1687: 'CaughtUp', 1688: 'ArguingtheWorld', 1689: 'Firestorm', 1690: 'Senseless', 1691: 'WagtheDog', 1692: 'DarkCity', 1693: 'LeadingMan,The', 1694: 'StarKid', 1695: 'HardRain', 1696: 'HalfBaked', 1697: 'Fallen', 1698: 'ShootingFish', 1699: 'ProphecyII,The', 1700: 'Duoluotianshi', 1701: 'DangerousBeauty', 1702: 'FourDaysinSeptember', 1703: 'SpiceWorld', 1704: 'DeepRising', 1705: 'Tainted', 1706: 'LetterFromDeathRow,A', 1707: 'MusicFromAnotherRoom', 1708: \"Mat'isyn\", 1709: 'ReplacementKillers,The', 1710: 'B.Monkey', 1711: 'NightFlier', 1712: 'BluesBrothers2000', 1713: 'TokyoFist', 1714: 'MassTransit', 1715: 'Ride', 1716: 'WeddingSinger,The', 1717: 'Sphere', 1718: 'AynRand:ASenseofLife', 1719: 'FurtherGesture,A', 1720: 'LittleCity', 1721: 'Palmetto', 1722: 'AsGoodAsItGets', 1723: 'KingofNewYork', 1724: 'ParalyzingFear:TheStoryofPolioinAmerica,A', 1725: 'MenWithGuns', 1726: 'SadnessofSex,The', 1727: 'Twilight', 1728: 'U.S.Marshalls', 1729: 'WelcometoWoop-Woop', 1730: 'LoveandDeathonLongIsland', 1731: 'Callejóndelosmilagros,El', 1732: \"InGod'sHands\", 1733: 'Everest', 1734: 'Hush', 1735: 'SuicideKings', 1736: 'ManintheIronMask,The', 1737: 'NewtonBoys,The', 1738: 'WildThings', 1739: 'Paulie', 1740: 'CoolDryPlace,A', 1741: 'Hana-bi', 1742: 'PrimaryColors', 1743: 'Niagara,Niagara', 1744: 'WideAwake', 1745: 'PriceAboveRubies,A', 1746: 'Eden', 1747: 'TwoGirlsandaGuy', 1748: 'NoLookingBack', 1749: 'StorefrontHitchcock', 1750: 'Proposition,The', 1751: 'ObjectofMyAffection,The', 1752: 'MeettheDeedles', 1753: 'Homegrown', 1754: \"Player'sClub,The\", 1755: \"Barney'sGreatAdventure\", 1756: 'BigOne,The', 1757: 'ChineseBox', 1758: 'FollowtheBitch', 1759: 'LostinSpace', 1760: \"Heaven'sBurning\", 1761: 'MercuryRising', 1762: 'SpanishPrisoner,The', 1763: 'CityofAngels', 1764: 'LastDaysofDisco,The', 1765: 'OddCoupleII,The', 1766: 'MyGiant', 1767: 'HeGotGame', 1768: 'GingerbreadMan,The', 1769: 'Illtown', 1770: 'SlappyandtheStinkers', 1771: 'LiveFlesh', 1772: 'ZeroEffect', 1773: 'NilByMouth', 1774: 'Ratchet', 1775: 'Borrowers,The', 1776: 'PrinceValiant', 1777: \"ILoveYou,Don'tTouchMe!\", 1778: 'LeatherJacketLoveStory', 1779: 'LoveWalkedIn', 1780: 'AlanSmitheeFilm:BurnHollywoodBurn,An', 1781: 'KissingaFool', 1782: \"Krippendorf'sTribe\", 1783: 'Kurt&Courtney', 1784: 'RealBlonde,The', 1785: 'Mr.NiceGuy', 1786: 'TasteofCherry', 1787: 'Character(Karakter)', 1788: 'JunkMail', 1789: 'SpeciesII', 1790: 'MajorLeague:BacktotheMinors', 1791: 'SourGrapes', 1792: 'WildManBlues', 1793: 'BigHit,The', 1794: 'TarzanandtheLostCity', 1795: 'Truce,The', 1796: 'BlackDog', 1797: 'Dancer,TexasPop.81', 1798: 'FriendoftheDeceased,A', 1799: 'GoNow', 1800: 'StillBreathing', 1801: 'Clockwatchers', 1802: 'DeepImpact', 1803: 'LittleMen', 1804: 'Woo', 1805: 'HangingGarden,The', 1806: 'LawnDogs', 1807: 'QuestforCamelot', 1808: 'Godzilla', 1809: 'Bulworth', 1810: 'FearandLoathinginLasVegas', 1811: 'OppositeofSex,The', 1812: 'IGottheHookUp', 1813: 'AlmostHeroes', 1814: 'HopeFloats', 1815: 'Insomnia', 1816: 'LittleBoyBlue', 1817: 'Ugly,The', 1818: 'PerfectMurder,A', 1819: 'BeyondSilence', 1820: 'SixDaysSevenNights', 1821: \"Can'tHardlyWait\", 1822: 'CousinBette', 1823: 'HighArt', 1824: 'LandGirls,The', 1825: 'PassionintheDesert', 1826: 'ChildrenofHeaven,The(Bacheha-YeAseman)', 1827: 'DearJesse', 1828: 'DreamforanInsomniac', 1829: 'HavPlenty', 1830: 'HenryFool', 1831: 'MarieBaieDesAnges', 1832: 'Mr.Jealousy', 1833: 'Mulan', 1834: 'ResurrectionMan', 1835: 'X-Files:FighttheFuture,The', 1836: 'IWentDown', 1837: 'DoctorDolittle', 1838: 'OutofSight', 1839: 'PicnicatHangingRock', 1840: 'SmokeSignals', 1841: 'VoyagetotheBeginningoftheWorld', 1842: 'Buffalo66', 1843: 'Armageddon', 1844: 'LethalWeapon4', 1845: 'Madeline', 1846: 'SmallSoldiers', 1847: 'Pi', 1848: 'Whatever', 1849: \"There'sSomethingAboutMary\", 1850: 'Plan9fromOuterSpace', 1851: 'Wings', 1852: 'BroadwayMelody,The', 1853: 'AllQuietontheWesternFront', 1854: 'Cimarron', 1855: 'GrandHotel', 1856: 'Cavalcade', 1857: 'MutinyontheBounty', 1858: 'GreatZiegfeld,The', 1859: 'LifeofÉmileZola,The', 1860: \"YouCan'tTakeItWithYou\", 1861: 'HowGreenWasMyValley', 1862: 'Mrs.Miniver', 1863: 'GoingMyWay', 1864: 'LostWeekend,The', 1865: 'BestYearsofOurLives,The', 1866: \"Gentleman'sAgreement\", 1867: \"AlltheKing'sMen\", 1868: 'GreatestShowonEarth,The', 1869: 'FromHeretoEternity', 1870: 'OntheWaterfront', 1871: 'Marty', 1872: 'WestSideStory', 1873: 'TomJones', 1874: 'ManforAllSeasons,A', 1875: 'IntheHeatoftheNight', 1876: 'Oliver!', 1877: 'MidnightCowboy', 1878: 'FrenchConnection,The', 1879: 'Rocky', 1880: 'KramerVs.Kramer', 1881: 'OrdinaryPeople', 1882: 'ChariotsofFire', 1883: 'TermsofEndearment', 1884: 'OutofAfrica', 1885: 'LastEmperor,The', 1886: 'RainMan', 1887: 'DrivingMissDaisy', 1888: 'TaketheMoneyandRun', 1889: 'Klute', 1890: 'RepoMan', 1891: 'Metropolitan', 1892: 'Labyrinth', 1893: 'BreakfastClub,The', 1894: \"NightmareonElmStreetPart2:Freddy'sRevenge,A\", 1895: 'NightmareonElmStreet3:DreamWarriors,A', 1896: 'NightmareonElmStreet4:TheDreamMaster,A', 1897: 'NightmareonElmStreet5:TheDreamChild,A', 1898: \"Freddy'sDead:TheFinalNightmare\", 1899: 'Fridaythe13th', 1900: 'Fridaythe13thPart2', 1901: 'Fridaythe13thPart3:3D', 1902: 'Fridaythe13th:TheFinalChapter', 1903: 'Fridaythe13thPartV:ANewBeginning', 1904: 'Fridaythe13thPartVI:JasonLives', 1905: 'Fridaythe13thPartVII:TheNewBlood', 1906: 'Fridaythe13thPartVIII:JasonTakesManhattan', 1907: 'Halloween', 1908: 'HalloweenII', 1909: 'HalloweenIII:SeasonoftheWitch', 1910: 'Halloween4:TheReturnofMichaelMyers', 1911: 'Halloween5:TheRevengeofMichaelMyers', 1912: 'PromNight', 1913: 'HelloMaryLou:PromNightII', 1914: 'PromNightIII:TheLastKiss', 1915: 'PromNightIV:DeliverUsFromEvil', 1916: \"Child'sPlay\", 1917: \"Child'sPlay2\", 1918: \"Child'sPlay3\", 1919: 'Poltergeist', 1920: 'PoltergeistII:TheOtherSide', 1921: 'PoltergeistIII', 1922: 'Exorcist,The', 1923: 'ExorcistII:TheHeretic', 1924: 'ExorcistIII,The', 1925: 'LethalWeapon', 1926: 'LethalWeapon2', 1927: 'LethalWeapon3', 1928: 'Gremlins', 1929: 'Gremlins2:TheNewBatch', 1930: 'Goonies,The', 1931: 'MaskofZorro,The', 1932: 'PolishWedding', 1933: 'ThisWorld,ThentheFireworks', 1934: 'SoylentGreen', 1935: 'Metropolis', 1936: 'BacktotheFuturePartII', 1937: 'BacktotheFuturePartIII', 1938: 'PoseidonAdventure,The', 1939: 'FreakyFriday', 1940: 'AbsentMindedProfessor,The', 1941: 'AppleDumplingGangRidesAgain,The', 1942: 'BabesinToyland', 1943: 'Bambi', 1944: 'SevenSamurai(TheMagnificentSeven)(Shichininnosamurai)', 1945: 'DangerousLiaisons', 1946: 'Dune', 1947: 'LastTemptationofChrist,The', 1948: 'Godfather:PartIII,The', 1949: 'Rapture,The', 1950: 'Lolita', 1951: 'DisturbingBehavior', 1952: 'Mafia!', 1953: 'SavingPrivateRyan', 1954: \"Billy'sHollywoodScreenKiss\", 1955: 'EastPalaceWestPalace(Donggongxigong)', 1956: '$1,000,000Duck', 1957: 'BarefootExecutive,The', 1958: 'BlackCauldron,The', 1959: 'BlackHole,The', 1960: \"Blackbeard'sGhost\", 1961: 'BlankCheck', 1962: 'Candleshoe', 1963: 'CatfromOuterSpace,The', 1964: 'Cheetah', 1965: 'ComputerWoreTennisShoes,The', 1966: 'Condorman', 1967: 'D2:TheMightyDucks', 1968: \"DarbyO'GillandtheLittlePeople\", 1969: 'DevilandMaxDevlin,The', 1970: 'FarOffPlace,A', 1971: 'FlightoftheNavigator', 1972: 'Gnome-Mobile,The', 1973: 'GreatMouseDetective,The', 1974: 'HappiestMillionaire,The', 1975: 'HerbieGoesBananas', 1976: 'HerbieGoestoMonteCarlo', 1977: 'HocusPocus', 1978: 'Honey,IBlewUptheKid', 1979: 'Honey,IShrunktheKids', 1980: 'HotLeadandColdFeet', 1981: 'InSearchoftheCastaways', 1982: 'IncredibleJourney,The', 1983: 'Negotiator,The', 1984: 'BASEketball', 1985: 'FullTiltBoogie', 1986: 'Governess,The', 1987: 'SeventhHeaven(LeSeptièmeciel)', 1988: 'Roger&Me', 1989: 'PurpleRoseofCairo,The', 1990: 'OutofthePast', 1991: 'DoctorZhivago', 1992: 'FannyandAlexander', 1993: 'TriptoBountiful,The', 1994: 'TenderMercies', 1995: 'AndtheBandPlayedOn', 1996: \"'burbs,The\", 1997: 'Fandango', 1998: 'NightPorter,The(IlPortieredinotte)', 1999: 'Mephisto', 2000: 'BlueVelvet', 2001: 'JourneyofNattyGann,The', 2002: 'Kidnapped', 2003: 'LadyandtheTramp', 2004: 'LittleMermaid,The', 2005: 'MightyDucks,The', 2006: 'MuppetChristmasCarol,The', 2007: 'Newsies', 2008: 'OneMagicChristmas', 2009: 'PeterPan', 2010: 'Popeye', 2011: 'RescuersDownUnder,The', 2012: 'Rescuers,The', 2013: 'ReturnfromWitchMountain', 2014: 'ReturnofJafar,The', 2015: 'ReturntoOz', 2016: 'Rocketeer,The', 2017: 'ShaggyD.A.,The', 2018: 'SleepingBeauty', 2019: 'SomethingWickedThisWayComes', 2020: 'SonofFlubber', 2021: 'SongoftheSouth', 2022: 'Splash', 2023: \"Squanto:AWarrior'sTale\", 2024: 'SteamboatWillie', 2025: 'TallTale', 2026: 'Tex', 2027: 'Tron', 2028: 'SwingKids', 2029: 'Halloween:H20', 2030: 'L.A.Story', 2031: 'Jerk,The', 2032: \"DeadMenDon'tWearPlaid\", 2033: 'ManwithTwoBrains,The', 2034: 'GrandCanyon', 2035: 'GraveyardShift', 2036: 'Outsiders,The', 2037: 'IndianaJonesandtheTempleofDoom', 2038: 'LordoftheRings,The', 2039: 'NineteenEighty-Four', 2040: 'DeadZone,The', 2041: 'MaximumOverdrive', 2042: 'NeedfulThings', 2043: 'Cujo', 2044: 'ChildrenoftheCorn', 2045: 'AllDogsGotoHeaven', 2046: 'AddamsFamily,The', 2047: 'EverAfter:ACinderellaStory', 2048: 'SnakeEyes', 2049: 'FirstLove,LastRites', 2050: 'SafeMen', 2051: 'SaltmenofTibet,The', 2052: 'AtlanticCity', 2053: 'AutumnSonata(Höstsonaten)', 2054: \"Who'sAfraidofVirginiaWoolf?\", 2055: 'AdventuresinBabysitting', 2056: 'WeirdScience', 2057: \"Charlotte'sWeb\", 2058: 'WatershipDown', 2059: 'SecretofNIMH,The', 2060: 'DarkCrystal,The', 2061: 'AmericanTail,An', 2062: 'AmericanTail:FievelGoesWest,An', 2063: 'Legend', 2064: 'SixteenCandles', 2065: 'PrettyinPink', 2066: \"St.Elmo'sFire\", 2067: 'ClanoftheCaveBear,The', 2068: 'House', 2069: 'HouseII:TheSecondStory', 2070: 'GodsMustBeCrazy,The', 2071: 'GodsMustBeCrazyII,The', 2072: 'AirBud:GoldenReceiver', 2073: 'Avengers,The', 2074: 'HowStellaGotHerGrooveBack', 2075: 'SlumsofBeverlyHills,The', 2076: 'BestMan,The(IlTestimonedellosposo)', 2077: 'ChambermaidontheTitanic,The', 2078: 'Henry:PortraitofaSerialKiller,Part2', 2079: 'Henry:PortraitofaSerialKiller', 2080: \"Rosemary'sBaby\", 2081: 'NeverEndingStory,The', 2082: 'NeverEndingStoryII:TheNextChapter,The', 2083: 'AttackoftheKillerTomatoes!', 2084: 'SurfNazisMustDie', 2085: 'YourFriendsandNeighbors', 2086: 'ReturntoParadise', 2087: 'Blade', 2088: 'DancewithMe', 2089: 'DeadManonCampus', 2090: 'WrongfullyAccused', 2091: 'NextStop,Wonderland', 2092: 'Strike!(a.k.a.AllIWannaDo,TheHairyBird)', 2093: 'Navigator:AMediaevalOdyssey,The', 2094: 'Beetlejuice', 2095: 'DéjàVu', 2096: 'Rope', 2097: 'FamilyPlot', 2098: 'Frenzy', 2099: 'Topaz', 2100: 'TornCurtain', 2101: 'Marnie', 2102: 'WrongMan,The', 2103: 'ManWhoKnewTooMuch,The', 2104: 'TroublewithHarry,The', 2105: 'IConfess', 2106: 'StrangersonaTrain', 2107: 'StageFright', 2108: '54', 2109: 'IMarriedAStrangePerson', 2110: 'WhyDoFoolsFallInLove?', 2111: 'MerryWar,A', 2112: 'SeetheSea(Regardelamer)', 2113: 'Willow', 2114: 'Untouchables,The', 2115: 'DirtyWork', 2116: 'KnockOff', 2117: 'Firelight', 2118: 'Modulations', 2119: 'Phoenix', 2120: 'UnderCapricorn', 2121: 'ParadineCase,The', 2122: 'Lifeboat', 2123: 'ShadowofaDoubt', 2124: 'Saboteur', 2125: 'Mr.&Mrs.Smith', 2126: 'Suspicion', 2127: 'JamaicaInn', 2128: 'LadyVanishes,The', 2129: 'YoungandInnocent', 2130: 'Sabotage', 2131: 'SecretAgent', 2132: 'WaltzesfromVienna', 2133: 'NumberSeventeen', 2134: 'RichandStrange', 2135: 'SkinGame,The', 2136: 'ElstreeCalling', 2137: 'JunoandPaycock', 2138: 'Murder!', 2139: 'Manxman,The', 2140: 'Blackmail', 2141: 'Champagne', 2142: \"Farmer'sWife,The\", 2143: 'Downhill', 2144: 'EasyVirtue', 2145: 'Ring,The', 2146: 'Lodger,The', 2147: 'MountainEagle,The', 2148: 'PleasureGarden,The', 2149: 'AlwaysTellYourWife', 2150: 'Rounders', 2151: 'Cube', 2152: 'DiggingtoChina', 2153: \"Let'sTalkAboutSex\", 2154: \"OneMan'sHero\", 2155: 'SimonBirch', 2156: 'WithoutLimits', 2157: 'SevenBeauties(PasqualinoSettebellezze)', 2158: \"SweptAway(Travoltidauninsolitodestinonell'azzurromared'Agosto)\", 2159: 'MyBodyguard', 2160: 'Class', 2161: 'Grandview,U.S.A.', 2162: 'BroadcastNews', 2163: 'Allnighter,The', 2164: 'WorkingGirl', 2165: 'StarsandBars', 2166: 'MarriedtotheMob', 2167: 'SayAnything...', 2168: 'MyBlueHeaven', 2169: \"MenDon'tLeave\", 2170: 'CabinetofDr.Ramirez,The', 2171: 'Hero', 2172: 'Toys', 2173: 'Choices', 2174: 'YoungDoctorsinLove', 2175: 'Parasite', 2176: 'NoSmallAffair', 2177: 'MasterNinjaI', 2178: 'BlameItonRio', 2179: 'Wisdom', 2180: 'OneCrazySummer', 2181: 'AboutLastNight...', 2182: 'SeventhSign,The', 2183: \"We'reNoAngels\", 2184: 'NothingButTrouble', 2185: \"Butcher'sWife,The\", 2186: 'MortalThoughts', 2187: 'FewGoodMen,A', 2188: 'IndecentProposal', 2189: 'CenturyofCinema,A', 2190: 'PermanentMidnight', 2191: 'OneTrueThing', 2192: 'RushHour', 2193: \"Lilian'sStory\", 2194: 'Six-StringSamurai', 2195: \"Soldier'sDaughterNeverCries,A\", 2196: 'SomewhereintheCity', 2197: 'Ronin', 2198: 'UrbanLegend', 2199: 'ClayPigeons', 2200: 'MonumentAve.', 2201: 'Pecker', 2202: 'ShelteringSky,The', 2203: 'BanditQueen', 2204: 'If....', 2205: 'FiendishPlotofDr.FuManchu,The', 2206: 'Them!', 2207: 'Thing,The', 2208: 'Player,The', 2209: 'StardustMemories', 2210: 'EdwardScissorhands', 2211: 'OvernightDelivery', 2212: 'Shadrach', 2213: 'Antz', 2214: 'Impostors,The', 2215: 'NightattheRoxbury,A', 2216: 'WhatDreamsMayCome', 2217: 'Strangeland', 2218: 'BattleoftheSexes,The', 2219: 'Producers,The', 2220: 'HistoryoftheWorld:PartI', 2221: 'MyCousinVinny', 2222: 'Nashville', 2223: 'LoveIstheDevil', 2224: 'Slam', 2225: 'HolyMan', 2226: 'OneToughCop', 2227: 'Detroit9000', 2228: 'Inheritors,The(DieSiebtelbauern)', 2229: 'Mighty,The', 2230: '2010', 2231: 'ChildrenofaLesserGod', 2232: 'ElephantMan,The', 2233: 'Beloved', 2234: 'BrideofChucky', 2235: 'PracticalMagic', 2236: 'Alarmist,The', 2237: 'Happiness', 2238: 'ReachtheRock', 2239: 'AptPupil', 2240: 'Pleasantville', 2241: 'Soldier', 2242: 'Cruise,The', 2243: 'LifeIsBeautiful(LaVitaèbella)', 2244: 'Orgazmo', 2245: 'ShatteredImage', 2246: 'TalesfromtheDarkside:TheMovie', 2247: 'Vampires', 2248: 'AmericanHistoryX', 2249: 'HandsonaHardBody', 2250: 'LivingOutLoud', 2251: 'Belly', 2252: 'GodsandMonsters', 2253: 'Siege,The', 2254: 'Waterboy,The', 2255: 'Elizabeth', 2256: 'VelvetGoldmine', 2257: 'IStillKnowWhatYouDidLastSummer', 2258: \"I'llBeHomeForChristmas\", 2259: 'MeetJoeBlack', 2260: 'DancingatLughnasa', 2261: 'HardCoreLogo', 2262: 'NakedMan,The', 2263: 'RunawayTrain', 2264: 'DesertBloom', 2265: 'StepfordWives,The', 2266: 'PopeofGreenwichVillage,The', 2267: 'SidandNancy', 2268: 'MonaLisa', 2269: 'HeartCondition', 2270: 'NightsofCabiria(LeNottidiCabiria)', 2271: 'BigChill,The', 2272: 'EnemyoftheState', 2273: 'RugratsMovie,The', 2274: \"Bug'sLife,A\", 2275: 'Celebrity', 2276: 'CentralStation(CentraldoBrasil)', 2277: 'Savior', 2278: 'WakingNedDevine', 2279: 'Celebration,The(Festen)', 2280: 'PinkFlamingos', 2281: 'GlenorGlenda', 2282: 'Godzilla(Gojira)', 2283: 'KingKongvs.Godzilla(KingukongutaiGojira)', 2284: 'KingKong', 2285: 'KingKongLives', 2286: 'DesperatelySeekingSusan', 2287: 'EmeraldForest,The', 2288: 'Fletch', 2289: 'FletchLives', 2290: 'RedSonja', 2291: 'GungHo', 2292: 'MoneyPit,The', 2293: 'ViewtoaKill,A', 2294: 'Lifeforce', 2295: 'PoliceAcademy', 2296: 'PoliceAcademy2:TheirFirstAssignment', 2297: 'PoliceAcademy3:BackinTraining', 2298: 'PoliceAcademy4:CitizensonPatrol', 2299: 'PoliceAcademy5:Assignment:MiamiBeach', 2300: 'PoliceAcademy6:CityUnderSiege', 2301: 'Babe:PigintheCity', 2302: 'HomeFries', 2303: 'JerrySpringer:Ringmaster', 2304: 'VeryBadThings', 2305: 'Steam:TheTurkishBath(Hamam)', 2306: 'LittleVoice', 2307: 'SimplePlan,A', 2308: 'JackFrost', 2309: 'StarTrek:Insurrection', 2310: 'PrinceofEgypt,The', 2311: 'Rushmore', 2312: 'ShakespeareinLove', 2313: 'MassAppeal', 2314: 'SantaClaus:TheMovie', 2315: 'Prancer', 2316: 'PaleRider', 2317: 'Rambo:FirstBloodPartII', 2318: 'FirstBlood', 2319: 'RamboIII', 2320: 'JeweloftheNile,The', 2321: 'RomancingtheStone', 2322: 'Cocoon', 2323: 'Cocoon:TheReturn', 2324: 'RockyII', 2325: 'RockyIII', 2326: 'RockyIV', 2327: 'RockyV', 2328: 'Clue', 2329: 'YoungSherlockHolmes', 2330: 'VioletsAreBlue...', 2331: 'BacktoSchool', 2332: 'Heartburn', 2333: 'NothinginCommon', 2334: 'Extremities', 2335: 'KarateKid,The', 2336: 'KarateKid,PartII,The', 2337: 'KarateKidIII,The', 2338: 'ChristmasVacation', 2339: \"You'veGotMail\", 2340: 'General,The', 2341: 'TheoryofFlight,The', 2342: 'ThinRedLine,The', 2343: 'Faculty,The', 2344: 'MightyJoeYoung', 2345: 'PatchAdams', 2346: 'Stepmom', 2347: 'CivilAction,A', 2348: 'DownintheDelta', 2349: 'Hurlyburly', 2350: 'TeawithMussolini', 2351: 'Wilde', 2352: 'OutsideOzona', 2353: 'Affliction', 2354: 'AnotherDayinParadise', 2355: 'Hi-LoCountry,The', 2356: 'HilaryandJackie', 2357: 'PlayingbyHeart', 2358: '247:TwentyFourSeven', 2359: 'AtFirstSight', 2360: 'InDreams', 2361: 'VarsityBlues', 2362: 'Virus', 2363: 'GarbagePailKidsMovie,The', 2364: 'HowardtheDuck', 2365: 'Gate,The', 2366: 'GateII:Trespassers,The', 2367: 'BoyWhoCouldFly,The', 2368: 'Fly,The', 2369: 'FlyII,The', 2370: 'RunningScared', 2371: 'ArmedandDangerous', 2372: 'TexasChainsawMassacre,The', 2373: 'TexasChainsawMassacre2,The', 2374: 'Leatherface:TexasChainsawMassacreIII', 2375: 'ReturnoftheTexasChainsawMassacre,The', 2376: 'RuthlessPeople', 2377: 'TrickorTreat', 2378: 'DeadlyFriend', 2379: 'BelizairetheCajun', 2380: 'NameoftheRose,The', 2381: \"Jumpin'JackFlash\", 2382: 'PeggySueGotMarried', 2383: 'CrocodileDundee', 2384: 'CrocodileDundeeII', 2385: 'ToughGuys', 2386: 'SoulMan', 2387: 'ColorofMoney,The', 2388: '52Pick-Up', 2389: 'HeartbreakRidge', 2390: 'Firewalker', 2391: 'ThreeAmigos!', 2392: 'Gloria', 2393: 'DryCleaning(Nettoyageàsec)', 2394: 'MyNameIsJoe', 2395: 'StillCrazy', 2396: 'DayoftheBeast,The(ElDíadelabestia)', 2397: 'Tinseltown', 2398: \"She'sAllThat\", 2399: '24-hourWoman', 2400: 'Blood,Guts,BulletsandOctane', 2401: 'PeepingTom', 2402: 'SpanishFly', 2403: 'Payback', 2404: 'SimplyIrresistible', 2405: '20Dates', 2406: 'Harmonists,The', 2407: 'LastDays,The', 2408: 'FantasticPlanet,The(LaPlanètesauvage)', 2409: 'BlastfromthePast', 2410: 'MessageinaBottle', 2411: 'MyFavoriteMartian', 2412: \"GodSaid'Ha!'\", 2413: 'Jawbreaker', 2414: 'OctoberSky', 2415: 'OfficeSpace', 2416: 'Apple,The(Sib)', 2417: '200Cigarettes', 2418: '8MM', 2419: 'OtherSister,The', 2420: 'BreakfastofChampions', 2421: 'Breaks,The', 2422: 'EightDaysaWeek', 2423: 'JusttheTicket', 2424: 'LongGoodbye,The', 2425: 'PetSematary', 2426: 'PetSemataryII', 2427: 'ChildrenoftheCornII:TheFinalSacrifice', 2428: 'ChildrenoftheCornIII', 2429: 'Christine', 2430: 'NightShift', 2431: 'HouseonHauntedHill', 2432: 'Airport', 2433: 'Airport1975', 2434: \"Airport'77\", 2435: 'Rollercoaster', 2436: 'ToweringInferno,The', 2437: 'Alligator', 2438: 'Meteor', 2439: 'Westworld', 2440: \"Logan'sRun\", 2441: 'PlanetoftheApes', 2442: 'BeneaththePlanetoftheApes', 2443: 'BattleforthePlanetoftheApes', 2444: 'ConquestofthePlanetoftheApes', 2445: 'EscapefromthePlanetoftheApes', 2446: 'Avalanche', 2447: 'Earthquake', 2448: \"Concorde:Airport'79,The\", 2449: 'BeyondthePoseidonAdventure', 2450: 'Dancemaker', 2451: 'AnalyzeThis', 2452: 'Corruptor,The', 2453: 'CruelIntentions', 2454: 'Lock,Stock&TwoSmokingBarrels', 2455: 'SixWaystoSunday', 2456: \"SchoolofFlesh,The(L'Écoledelachair)\", 2457: \"Relax...It'sJustSex\", 2458: 'DeepEndoftheOcean,The', 2459: 'Harvest', 2460: 'Rage:Carrie2,The', 2461: 'WingCommander', 2462: 'Haunting,The', 2463: 'DeadRingers', 2464: \"MyBoyfriend'sBack\", 2465: 'ChildrenoftheDamned', 2466: 'BabyGeniuses', 2467: 'TellingYou', 2468: 'IStandAlone(Seulcontretous)', 2469: 'ForcesofNature', 2470: 'KingandI,The', 2471: 'Ravenous', 2472: 'Bandits', 2473: 'Beauty', 2474: 'EmptyMirror,The', 2475: \"Doug's1stMovie\", 2476: 'EDtv', 2477: 'ModSquad,The', 2478: 'AmongGiants', 2479: 'WalkontheMoon,A', 2480: 'Matrix,The', 2481: '10ThingsIHateAboutYou', 2482: 'Tango', 2483: 'Out-of-Towners,The', 2484: 'DreamlifeofAngels,The(LaVierêvéedesanges)', 2485: 'Love,etc.', 2486: 'Metroland', 2487: 'StickyFingersofTime,The', 2488: 'Following', 2489: 'Go', 2490: 'NeverBeenKissed', 2491: 'TwinDragons(Shuanglonghui)', 2492: \"Cookie'sFortune\", 2493: 'Foolish', 2494: 'LoversoftheArcticCircle,The(LosAmantesdelCírculoPolar)', 2495: 'Goodbye,Lover', 2496: 'Life', 2497: 'Clubland', 2498: 'Friends&Lovers', 2499: 'HideousKinky', 2500: 'JeanneandthePerfectGuy(Jeanneetlegarçonformidable)', 2501: 'Joyriders,The', 2502: 'Monster,The(IlMostro)', 2503: 'OpenYourEyes(Abrelosojos)', 2504: 'Photographer(Fotoamator)', 2505: 'SLCPunk!', 2506: 'Lost&Found', 2507: 'PushingTin', 2508: 'Election', 2509: 'eXistenZ', 2510: 'LittleBitofSoul,A', 2511: 'MightyPekingMan(Hsinghsingwang)', 2512: 'Nô', 2513: 'LetitComeDown:TheLifeofPaulBowles', 2514: 'Entrapment', 2515: 'IdleHands', 2516: 'GetReal', 2517: 'Heaven', 2518: 'KingofMasks,The(BianLian)', 2519: 'ThreeSeasons', 2520: 'WinslowBoy,The', 2521: 'MildredPierce', 2522: 'NightoftheComet', 2523: 'ChoppingMall(a.k.a.Killbots)', 2524: 'MyScienceProject', 2525: 'DickTracy', 2526: 'Mummy,The', 2527: 'Castle,The', 2528: 'Mascara', 2529: 'ThisIsMyFather', 2530: 'XiuXiu:TheSent-DownGirl(Tianyu)', 2531: \"MidsummerNight'sDream,A\", 2532: \"Trippin'\", 2533: 'AfterLife', 2534: 'BlackMask(Hakhap)', 2535: 'EdgeofSeventeen', 2536: 'Endurance', 2537: 'StarWars:EpisodeI-ThePhantomMenace', 2538: 'LoveLetter,The', 2539: \"Besieged(L'Assedio)\", 2540: 'FrogsforSnakes', 2541: 'SaragossaManuscript,The(RekopisznalezionywSaragossie)', 2542: \"Mummy'sCurse,The\", 2543: \"Mummy'sGhost,The\", 2544: \"Mummy'sHand,The\", 2545: \"Mummy'sTomb,The\", 2546: 'MommieDearest', 2547: 'Superman', 2548: 'SupermanII', 2549: 'SupermanIII', 2550: 'SupermanIV:TheQuestforPeace', 2551: 'Dracula', 2552: 'HouseofDracula', 2553: 'HouseofFrankenstein', 2554: 'Frankenstein', 2555: 'SonofFrankenstein', 2556: 'GhostofFrankenstein,The', 2557: 'FrankensteinMeetstheWolfMan', 2558: 'CurseofFrankenstein,The', 2559: 'SonofDracula', 2560: 'WolfMan,The', 2561: 'HowlingII:YourSisterIsaWerewolf', 2562: 'Tarantula', 2563: 'RockyHorrorPictureShow,The', 2564: 'FlyingSaucer,The', 2565: 'ItCamefromHollywood', 2566: 'ThingFromAnotherWorld,The', 2567: 'ItCamefromOuterSpace', 2568: 'WaroftheWorlds,The', 2569: 'ItCamefromBeneaththeSea', 2570: 'InvasionoftheBodySnatchers', 2571: 'EarthVs.theFlyingSaucers', 2572: 'ItConqueredtheWorld', 2573: 'MolePeople,The', 2574: 'SwampThing', 2575: 'PorkChopHill', 2576: 'RunSilent,RunDeep', 2577: 'NottingHill', 2578: 'ThirteenthFloor,The', 2579: 'EternityandaDay(Miaeoniotitakemiamera)', 2580: 'LossofSexualInnocence,The', 2581: 'TwiceUponaYesterday', 2582: 'Instinct', 2583: 'BuenaVistaSocialClub', 2584: 'DesertBlue', 2585: 'FindingNorth', 2586: 'Floating', 2587: 'FreeEnterprise', 2588: 'Limbo', 2589: 'AustinPowers:TheSpyWhoShaggedMe', 2590: 'Taxman', 2591: 'RedDwarf,The(LeNainrouge)', 2592: 'RedViolin,The(LeViolonrouge)', 2593: 'Tarzan', 2594: \"General'sDaughter,The\", 2595: 'GetBruce', 2596: 'IdealHusband,An', 2597: \"Legendof1900,The(Leggendadelpianistasull'oceano)\", 2598: 'RunLolaRun(Lolarennt)', 2599: 'Trekkies', 2600: 'BigDaddy', 2601: 'Boys,The', 2602: 'DinnerGame,The(LeDînerdecons)', 2603: 'MySontheFanatic', 2604: 'Zone39', 2605: 'Arachnophobia', 2606: 'SouthPark:Bigger,LongerandUncut', 2607: 'WildWildWest', 2608: 'SummerofSam', 2609: 'BrokenVessels', 2610: 'LoversontheBridge,The(LesAmantsduPont-Neuf)', 2611: 'LateAugust,EarlySeptember(Finaoût,débutseptembre)', 2612: 'AmericanPie', 2613: 'ArlingtonRoad', 2614: \"AutumnTale,An(Conted'automne)\", 2615: 'MuppetsFromSpace', 2616: 'BlairWitchProject,The', 2617: 'MyLifeSoFar', 2618: 'EyesWideShut', 2619: 'LakePlacid', 2620: 'Wood,The', 2621: 'VelocityofGary,The', 2622: 'Ghostbusters', 2623: 'GhostbustersII', 2624: 'DropDeadGorgeous', 2625: 'InspectorGadget', 2626: 'Trick', 2627: 'DeepBlueSea', 2628: 'MysteryMen', 2629: 'RunawayBride', 2630: 'TwinFallsIdaho', 2631: 'Killing,The', 2632: \"Killer'sKiss\", 2633: 'Spartacus', 2634: 'BarryLyndon', 2635: '400Blows,The(LesQuatrecentscoups)', 2636: 'JulesandJim(JulesetJim)', 2637: 'Vibes', 2638: 'MosquitoCoast,The', 2639: 'GoldenChild,The', 2640: 'BrightonBeachMemoirs', 2641: 'Assassination', 2642: 'CrimesoftheHeart', 2643: 'ColorPurple,The', 2644: 'Kindred,The', 2645: 'NoMercy', 2646: 'Ménage(Tenuedesoirée)', 2647: 'NativeSon', 2648: 'Otello', 2649: 'Mission,The', 2650: 'LittleShopofHorrors', 2651: 'LittleShopofHorrors,The', 2652: 'AllanQuartermainandtheLostCityofGold', 2653: 'MorningAfter,The', 2654: 'RadioDays', 2655: 'FromtheHip', 2656: 'OutrageousFortune', 2657: 'BedroomWindow,The', 2658: 'DeadtimeStories', 2659: 'LightofDay', 2660: 'Wanted:DeadorAlive', 2661: 'Frances', 2662: 'Plenty', 2663: 'Dick', 2664: 'Gambler,The(AJátékos)', 2665: 'IronGiant,The', 2666: 'SixthSense,The', 2667: 'ThomasCrownAffair,The', 2668: 'AcidHouse,The', 2669: 'AdventuresofSebastianCole,The', 2670: 'Illuminata', 2671: 'StiffUpperLips', 2672: 'Yards,The', 2673: 'Bowfinger', 2674: 'BrokedownPalace', 2675: 'DetroitRockCity', 2676: 'AliceandMartin(AliceetMartin)', 2677: 'BetterThanChocolate', 2678: 'HeadOn', 2679: 'MarcelloMastroianni:IRememberYes,IRemember', 2680: 'Cobra', 2681: 'NeverTalktoStrangers', 2682: 'HeavenCanWait', 2683: 'Raven,The', 2684: 'Tingler,The', 2685: 'PitandthePendulum', 2686: 'TombofLigeia,The', 2687: 'MasqueoftheRedDeath,The', 2688: 'TalesofTerror', 2689: 'HauntedHoneymoon', 2690: \"Cat'sEye\", 2691: 'AndNowforSomethingCompletelyDifferent', 2692: 'Damien:OmenII', 2693: 'FinalConflict,The(a.k.a.OmenIII:TheFinalConflict)', 2694: 'Airplane!', 2695: 'AirplaneII:TheSequel', 2696: 'AmericanWerewolfinParis,An', 2697: 'EuropeanVacation', 2698: 'Vacation', 2699: 'FunnyFarm', 2700: 'Big', 2701: 'ProblemChild', 2702: 'ProblemChild2', 2703: 'LittleNemo:AdventuresinSlumberland', 2704: 'OscarandLucinda(a.k.a.Oscar&Lucinda)', 2705: 'TequilaSunrise', 2706: 'PelicanBrief,The', 2707: 'ChristmasStory,A', 2708: 'MickeyBlueEyes', 2709: 'TeachingMrs.Tingle', 2710: 'UniversalSoldier:TheReturn', 2711: 'UniversalSoldier', 2712: 'LoveStinks', 2713: 'PerfectBlue', 2714: 'WithFriendsLikeThese...', 2715: 'InTooDeep', 2716: 'Source,The', 2717: 'Bat,The', 2718: 'IronEagle', 2719: 'IronEagleII', 2720: 'Aces:IronEagleIII', 2721: 'IronEagleIV', 2722: 'ThreeDaysoftheCondor', 2723: 'MaleandFemale', 2724: 'MedicineMan', 2725: 'Spiders,The(DieSpinnen,1.Teil:DerGoldeneSee)', 2726: 'OntheRopes', 2727: 'Rosie', 2728: '13thWarrior,The', 2729: \"Astronaut'sWife,The\", 2730: 'DudleyDo-Right', 2731: 'Muse,The', 2732: 'CabaretBalkan(BureBaruta)', 2733: 'DogofFlanders,A', 2734: 'LostSon,The', 2735: 'LucieAubrac', 2736: 'VeryThoughtofYou,The', 2737: 'ChillFactor', 2738: 'OutsideProvidence', 2739: 'Bedrooms&Hallways', 2740: 'IWokeUpEarlytheDayIDied', 2741: 'WestBeirut(WestBeyrouth)', 2742: 'Stigmata', 2743: 'StirofEchoes', 2744: 'BestLaidPlans', 2745: 'BlackCat,WhiteCat(Crnamacka,belimacor)', 2746: 'MinusMan,The', 2747: 'WhiteBoys', 2748: 'AdventuresofMiloandOtis,The', 2749: 'OnlyAngelsHaveWings', 2750: 'QueensLogic', 2751: 'PublicAccess', 2752: 'Saturn3', 2753: \"Soldier'sStory,A\", 2754: 'Communion(a.k.a.Alice,SweetAlice/HolyTerror)', 2755: \"Don'tLookintheBasement!\", 2756: 'Nightmares', 2757: 'ISawWhatYouDid', 2758: 'YellowSubmarine', 2759: 'AmericanBeauty', 2760: 'StopMakingSense', 2761: 'BlueStreak', 2762: 'ForLoveoftheGame', 2763: 'Caligula', 2764: \"HardDay'sNight,A\", 2765: 'Splendor', 2766: 'SugarTown', 2767: 'BuddyHollyStory,The', 2768: 'FrightNight', 2769: 'FrightNightPartII', 2770: 'Separation,The(LaSéparation)', 2771: 'BarefootinthePark', 2772: 'Deliverance', 2773: 'Excalibur', 2774: 'LuluontheBridge', 2775: 'PajamaGame,The', 2776: 'Sommersby', 2777: 'Thumbelina', 2778: 'Tommy', 2779: 'HellNight', 2780: 'OperationCondor(Feiyinggaiwak)', 2781: 'OperationCondor2(Longxionghudi)', 2782: 'DoubleJeopardy', 2783: 'JakobtheLiar', 2784: 'Mumford', 2785: 'DogPark', 2786: 'Guinevere', 2787: 'AdventuresofElmoinGrouchland,The', 2788: 'SimonSez', 2789: 'DriveMeCrazy', 2790: 'Mystery,Alaska', 2791: 'ThreeKings', 2792: 'Happy,Texas', 2793: 'NewRoseHotel', 2794: 'Plunkett&MaCleane', 2795: 'Romance', 2796: 'NapoleonandSamantha', 2797: 'AlvarezKelly', 2798: 'AndtheShipSailsOn(Elanaveva)', 2799: 'DarkHalf,The', 2800: \"Gulliver'sTravels\", 2801: 'MonkeyShines', 2802: 'Phantasm', 2803: 'PsychoII', 2804: 'PsychoIII', 2805: 'Rain', 2806: 'Sanjuro', 2807: 'RandomHearts', 2808: 'Superstar', 2809: \"BoysDon'tCry\", 2810: 'FiveWives,ThreeSecretariesandMe', 2811: \"Ennui,L'\", 2812: 'Grandfather,The(ElAbuelo)', 2813: 'Limey,The', 2814: 'MatingHabitsoftheEarthboundHuman,The', 2815: 'Molly', 2816: 'RiskyBusiness', 2817: 'TotalRecall', 2818: 'BodyHeat', 2819: \"FerrisBueller'sDayOff\", 2820: 'YearofLivingDangerously', 2821: 'ChildrenofParadise(Lesenfantsduparadis)', 2822: 'HighPlainsDrifter', 2823: \"Hang'emHigh\", 2824: \"Citizen'sBand(a.k.a.HandlewithCare)\", 2825: 'DrunkenMaster(Zuiquan)', 2826: 'Conformist,The(IlConformista)', 2827: 'Hairspray', 2828: 'BriefEncounter', 2829: \"Razor'sEdge,The\", 2830: 'Reds', 2831: 'ReturnwithHonor', 2832: 'TimeoftheGypsies(Domzavesanje)', 2833: 'DaysofHeaven', 2834: 'FireWithin,The(LeFeuFollet)', 2835: 'LoveBewitched,A(ElAmorBrujo)', 2836: 'LadyEve,The', 2837: \"Sullivan'sTravels\", 2838: 'PalmBeachStory,The', 2839: 'ManFacingSoutheast(HombreMirandoalSudeste)', 2840: 'Niagara', 2841: 'Gilda', 2842: 'SouthPacific', 2843: 'Flashdance', 2844: 'Indochine', 2845: 'DirtyDozen,The', 2846: \"Mike'sMurder\", 2847: 'Help!', 2848: 'Goldfinger', 2849: 'FromRussiawithLove', 2850: 'Dr.No', 2851: 'BlueLagoon,The', 2852: 'FistfulofDollars,A', 2853: 'Hard8(a.k.a.Sydney,a.k.a.HardEight)', 2854: 'HomeAlone2:LostinNewYork', 2855: 'Penitentiary', 2856: 'PenitentiaryII', 2857: 'SomeonetoWatchOverMe', 2858: 'Sparrows', 2859: 'NaturallyNative', 2860: 'FightClub', 2861: 'Beefcake', 2862: 'StoryofUs,The', 2863: 'FeverPitch', 2864: 'JoetheKing', 2865: 'JulienDonkey-Boy', 2866: 'OmegaCode,The', 2867: 'StraightStory,The', 2868: 'BadSeed,The', 2869: 'TimeBandits', 2870: 'ManandaWoman,A(UnHommeetuneFemme)', 2871: 'Fitzcarraldo', 2872: 'AllThatJazz', 2873: 'RedSorghum(HongGaoLiang)', 2874: 'CrimesandMisdemeanors', 2875: 'Bats', 2876: 'BestMan,The', 2877: 'BringingOuttheDead', 2878: 'CrazyinAlabama', 2879: 'ThreetoTango', 2880: 'BodyShots', 2881: 'MenCryBullets', 2882: 'Brother,CanYouSpareaDime?', 2883: 'Guardian,The', 2884: 'IpcressFile,The', 2885: 'OnAnySunday', 2886: 'Robocop', 2887: 'Robocop2', 2888: 'WhoFramedRogerRabbit?', 2889: 'MelvinandHoward', 2890: 'ForYourEyesOnly', 2891: 'LicencetoKill', 2892: 'LiveandLetDie', 2893: 'RawheadRex', 2894: 'Thunderball', 2895: 'City,The', 2896: 'HouseonHauntedHill,The', 2897: 'MusicoftheHeart', 2898: 'BeingJohnMalkovich', 2899: 'DreamingofJosephLees', 2900: 'ManoftheCentury', 2901: 'PrincessMononoke,The(MononokeHime)', 2902: 'Suburbans,The', 2903: 'MyBestFiend(MeinliebsterFeind)', 2904: 'TrainofLife(TrainDeVie)', 2905: 'Bachelor,The', 2906: 'BoneCollector,The', 2907: 'Insider,The', 2908: 'AmericanMovie', 2909: 'LastNight', 2910: 'PortraitsChinois', 2911: 'Rosetta', 2912: \"TheyShootHorses,Don'tThey?\", 2913: 'BattlingButler', 2914: 'BrideofRe-Animator', 2915: \"Bustin'Loose\", 2916: 'Coma', 2917: 'Creepshow', 2918: 'Creepshow2', 2919: 'Re-Animator', 2920: 'DrugstoreCowboy', 2921: 'FallingDown', 2922: 'Funhouse,The', 2923: 'MyBestGirl', 2924: 'Piranha', 2925: 'RoughNightinJericho', 2926: 'Slaughterhouse', 2927: 'Slaughterhouse2', 2928: 'TamingoftheShrew,The', 2929: 'Nighthawks', 2930: 'Yojimbo', 2931: 'Repossessed', 2932: 'OmegaMan,The', 2933: 'Spaceballs', 2934: 'RobinHood', 2935: 'MisterRoberts', 2936: 'QuestforFire', 2937: 'LittleBigMan', 2938: 'FaceintheCrowd,A', 2939: 'TradingPlaces', 2940: 'Meatballs', 2941: 'MeatballsPartII', 2942: 'MeatballsIII', 2943: 'Meatballs4', 2944: 'DeadAgain', 2945: \"Peter'sFriends\", 2946: 'IncrediblyTrueAdventureofTwoGirlsinLove,The', 2947: 'ExperiencePreferred...ButNotEssential', 2948: 'UndertheRainbow', 2949: 'HowIWontheWar', 2950: 'LightItUp', 2951: 'AnywhereButHere', 2952: 'Dogma', 2953: 'Messenger:TheStoryofJoanofArc,The', 2954: 'Pokémon:TheFirstMovie', 2955: \"Felicia'sJourney\", 2956: 'Oxygen', 2957: \"Where'sMarlowe?\", 2958: 'Ape,The', 2959: 'BritishIntelligence', 2960: 'Commitments,The', 2961: 'HolidayInn', 2962: 'LongestDay,The', 2963: 'PoisonIvy', 2964: 'PoisonIvy:NewSeduction', 2965: 'TenBenny', 2966: 'Tora!Tora!Tora!', 2967: 'WomenontheVergeofaNervousBreakdown', 2968: 'Verdict,The', 2969: 'EffectofGammaRaysonMan-in-the-MoonMarigolds,The', 2970: 'AdventuresofBuckarooBonzaiAcrossthe8thDimension,The', 2971: 'StandandDeliver', 2972: 'Moonstruck', 2973: 'Sandpiper,The', 2974: 'JeremiahJohnson', 2975: 'Repulsion', 2976: 'IrmalaDouce', 2977: '42Up', 2978: 'LibertyHeights', 2979: 'MansfieldPark', 2980: 'Goodbye,20thCentury(Zbogumnadvadesetiotvek)', 2981: 'SleepyHollow', 2982: 'WorldIsNotEnough,The', 2983: 'AllAboutMyMother(TodoSobreMiMadre)', 2984: 'HomePage', 2985: 'LivingDeadGirl,The(LaMorteVivante)', 2986: 'MarchoftheWoodenSoldiers(a.k.a.Laurel&HardyinToyland)', 2987: 'Scrooged', 2988: 'Harvey', 2989: 'BicycleThief,The(Ladridibiciclette)', 2990: 'Matewan', 2991: 'Kagemusha', 2992: 'Chushingura', 2993: 'McCabe&Mrs.Miller', 2994: 'Maurice', 2995: 'GrapesofWrath,The', 2996: 'ShopAroundtheCorner,The', 2997: 'Natural,The', 2998: 'Shampoo', 2999: 'RiverRunsThroughIt,A', 3000: 'FatalAttraction', 3001: 'JaggedEdge', 3002: 'Stanley&Iris', 3003: 'MidnightRun', 3004: 'Awakenings', 3005: 'ComeSeetheParadise', 3006: 'Backdraft', 3007: 'FisherKing,The', 3008: 'River,The', 3009: 'Country', 3010: 'PlacesintheHeart', 3011: \"'NightMother\", 3012: 'EndofDays', 3013: 'ToyStory2', 3014: 'Flawless', 3015: 'MissJulie', 3016: 'RidewiththeDevil', 3017: 'Tumbleweeds', 3018: 'BayofBlood(Reazioneacatena)', 3019: 'DistinguishedGentleman,The', 3020: 'Hitch-Hiker,The', 3021: 'SantaFeTrail', 3022: 'SpringFeverUSA(a.k.a.Lauderdale)', 3023: 'AgnesBrowne', 3024: 'EndoftheAffair,The', 3025: 'HolySmoke', 3026: 'MapoftheWorld,A', 3027: 'SweetandLowdown', 3028: 'BonfireoftheVanities', 3029: 'BroadwayDamage', 3030: 'DaddyLongLegs', 3031: 'GoWest', 3032: 'GrandIllusion(Grandeillusion,La)', 3033: 'GreatSantini,The', 3034: 'JamesDeanStory,The', 3035: 'SeaWolves,The', 3036: 'StealingHome', 3037: 'TarzantheFearless', 3038: 'ThreeAges,The', 3039: 'TwoJakes,The', 3040: 'U2:RattleandHum', 3041: 'HellinthePacific', 3042: 'GlassBottomBoat,The', 3043: 'CradleWillRock,The', 3044: 'DeuceBigalow:MaleGigolo', 3045: 'GreenMile,The', 3046: 'CiderHouseRules,The', 3047: 'Diamonds', 3048: 'WarZone,The', 3049: 'BatWhispers,The', 3050: 'LastPictureShow,The', 3051: '7thVoyageofSinbad,The', 3052: 'BloodontheSun', 3053: 'AnnaandtheKing', 3054: 'BicentennialMan', 3055: 'StuartLittle', 3056: 'EmperorandtheAssassin,The(Jingkeciqinwang)', 3057: 'Fantasia2000', 3058: 'Magnolia', 3059: 'Onegin', 3060: 'Simpatico', 3061: 'Topsy-Turvy', 3062: 'AlleyCats,The', 3063: 'BoilingPoint', 3064: 'BrendaStarr', 3065: 'CarnalKnowledge', 3066: 'EasyRider', 3067: 'FalconandtheSnowman,The', 3068: 'Hi-YoSilver', 3069: 'RoomattheTop', 3070: 'Ulysses(Ulisse)', 3071: 'AnyGivenSunday', 3072: 'ManontheMoon', 3073: 'GalaxyQuest', 3074: 'TalentedMr.Ripley,The', 3075: 'NextFriday', 3076: 'Hurricane,The', 3077: \"Angela'sAshes\", 3078: 'PlayittotheBone', 3079: 'Titus', 3080: 'Mr.Death:TheRiseandFallofFredA.LeuchterJr.', 3081: 'ThirdMiracle,The', 3082: 'Montana', 3083: 'SnowFallingonCedars', 3084: 'Girl,Interrupted', 3085: 'Trans', 3086: 'LifeandTimesofHankGreenberg,The', 3087: 'MyDogSkip', 3088: 'Supernova', 3089: 'Quarry,The', 3090: 'Terrorist,The(Malli)', 3091: 'Creature', 3092: 'WayWeWere,The', 3093: 'TessoftheStormCountry', 3094: 'Stalag17', 3095: 'Presidio,The', 3096: 'Papillon', 3097: 'PalJoey', 3098: 'LastDetail,The', 3099: 'FiveEasyPieces', 3100: 'EvenDwarfsStartedSmall(AuchZwergehabenkleinangefangen)', 3101: 'DeadCalm', 3102: 'BoysfromBrazil,The', 3103: 'BlackSunday(LaMascheraDelDemonio)', 3104: 'AgainstAllOdds', 3105: 'SnowsofKilimanjaro,The', 3106: 'LoadedWeapon1', 3107: 'LovesofCarmen,The', 3108: 'FastTimesatRidgemontHigh', 3109: 'CryintheDark,A', 3110: 'BorntoWin', 3111: 'Batman:MaskofthePhantasm', 3112: 'AmericanFlyers', 3113: 'VoyageoftheDamned', 3114: 'VampyrosLesbos(LasVampiras)', 3115: 'StarIsBorn,A', 3116: 'Poison', 3117: 'PacificHeights', 3118: 'NightTide', 3119: \"Draughtsman'sContract,The\", 3120: 'Carmen', 3121: 'Zed&TwoNoughts,A', 3122: 'WomanintheDunes(Sunanoonna)', 3123: 'DowntoYou', 3124: 'HellhoundsonMyTrail', 3125: 'NotLove,JustFrenzy(Másqueamor,frenesí)', 3126: 'WireySpindell', 3127: \"AnotherMan'sPoison\", 3128: 'OdessaFile,The', 3129: 'Saphead,The', 3130: 'SevenChances', 3131: 'SmashingTime', 3132: 'TrainRidetoHollywood', 3133: 'WheretheBuffaloRoam', 3134: 'Zachariah', 3135: \"Kestrel'sEye(Falkensöga)\", 3136: 'EyeoftheBeholder', 3137: \"Isn'tSheGreat?\", 3138: 'BigTease,The', 3139: 'Cup,The(Phörpa)', 3140: 'Santitos', 3141: 'EncinoMan', 3142: 'GoodbyeGirl,The', 3143: 'IAmCuba(SoyCuba/YaKuba)', 3144: 'MalcolmX', 3145: 'SisterAct', 3146: 'SisterAct2:BackintheHabit', 3147: 'HandThatRockstheCradle,The', 3148: 'Alive', 3149: 'AgnesofGod', 3150: 'ScentofaWoman', 3151: \"Wayne'sWorld\", 3152: \"Wayne'sWorld2\", 3153: 'LeagueofTheirOwn,A', 3154: 'PatriotGames', 3155: 'Bodyguard,The', 3156: 'DeathBecomesHer', 3157: 'FarandAway', 3158: 'HowardsEnd', 3159: 'Singles', 3160: 'TwinPeaks:FireWalkwithMe', 3161: \"WhiteMenCan'tJump\", 3162: 'BuffytheVampireSlayer', 3163: 'Hard-Boiled(Lashoushentan)', 3164: \"ManBitesDog(C'estarrivéprèsdechezvous)\", 3165: 'Mariachi,El', 3166: 'Stop!OrMyMomWillShoot', 3167: 'ForeverYoung', 3168: 'CuttingEdge,The', 3169: 'OfMiceandMen', 3170: 'BadLieutenant', 3171: 'Scream3', 3172: 'SingleWhiteFemale', 3173: 'BoondockSaints,The', 3174: 'GunShy', 3175: 'Beloved/Friend(Amigo/Amado)', 3176: 'Gendernauts', 3177: 'Knockout', 3178: 'Baby,The', 3179: 'BrandonTeenaStory,The', 3180: 'DifferentforGirls', 3181: 'MinnieandMoskowitz', 3182: 'TheyMightBeGiants', 3183: 'Beach,The', 3184: 'SnowDay', 3185: 'TiggerMovie,The', 3186: 'CottonMary', 3187: 'NotOneLess(Yigedoubunengshao)', 3188: 'SoftToiletSeats', 3189: 'Trois', 3190: 'BigCombo,The', 3191: 'ConceivingAda', 3192: 'EatenAlive', 3193: 'RainingStones', 3194: 'ToSirwithLove', 3195: 'WithByrdattheSouthPole', 3196: 'BoilerRoom', 3197: 'HangingUp', 3198: 'PitchBlack', 3199: 'WholeNineYards,The', 3200: 'BeautifulPeople', 3201: 'BlackTarHeroin:TheDarkEndoftheStreet', 3202: 'BlueCollar', 3203: 'Bluebeard', 3204: 'Circus,The', 3205: 'CityLights', 3206: 'FlamingoKid,The', 3207: \"Dog'sLife,A\", 3208: 'Kid,The', 3209: 'ManfromLaramie,The', 3210: 'McCullochs,The', 3211: 'ClassReunion', 3212: 'BigTrees,The', 3213: 'HappyGoLovely', 3214: 'ReindeerGames', 3215: 'WonderBoys', 3216: 'Deterrence', 3217: 'JudyBerlin', 3218: 'Mifune(Mifunessidstesang)', 3219: 'WaitingGame,The', 3220: '3Strikes', 3221: 'ChainofFools', 3222: 'DrowningMona', 3223: 'NextBestThing,The', 3224: 'WhatPlanetAreYouFrom?', 3225: 'BeyondtheMat', 3226: 'GhostDog:TheWayoftheSamurai', 3227: 'YearMyVoiceBroke,The', 3228: 'SplendorintheGrass', 3229: 'MyTutor', 3230: 'LegendofLobo,The', 3231: 'KillingofSisterGeorge,The', 3232: 'KeyLargo', 3233: 'JailBait', 3234: 'ItHappenedHere', 3235: \"I'llNeverForgetWhat's'isName\", 3236: 'ForAllMankind', 3237: 'CrossofIron', 3238: 'BrideoftheMonster', 3239: 'BornYesterday', 3240: 'Birdy', 3241: 'AndGodCreatedWoman', 3242: 'BloodFeast', 3243: 'Charlie,theLonesomeCougar', 3244: 'ColorMeBloodRed', 3245: 'NeverCryWolf', 3246: 'NightVisitor,The', 3247: 'PerilsofPauline,The', 3248: 'RaisinintheSun,A', 3249: 'TwoThousandManiacs!', 3250: \"Brown'sRequiem\", 3251: 'CloserYouGet,The', 3252: 'MissiontoMars', 3253: 'NinthGate,The', 3254: 'CondoPainting', 3255: 'East-West(Est-ouest)', 3256: 'DefendingYourLife', 3257: 'BreakingAway', 3258: 'Hoosiers', 3259: 'BullDurham', 3260: 'DogDayAfternoon', 3261: 'AmericanGraffiti', 3262: 'AsphaltJungle,The', 3263: 'Searchers,The', 3264: 'WhereEaglesDare', 3265: \"Devil'sBrigade,The\", 3266: 'BigCountry,The', 3267: 'AnyNumberCanWin(Mélodieensous-sol)', 3268: 'Betrayed', 3269: 'BoundforGlory', 3270: 'BridgeatRemagen,The', 3271: 'BuckandthePreacher', 3272: 'DaughtersoftheDust', 3273: 'DestinationMoon', 3274: 'FantasticNight,The(LaNuitFantastique)', 3275: 'HangmenAlsoDie', 3276: 'Ogre,The(DerUnhold)', 3277: 'OntheBeach', 3278: 'Railroaded!', 3279: 'SlavestotheUnderground', 3280: 'SongofFreedom', 3281: 'BigFella', 3282: 'TakingofPelhamOneTwoThree,The', 3283: 'Volunteers', 3284: 'JFK', 3285: \"Who'sHarryCrumb?\", 3286: 'HarryandtheHendersons', 3287: \"Let'sGetHarry\", 3288: 'ShanghaiSurprise', 3289: \"Who'sThatGirl?\", 3290: 'She-Devil', 3291: 'DatewithanAngel', 3292: 'BlindDate', 3293: 'Nadine', 3294: 'MuppetMovie,The', 3295: 'GreatMuppetCaper,The', 3296: 'MuppetsTakeManhattan,The', 3297: 'SesameStreetPresentsFollowThatBird', 3298: \"We'reBack!ADinosaur'sStory\", 3299: 'Baby...SecretoftheLostLegend', 3300: 'TurtleDiary', 3301: 'RaisetheTitanic', 3302: 'NighttoRemember,A', 3303: 'CaptainHoratioHornblower', 3304: 'CarriersAreWaiting,The(LesConvoyeursAttendent)', 3305: 'ErinBrockovich', 3306: 'FinalDestination', 3307: 'SoftFruit', 3308: 'Babymother', 3309: 'Bear,The', 3310: 'Impact', 3311: 'LoveIsaMany-SplendoredThing', 3312: 'Mirror,The(Zerkalo)', 3313: 'Trial,The(LeProcès)', 3314: 'CrimsonPirate,The', 3315: 'Thelma&Louise', 3316: 'SomethingforEveryone', 3317: '...AndJusticeforAll', 3318: 'AnimalHouse', 3319: \"She'sGottaHaveIt\", 3320: 'SchoolDaze', 3321: 'DotheRightThing', 3322: \"Mo'BetterBlues\", 3323: 'JungleFever', 3324: \"Coogan'sBluff\", 3325: 'Champ,The', 3326: 'CreatureComforts', 3327: 'DeathWish', 3328: 'DeathWishII', 3329: 'DeathWish3', 3330: 'DeathWish4:TheCrackdown', 3331: 'DeathWishV:TheFaceofDeath', 3332: 'DoubleIndemnity', 3333: 'DyingYoung', 3334: 'CoolasIce', 3335: 'TeenageMutantNinjaTurtles', 3336: 'TeenageMutantNinjaTurtlesII:TheSecretoftheOoze', 3337: 'TeenageMutantNinjaTurtlesIII', 3338: 'RedDawn', 3339: 'BandoftheHand', 3340: 'BornAmerican', 3341: 'Bloodsport', 3342: 'EyesofLauraMars', 3343: 'FunnyBones', 3344: 'GoodEarth,The', 3345: 'GoodMorning,Vietnam', 3346: 'GoodMother,The', 3347: 'GrumpyOldMen', 3348: \"GuessWho'sComingtoDinner\", 3349: 'RomeoMustDie', 3350: 'HereonEarth', 3351: 'WhateverItTakes', 3352: 'BuddyBoy', 3353: 'ColorofParadise,The(Rang-eKhoda)', 3354: 'WakingtheDead', 3355: 'BloodandSand(SangreyArena)', 3356: 'Gothic', 3357: 'HillbillysinaHauntedHouse', 3358: 'LordoftheFlies', 3359: 'ModernTimes', 3360: 'LastResort', 3361: 'SolarCrisis', 3362: \"That'sLife!\", 3363: 'HeartandSouls', 3364: 'Hud', 3365: 'Hustler,The', 3366: 'InherittheWind', 3367: 'DersuUzala', 3368: 'CloseEncountersoftheThirdKind', 3369: 'HorrorHotel(a.k.a.TheCityoftheDead)', 3370: 'JonahWhoWillBe25intheYear2000', 3371: 'Retroactive', 3372: 'PlaceintheSun,A', 3373: \"Jacob'sLadder\", 3374: 'EmpireRecords', 3375: 'Bamba,La', 3376: 'Ladyhawke', 3377: 'Lucas', 3378: 'HighFidelity', 3379: 'PriceofGlory', 3380: 'RoadtoElDorado,The', 3381: 'Skulls,The', 3382: 'Autopsy(MacchieSolari)', 3383: 'DevilGirlFromMars', 3384: 'Dorado,El', 3385: 'HideousSunDemon,The', 3386: 'Hook', 3387: 'HorrorExpress', 3388: 'MyChauffeur', 3389: 'SonoftheSheik,The', 3390: 'Torso(CorpiPresentanoTraccediViolenzaCarnale)', 3391: 'TrueGrit', 3392: 'RoadsideProphets', 3393: 'MadameSousatzka', 3394: 'MaxDuganReturns', 3395: 'MidnightExpress', 3396: 'Misery', 3397: 'Mr.SaturdayNight', 3398: \"Murphy'sRomance\", 3399: 'MyLife', 3400: 'Solaris(Solyaris)', 3401: 'Network', 3402: 'NoWayOut', 3403: 'NorthDallasForty', 3404: 'OddCouple,The', 3405: 'OutlawJoseyWales,The', 3406: 'BlackandWhite', 3407: 'Frequency', 3408: 'ReadytoRumble', 3409: 'ReturntoMe', 3410: 'RulesofEngagement', 3411: \"JoeGould'sSecret\", 3412: 'MeMyselfI', 3413: 'Bell,BookandCandle', 3414: 'Bells,The', 3415: 'EndofViolence,The', 3416: 'Force10fromNavarone', 3417: 'HowtoStuffaWildBikini', 3418: 'MysteryTrain', 3419: 'SaccoandVanzetti(SaccoeVanzetti)', 3420: 'Taffin', 3421: 'Arthur', 3422: 'BachelorParty', 3423: 'Parenthood', 3424: 'Predator', 3425: 'PrinceofTides,The', 3426: 'PostmanAlwaysRingsTwice,The', 3427: 'Smoking/NoSmoking', 3428: 'AlltheVermeersinNewYork', 3429: 'FreedomforUs(Ànouslaliberté)', 3430: \"Actor'sRevenge,An(YukinojoHenge)\", 3431: '28Days', 3432: 'AmericanPsycho', 3433: 'KeepingtheFaith', 3434: 'WheretheMoneyIs', 3435: 'EastisEast', 3436: 'FilthandtheFury,The', 3437: 'PassionofMind', 3438: 'ThirdWorldCop', 3439: 'ComingApart', 3440: 'Diner', 3441: 'ShakestheClown', 3442: 'Cabaret', 3443: 'WhatEverHappenedtoBabyJane?', 3444: 'PrickUpYourEars', 3445: 'AuntieMame', 3446: 'GuysandDolls', 3447: 'Hunger,The', 3448: 'MarathonMan', 3449: 'Caddyshack', 3450: 'Gossip', 3451: 'LoveandBasketball', 3452: 'U-571', 3453: 'VirginSuicides,The', 3454: 'Jennifer8', 3455: 'Law,The(LeLegge)', 3456: 'Limelight', 3457: 'PhantomLove(AiNoBorei)', 3458: \"Stacy'sKnights\", 3459: 'Committed', 3460: 'Crow:Salvation,The', 3461: 'FlintstonesinVivaRockVegas,The', 3462: 'WheretheHeartIs', 3463: 'BigKahuna,The', 3464: 'BossaNova', 3465: 'SmilingFishandGoatonFire', 3466: 'Idiots,The(Idioterne)', 3467: 'LastSeptember,The', 3468: 'TimeCode', 3469: 'Carnosaur', 3470: 'Carnosaur2', 3471: 'Carnosaur3:PrimalSpecies', 3472: 'DefyingGravity', 3473: 'Hidden,The', 3474: 'TwoMoonJuction', 3475: 'Gladiator', 3476: 'IDreamedofAfrica', 3477: 'UpattheVilla', 3478: 'HumanTraffic', 3479: 'Jails,Hospitals&Hip-Hop', 3480: 'BlackTights(LesCollantsNoirs)', 3481: 'Breathless', 3482: 'GreatLocomotiveChase,The', 3483: 'Idolmaker,The', 3484: 'Inferno', 3485: 'KingofMarvinGardens,The', 3486: 'Kill,Baby...Kill!(OperazionePaura)', 3487: 'LordsofFlatbush,The', 3488: 'Mr.Mom', 3489: 'TimeMasters(LesMaîtresduTemps)', 3490: 'BattlefieldEarth', 3491: 'CenterStage', 3492: 'HeldUp', 3493: 'Screwed', 3494: 'Whipped', 3495: 'AnchorsAweigh', 3496: 'BlueHawaii', 3497: 'CastawayCowboy,The', 3498: 'G.I.Blues', 3499: 'GayDeceivers,The', 3500: 'Gypsy', 3501: 'KingCreole', 3502: 'OntheTown', 3503: 'OneLittleIndian', 3504: \"Pee-wee'sBigAdventure\", 3505: 'RegrettoInform', 3506: 'Roustabout', 3507: 'SaludosAmigos', 3508: 'SlipperandtheRose,The', 3509: 'ThingsChange', 3510: 'HoneymooninVegas', 3511: 'Dinosaur', 3512: 'RoadTrip', 3513: 'SmallTimeCrooks', 3514: 'HollywoodKnights,The', 3515: 'MythofFingerprints,The', 3516: 'Possession', 3517: 'TwelveChairs,The', 3518: 'Mission:Impossible2', 3519: 'ShanghaiNoon', 3520: 'BetterLivingThroughCircuitry', 3521: '81/2Women', 3522: 'CarnivalofSouls', 3523: 'FlyingTigers', 3524: 'GoldRush,The', 3525: \"HouseofExorcism,The(LaCasadell'esorcismo)\", 3526: \"It'sintheWater\", 3527: 'MonsieurVerdoux', 3528: \"OnHerMajesty'sSecretService\", 3529: 'SevenDaysinMay', 3530: 'SpyWhoLovedMe,The', 3531: \"ThoseWhoLoveMeCanTaketheTrain(Ceuxquim'aimentprendrontletrain)\", 3532: 'Vagabond(Sanstoitniloi)', 3533: 'Moonraker', 3534: 'ManwiththeGoldenGun,The', 3535: 'KinginNewYork,A', 3536: 'WomanofParis,A', 3537: 'InOldCalifornia', 3538: 'FightingSeabees,The', 3539: 'DarkCommand', 3540: 'CleoFrom5to7(Cléode5à7)', 3541: \"BigMomma'sHouse\", 3542: 'RunningFree', 3543: 'AbominableSnowman,The', 3544: 'AmericanGigolo', 3545: 'Anguish(Angustia)', 3546: 'BloodSpatteredBride,The(LaNoviaEnsangrentada)', 3547: 'CityoftheLivingDead(Pauranellacittàdeimortiviventi)', 3548: 'EndlessSummer,The', 3549: 'GunsofNavarone,The', 3550: 'Blow-Out(LaGrandeBouffe)', 3551: 'Lured', 3552: 'PandoraandtheFlyingDutchman', 3553: 'QuatermassandthePit', 3554: 'QuatermassII', 3555: 'PuppetMaster', 3556: 'PuppetMasterII', 3557: \"PuppetMasterIII:Toulon'sRevenge\", 3558: 'PuppetMaster4', 3559: 'PuppetMaster5:TheFinalChapter', 3560: 'CurseofthePuppetMaster', 3561: 'RetroPuppetmaster', 3562: 'Rent-A-Cop', 3563: 'RomeoandJuliet', 3564: 'StayTuned', 3565: 'StoryofG.I.Joe,The', 3566: 'BlazingSaddles', 3567: 'Benji', 3568: 'BenjitheHunted', 3569: 'FortheLoveofBenji', 3570: 'WhiteChristmas', 3571: 'Eraserhead', 3572: 'Baraka', 3573: 'ManwiththeGoldenArm,The', 3574: 'DeclineofWesternCivilization,The', 3575: 'DeclineofWesternCivilizationPartII:TheMetalYears,The', 3576: 'ForaFewDollarsMore', 3577: 'MagnumForce', 3578: 'BloodSimple', 3579: 'FabulousBakerBoys,The', 3580: \"Prizzi'sHonor\", 3581: 'Flatliners', 3582: 'LightYears', 3583: \"Porky's\", 3584: \"Porky'sII:TheNextDay\", 3585: \"Porky'sRevenge\", 3586: 'PrivateSchool', 3587: \"ClassofNuke'EmHigh\", 3588: 'ToxicAvenger,The', 3589: 'ToxicAvenger,PartII,The', 3590: 'ToxicAvengerPartIII:TheLastTemptationofToxie,The', 3591: 'NightoftheCreeps', 3592: 'Predator2', 3593: 'RunningMan,The', 3594: 'Starman', 3595: 'BrotherfromAnotherPlanet,The', 3596: 'AlienNation', 3597: 'MadMax', 3598: 'MadMax2(a.k.a.TheRoadWarrior)', 3599: 'MadMaxBeyondThunderdome', 3600: 'BirdonaWire', 3601: 'AngelHeart', 3602: 'Nine1/2Weeks', 3603: 'Firestarter', 3604: 'Sleepwalkers', 3605: 'ActionJackson', 3606: 'Sarafina!', 3607: 'Soapdish', 3608: 'LongWalkHome,The', 3609: \"Clara'sHeart\", 3610: 'Burglar', 3611: 'FatalBeauty', 3612: 'Gonein60Seconds', 3613: 'AmericanPimp', 3614: \"Love'sLabour'sLost\", 3615: 'Sunshine', 3616: 'Trixie', 3617: 'LiveVirgin', 3618: 'ComingHome', 3619: 'AmericanPop', 3620: 'AssaultonPrecinct13', 3621: 'NearDark', 3622: 'OneFalseMove', 3623: 'Shaft', 3624: 'Conversation,The', 3625: \"Cutter'sWay\", 3626: 'Fury,The', 3627: 'PaperChase,The', 3628: 'PrinceoftheCity', 3629: 'Serpico', 3630: 'BigCarnival,The', 3631: 'LonelyAretheBrave', 3632: 'SugarlandExpress,The', 3633: 'TroubleinParadise', 3634: 'BigTroubleinLittleChina', 3635: 'Badlands', 3636: 'BattleshipPotemkin,The(BronenosetsPotyomkin)', 3637: 'BoysandGirls', 3638: 'TitanA.E.', 3639: 'Butterfly(LaLenguadelasMariposas)', 3640: \"Jesus'Son\", 3641: 'Match,The', 3642: 'TimeRegained(LeTempsRetrouvé)', 3643: \"Boricua'sBond\", 3644: 'ChickenRun', 3645: 'Me,MyselfandIrene', 3646: 'Patriot,The', 3647: 'AdventuresofRockyandBullwinkle,The', 3648: 'PerfectStorm,The', 3649: 'GoldenBowl,The', 3650: 'Asylum', 3651: 'Communion', 3652: 'FunandFancyFree', 3653: 'KentuckyFriedMovie,The', 3654: 'BloodIn,BloodOut(a.k.a.BoundbyHonor)', 3655: 'DaughterofDr.Jeckyll', 3656: 'F/X', 3657: 'F/X2', 3658: 'HotSpot,The', 3659: 'MissinginAction', 3660: 'MissinginAction2:TheBeginning', 3661: 'Braddock:MissinginActionIII', 3662: 'ThunderboltandLightfoot', 3663: 'Dreamscape', 3664: 'GoldenVoyageofSinbad,The', 3665: 'HatchetFortheHoneymoon(RossoSegnoDellaFollia)', 3666: 'HouseParty', 3667: 'HouseParty2', 3668: 'MakeMineMusic', 3669: 'MelodyTime', 3670: 'Nekromantik', 3671: 'OnOurMerryWay', 3672: 'ProjectMoonBase', 3673: 'RocketshipX-M', 3674: 'ShaftinAfrica', 3675: \"Shaft'sBigScore!\", 3676: 'Croupier', 3677: 'ScaryMovie', 3678: \"ButI'maCheerleader\", 3679: 'Shower(Xizhao)', 3680: 'Blowup', 3681: 'Pawnbroker,The', 3682: 'Groove', 3683: 'Footloose', 3684: 'DuelintheSun', 3685: 'X-Men', 3686: 'Chuck&Buck', 3687: 'FiveSenses,The', 3688: 'WisdomofCrocodiles,The(a.k.a.Immortality)', 3689: 'InCrowd,The', 3690: 'WhatLiesBeneath', 3691: 'PokémontheMovie2000', 3692: 'CriminalLovers(LesAmantsCriminels)', 3693: 'AnatomyofaMurder', 3694: 'Freejack', 3695: \"Greaser'sPalace\", 3696: 'H.O.T.S.', 3697: 'Knightriders', 3698: \"MacKenna'sGold\", 3699: 'SinbadandtheEyeoftheTiger', 3700: 'TwoWomen(LaCiociara)', 3701: 'WhatAboutBob?', 3702: 'WhiteSands', 3703: 'BreakerMorant', 3704: 'EverythingYouAlwaysWantedtoKnowAboutSex', 3705: 'Interiors', 3706: 'LoveandDeath', 3707: 'OfficialStory,The(LaHistoriaOficial)', 3708: 'OtherSideofSunday,The(Søndagsengler)', 3709: \"PotO'Gold\", 3710: 'Tampopo', 3711: 'ThomasandtheMagicRailroad', 3712: 'NuttyProfessorII:TheKlumps', 3713: 'GirlontheBridge,The(LaFillesurlePont)', 3714: 'AutumninNewYork', 3715: 'CoyoteUgly', 3716: 'HollowMan', 3717: 'SpaceCowboys', 3718: 'BetterLiving', 3719: 'MadAboutMambo', 3720: 'PsychoBeachParty', 3721: 'SavingGrace', 3722: 'BlackSabbath(TreVoltiDellaPaura,I)', 3723: \"BrainThatWouldn'tDie,The\", 3724: 'BroncoBilly', 3725: 'Crush,The', 3726: \"Kelly'sHeroes\", 3727: 'PhantasmII', 3728: 'PhantasmIII:LordoftheDead', 3729: 'PhantasmIV:Oblivion', 3730: 'Pumpkinhead', 3731: 'AirAmerica', 3732: 'MakeThemDieSlowly(CannibalFerox)', 3733: 'SleepawayCamp', 3734: 'SteelMagnolias', 3735: 'AndGodCreatedWoman(EtDieu&#8230;CréalaFemme)', 3736: 'EasyMoney', 3737: 'Ilsa,SheWolfoftheSS', 3738: 'SilentFall', 3739: 'SpiralStaircase,The', 3740: 'WhateverHappenedtoAuntAlice?', 3741: \"I'mtheOneThatIWant\", 3742: 'TaoofSteve,The', 3743: 'TicCode,The', 3744: 'Aimée&Jaguar', 3745: 'AffairofLove,An(UneLiaisonPornographique)', 3746: 'AutumnHeart', 3747: 'BlesstheChild', 3748: 'CecilB.Demented', 3749: 'EyesofTammyFaye,The', 3750: 'Opportunists,The', 3751: 'Replacements,The', 3752: 'AboutAdam', 3753: 'Cell,The', 3754: 'Godzilla2000(Gojirani-senmireniamu)', 3755: 'OriginalKingsofComedy,The', 3756: 'SunsetStrip', 3757: \"AlltheRage(a.k.a.It'stheRage)\", 3758: 'NakedGun:FromtheFilesofPoliceSquad!,The', 3759: 'NakedGun21/2:TheSmellofFear,The', 3760: 'OurTown', 3761: 'Shane', 3762: 'Suddenly,LastSummer', 3763: 'CatBallou', 3764: 'CouchinNewYork,A', 3765: 'DevilRidesOut,The', 3766: 'Jerry&Tom', 3767: 'Supergirl', 3768: 'X:TheUnknown', 3769: 'ArtofWar,The', 3770: \"BalladofRamblin'Jack,The\", 3771: 'BittersweetMotel', 3772: 'BringItOn', 3773: 'CatfishinBlackBeanSauce', 3774: 'Crew,The', 3775: 'Love&Sex', 3776: 'StealThisMovie!', 3777: 'WenttoConeyIslandonaMissionFromGod...BeBackbyFive', 3778: 'SkippedParts', 3779: 'Highlander:Endgame', 3780: 'BackStage', 3781: 'TurnItUp', 3782: 'Anatomy(Anatomie)', 3783: 'NurseBetty', 3784: 'Solas', 3785: 'Watcher,The', 3786: 'WayoftheGun,The', 3787: 'AlmostFamous', 3788: 'Bait', 3789: 'Circus', 3790: 'CrimeandPunishmentinSuburbia', 3791: 'Duets', 3792: 'GoyainBordeaux(GoyaenBodeos)', 3793: 'Urbania', 3794: 'UninvitedGuest,An', 3795: 'Specials,The', 3796: 'UnderSuspicion', 3797: 'PrinceofCentralPark,The', 3798: 'UrbanLegends:FinalCut', 3799: 'WomanonTop', 3800: 'DancerintheDark', 3801: 'BestinShow', 3802: 'Beautiful', 3803: 'BarenakedinAmerica', 3804: 'BrokenHeartsClub,The', 3805: 'Girlfight', 3806: 'RemembertheTitans', 3807: 'Hellraiser', 3808: 'Hellbound:HellraiserII', 3809: 'HellraiserIII:HellonEarth', 3810: 'Faraway,SoClose(InWeiterFerne,SoNah!)', 3811: 'BeachParty', 3812: 'BikiniBeach', 3813: 'ReturnoftheFly', 3814: 'PajamaParty', 3815: 'StrangerThanParadise', 3816: 'VoyagetotheBottomoftheSea', 3817: 'FantasticVoyage', 3818: 'AbbottandCostelloMeetFrankenstein', 3819: 'BankDick,The', 3820: 'CreatureFromtheBlackLagoon,The', 3821: 'GiantGilaMonster,The', 3822: 'InvisibleMan,The', 3823: 'KillerShrews,The', 3824: 'Kronos', 3825: 'PhantomoftheOpera,The', 3826: 'Runaway', 3827: 'SlumberPartyMassacre,The', 3828: 'SlumberPartyMassacreII,The', 3829: 'SlumberPartyMassacreIII,The', 3830: 'SororityHouseMassacre', 3831: 'SororityHouseMassacreII', 3832: 'Bamboozled', 3833: 'Bootmen', 3834: 'Digimon:TheMovie', 3835: 'GetCarter', 3836: 'MeettheParents', 3837: 'RequiemforaDream', 3838: 'Tigerland', 3839: 'TwoFamilyHouse', 3840: 'Contender,The'}\n"
     ]
    }
   ],
   "source": [
    "unique_movies=movies['title'].unique()\n",
    "\n",
    "idx_to_movies = {k:v for k,v in enumerate(unique_movies)}\n",
    "print(idx_to_movies)"
   ]
  },
  {
   "cell_type": "code",
   "execution_count": 104,
   "id": "monetary-consequence",
   "metadata": {},
   "outputs": [
    {
     "data": {
      "text/plain": [
       "2274"
      ]
     },
     "execution_count": 104,
     "metadata": {},
     "output_type": "execute_result"
    }
   ],
   "source": [
    "movies_to_idx= {v:k for k,v in enumerate(unique_movies)}\n",
    "movies_to_idx['Bug\\'sLife,A']"
   ]
  },
  {
   "cell_type": "code",
   "execution_count": 105,
   "id": "civic-hydrogen",
   "metadata": {},
   "outputs": [
    {
     "data": {
      "text/plain": [
       "Index(['movie_id', 'user_id', 'movie_id', 'count', 'timestamp'], dtype='object')"
      ]
     },
     "execution_count": 105,
     "metadata": {},
     "output_type": "execute_result"
    }
   ],
   "source": [
    "ratings=pd.concat([ratings['movie_id'],ratings],axis=1)\n",
    "ratings.columns"
   ]
  },
  {
   "cell_type": "code",
   "execution_count": 106,
   "id": "coordinate-extreme",
   "metadata": {},
   "outputs": [
    {
     "data": {
      "text/html": [
       "<div>\n",
       "<style scoped>\n",
       "    .dataframe tbody tr th:only-of-type {\n",
       "        vertical-align: middle;\n",
       "    }\n",
       "\n",
       "    .dataframe tbody tr th {\n",
       "        vertical-align: top;\n",
       "    }\n",
       "\n",
       "    .dataframe thead th {\n",
       "        text-align: right;\n",
       "    }\n",
       "</style>\n",
       "<table border=\"1\" class=\"dataframe\">\n",
       "  <thead>\n",
       "    <tr style=\"text-align: right;\">\n",
       "      <th></th>\n",
       "      <th>movie_name</th>\n",
       "      <th>user_id</th>\n",
       "      <th>movie_id</th>\n",
       "      <th>count</th>\n",
       "      <th>timestamp</th>\n",
       "    </tr>\n",
       "  </thead>\n",
       "  <tbody>\n",
       "    <tr>\n",
       "      <th>0</th>\n",
       "      <td>1193</td>\n",
       "      <td>1</td>\n",
       "      <td>1193</td>\n",
       "      <td>5</td>\n",
       "      <td>978300760</td>\n",
       "    </tr>\n",
       "    <tr>\n",
       "      <th>1</th>\n",
       "      <td>661</td>\n",
       "      <td>1</td>\n",
       "      <td>661</td>\n",
       "      <td>3</td>\n",
       "      <td>978302109</td>\n",
       "    </tr>\n",
       "    <tr>\n",
       "      <th>2</th>\n",
       "      <td>914</td>\n",
       "      <td>1</td>\n",
       "      <td>914</td>\n",
       "      <td>3</td>\n",
       "      <td>978301968</td>\n",
       "    </tr>\n",
       "    <tr>\n",
       "      <th>3</th>\n",
       "      <td>3408</td>\n",
       "      <td>1</td>\n",
       "      <td>3408</td>\n",
       "      <td>4</td>\n",
       "      <td>978300275</td>\n",
       "    </tr>\n",
       "    <tr>\n",
       "      <th>4</th>\n",
       "      <td>2355</td>\n",
       "      <td>1</td>\n",
       "      <td>2355</td>\n",
       "      <td>5</td>\n",
       "      <td>978824291</td>\n",
       "    </tr>\n",
       "  </tbody>\n",
       "</table>\n",
       "</div>"
      ],
      "text/plain": [
       "   movie_name  user_id  movie_id  count  timestamp\n",
       "0        1193        1      1193      5  978300760\n",
       "1         661        1       661      3  978302109\n",
       "2         914        1       914      3  978301968\n",
       "3        3408        1      3408      4  978300275\n",
       "4        2355        1      2355      5  978824291"
      ]
     },
     "execution_count": 106,
     "metadata": {},
     "output_type": "execute_result"
    }
   ],
   "source": [
    "# ratings=ratings.rename(columns={\"movie_id\": \"\"},level=1)\n",
    "\n",
    "# ratings.head()\n",
    "ratings.columns = ['movie_name', 'user_id', 'movie_id', 'count', 'timestamp']\n",
    "ratings.head()"
   ]
  },
  {
   "cell_type": "code",
   "execution_count": 107,
   "id": "assured-faculty",
   "metadata": {},
   "outputs": [
    {
     "data": {
      "text/plain": [
       "['user_id', 'movie_id', 'movie_name', 'count', 'timestamp']"
      ]
     },
     "execution_count": 107,
     "metadata": {},
     "output_type": "execute_result"
    }
   ],
   "source": [
    "ratings_column=list(ratings.columns)\n",
    "ratings_column\n",
    "ratings_column.insert(2, ratings_column.pop(0))\n",
    "ratings_column"
   ]
  },
  {
   "cell_type": "code",
   "execution_count": 108,
   "id": "ranking-butterfly",
   "metadata": {},
   "outputs": [
    {
     "data": {
      "text/html": [
       "<div>\n",
       "<style scoped>\n",
       "    .dataframe tbody tr th:only-of-type {\n",
       "        vertical-align: middle;\n",
       "    }\n",
       "\n",
       "    .dataframe tbody tr th {\n",
       "        vertical-align: top;\n",
       "    }\n",
       "\n",
       "    .dataframe thead th {\n",
       "        text-align: right;\n",
       "    }\n",
       "</style>\n",
       "<table border=\"1\" class=\"dataframe\">\n",
       "  <thead>\n",
       "    <tr style=\"text-align: right;\">\n",
       "      <th></th>\n",
       "      <th>user_id</th>\n",
       "      <th>movie_id</th>\n",
       "      <th>movie_name</th>\n",
       "      <th>count</th>\n",
       "      <th>timestamp</th>\n",
       "    </tr>\n",
       "  </thead>\n",
       "  <tbody>\n",
       "    <tr>\n",
       "      <th>0</th>\n",
       "      <td>1</td>\n",
       "      <td>1193</td>\n",
       "      <td>1193</td>\n",
       "      <td>5</td>\n",
       "      <td>978300760</td>\n",
       "    </tr>\n",
       "    <tr>\n",
       "      <th>1</th>\n",
       "      <td>1</td>\n",
       "      <td>661</td>\n",
       "      <td>661</td>\n",
       "      <td>3</td>\n",
       "      <td>978302109</td>\n",
       "    </tr>\n",
       "    <tr>\n",
       "      <th>2</th>\n",
       "      <td>1</td>\n",
       "      <td>914</td>\n",
       "      <td>914</td>\n",
       "      <td>3</td>\n",
       "      <td>978301968</td>\n",
       "    </tr>\n",
       "    <tr>\n",
       "      <th>3</th>\n",
       "      <td>1</td>\n",
       "      <td>3408</td>\n",
       "      <td>3408</td>\n",
       "      <td>4</td>\n",
       "      <td>978300275</td>\n",
       "    </tr>\n",
       "    <tr>\n",
       "      <th>4</th>\n",
       "      <td>1</td>\n",
       "      <td>2355</td>\n",
       "      <td>2355</td>\n",
       "      <td>5</td>\n",
       "      <td>978824291</td>\n",
       "    </tr>\n",
       "    <tr>\n",
       "      <th>...</th>\n",
       "      <td>...</td>\n",
       "      <td>...</td>\n",
       "      <td>...</td>\n",
       "      <td>...</td>\n",
       "      <td>...</td>\n",
       "    </tr>\n",
       "    <tr>\n",
       "      <th>1000203</th>\n",
       "      <td>6040</td>\n",
       "      <td>1090</td>\n",
       "      <td>1090</td>\n",
       "      <td>3</td>\n",
       "      <td>956715518</td>\n",
       "    </tr>\n",
       "    <tr>\n",
       "      <th>1000205</th>\n",
       "      <td>6040</td>\n",
       "      <td>1094</td>\n",
       "      <td>1094</td>\n",
       "      <td>5</td>\n",
       "      <td>956704887</td>\n",
       "    </tr>\n",
       "    <tr>\n",
       "      <th>1000206</th>\n",
       "      <td>6040</td>\n",
       "      <td>562</td>\n",
       "      <td>562</td>\n",
       "      <td>5</td>\n",
       "      <td>956704746</td>\n",
       "    </tr>\n",
       "    <tr>\n",
       "      <th>1000207</th>\n",
       "      <td>6040</td>\n",
       "      <td>1096</td>\n",
       "      <td>1096</td>\n",
       "      <td>4</td>\n",
       "      <td>956715648</td>\n",
       "    </tr>\n",
       "    <tr>\n",
       "      <th>1000208</th>\n",
       "      <td>6040</td>\n",
       "      <td>1097</td>\n",
       "      <td>1097</td>\n",
       "      <td>4</td>\n",
       "      <td>956715569</td>\n",
       "    </tr>\n",
       "  </tbody>\n",
       "</table>\n",
       "<p>836478 rows × 5 columns</p>\n",
       "</div>"
      ],
      "text/plain": [
       "         user_id  movie_id  movie_name  count  timestamp\n",
       "0              1      1193        1193      5  978300760\n",
       "1              1       661         661      3  978302109\n",
       "2              1       914         914      3  978301968\n",
       "3              1      3408        3408      4  978300275\n",
       "4              1      2355        2355      5  978824291\n",
       "...          ...       ...         ...    ...        ...\n",
       "1000203     6040      1090        1090      3  956715518\n",
       "1000205     6040      1094        1094      5  956704887\n",
       "1000206     6040       562         562      5  956704746\n",
       "1000207     6040      1096        1096      4  956715648\n",
       "1000208     6040      1097        1097      4  956715569\n",
       "\n",
       "[836478 rows x 5 columns]"
      ]
     },
     "execution_count": 108,
     "metadata": {},
     "output_type": "execute_result"
    }
   ],
   "source": [
    "ratings = ratings[ratings_column]\n",
    "ratings"
   ]
  },
  {
   "cell_type": "code",
   "execution_count": 109,
   "id": "casual-burner",
   "metadata": {},
   "outputs": [],
   "source": [
    "ratings['movie_name'] = ratings['movie_name'].map(idx_to_movies.get)"
   ]
  },
  {
   "cell_type": "code",
   "execution_count": 110,
   "id": "twelve-paris",
   "metadata": {},
   "outputs": [
    {
     "data": {
      "text/html": [
       "<div>\n",
       "<style scoped>\n",
       "    .dataframe tbody tr th:only-of-type {\n",
       "        vertical-align: middle;\n",
       "    }\n",
       "\n",
       "    .dataframe tbody tr th {\n",
       "        vertical-align: top;\n",
       "    }\n",
       "\n",
       "    .dataframe thead th {\n",
       "        text-align: right;\n",
       "    }\n",
       "</style>\n",
       "<table border=\"1\" class=\"dataframe\">\n",
       "  <thead>\n",
       "    <tr style=\"text-align: right;\">\n",
       "      <th></th>\n",
       "      <th>user_id</th>\n",
       "      <th>movie_id</th>\n",
       "      <th>movie_name</th>\n",
       "      <th>count</th>\n",
       "      <th>timestamp</th>\n",
       "    </tr>\n",
       "  </thead>\n",
       "  <tbody>\n",
       "    <tr>\n",
       "      <th>0</th>\n",
       "      <td>1</td>\n",
       "      <td>1193</td>\n",
       "      <td>GoodFellas</td>\n",
       "      <td>5</td>\n",
       "      <td>978300760</td>\n",
       "    </tr>\n",
       "    <tr>\n",
       "      <th>1</th>\n",
       "      <td>1</td>\n",
       "      <td>661</td>\n",
       "      <td>Bloodsport2</td>\n",
       "      <td>3</td>\n",
       "      <td>978302109</td>\n",
       "    </tr>\n",
       "    <tr>\n",
       "      <th>2</th>\n",
       "      <td>1</td>\n",
       "      <td>914</td>\n",
       "      <td>Women,The</td>\n",
       "      <td>3</td>\n",
       "      <td>978301968</td>\n",
       "    </tr>\n",
       "    <tr>\n",
       "      <th>3</th>\n",
       "      <td>1</td>\n",
       "      <td>3408</td>\n",
       "      <td>ReadytoRumble</td>\n",
       "      <td>4</td>\n",
       "      <td>978300275</td>\n",
       "    </tr>\n",
       "    <tr>\n",
       "      <th>4</th>\n",
       "      <td>1</td>\n",
       "      <td>2355</td>\n",
       "      <td>Hi-LoCountry,The</td>\n",
       "      <td>5</td>\n",
       "      <td>978824291</td>\n",
       "    </tr>\n",
       "  </tbody>\n",
       "</table>\n",
       "</div>"
      ],
      "text/plain": [
       "   user_id  movie_id        movie_name  count  timestamp\n",
       "0        1      1193        GoodFellas      5  978300760\n",
       "1        1       661       Bloodsport2      3  978302109\n",
       "2        1       914         Women,The      3  978301968\n",
       "3        1      3408     ReadytoRumble      4  978300275\n",
       "4        1      2355  Hi-LoCountry,The      5  978824291"
      ]
     },
     "execution_count": 110,
     "metadata": {},
     "output_type": "execute_result"
    }
   ],
   "source": [
    "ratings.head()"
   ]
  },
  {
   "cell_type": "markdown",
   "id": "sharp-intensity",
   "metadata": {},
   "source": [
    "### Any NaN or duplicated value?"
   ]
  },
  {
   "cell_type": "code",
   "execution_count": 111,
   "id": "noted-virus",
   "metadata": {},
   "outputs": [
    {
     "data": {
      "text/plain": [
       "user_id           0\n",
       "movie_id          0\n",
       "movie_name    11239\n",
       "count             0\n",
       "timestamp         0\n",
       "dtype: int64"
      ]
     },
     "execution_count": 111,
     "metadata": {},
     "output_type": "execute_result"
    }
   ],
   "source": [
    "ratings.isnull().sum()"
   ]
  },
  {
   "cell_type": "markdown",
   "id": "extensive-relevance",
   "metadata": {},
   "source": [
    "### movie name is not good"
   ]
  },
  {
   "cell_type": "code",
   "execution_count": 112,
   "id": "double-feedback",
   "metadata": {},
   "outputs": [
    {
     "data": {
      "text/plain": [
       "0"
      ]
     },
     "execution_count": 112,
     "metadata": {},
     "output_type": "execute_result"
    }
   ],
   "source": [
    "ratings.duplicated().sum()"
   ]
  },
  {
   "cell_type": "markdown",
   "id": "cellular-dodge",
   "metadata": {},
   "source": [
    "#### Now, movie names are added!"
   ]
  },
  {
   "cell_type": "markdown",
   "id": "wrong-webcam",
   "metadata": {},
   "source": [
    "### 3) Pick 5 favorite movies and add to 'rating'"
   ]
  },
  {
   "cell_type": "markdown",
   "id": "hearing-michael",
   "metadata": {},
   "source": [
    "a) add id idx"
   ]
  },
  {
   "cell_type": "code",
   "execution_count": 113,
   "id": "accessory-separate",
   "metadata": {},
   "outputs": [
    {
     "data": {
      "text/plain": [
       "6041"
      ]
     },
     "execution_count": 113,
     "metadata": {},
     "output_type": "execute_result"
    }
   ],
   "source": [
    "my_id = ratings.tail()['user_id'].iloc[-1]+1\n",
    "my_id"
   ]
  },
  {
   "cell_type": "code",
   "execution_count": 114,
   "id": "variable-imaging",
   "metadata": {},
   "outputs": [
    {
     "data": {
      "text/html": [
       "<div>\n",
       "<style scoped>\n",
       "    .dataframe tbody tr th:only-of-type {\n",
       "        vertical-align: middle;\n",
       "    }\n",
       "\n",
       "    .dataframe tbody tr th {\n",
       "        vertical-align: top;\n",
       "    }\n",
       "\n",
       "    .dataframe thead th {\n",
       "        text-align: right;\n",
       "    }\n",
       "</style>\n",
       "<table border=\"1\" class=\"dataframe\">\n",
       "  <thead>\n",
       "    <tr style=\"text-align: right;\">\n",
       "      <th></th>\n",
       "      <th>user_id</th>\n",
       "      <th>movie_id</th>\n",
       "      <th>movie_name</th>\n",
       "      <th>count</th>\n",
       "      <th>timestamp</th>\n",
       "    </tr>\n",
       "  </thead>\n",
       "  <tbody>\n",
       "    <tr>\n",
       "      <th>1000203</th>\n",
       "      <td>6040</td>\n",
       "      <td>1090</td>\n",
       "      <td>PrerokbeOgnja</td>\n",
       "      <td>3</td>\n",
       "      <td>956715518.0</td>\n",
       "    </tr>\n",
       "    <tr>\n",
       "      <th>1000205</th>\n",
       "      <td>6040</td>\n",
       "      <td>1094</td>\n",
       "      <td>Palookaville</td>\n",
       "      <td>5</td>\n",
       "      <td>956704887.0</td>\n",
       "    </tr>\n",
       "    <tr>\n",
       "      <th>1000206</th>\n",
       "      <td>6040</td>\n",
       "      <td>562</td>\n",
       "      <td>NakedinNewYork</td>\n",
       "      <td>5</td>\n",
       "      <td>956704746.0</td>\n",
       "    </tr>\n",
       "    <tr>\n",
       "      <th>1000207</th>\n",
       "      <td>6040</td>\n",
       "      <td>1096</td>\n",
       "      <td>Funeral,The</td>\n",
       "      <td>4</td>\n",
       "      <td>956715648.0</td>\n",
       "    </tr>\n",
       "    <tr>\n",
       "      <th>1000208</th>\n",
       "      <td>6040</td>\n",
       "      <td>1097</td>\n",
       "      <td>Sleepover</td>\n",
       "      <td>4</td>\n",
       "      <td>956715569.0</td>\n",
       "    </tr>\n",
       "    <tr>\n",
       "      <th>0</th>\n",
       "      <td>6041</td>\n",
       "      <td>1356</td>\n",
       "      <td>Grease</td>\n",
       "      <td>5</td>\n",
       "      <td>NaN</td>\n",
       "    </tr>\n",
       "    <tr>\n",
       "      <th>1</th>\n",
       "      <td>6041</td>\n",
       "      <td>1668</td>\n",
       "      <td>Titanic</td>\n",
       "      <td>5</td>\n",
       "      <td>NaN</td>\n",
       "    </tr>\n",
       "    <tr>\n",
       "      <th>2</th>\n",
       "      <td>6041</td>\n",
       "      <td>1833</td>\n",
       "      <td>Mulan</td>\n",
       "      <td>5</td>\n",
       "      <td>NaN</td>\n",
       "    </tr>\n",
       "    <tr>\n",
       "      <th>3</th>\n",
       "      <td>6041</td>\n",
       "      <td>2274</td>\n",
       "      <td>Bug'sLife,A</td>\n",
       "      <td>5</td>\n",
       "      <td>NaN</td>\n",
       "    </tr>\n",
       "    <tr>\n",
       "      <th>4</th>\n",
       "      <td>6041</td>\n",
       "      <td>0</td>\n",
       "      <td>ToyStory</td>\n",
       "      <td>5</td>\n",
       "      <td>NaN</td>\n",
       "    </tr>\n",
       "  </tbody>\n",
       "</table>\n",
       "</div>"
      ],
      "text/plain": [
       "         user_id  movie_id      movie_name  count    timestamp\n",
       "1000203     6040      1090   PrerokbeOgnja      3  956715518.0\n",
       "1000205     6040      1094    Palookaville      5  956704887.0\n",
       "1000206     6040       562  NakedinNewYork      5  956704746.0\n",
       "1000207     6040      1096     Funeral,The      4  956715648.0\n",
       "1000208     6040      1097       Sleepover      4  956715569.0\n",
       "0           6041      1356          Grease      5          NaN\n",
       "1           6041      1668         Titanic      5          NaN\n",
       "2           6041      1833           Mulan      5          NaN\n",
       "3           6041      2274     Bug'sLife,A      5          NaN\n",
       "4           6041         0        ToyStory      5          NaN"
      ]
     },
     "execution_count": 114,
     "metadata": {},
     "output_type": "execute_result"
    }
   ],
   "source": [
    "my_favorite=['Grease','Titanic','Mulan','Bug\\'sLife,A','ToyStory']\n",
    "my_favorite_idx=[movies_to_idx[idx] for idx in my_favorite]\n",
    "my_playlist=pd.DataFrame({'user_id':[my_id]*5, 'movie_id': my_favorite_idx,'movie_name':my_favorite, 'count':[5]*5})\n",
    "my_playlist.head()\n",
    "\n",
    "if not ratings.isin({'user_id':[my_id]})['user_id'].any():\n",
    "     ratings=ratings.append(my_playlist)\n",
    "ratings.tail(10)\n"
   ]
  },
  {
   "cell_type": "code",
   "execution_count": 115,
   "id": "becoming-dominant",
   "metadata": {},
   "outputs": [
    {
     "data": {
      "text/html": [
       "<div>\n",
       "<style scoped>\n",
       "    .dataframe tbody tr th:only-of-type {\n",
       "        vertical-align: middle;\n",
       "    }\n",
       "\n",
       "    .dataframe tbody tr th {\n",
       "        vertical-align: top;\n",
       "    }\n",
       "\n",
       "    .dataframe thead th {\n",
       "        text-align: right;\n",
       "    }\n",
       "</style>\n",
       "<table border=\"1\" class=\"dataframe\">\n",
       "  <thead>\n",
       "    <tr style=\"text-align: right;\">\n",
       "      <th></th>\n",
       "      <th>user_id</th>\n",
       "      <th>movie_id</th>\n",
       "      <th>movie_name</th>\n",
       "      <th>count</th>\n",
       "      <th>timestamp</th>\n",
       "    </tr>\n",
       "  </thead>\n",
       "  <tbody>\n",
       "    <tr>\n",
       "      <th>0</th>\n",
       "      <td>1</td>\n",
       "      <td>1193</td>\n",
       "      <td>GoodFellas</td>\n",
       "      <td>5</td>\n",
       "      <td>978300760.0</td>\n",
       "    </tr>\n",
       "    <tr>\n",
       "      <th>1</th>\n",
       "      <td>1</td>\n",
       "      <td>661</td>\n",
       "      <td>Bloodsport2</td>\n",
       "      <td>3</td>\n",
       "      <td>978302109.0</td>\n",
       "    </tr>\n",
       "    <tr>\n",
       "      <th>2</th>\n",
       "      <td>1</td>\n",
       "      <td>914</td>\n",
       "      <td>Women,The</td>\n",
       "      <td>3</td>\n",
       "      <td>978301968.0</td>\n",
       "    </tr>\n",
       "    <tr>\n",
       "      <th>3</th>\n",
       "      <td>1</td>\n",
       "      <td>3408</td>\n",
       "      <td>ReadytoRumble</td>\n",
       "      <td>4</td>\n",
       "      <td>978300275.0</td>\n",
       "    </tr>\n",
       "    <tr>\n",
       "      <th>4</th>\n",
       "      <td>1</td>\n",
       "      <td>2355</td>\n",
       "      <td>Hi-LoCountry,The</td>\n",
       "      <td>5</td>\n",
       "      <td>978824291.0</td>\n",
       "    </tr>\n",
       "    <tr>\n",
       "      <th>...</th>\n",
       "      <td>...</td>\n",
       "      <td>...</td>\n",
       "      <td>...</td>\n",
       "      <td>...</td>\n",
       "      <td>...</td>\n",
       "    </tr>\n",
       "    <tr>\n",
       "      <th>836478</th>\n",
       "      <td>6041</td>\n",
       "      <td>1356</td>\n",
       "      <td>Grease</td>\n",
       "      <td>5</td>\n",
       "      <td>NaN</td>\n",
       "    </tr>\n",
       "    <tr>\n",
       "      <th>836479</th>\n",
       "      <td>6041</td>\n",
       "      <td>1668</td>\n",
       "      <td>Titanic</td>\n",
       "      <td>5</td>\n",
       "      <td>NaN</td>\n",
       "    </tr>\n",
       "    <tr>\n",
       "      <th>836480</th>\n",
       "      <td>6041</td>\n",
       "      <td>1833</td>\n",
       "      <td>Mulan</td>\n",
       "      <td>5</td>\n",
       "      <td>NaN</td>\n",
       "    </tr>\n",
       "    <tr>\n",
       "      <th>836481</th>\n",
       "      <td>6041</td>\n",
       "      <td>2274</td>\n",
       "      <td>Bug'sLife,A</td>\n",
       "      <td>5</td>\n",
       "      <td>NaN</td>\n",
       "    </tr>\n",
       "    <tr>\n",
       "      <th>836482</th>\n",
       "      <td>6041</td>\n",
       "      <td>0</td>\n",
       "      <td>ToyStory</td>\n",
       "      <td>5</td>\n",
       "      <td>NaN</td>\n",
       "    </tr>\n",
       "  </tbody>\n",
       "</table>\n",
       "<p>836483 rows × 5 columns</p>\n",
       "</div>"
      ],
      "text/plain": [
       "        user_id  movie_id        movie_name  count    timestamp\n",
       "0             1      1193        GoodFellas      5  978300760.0\n",
       "1             1       661       Bloodsport2      3  978302109.0\n",
       "2             1       914         Women,The      3  978301968.0\n",
       "3             1      3408     ReadytoRumble      4  978300275.0\n",
       "4             1      2355  Hi-LoCountry,The      5  978824291.0\n",
       "...         ...       ...               ...    ...          ...\n",
       "836478     6041      1356            Grease      5          NaN\n",
       "836479     6041      1668           Titanic      5          NaN\n",
       "836480     6041      1833             Mulan      5          NaN\n",
       "836481     6041      2274       Bug'sLife,A      5          NaN\n",
       "836482     6041         0          ToyStory      5          NaN\n",
       "\n",
       "[836483 rows x 5 columns]"
      ]
     },
     "execution_count": 115,
     "metadata": {},
     "output_type": "execute_result"
    }
   ],
   "source": [
    "ratings = ratings.reset_index(drop=True)\n",
    "ratings"
   ]
  },
  {
   "cell_type": "code",
   "execution_count": 116,
   "id": "acknowledged-location",
   "metadata": {},
   "outputs": [
    {
     "data": {
      "text/html": [
       "<div>\n",
       "<style scoped>\n",
       "    .dataframe tbody tr th:only-of-type {\n",
       "        vertical-align: middle;\n",
       "    }\n",
       "\n",
       "    .dataframe tbody tr th {\n",
       "        vertical-align: top;\n",
       "    }\n",
       "\n",
       "    .dataframe thead th {\n",
       "        text-align: right;\n",
       "    }\n",
       "</style>\n",
       "<table border=\"1\" class=\"dataframe\">\n",
       "  <thead>\n",
       "    <tr style=\"text-align: right;\">\n",
       "      <th></th>\n",
       "      <th>user_id</th>\n",
       "      <th>movie_id</th>\n",
       "      <th>movie_name</th>\n",
       "      <th>count</th>\n",
       "    </tr>\n",
       "  </thead>\n",
       "  <tbody>\n",
       "    <tr>\n",
       "      <th>836473</th>\n",
       "      <td>6040</td>\n",
       "      <td>1090</td>\n",
       "      <td>PrerokbeOgnja</td>\n",
       "      <td>3</td>\n",
       "    </tr>\n",
       "    <tr>\n",
       "      <th>836474</th>\n",
       "      <td>6040</td>\n",
       "      <td>1094</td>\n",
       "      <td>Palookaville</td>\n",
       "      <td>5</td>\n",
       "    </tr>\n",
       "    <tr>\n",
       "      <th>836475</th>\n",
       "      <td>6040</td>\n",
       "      <td>562</td>\n",
       "      <td>NakedinNewYork</td>\n",
       "      <td>5</td>\n",
       "    </tr>\n",
       "    <tr>\n",
       "      <th>836476</th>\n",
       "      <td>6040</td>\n",
       "      <td>1096</td>\n",
       "      <td>Funeral,The</td>\n",
       "      <td>4</td>\n",
       "    </tr>\n",
       "    <tr>\n",
       "      <th>836477</th>\n",
       "      <td>6040</td>\n",
       "      <td>1097</td>\n",
       "      <td>Sleepover</td>\n",
       "      <td>4</td>\n",
       "    </tr>\n",
       "    <tr>\n",
       "      <th>836478</th>\n",
       "      <td>6041</td>\n",
       "      <td>1356</td>\n",
       "      <td>Grease</td>\n",
       "      <td>5</td>\n",
       "    </tr>\n",
       "    <tr>\n",
       "      <th>836479</th>\n",
       "      <td>6041</td>\n",
       "      <td>1668</td>\n",
       "      <td>Titanic</td>\n",
       "      <td>5</td>\n",
       "    </tr>\n",
       "    <tr>\n",
       "      <th>836480</th>\n",
       "      <td>6041</td>\n",
       "      <td>1833</td>\n",
       "      <td>Mulan</td>\n",
       "      <td>5</td>\n",
       "    </tr>\n",
       "    <tr>\n",
       "      <th>836481</th>\n",
       "      <td>6041</td>\n",
       "      <td>2274</td>\n",
       "      <td>Bug'sLife,A</td>\n",
       "      <td>5</td>\n",
       "    </tr>\n",
       "    <tr>\n",
       "      <th>836482</th>\n",
       "      <td>6041</td>\n",
       "      <td>0</td>\n",
       "      <td>ToyStory</td>\n",
       "      <td>5</td>\n",
       "    </tr>\n",
       "  </tbody>\n",
       "</table>\n",
       "</div>"
      ],
      "text/plain": [
       "        user_id  movie_id      movie_name  count\n",
       "836473     6040      1090   PrerokbeOgnja      3\n",
       "836474     6040      1094    Palookaville      5\n",
       "836475     6040       562  NakedinNewYork      5\n",
       "836476     6040      1096     Funeral,The      4\n",
       "836477     6040      1097       Sleepover      4\n",
       "836478     6041      1356          Grease      5\n",
       "836479     6041      1668         Titanic      5\n",
       "836480     6041      1833           Mulan      5\n",
       "836481     6041      2274     Bug'sLife,A      5\n",
       "836482     6041         0        ToyStory      5"
      ]
     },
     "execution_count": 116,
     "metadata": {},
     "output_type": "execute_result"
    }
   ],
   "source": [
    "ratings=ratings.drop('timestamp', axis=1)\n",
    "ratings.tail(10)"
   ]
  },
  {
   "cell_type": "code",
   "execution_count": 117,
   "id": "intensive-basketball",
   "metadata": {},
   "outputs": [
    {
     "data": {
      "text/html": [
       "<div>\n",
       "<style scoped>\n",
       "    .dataframe tbody tr th:only-of-type {\n",
       "        vertical-align: middle;\n",
       "    }\n",
       "\n",
       "    .dataframe tbody tr th {\n",
       "        vertical-align: top;\n",
       "    }\n",
       "\n",
       "    .dataframe thead th {\n",
       "        text-align: right;\n",
       "    }\n",
       "</style>\n",
       "<table border=\"1\" class=\"dataframe\">\n",
       "  <thead>\n",
       "    <tr style=\"text-align: right;\">\n",
       "      <th></th>\n",
       "      <th>user_id</th>\n",
       "      <th>movie_id</th>\n",
       "      <th>movie_name</th>\n",
       "      <th>play</th>\n",
       "    </tr>\n",
       "  </thead>\n",
       "  <tbody>\n",
       "    <tr>\n",
       "      <th>0</th>\n",
       "      <td>1</td>\n",
       "      <td>1193</td>\n",
       "      <td>GoodFellas</td>\n",
       "      <td>5</td>\n",
       "    </tr>\n",
       "    <tr>\n",
       "      <th>1</th>\n",
       "      <td>1</td>\n",
       "      <td>661</td>\n",
       "      <td>Bloodsport2</td>\n",
       "      <td>3</td>\n",
       "    </tr>\n",
       "    <tr>\n",
       "      <th>2</th>\n",
       "      <td>1</td>\n",
       "      <td>914</td>\n",
       "      <td>Women,The</td>\n",
       "      <td>3</td>\n",
       "    </tr>\n",
       "    <tr>\n",
       "      <th>3</th>\n",
       "      <td>1</td>\n",
       "      <td>3408</td>\n",
       "      <td>ReadytoRumble</td>\n",
       "      <td>4</td>\n",
       "    </tr>\n",
       "    <tr>\n",
       "      <th>4</th>\n",
       "      <td>1</td>\n",
       "      <td>2355</td>\n",
       "      <td>Hi-LoCountry,The</td>\n",
       "      <td>5</td>\n",
       "    </tr>\n",
       "    <tr>\n",
       "      <th>...</th>\n",
       "      <td>...</td>\n",
       "      <td>...</td>\n",
       "      <td>...</td>\n",
       "      <td>...</td>\n",
       "    </tr>\n",
       "    <tr>\n",
       "      <th>836478</th>\n",
       "      <td>6041</td>\n",
       "      <td>1356</td>\n",
       "      <td>Grease</td>\n",
       "      <td>5</td>\n",
       "    </tr>\n",
       "    <tr>\n",
       "      <th>836479</th>\n",
       "      <td>6041</td>\n",
       "      <td>1668</td>\n",
       "      <td>Titanic</td>\n",
       "      <td>5</td>\n",
       "    </tr>\n",
       "    <tr>\n",
       "      <th>836480</th>\n",
       "      <td>6041</td>\n",
       "      <td>1833</td>\n",
       "      <td>Mulan</td>\n",
       "      <td>5</td>\n",
       "    </tr>\n",
       "    <tr>\n",
       "      <th>836481</th>\n",
       "      <td>6041</td>\n",
       "      <td>2274</td>\n",
       "      <td>Bug'sLife,A</td>\n",
       "      <td>5</td>\n",
       "    </tr>\n",
       "    <tr>\n",
       "      <th>836482</th>\n",
       "      <td>6041</td>\n",
       "      <td>0</td>\n",
       "      <td>ToyStory</td>\n",
       "      <td>5</td>\n",
       "    </tr>\n",
       "  </tbody>\n",
       "</table>\n",
       "<p>836483 rows × 4 columns</p>\n",
       "</div>"
      ],
      "text/plain": [
       "        user_id  movie_id        movie_name  play\n",
       "0             1      1193        GoodFellas     5\n",
       "1             1       661       Bloodsport2     3\n",
       "2             1       914         Women,The     3\n",
       "3             1      3408     ReadytoRumble     4\n",
       "4             1      2355  Hi-LoCountry,The     5\n",
       "...         ...       ...               ...   ...\n",
       "836478     6041      1356            Grease     5\n",
       "836479     6041      1668           Titanic     5\n",
       "836480     6041      1833             Mulan     5\n",
       "836481     6041      2274       Bug'sLife,A     5\n",
       "836482     6041         0          ToyStory     5\n",
       "\n",
       "[836483 rows x 4 columns]"
      ]
     },
     "execution_count": 117,
     "metadata": {},
     "output_type": "execute_result"
    }
   ],
   "source": [
    "ratings['play']=ratings['count']\n",
    "ratings.drop('count',axis=1)"
   ]
  },
  {
   "cell_type": "markdown",
   "id": "covered-albania",
   "metadata": {},
   "source": [
    "### Finally, preprocessing has finished! "
   ]
  },
  {
   "cell_type": "markdown",
   "id": "permanent-conclusion",
   "metadata": {},
   "source": [
    "### 4) make CSR matrix"
   ]
  },
  {
   "cell_type": "code",
   "execution_count": 118,
   "id": "assigned-escape",
   "metadata": {},
   "outputs": [
    {
     "data": {
      "text/plain": [
       "array([[1, 0, 2],\n",
       "       [0, 0, 3],\n",
       "       [4, 5, 6]], dtype=int64)"
      ]
     },
     "execution_count": 118,
     "metadata": {},
     "output_type": "execute_result"
    }
   ],
   "source": [
    "row = np.array([0, 0, 1, 2, 2, 2])\n",
    "col = np.array([0, 2, 2, 0, 1, 2])\n",
    "data = np.array([1, 2, 3, 4, 5, 6])\n",
    "csr_matrix((data, (row, col)), shape=(3, 3)).toarray()"
   ]
  },
  {
   "cell_type": "code",
   "execution_count": 119,
   "id": "ethical-tournament",
   "metadata": {},
   "outputs": [
    {
     "data": {
      "text/plain": [
       "0            1\n",
       "1            1\n",
       "2            1\n",
       "3            1\n",
       "4            1\n",
       "          ... \n",
       "836478    6041\n",
       "836479    6041\n",
       "836480    6041\n",
       "836481    6041\n",
       "836482    6041\n",
       "Name: user_id, Length: 836483, dtype: int64"
      ]
     },
     "execution_count": 119,
     "metadata": {},
     "output_type": "execute_result"
    }
   ],
   "source": [
    "ratings['user_id']"
   ]
  },
  {
   "cell_type": "markdown",
   "id": "partial-martial",
   "metadata": {},
   "source": [
    "There are missing values occasionally (not all values are included continuously) \n",
    "\n",
    "-> So we will fix the shape with **MAX VALUE, not with nunique()**"
   ]
  },
  {
   "cell_type": "code",
   "execution_count": 120,
   "id": "welsh-category",
   "metadata": {},
   "outputs": [
    {
     "name": "stdout",
     "output_type": "stream",
     "text": [
      "6041\n",
      "3952\n"
     ]
    },
    {
     "data": {
      "text/plain": [
       "(6042, 3953)"
      ]
     },
     "execution_count": 120,
     "metadata": {},
     "output_type": "execute_result"
    }
   ],
   "source": [
    "\n",
    "\n",
    "# num_user = ratings['user_id'].nunique()\n",
    "# num_movie = ratings['movie_id'].nunique()\n",
    "# print(num_user)\n",
    "# print(num_movie)\n",
    "# num_add_row=max(ratings.user_id)-num_user\n",
    "# num_add_column=max(ratings.movie_id)-num_movie\n",
    "\n",
    "print(max(ratings.user_id))\n",
    "print(max(ratings.movie_id))\n",
    "\n",
    "csr_data = csr_matrix((ratings.play, (ratings.user_id, ratings.movie_id)), shape= (max(ratings.user_id)+1,max(ratings.movie_id)+1))\n",
    "\n",
    "# Check the shape\n",
    "csr_data.toarray().shape"
   ]
  },
  {
   "cell_type": "markdown",
   "id": "subtle-appendix",
   "metadata": {},
   "source": [
    "### 5) organize model and fit\n",
    "#### als_model = AlternatingleastSquares"
   ]
  },
  {
   "cell_type": "code",
   "execution_count": 121,
   "id": "indoor-drain",
   "metadata": {},
   "outputs": [],
   "source": [
    "os.environ['OPENBLAS_NUM_THREADS']='1'\n",
    "os.environ['KMP_DUPLICATE_LIB_OK']='True'\n",
    "os.environ['MKL_NUM_THREADS']='1'"
   ]
  },
  {
   "cell_type": "code",
   "execution_count": 122,
   "id": "contrary-rebecca",
   "metadata": {},
   "outputs": [],
   "source": [
    "als_model = AlternatingLeastSquares(factors=1000, regularization=0.01, use_gpu=False, iterations=50, dtype=np.float32)"
   ]
  },
  {
   "cell_type": "code",
   "execution_count": 123,
   "id": "olympic-seafood",
   "metadata": {},
   "outputs": [
    {
     "data": {
      "text/plain": [
       "<3953x6042 sparse matrix of type '<class 'numpy.longlong'>'\n",
       "\twith 836483 stored elements in Compressed Sparse Column format>"
      ]
     },
     "execution_count": 123,
     "metadata": {},
     "output_type": "execute_result"
    }
   ],
   "source": [
    "# als 모델은 input으로 (item X user 꼴의 matrix를 받기 때문에 Transpose해줍니다.)\n",
    "csr_data_transpose = csr_data.T\n",
    "csr_data_transpose"
   ]
  },
  {
   "cell_type": "code",
   "execution_count": 124,
   "id": "supported-samba",
   "metadata": {},
   "outputs": [
    {
     "data": {
      "application/vnd.jupyter.widget-view+json": {
       "model_id": "8a9fc57c4b40497ab9967dc7fafe5cd5",
       "version_major": 2,
       "version_minor": 0
      },
      "text/plain": [
       "  0%|          | 0/50 [00:00<?, ?it/s]"
      ]
     },
     "metadata": {},
     "output_type": "display_data"
    }
   ],
   "source": [
    "# 모델 훈련\n",
    "als_model.fit(csr_data_transpose)"
   ]
  },
  {
   "cell_type": "markdown",
   "id": "nominated-yellow",
   "metadata": {},
   "source": [
    "### 6) pick \n",
    "#### one of my favorite\n",
    "#### another\n",
    "#### and check out the preference rate the model predicted"
   ]
  },
  {
   "cell_type": "code",
   "execution_count": 125,
   "id": "quarterly-boost",
   "metadata": {},
   "outputs": [
    {
     "name": "stdout",
     "output_type": "stream",
     "text": [
      "슝=3\n"
     ]
    }
   ],
   "source": [
    "mulan = movies_to_idx['Mulan']\n",
    "crosstar_vector, mulan_vector = als_model.user_factors[my_id], als_model.item_factors[mulan]\n",
    "\n",
    "print('슝=3')"
   ]
  },
  {
   "cell_type": "code",
   "execution_count": 126,
   "id": "naval-sympathy",
   "metadata": {},
   "outputs": [
    {
     "data": {
      "text/plain": [
       "(1000,)"
      ]
     },
     "execution_count": 126,
     "metadata": {},
     "output_type": "execute_result"
    }
   ],
   "source": [
    "crosstar_vector.shape\n"
   ]
  },
  {
   "cell_type": "code",
   "execution_count": 127,
   "id": "italian-interaction",
   "metadata": {},
   "outputs": [
    {
     "data": {
      "text/plain": [
       "(1000,)"
      ]
     },
     "execution_count": 127,
     "metadata": {},
     "output_type": "execute_result"
    }
   ],
   "source": [
    "mulan_vector.shape"
   ]
  },
  {
   "cell_type": "code",
   "execution_count": 128,
   "id": "assisted-spider",
   "metadata": {},
   "outputs": [
    {
     "data": {
      "text/plain": [
       "0.78637207"
      ]
     },
     "execution_count": 128,
     "metadata": {},
     "output_type": "execute_result"
    }
   ],
   "source": [
    "np.dot(crosstar_vector,mulan_vector)"
   ]
  },
  {
   "cell_type": "markdown",
   "id": "cultural-inquiry",
   "metadata": {},
   "source": [
    "# The preference rate is 0.78!!!"
   ]
  },
  {
   "cell_type": "markdown",
   "id": "graphic-castle",
   "metadata": {},
   "source": [
    "### 7) get recommendation of similar movies(similar_items)"
   ]
  },
  {
   "cell_type": "code",
   "execution_count": 129,
   "id": "freelance-cloud",
   "metadata": {},
   "outputs": [
    {
     "data": {
      "text/plain": [
       "[(259, 1.0),\n",
       " (884, 0.677201),\n",
       " (33, 0.676116),\n",
       " (2576, 0.67330813),\n",
       " (3472, 0.6669536),\n",
       " (2955, 0.6666617),\n",
       " (1470, 0.66664064),\n",
       " (1548, 0.6655048),\n",
       " (607, 0.66546875),\n",
       " (2214, 0.665445),\n",
       " (763, 0.6654142),\n",
       " (701, 0.66541076),\n",
       " (1510, 0.6654091),\n",
       " (138, 0.6653943),\n",
       " (584, 0.6653556)]"
      ]
     },
     "execution_count": 129,
     "metadata": {},
     "output_type": "execute_result"
    }
   ],
   "source": [
    "favorite_movie = 'LittlePrincess,A'\n",
    "fav_movie_id = movies_to_idx[favorite_movie]\n",
    "similar_movie= als_model.similar_items(fav_movie_id,N=15)\n",
    "similar_movie"
   ]
  },
  {
   "cell_type": "code",
   "execution_count": 130,
   "id": "polyphonic-influence",
   "metadata": {},
   "outputs": [
    {
     "data": {
      "text/plain": [
       "['LittlePrincess,A',\n",
       " 'WildReeds',\n",
       " 'Babe',\n",
       " 'RunSilent,RunDeep',\n",
       " 'DefyingGravity',\n",
       " \"Felicia'sJourney\",\n",
       " 'Traveller',\n",
       " 'PicturePerfect',\n",
       " 'Hellraiser:Bloodline',\n",
       " 'Impostors,The',\n",
       " 'ToukiBouki(JourneyoftheHyena)',\n",
       " 'CelticPride',\n",
       " 'LateBloomers',\n",
       " 'UpCloseandPersonal',\n",
       " 'Aladdin']"
      ]
     },
     "execution_count": 130,
     "metadata": {},
     "output_type": "execute_result"
    }
   ],
   "source": [
    "[idx_to_movies[idx[0]] for idx in similar_movie]"
   ]
  },
  {
   "cell_type": "code",
   "execution_count": 131,
   "id": "golden-kruger",
   "metadata": {},
   "outputs": [],
   "source": [
    "def get_similar_movie(movie_name: str):\n",
    "    movie_id = movies_to_idx[movie_name]\n",
    "    similar_movies = als_model.similar_items(movie_id)\n",
    "    similar_movie = [idx_to_movies.get(idx[0]) for idx in similar_movies]\n",
    "    return similar_movie"
   ]
  },
  {
   "cell_type": "code",
   "execution_count": 132,
   "id": "choice-professional",
   "metadata": {},
   "outputs": [
    {
     "data": {
      "text/plain": [
       "['Babe',\n",
       " 'FireDownBelow',\n",
       " 'ToyStory',\n",
       " \"Bug'sLife,A\",\n",
       " None,\n",
       " 'SweetNothing',\n",
       " 'JungleFever',\n",
       " None,\n",
       " 'FederalHill',\n",
       " 'She-Devil']"
      ]
     },
     "execution_count": 132,
     "metadata": {},
     "output_type": "execute_result"
    }
   ],
   "source": [
    "get_similar_movie('Babe')"
   ]
  },
  {
   "cell_type": "markdown",
   "id": "accredited-lexington",
   "metadata": {},
   "source": [
    "### 8) get recommendation of what i may like"
   ]
  },
  {
   "cell_type": "code",
   "execution_count": 133,
   "id": "funded-opposition",
   "metadata": {},
   "outputs": [
    {
     "data": {
      "text/plain": [
       "[(2393, 0.12113064),\n",
       " (3260, 0.10504162),\n",
       " (3752, 0.09888659),\n",
       " (381, 0.09628658),\n",
       " (1296, 0.09526387),\n",
       " (2431, 0.09523401),\n",
       " (1801, 0.09490782),\n",
       " (605, 0.0948634),\n",
       " (610, 0.09192913),\n",
       " (3723, 0.0918338),\n",
       " (1892, 0.091820516),\n",
       " (832, 0.09053293),\n",
       " (2435, 0.08949593),\n",
       " (1792, 0.08934063),\n",
       " (2718, 0.087962046),\n",
       " (3155, 0.08748183),\n",
       " (1670, 0.08386505),\n",
       " (3200, 0.08343156),\n",
       " (3864, 0.08269538),\n",
       " (3479, 0.081314266)]"
      ]
     },
     "execution_count": 133,
     "metadata": {},
     "output_type": "execute_result"
    }
   ],
   "source": [
    "#my_id를 다시 가져옵니다\n",
    "movies_recommended = als_model.recommend(my_id, csr_data, N=20, filter_already_liked_items=True)\n",
    "movies_recommended"
   ]
  },
  {
   "cell_type": "code",
   "execution_count": 135,
   "id": "vanilla-seminar",
   "metadata": {},
   "outputs": [
    {
     "data": {
      "text/plain": [
       "['DryCleaning(Nettoyageàsec)',\n",
       " 'DogDayAfternoon',\n",
       " 'AboutAdam',\n",
       " 'ManofNoImportance,A',\n",
       " 'BlueJuice',\n",
       " 'HouseonHauntedHill',\n",
       " 'Clockwatchers',\n",
       " 'HomewardBoundII:LostinSanFrancisco',\n",
       " 'Loaded',\n",
       " \"BrainThatWouldn'tDie,The\",\n",
       " 'Labyrinth',\n",
       " 'LottoLand',\n",
       " 'Rollercoaster',\n",
       " 'WildManBlues',\n",
       " 'IronEagle',\n",
       " 'Bodyguard,The',\n",
       " 'Twisted',\n",
       " 'BeautifulPeople',\n",
       " None,\n",
       " 'Jails,Hospitals&Hip-Hop']"
      ]
     },
     "execution_count": 135,
     "metadata": {},
     "output_type": "execute_result"
    }
   ],
   "source": [
    "[idx_to_movies.get(i[0]) for i in movies_recommended]"
   ]
  },
  {
   "cell_type": "code",
   "execution_count": 136,
   "id": "cubic-vector",
   "metadata": {},
   "outputs": [],
   "source": [
    "caughtup = movies_to_idx['CaughtUp']\n",
    "explain = als_model.explain(my_id, csr_data, itemid=caughtup)"
   ]
  },
  {
   "cell_type": "code",
   "execution_count": 137,
   "id": "reserved-parent",
   "metadata": {},
   "outputs": [
    {
     "data": {
      "text/plain": [
       "[('Mulan', 0.08351423854860246),\n",
       " ('Titanic', 0.004512514448775712),\n",
       " (\"Bug'sLife,A\", -0.0038371812472055415),\n",
       " ('ToyStory', -0.0038850092767695192),\n",
       " ('Grease', -0.009861318880009221)]"
      ]
     },
     "execution_count": 137,
     "metadata": {},
     "output_type": "execute_result"
    }
   ],
   "source": [
    "[(idx_to_movies[i[0]], i[1]) for i in explain[1]]"
   ]
  },
  {
   "cell_type": "markdown",
   "id": "published-moldova",
   "metadata": {},
   "source": [
    "### Retrospect\n",
    "1) Sparse Matrix was not made by unique keys, so there are \"all-zero\" row or column in CSR Matrix\n",
    " -> contribution of my favorites were quite lower than i expected"
   ]
  }
 ],
 "metadata": {
  "kernelspec": {
   "display_name": "Python 3",
   "language": "python",
   "name": "python3"
  },
  "language_info": {
   "codemirror_mode": {
    "name": "ipython",
    "version": 3
   },
   "file_extension": ".py",
   "mimetype": "text/x-python",
   "name": "python",
   "nbconvert_exporter": "python",
   "pygments_lexer": "ipython3",
   "version": "3.7.9"
  }
 },
 "nbformat": 4,
 "nbformat_minor": 5
}
