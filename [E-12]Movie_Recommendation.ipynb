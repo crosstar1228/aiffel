{
 "cells": [
  {
   "cell_type": "markdown",
   "id": "indoor-confidence",
   "metadata": {},
   "source": [
    "# Movielens SBR(Session Based Recommendation)"
   ]
  },
  {
   "cell_type": "markdown",
   "id": "directed-vacation",
   "metadata": {},
   "source": [
    "1) 여기서 이전 실습내역과 가장 크게 다른 부분은 바로 SessionID 대신 UserID 항목이 들어갔다는 점입니다. 이 데이터셋은 명확한 1회 세션의 SessionID를 포함하지 않고 있습니다. 그래서 이번에는 UserID가 SessionID 역할을 해야 합니다.\n",
    "\n",
    "2) Rating 정보가 포함되어 있습니다. 이전 실습내역에서는 이런 항목이 포함되어 있지 않았으므로, 무시하고 제외할 수 있습니다. 하지만, 직전에 봤던 영화가 맘에 들었는지 여부가 비슷한 영화를 더 고르게 하는 것과 상관이 있을 수도 있습니다. 아울러, Rating이 낮은 데이터를 어떻게 처리할지도 고민해야 합니다.\n",
    "\n",
    "3) Time 항목에는 UTC time 가 포함되어, 1970년 1월 1일부터 경과된 초단위 시간이 기재되어 있습니다."
   ]
  },
  {
   "cell_type": "code",
   "execution_count": 471,
   "id": "opposed-honolulu",
   "metadata": {},
   "outputs": [],
   "source": [
    "import datetime as dt\n",
    "from pathlib import Path\n",
    "import os\n",
    "\n",
    "import numpy as np\n",
    "import pandas as pd\n",
    "import warnings\n",
    "warnings.filterwarnings('ignore')"
   ]
  },
  {
   "cell_type": "code",
   "execution_count": 472,
   "id": "tender-rally",
   "metadata": {},
   "outputs": [
    {
     "data": {
      "text/plain": [
       "PosixPath('/aiffel/aiffel/yoochoose/data/ratings.dat')"
      ]
     },
     "execution_count": 472,
     "metadata": {},
     "output_type": "execute_result"
    }
   ],
   "source": [
    "data_path = Path(os.getenv('HOME')+'/aiffel/yoochoose/data') \n",
    "train_path = data_path / 'ratings.dat'\n",
    "train_path"
   ]
  },
  {
   "cell_type": "code",
   "execution_count": 473,
   "id": "sporting-bridal",
   "metadata": {},
   "outputs": [],
   "source": [
    "def load_data(data_path: Path, nrows=None):\n",
    "    data = pd.read_csv(data_path, sep='::',  engine='python', encoding = \"ISO-8859-1\")\n",
    "    data.columns = ['SessionId', 'MovieId', 'Rating', 'Time']\n",
    "    return data\n"
   ]
  },
  {
   "cell_type": "code",
   "execution_count": 474,
   "id": "light-twist",
   "metadata": {},
   "outputs": [
    {
     "data": {
      "text/html": [
       "<div>\n",
       "<style scoped>\n",
       "    .dataframe tbody tr th:only-of-type {\n",
       "        vertical-align: middle;\n",
       "    }\n",
       "\n",
       "    .dataframe tbody tr th {\n",
       "        vertical-align: top;\n",
       "    }\n",
       "\n",
       "    .dataframe thead th {\n",
       "        text-align: right;\n",
       "    }\n",
       "</style>\n",
       "<table border=\"1\" class=\"dataframe\">\n",
       "  <thead>\n",
       "    <tr style=\"text-align: right;\">\n",
       "      <th></th>\n",
       "      <th>SessionId</th>\n",
       "      <th>MovieId</th>\n",
       "      <th>Rating</th>\n",
       "      <th>Time</th>\n",
       "    </tr>\n",
       "  </thead>\n",
       "  <tbody>\n",
       "    <tr>\n",
       "      <th>0</th>\n",
       "      <td>1</td>\n",
       "      <td>661</td>\n",
       "      <td>3</td>\n",
       "      <td>978302109</td>\n",
       "    </tr>\n",
       "    <tr>\n",
       "      <th>1</th>\n",
       "      <td>1</td>\n",
       "      <td>914</td>\n",
       "      <td>3</td>\n",
       "      <td>978301968</td>\n",
       "    </tr>\n",
       "    <tr>\n",
       "      <th>2</th>\n",
       "      <td>1</td>\n",
       "      <td>3408</td>\n",
       "      <td>4</td>\n",
       "      <td>978300275</td>\n",
       "    </tr>\n",
       "    <tr>\n",
       "      <th>3</th>\n",
       "      <td>1</td>\n",
       "      <td>2355</td>\n",
       "      <td>5</td>\n",
       "      <td>978824291</td>\n",
       "    </tr>\n",
       "    <tr>\n",
       "      <th>4</th>\n",
       "      <td>1</td>\n",
       "      <td>1197</td>\n",
       "      <td>3</td>\n",
       "      <td>978302268</td>\n",
       "    </tr>\n",
       "    <tr>\n",
       "      <th>...</th>\n",
       "      <td>...</td>\n",
       "      <td>...</td>\n",
       "      <td>...</td>\n",
       "      <td>...</td>\n",
       "    </tr>\n",
       "    <tr>\n",
       "      <th>1000203</th>\n",
       "      <td>6040</td>\n",
       "      <td>1091</td>\n",
       "      <td>1</td>\n",
       "      <td>956716541</td>\n",
       "    </tr>\n",
       "    <tr>\n",
       "      <th>1000204</th>\n",
       "      <td>6040</td>\n",
       "      <td>1094</td>\n",
       "      <td>5</td>\n",
       "      <td>956704887</td>\n",
       "    </tr>\n",
       "    <tr>\n",
       "      <th>1000205</th>\n",
       "      <td>6040</td>\n",
       "      <td>562</td>\n",
       "      <td>5</td>\n",
       "      <td>956704746</td>\n",
       "    </tr>\n",
       "    <tr>\n",
       "      <th>1000206</th>\n",
       "      <td>6040</td>\n",
       "      <td>1096</td>\n",
       "      <td>4</td>\n",
       "      <td>956715648</td>\n",
       "    </tr>\n",
       "    <tr>\n",
       "      <th>1000207</th>\n",
       "      <td>6040</td>\n",
       "      <td>1097</td>\n",
       "      <td>4</td>\n",
       "      <td>956715569</td>\n",
       "    </tr>\n",
       "  </tbody>\n",
       "</table>\n",
       "<p>1000208 rows × 4 columns</p>\n",
       "</div>"
      ],
      "text/plain": [
       "         SessionId  MovieId  Rating       Time\n",
       "0                1      661       3  978302109\n",
       "1                1      914       3  978301968\n",
       "2                1     3408       4  978300275\n",
       "3                1     2355       5  978824291\n",
       "4                1     1197       3  978302268\n",
       "...            ...      ...     ...        ...\n",
       "1000203       6040     1091       1  956716541\n",
       "1000204       6040     1094       5  956704887\n",
       "1000205       6040      562       5  956704746\n",
       "1000206       6040     1096       4  956715648\n",
       "1000207       6040     1097       4  956715569\n",
       "\n",
       "[1000208 rows x 4 columns]"
      ]
     },
     "execution_count": 474,
     "metadata": {},
     "output_type": "execute_result"
    }
   ],
   "source": [
    "\n",
    "data = load_data(train_path, None)\n",
    "# data.sort_values(['SessionId', 'Time'], inplace=True)  # data를 id와 시간 순서로 정렬해줍니다.\n",
    "data"
   ]
  },
  {
   "cell_type": "markdown",
   "id": "continental-telling",
   "metadata": {},
   "source": [
    "### Step 1. 데이터의 전처리\n",
    "위와 같이 간단히 구성해 본 데이터셋을 꼼꼼이 살펴보면서 항목별 기본분석, session length, session time, cleaning 등의 작업을 진행합니다.\n",
    "특히, 이 데이터셋에서는 Session이 아닌 UserID 단위로 데이터가 생성되어 있으므로, 이를 Session 단위로 어떻게 해석할지에 주의합니다."
   ]
  },
  {
   "cell_type": "code",
   "execution_count": 475,
   "id": "gentle-rally",
   "metadata": {},
   "outputs": [
    {
     "data": {
      "text/plain": [
       "(6040, 3706)"
      ]
     },
     "execution_count": 475,
     "metadata": {},
     "output_type": "execute_result"
    }
   ],
   "source": [
    "data['SessionId'].nunique(), data['MovieId'].nunique()"
   ]
  },
  {
   "cell_type": "markdown",
   "id": "unique-peace",
   "metadata": {},
   "source": [
    "### Session length(Movie clicks per ID )"
   ]
  },
  {
   "cell_type": "code",
   "execution_count": 476,
   "id": "pointed-douglas",
   "metadata": {},
   "outputs": [
    {
     "data": {
      "text/plain": [
       "SessionId\n",
       "1        52\n",
       "2       129\n",
       "3        51\n",
       "4        21\n",
       "5       198\n",
       "       ... \n",
       "6036    888\n",
       "6037    202\n",
       "6038     20\n",
       "6039    123\n",
       "6040    341\n",
       "Length: 6040, dtype: int64"
      ]
     },
     "execution_count": 476,
     "metadata": {},
     "output_type": "execute_result"
    }
   ],
   "source": [
    "session_length = data.groupby('SessionId').size()\n",
    "session_length"
   ]
  },
  {
   "cell_type": "markdown",
   "id": "atlantic-receptor",
   "metadata": {},
   "source": [
    "### statistics of MOVIE_CLICKS/ID"
   ]
  },
  {
   "cell_type": "code",
   "execution_count": 477,
   "id": "urban-armenia",
   "metadata": {},
   "outputs": [
    {
     "name": "stdout",
     "output_type": "stream",
     "text": [
      "median click number : 96.0\n",
      "mean click number : 165.5973509933775\n"
     ]
    }
   ],
   "source": [
    "print(f'median click number : {session_length.median()}')\n",
    "print(f'mean click number : {session_length.mean()}')"
   ]
  },
  {
   "cell_type": "markdown",
   "id": "smart-sherman",
   "metadata": {},
   "source": [
    "### MEAN >> Median -> left-skewed data (or some outliers)"
   ]
  },
  {
   "cell_type": "code",
   "execution_count": 478,
   "id": "progressive-gallery",
   "metadata": {},
   "outputs": [
    {
     "data": {
      "text/plain": [
       "(20, 2314)"
      ]
     },
     "execution_count": 478,
     "metadata": {},
     "output_type": "execute_result"
    }
   ],
   "source": [
    "session_length.min(), session_length.max()"
   ]
  },
  {
   "cell_type": "code",
   "execution_count": 479,
   "id": "solar-decade",
   "metadata": {},
   "outputs": [
    {
     "data": {
      "text/plain": [
       "556.0"
      ]
     },
     "execution_count": 479,
     "metadata": {},
     "output_type": "execute_result"
    }
   ],
   "source": [
    "session_length.quantile(0.95)"
   ]
  },
  {
   "cell_type": "code",
   "execution_count": 480,
   "id": "organized-model",
   "metadata": {},
   "outputs": [],
   "source": [
    "# drop_sessionid = session_length[session_length>556].index\n",
    "# mask = data['SessionId'].isin(list(drop_sessionid))\n",
    "# data"
   ]
  },
  {
   "cell_type": "markdown",
   "id": "adult-giving",
   "metadata": {},
   "source": [
    "99% of session lengths are under 1000"
   ]
  },
  {
   "cell_type": "code",
   "execution_count": 481,
   "id": "forced-vintage",
   "metadata": {},
   "outputs": [
    {
     "data": {
      "image/png": "[encoded data removed]",
      "text/plain": [
       "<Figure size 1440x720 with 2 Axes>"
      ]
     },
     "metadata": {
      "needs_background": "light"
     },
     "output_type": "display_data"
    }
   ],
   "source": [
    "import matplotlib.pyplot as plt\n",
    "plt.figure(figsize=(20,10))\n",
    "plt.subplot(2,1,1)\n",
    "plt.boxplot(session_length.values)\n",
    "plt.subplot(2,1,2)\n",
    "plt.hist(session_length.values, bins=200,label='clicks per ID')\n",
    "plt.legend()\n",
    "plt.show()"
   ]
  },
  {
   "cell_type": "markdown",
   "id": "chicken-meter",
   "metadata": {},
   "source": [
    "### Session time "
   ]
  },
  {
   "cell_type": "code",
   "execution_count": 482,
   "id": "compliant-delight",
   "metadata": {},
   "outputs": [
    {
     "name": "stdout",
     "output_type": "stream",
     "text": [
      "956703932\n",
      "1046454590\n",
      "data of (about) 1038 days.\n"
     ]
    }
   ],
   "source": [
    "oldest, latest = data['Time'].min(), data['Time'].max()\n",
    "print(oldest)\n",
    "print(latest)\n",
    "print(f'data of (about) {(latest-oldest)//(24*60*60)} days.' )"
   ]
  },
  {
   "cell_type": "markdown",
   "id": "assisted-phrase",
   "metadata": {},
   "source": [
    "### Let me use the recent 1 year(365 days) data.\n",
    "and if the result is not good, I will change the span."
   ]
  },
  {
   "cell_type": "code",
   "execution_count": 483,
   "id": "smaller-upset",
   "metadata": {},
   "outputs": [
    {
     "data": {
      "text/html": [
       "<div>\n",
       "<style scoped>\n",
       "    .dataframe tbody tr th:only-of-type {\n",
       "        vertical-align: middle;\n",
       "    }\n",
       "\n",
       "    .dataframe tbody tr th {\n",
       "        vertical-align: top;\n",
       "    }\n",
       "\n",
       "    .dataframe thead th {\n",
       "        text-align: right;\n",
       "    }\n",
       "</style>\n",
       "<table border=\"1\" class=\"dataframe\">\n",
       "  <thead>\n",
       "    <tr style=\"text-align: right;\">\n",
       "      <th></th>\n",
       "      <th>SessionId</th>\n",
       "      <th>MovieId</th>\n",
       "      <th>Rating</th>\n",
       "      <th>Time</th>\n",
       "    </tr>\n",
       "  </thead>\n",
       "  <tbody>\n",
       "    <tr>\n",
       "      <th>5024</th>\n",
       "      <td>36</td>\n",
       "      <td>3359</td>\n",
       "      <td>5</td>\n",
       "      <td>1015905485</td>\n",
       "    </tr>\n",
       "    <tr>\n",
       "      <th>5033</th>\n",
       "      <td>36</td>\n",
       "      <td>581</td>\n",
       "      <td>4</td>\n",
       "      <td>1015905127</td>\n",
       "    </tr>\n",
       "    <tr>\n",
       "      <th>5059</th>\n",
       "      <td>36</td>\n",
       "      <td>1191</td>\n",
       "      <td>4</td>\n",
       "      <td>1015905249</td>\n",
       "    </tr>\n",
       "    <tr>\n",
       "      <th>5061</th>\n",
       "      <td>36</td>\n",
       "      <td>1266</td>\n",
       "      <td>5</td>\n",
       "      <td>1040545109</td>\n",
       "    </tr>\n",
       "    <tr>\n",
       "      <th>5068</th>\n",
       "      <td>36</td>\n",
       "      <td>2713</td>\n",
       "      <td>1</td>\n",
       "      <td>1040544662</td>\n",
       "    </tr>\n",
       "    <tr>\n",
       "      <th>...</th>\n",
       "      <td>...</td>\n",
       "      <td>...</td>\n",
       "      <td>...</td>\n",
       "      <td>...</td>\n",
       "    </tr>\n",
       "    <tr>\n",
       "      <th>992774</th>\n",
       "      <td>5996</td>\n",
       "      <td>542</td>\n",
       "      <td>3</td>\n",
       "      <td>1020111524</td>\n",
       "    </tr>\n",
       "    <tr>\n",
       "      <th>992776</th>\n",
       "      <td>5996</td>\n",
       "      <td>1079</td>\n",
       "      <td>5</td>\n",
       "      <td>1020096629</td>\n",
       "    </tr>\n",
       "    <tr>\n",
       "      <th>992782</th>\n",
       "      <td>5996</td>\n",
       "      <td>552</td>\n",
       "      <td>4</td>\n",
       "      <td>1020110044</td>\n",
       "    </tr>\n",
       "    <tr>\n",
       "      <th>992783</th>\n",
       "      <td>5996</td>\n",
       "      <td>1086</td>\n",
       "      <td>5</td>\n",
       "      <td>1020096471</td>\n",
       "    </tr>\n",
       "    <tr>\n",
       "      <th>992786</th>\n",
       "      <td>5996</td>\n",
       "      <td>1091</td>\n",
       "      <td>3</td>\n",
       "      <td>1020110814</td>\n",
       "    </tr>\n",
       "  </tbody>\n",
       "</table>\n",
       "<p>21704 rows × 4 columns</p>\n",
       "</div>"
      ],
      "text/plain": [
       "        SessionId  MovieId  Rating        Time\n",
       "5024           36     3359       5  1015905485\n",
       "5033           36      581       4  1015905127\n",
       "5059           36     1191       4  1015905249\n",
       "5061           36     1266       5  1040545109\n",
       "5068           36     2713       1  1040544662\n",
       "...           ...      ...     ...         ...\n",
       "992774       5996      542       3  1020111524\n",
       "992776       5996     1079       5  1020096629\n",
       "992782       5996      552       4  1020110044\n",
       "992783       5996     1086       5  1020096471\n",
       "992786       5996     1091       3  1020110814\n",
       "\n",
       "[21704 rows x 4 columns]"
      ]
     },
     "execution_count": 483,
     "metadata": {},
     "output_type": "execute_result"
    }
   ],
   "source": [
    "# 날짜에서 sec로 변환\n",
    "def day_to_sec(days):\n",
    "    return days*24*60*60\n",
    "\n",
    "month_ago = latest - day_to_sec(365)\n",
    "data = data[data['Time']>month_ago]\n",
    "data"
   ]
  },
  {
   "cell_type": "code",
   "execution_count": 484,
   "id": "acquired-column",
   "metadata": {},
   "outputs": [
    {
     "data": {
      "text/plain": [
       "Series([], dtype: int64)"
      ]
     },
     "execution_count": 484,
     "metadata": {},
     "output_type": "execute_result"
    }
   ],
   "source": [
    "session_length[session_length.values ==1]"
   ]
  },
  {
   "cell_type": "markdown",
   "id": "hundred-pierre",
   "metadata": {},
   "source": [
    "### There's no session(id) of which the value is 1."
   ]
  },
  {
   "attachments": {
    "image.png": {
     "image/png": "[encoded data removed]"
    }
   },
   "cell_type": "markdown",
   "id": "fancy-belgium",
   "metadata": {},
   "source": [
    "### Split the data by\n",
    "- training set : 11 months\n",
    "- validation set : 15 days\n",
    "- test set : 15 days\n",
    "![image.png](attachment:image.png)"
   ]
  },
  {
   "cell_type": "code",
   "execution_count": 485,
   "id": "sought-judge",
   "metadata": {},
   "outputs": [],
   "source": [
    "def split_by_date(data: pd.DataFrame, n_days: int):\n",
    "    final_time = data['Time'].max()\n",
    "    session_last_time = data.groupby('SessionId')['Time'].max()\n",
    "    session_in_train = session_last_time[session_last_time < final_time - day_to_sec(n_days)].index\n",
    "    session_in_test = session_last_time[session_last_time >= final_time - day_to_sec(n_days)].index\n",
    "\n",
    "    before_date = data[data['SessionId'].isin(session_in_train)]\n",
    "    after_date = data[data['SessionId'].isin(session_in_test)]\n",
    "    after_date = after_date[after_date['MovieId'].isin(before_date['MovieId'])]\n",
    "    return before_date, after_date"
   ]
  },
  {
   "cell_type": "code",
   "execution_count": 486,
   "id": "liquid-subject",
   "metadata": {},
   "outputs": [],
   "source": [
    "tr, test = split_by_date(data, n_days=15)\n",
    "tr, val = split_by_date(tr, n_days=15)"
   ]
  },
  {
   "cell_type": "code",
   "execution_count": 487,
   "id": "median-champion",
   "metadata": {},
   "outputs": [],
   "source": [
    "def stats_info(data: pd.DataFrame, status: str):\n",
    "    print(f'* {status} Set Stats Info\\n'\n",
    "          f'\\t Events: {len(data)}\\n'\n",
    "          f'\\t Sessions: {data[\"SessionId\"].nunique()}\\n'\n",
    "          f'\\t Items: {data[\"MovieId\"].nunique()}\\n'\n",
    "          f'\\t First Time : {data[\"Time\"].min()}\\n'\n",
    "          f'\\t Last Time : {data[\"Time\"].max()}\\n')"
   ]
  },
  {
   "cell_type": "code",
   "execution_count": 488,
   "id": "palestinian-robin",
   "metadata": {},
   "outputs": [
    {
     "name": "stdout",
     "output_type": "stream",
     "text": [
      "* train Set Stats Info\n",
      "\t Events: 13986\n",
      "\t Sessions: 395\n",
      "\t Items: 2616\n",
      "\t First Time : 1014923199\n",
      "\t Last Time : 1043809240\n",
      "\n",
      "* valid Set Stats Info\n",
      "\t Events: 2226\n",
      "\t Sessions: 35\n",
      "\t Items: 1221\n",
      "\t First Time : 1014973332\n",
      "\t Last Time : 1045154214\n",
      "\n",
      "* test Set Stats Info\n",
      "\t Events: 5113\n",
      "\t Sessions: 68\n",
      "\t Items: 1999\n",
      "\t First Time : 1014955410\n",
      "\t Last Time : 1046454590\n",
      "\n"
     ]
    }
   ],
   "source": [
    "stats_info(tr, 'train')\n",
    "stats_info(val, 'valid')\n",
    "stats_info(test, 'test')"
   ]
  },
  {
   "cell_type": "markdown",
   "id": "coordinated-presentation",
   "metadata": {},
   "source": [
    "Since it is **User Id** rather than Real Session id, even 'first time' in test/validation set starts from the past. Maybe it would be rather better for its **widespread distribution**, though being different from original intention."
   ]
  },
  {
   "cell_type": "code",
   "execution_count": 489,
   "id": "functional-generation",
   "metadata": {},
   "outputs": [],
   "source": [
    "# train set에 없는 아이템이 val, test기간에 생길 수 있으므로 train data를 기준으로 인덱싱합니다.\n",
    "id2idx = {item_id : index for index, item_id in enumerate(tr['MovieId'].unique())}\n",
    "\n",
    "def indexing(df, id2idx):\n",
    "    df['movie_idx'] = df['MovieId'].map(lambda x: id2idx.get(x, -1))  # id2idx에 없는 아이템은 모르는 값(-1) 처리 해줍니다.\n",
    "    return df\n",
    "\n",
    "tr = indexing(tr, id2idx)\n",
    "val = indexing(val, id2idx)\n",
    "test = indexing(test, id2idx)"
   ]
  },
  {
   "cell_type": "code",
   "execution_count": 490,
   "id": "covered-voice",
   "metadata": {},
   "outputs": [],
   "source": [
    "save_path = data_path / 'processed'\n",
    "save_path.mkdir(parents=True, exist_ok=True)\n",
    "\n",
    "tr.to_pickle(save_path / 'train.pkl')\n",
    "val.to_pickle(save_path / 'valid.pkl')\n",
    "test.to_pickle(save_path / 'test.pkl')"
   ]
  },
  {
   "cell_type": "markdown",
   "id": "spatial-affair",
   "metadata": {},
   "source": [
    "### Step 2. 미니 배치의 구성\n",
    "실습코드 내역을 참고하여 데이터셋과 미니 배치를 구성해 봅시다. Session-Parallel Mini-Batch의 개념에 따라, \n",
    "학습 속도의 저하가 최소화될 수 있도록 구성합니다.\n",
    "단, 위 Step 1에서 Session 단위를 어떻게 정의했느냐에 따라서 Session-Parallel Mini-Batch이 굳이 필요하지 않을 수도 있습니다."
   ]
  },
  {
   "cell_type": "code",
   "execution_count": 491,
   "id": "logical-clarity",
   "metadata": {},
   "outputs": [],
   "source": [
    "class SessionDataset : \n",
    "    \n",
    "    def __init__(self, data):\n",
    "        self.df = data\n",
    "        self.click_offsets = self.get_click_offsets()\n",
    "        self.session_idx = np.arange(self.df['SessionId'].nunique()) #indexing to SessionId\n",
    "        \n",
    "    def get_click_offsets(self):\n",
    "        ##Return the indexes of the first click of each session IDs,\n",
    "        offsets = np.zeros(self.df['SessionId'].nunique()+1, dtype=np.int32)\n",
    "        offsets[1:] = self.df.groupby('SessionId').size().cumsum()\n",
    "        return offsets\n",
    "        "
   ]
  },
  {
   "cell_type": "code",
   "execution_count": 492,
   "id": "extreme-hands",
   "metadata": {},
   "outputs": [
    {
     "data": {
      "text/html": [
       "<div>\n",
       "<style scoped>\n",
       "    .dataframe tbody tr th:only-of-type {\n",
       "        vertical-align: middle;\n",
       "    }\n",
       "\n",
       "    .dataframe tbody tr th {\n",
       "        vertical-align: top;\n",
       "    }\n",
       "\n",
       "    .dataframe thead th {\n",
       "        text-align: right;\n",
       "    }\n",
       "</style>\n",
       "<table border=\"1\" class=\"dataframe\">\n",
       "  <thead>\n",
       "    <tr style=\"text-align: right;\">\n",
       "      <th></th>\n",
       "      <th>SessionId</th>\n",
       "      <th>MovieId</th>\n",
       "      <th>Rating</th>\n",
       "      <th>Time</th>\n",
       "      <th>movie_idx</th>\n",
       "    </tr>\n",
       "  </thead>\n",
       "  <tbody>\n",
       "    <tr>\n",
       "      <th>5024</th>\n",
       "      <td>36</td>\n",
       "      <td>3359</td>\n",
       "      <td>5</td>\n",
       "      <td>1015905485</td>\n",
       "      <td>0</td>\n",
       "    </tr>\n",
       "    <tr>\n",
       "      <th>5033</th>\n",
       "      <td>36</td>\n",
       "      <td>581</td>\n",
       "      <td>4</td>\n",
       "      <td>1015905127</td>\n",
       "      <td>1</td>\n",
       "    </tr>\n",
       "    <tr>\n",
       "      <th>5059</th>\n",
       "      <td>36</td>\n",
       "      <td>1191</td>\n",
       "      <td>4</td>\n",
       "      <td>1015905249</td>\n",
       "      <td>2</td>\n",
       "    </tr>\n",
       "    <tr>\n",
       "      <th>5061</th>\n",
       "      <td>36</td>\n",
       "      <td>1266</td>\n",
       "      <td>5</td>\n",
       "      <td>1040545109</td>\n",
       "      <td>3</td>\n",
       "    </tr>\n",
       "    <tr>\n",
       "      <th>5068</th>\n",
       "      <td>36</td>\n",
       "      <td>2713</td>\n",
       "      <td>1</td>\n",
       "      <td>1040544662</td>\n",
       "      <td>4</td>\n",
       "    </tr>\n",
       "    <tr>\n",
       "      <th>5072</th>\n",
       "      <td>36</td>\n",
       "      <td>1912</td>\n",
       "      <td>5</td>\n",
       "      <td>1015904924</td>\n",
       "      <td>5</td>\n",
       "    </tr>\n",
       "    <tr>\n",
       "      <th>5075</th>\n",
       "      <td>36</td>\n",
       "      <td>595</td>\n",
       "      <td>4</td>\n",
       "      <td>1040545109</td>\n",
       "      <td>6</td>\n",
       "    </tr>\n",
       "    <tr>\n",
       "      <th>5103</th>\n",
       "      <td>36</td>\n",
       "      <td>247</td>\n",
       "      <td>4</td>\n",
       "      <td>1040545068</td>\n",
       "      <td>7</td>\n",
       "    </tr>\n",
       "    <tr>\n",
       "      <th>5108</th>\n",
       "      <td>36</td>\n",
       "      <td>1283</td>\n",
       "      <td>4</td>\n",
       "      <td>1015962403</td>\n",
       "      <td>8</td>\n",
       "    </tr>\n",
       "    <tr>\n",
       "      <th>5112</th>\n",
       "      <td>36</td>\n",
       "      <td>2662</td>\n",
       "      <td>3</td>\n",
       "      <td>1015904924</td>\n",
       "      <td>9</td>\n",
       "    </tr>\n",
       "  </tbody>\n",
       "</table>\n",
       "</div>"
      ],
      "text/plain": [
       "      SessionId  MovieId  Rating        Time  movie_idx\n",
       "5024         36     3359       5  1015905485          0\n",
       "5033         36      581       4  1015905127          1\n",
       "5059         36     1191       4  1015905249          2\n",
       "5061         36     1266       5  1040545109          3\n",
       "5068         36     2713       1  1040544662          4\n",
       "5072         36     1912       5  1015904924          5\n",
       "5075         36      595       4  1040545109          6\n",
       "5103         36      247       4  1040545068          7\n",
       "5108         36     1283       4  1015962403          8\n",
       "5112         36     2662       3  1015904924          9"
      ]
     },
     "execution_count": 492,
     "metadata": {},
     "output_type": "execute_result"
    }
   ],
   "source": [
    "tr_dataset = SessionDataset(tr)\n",
    "tr_dataset.df.head(10)"
   ]
  },
  {
   "cell_type": "code",
   "execution_count": 493,
   "id": "working-torture",
   "metadata": {},
   "outputs": [
    {
     "data": {
      "text/plain": [
       "array([    0,    34,   154,   161,   261,   277,   282,   284,   285,\n",
       "         352,   353,   355,   380,   386,   405,   422,   443,   498,\n",
       "         571,   584,   676,   725,   769,   775,   784,   804,   813,\n",
       "         825,   831,   835,   876,   908,   922,   928,   951,  1068,\n",
       "        1069,  1075,  1092,  1112,  1138,  1141,  1192,  1200,  1230,\n",
       "        1234,  1236,  1392,  1398,  1404,  1450,  1461,  1660,  1672,\n",
       "        1715,  1719,  1728,  1729,  1731,  1733,  1749,  1752,  1795,\n",
       "        1796,  1812,  1813,  1818,  1829,  1838,  1839,  1900,  2029,\n",
       "        2086,  2100,  2114,  2120,  2282,  2293,  2296,  2301,  2874,\n",
       "        2896,  2929,  2943,  2944,  2947,  2973,  2976,  2984,  2997,\n",
       "        3005,  3008,  3052,  3124,  3128,  3137,  3163,  3199,  3300,\n",
       "        3368,  3406,  3457,  3470,  3610,  3613,  3630,  3631,  3651,\n",
       "        3666,  3735,  3737,  3753,  3755,  3789,  3878,  3911,  3925,\n",
       "        3930,  4187,  4217,  4228,  4307,  4313,  4387,  4402,  4403,\n",
       "        4455,  4639,  4765,  4854,  4878,  4885,  4889,  4890,  4950,\n",
       "        4984,  5031,  5145,  5168,  5169,  5175,  5247,  5277,  5282,\n",
       "        5308,  5321,  5323,  5356,  5359,  5362,  5373,  5375,  5378,\n",
       "        5396,  5403,  5416,  5491,  5502,  5567,  5588,  5612,  5634,\n",
       "        5641,  5657,  5686,  5694,  5696,  5700,  5714,  5737,  5843,\n",
       "        5847,  5886,  5898,  5920,  5951,  5964,  6029,  6060,  6116,\n",
       "        6122,  6287,  6334,  6399,  6410,  6500,  6504,  6510,  6522,\n",
       "        6531,  6537,  6545,  6565,  6596,  6657,  6661,  6663,  6665,\n",
       "        6699,  6953,  6976,  6981,  6983,  6991,  7078,  7079,  7103,\n",
       "        7172,  7179,  7322,  7335,  7351,  7487,  7517,  7578,  7628,\n",
       "        7640,  7709,  7713,  7743,  7750,  7763,  7847,  7891,  7894,\n",
       "        7897,  7914,  7921,  7980,  7984,  7985,  8009,  8013,  8027,\n",
       "        8039,  8040,  8055,  8056,  8071,  8202,  8209,  8235,  8263,\n",
       "        8295,  8297,  8299,  8302,  8316,  8373,  8469,  8527,  8589,\n",
       "        8602,  8604,  8652,  8676,  8769,  8771,  8993,  9021,  9045,\n",
       "        9048,  9055,  9060,  9071,  9200,  9214,  9219,  9229,  9239,\n",
       "        9249,  9255,  9261,  9279,  9281,  9313,  9344,  9379,  9446,\n",
       "        9465,  9469,  9555,  9725,  9763,  9768,  9782,  9784,  9825,\n",
       "        9833,  9853,  9880,  9924,  9943, 10278, 10319, 10352, 10360,\n",
       "       10534, 10542, 10557, 10569, 10583, 10758, 10772, 10776, 10844,\n",
       "       10847, 10876, 10898, 10916, 10917, 10924, 10950, 10964, 11058,\n",
       "       11093, 11094, 11097, 11297, 11358, 11360, 11382, 11384, 11388,\n",
       "       11414, 11418, 11441, 11471, 11545, 11561, 11573, 11579, 11600,\n",
       "       11614, 11869, 11896, 11922, 12101, 12137, 12180, 12288, 12312,\n",
       "       12343, 12354, 12355, 12405, 12421, 12458, 12492, 12493, 12497,\n",
       "       12500, 12529, 12535, 12555, 12653, 12665, 12689, 12695, 12716,\n",
       "       12751, 12758, 12797, 12806, 12813, 12816, 12818, 12820, 12910,\n",
       "       12999, 13016, 13035, 13037, 13039, 13043, 13082, 13089, 13141,\n",
       "       13154, 13172, 13176, 13257, 13309, 13318, 13347, 13358, 13464,\n",
       "       13473, 13477, 13535, 13556, 13838, 13839, 13843, 13863, 13986],\n",
       "      dtype=int32)"
      ]
     },
     "execution_count": 493,
     "metadata": {},
     "output_type": "execute_result"
    }
   ],
   "source": [
    "tr_dataset.click_offsets"
   ]
  },
  {
   "cell_type": "code",
   "execution_count": 494,
   "id": "angry-night",
   "metadata": {},
   "outputs": [
    {
     "data": {
      "text/plain": [
       "396"
      ]
     },
     "execution_count": 494,
     "metadata": {},
     "output_type": "execute_result"
    }
   ],
   "source": [
    "len(tr_dataset.click_offsets)"
   ]
  },
  {
   "cell_type": "code",
   "execution_count": 495,
   "id": "stable-father",
   "metadata": {},
   "outputs": [
    {
     "data": {
      "text/plain": [
       "array([  0,   1,   2,   3,   4,   5,   6,   7,   8,   9,  10,  11,  12,\n",
       "        13,  14,  15,  16,  17,  18,  19,  20,  21,  22,  23,  24,  25,\n",
       "        26,  27,  28,  29,  30,  31,  32,  33,  34,  35,  36,  37,  38,\n",
       "        39,  40,  41,  42,  43,  44,  45,  46,  47,  48,  49,  50,  51,\n",
       "        52,  53,  54,  55,  56,  57,  58,  59,  60,  61,  62,  63,  64,\n",
       "        65,  66,  67,  68,  69,  70,  71,  72,  73,  74,  75,  76,  77,\n",
       "        78,  79,  80,  81,  82,  83,  84,  85,  86,  87,  88,  89,  90,\n",
       "        91,  92,  93,  94,  95,  96,  97,  98,  99, 100, 101, 102, 103,\n",
       "       104, 105, 106, 107, 108, 109, 110, 111, 112, 113, 114, 115, 116,\n",
       "       117, 118, 119, 120, 121, 122, 123, 124, 125, 126, 127, 128, 129,\n",
       "       130, 131, 132, 133, 134, 135, 136, 137, 138, 139, 140, 141, 142,\n",
       "       143, 144, 145, 146, 147, 148, 149, 150, 151, 152, 153, 154, 155,\n",
       "       156, 157, 158, 159, 160, 161, 162, 163, 164, 165, 166, 167, 168,\n",
       "       169, 170, 171, 172, 173, 174, 175, 176, 177, 178, 179, 180, 181,\n",
       "       182, 183, 184, 185, 186, 187, 188, 189, 190, 191, 192, 193, 194,\n",
       "       195, 196, 197, 198, 199, 200, 201, 202, 203, 204, 205, 206, 207,\n",
       "       208, 209, 210, 211, 212, 213, 214, 215, 216, 217, 218, 219, 220,\n",
       "       221, 222, 223, 224, 225, 226, 227, 228, 229, 230, 231, 232, 233,\n",
       "       234, 235, 236, 237, 238, 239, 240, 241, 242, 243, 244, 245, 246,\n",
       "       247, 248, 249, 250, 251, 252, 253, 254, 255, 256, 257, 258, 259,\n",
       "       260, 261, 262, 263, 264, 265, 266, 267, 268, 269, 270, 271, 272,\n",
       "       273, 274, 275, 276, 277, 278, 279, 280, 281, 282, 283, 284, 285,\n",
       "       286, 287, 288, 289, 290, 291, 292, 293, 294, 295, 296, 297, 298,\n",
       "       299, 300, 301, 302, 303, 304, 305, 306, 307, 308, 309, 310, 311,\n",
       "       312, 313, 314, 315, 316, 317, 318, 319, 320, 321, 322, 323, 324,\n",
       "       325, 326, 327, 328, 329, 330, 331, 332, 333, 334, 335, 336, 337,\n",
       "       338, 339, 340, 341, 342, 343, 344, 345, 346, 347, 348, 349, 350,\n",
       "       351, 352, 353, 354, 355, 356, 357, 358, 359, 360, 361, 362, 363,\n",
       "       364, 365, 366, 367, 368, 369, 370, 371, 372, 373, 374, 375, 376,\n",
       "       377, 378, 379, 380, 381, 382, 383, 384, 385, 386, 387, 388, 389,\n",
       "       390, 391, 392, 393, 394])"
      ]
     },
     "execution_count": 495,
     "metadata": {},
     "output_type": "execute_result"
    }
   ],
   "source": [
    "tr_dataset.session_idx"
   ]
  },
  {
   "cell_type": "code",
   "execution_count": 496,
   "id": "lyric-classics",
   "metadata": {},
   "outputs": [],
   "source": [
    "class SessionDataLoader:\n",
    "    def __init__(self, dataset: SessionDataset, batch_size=20):\n",
    "        self.dataset = dataset\n",
    "        self.batch_size = batch_size\n",
    "    def __iter__(self):\n",
    "        \"\"\" Returns the iterator for producing session-parallel training mini-batches.\n",
    "        Yields:\n",
    "            input (B,):  Item indices that will be encoded as one-hot vectors later.\n",
    "            target (B,): a Variable that stores the target item indices\n",
    "            masks: Numpy array indicating the positions of the sessions to be terminated\n",
    "        \"\"\"\n",
    "\n",
    "        start, end, mask, last_session, finished = self.initialize()  # initialize 메소드에서 확인해주세요.\n",
    "        \"\"\"\n",
    "        start : Index Where Session Start\n",
    "        end : Index Where Session End\n",
    "        mask : indicator for the sessions to be terminated\n",
    "        \"\"\"\n",
    "        while not finished:\n",
    "            min_len = (end - start).min() - 1  # Shortest Length Among Sessions\n",
    "            for i in range(min_len):\n",
    "                # Build inputs & targets\n",
    "                inp = self.dataset.df['movie_idx'].values[start + i]\n",
    "                target = self.dataset.df['movie_idx'].values[start + i + 1]\n",
    "                yield inp, target, mask\n",
    "            start, end, mask, last_session, finished = self.update_status(start, end, min_len, last_session, finished)\n",
    "            \n",
    "    def initialize(self):\n",
    "        first_iters = np.arange(self.batch_size)    # 첫 배치에 사용할 세션 Index를 가져옵니다.\n",
    "        last_session = self.batch_size - 1    # 마지막으로 다루고 있는 세션 Index를 저장해둡니다.\n",
    "        #print(first_iters)\n",
    "        start = self.dataset.click_offsets[self.dataset.session_idx[first_iters]]       # data 상에서 session이 시작된 위치를 가져옵니다.\n",
    "        end = self.dataset.click_offsets[self.dataset.session_idx[first_iters] + 1]  # session이 끝난 위치 바로 다음 위치를 가져옵니다.\n",
    "        mask = np.array([])   # session의 모든 아이템을 다 돌은 경우 mask에 추가해줄 것입니다.\n",
    "        finished = False         # data를 전부 돌았는지 기록하기 위한 변수입니다.\n",
    "        return start, end, mask, last_session, finished\n",
    "\n",
    "    def update_status(self, start: np.ndarray, end: np.ndarray, min_len: int, last_session: int, finished: bool):  \n",
    "        # 다음 배치 데이터를 생성하기 위해 상태를 update합니다.\n",
    "        \n",
    "        start += min_len   # __iter__에서 min_len 만큼 for문을 돌았으므로 start를 min_len 만큼 더해줍니다.\n",
    "        mask = np.arange(self.batch_size)[(end - start) == 1]  \n",
    "        # end는 다음 세션이 시작되는 위치인데 start와 한 칸 차이난다는 것은 session이 끝났다는 뜻입니다. mask에 기록해줍니다.\n",
    "\n",
    "        for i, idx in enumerate(mask, start=1):  # mask에 추가된 세션 개수만큼 새로운 세션을 돌것입니다.\n",
    "            new_session = last_session + i  \n",
    "            if new_session > self.dataset.session_idx[-1]:  # 만약 새로운 세션이 마지막 세션 index보다 크다면 모든 학습데이터를 돈 것입니다.\n",
    "                finished = True\n",
    "                break\n",
    "            # update the next starting/ending point\n",
    "            start[idx] = self.dataset.click_offsets[self.dataset.session_idx[new_session]]     # 종료된 세션 대신 새로운 세션의 시작점을 기록합니다.\n",
    "            end[idx] = self.dataset.click_offsets[self.dataset.session_idx[new_session] + 1]\n",
    "\n",
    "        last_session += len(mask)  # 마지막 세션의 위치를 기록해둡니다.\n",
    "        return start, end, mask, last_session, finished"
   ]
  },
  {
   "cell_type": "code",
   "execution_count": 497,
   "id": "genetic-refund",
   "metadata": {},
   "outputs": [
    {
     "data": {
      "text/html": [
       "<div>\n",
       "<style scoped>\n",
       "    .dataframe tbody tr th:only-of-type {\n",
       "        vertical-align: middle;\n",
       "    }\n",
       "\n",
       "    .dataframe tbody tr th {\n",
       "        vertical-align: top;\n",
       "    }\n",
       "\n",
       "    .dataframe thead th {\n",
       "        text-align: right;\n",
       "    }\n",
       "</style>\n",
       "<table border=\"1\" class=\"dataframe\">\n",
       "  <thead>\n",
       "    <tr style=\"text-align: right;\">\n",
       "      <th></th>\n",
       "      <th>SessionId</th>\n",
       "      <th>MovieId</th>\n",
       "      <th>Rating</th>\n",
       "      <th>Time</th>\n",
       "      <th>movie_idx</th>\n",
       "    </tr>\n",
       "  </thead>\n",
       "  <tbody>\n",
       "    <tr>\n",
       "      <th>5024</th>\n",
       "      <td>36</td>\n",
       "      <td>3359</td>\n",
       "      <td>5</td>\n",
       "      <td>1015905485</td>\n",
       "      <td>0</td>\n",
       "    </tr>\n",
       "    <tr>\n",
       "      <th>5033</th>\n",
       "      <td>36</td>\n",
       "      <td>581</td>\n",
       "      <td>4</td>\n",
       "      <td>1015905127</td>\n",
       "      <td>1</td>\n",
       "    </tr>\n",
       "    <tr>\n",
       "      <th>5059</th>\n",
       "      <td>36</td>\n",
       "      <td>1191</td>\n",
       "      <td>4</td>\n",
       "      <td>1015905249</td>\n",
       "      <td>2</td>\n",
       "    </tr>\n",
       "    <tr>\n",
       "      <th>5061</th>\n",
       "      <td>36</td>\n",
       "      <td>1266</td>\n",
       "      <td>5</td>\n",
       "      <td>1040545109</td>\n",
       "      <td>3</td>\n",
       "    </tr>\n",
       "    <tr>\n",
       "      <th>5068</th>\n",
       "      <td>36</td>\n",
       "      <td>2713</td>\n",
       "      <td>1</td>\n",
       "      <td>1040544662</td>\n",
       "      <td>4</td>\n",
       "    </tr>\n",
       "    <tr>\n",
       "      <th>5072</th>\n",
       "      <td>36</td>\n",
       "      <td>1912</td>\n",
       "      <td>5</td>\n",
       "      <td>1015904924</td>\n",
       "      <td>5</td>\n",
       "    </tr>\n",
       "    <tr>\n",
       "      <th>5075</th>\n",
       "      <td>36</td>\n",
       "      <td>595</td>\n",
       "      <td>4</td>\n",
       "      <td>1040545109</td>\n",
       "      <td>6</td>\n",
       "    </tr>\n",
       "    <tr>\n",
       "      <th>5103</th>\n",
       "      <td>36</td>\n",
       "      <td>247</td>\n",
       "      <td>4</td>\n",
       "      <td>1040545068</td>\n",
       "      <td>7</td>\n",
       "    </tr>\n",
       "    <tr>\n",
       "      <th>5108</th>\n",
       "      <td>36</td>\n",
       "      <td>1283</td>\n",
       "      <td>4</td>\n",
       "      <td>1015962403</td>\n",
       "      <td>8</td>\n",
       "    </tr>\n",
       "    <tr>\n",
       "      <th>5112</th>\n",
       "      <td>36</td>\n",
       "      <td>2662</td>\n",
       "      <td>3</td>\n",
       "      <td>1015904924</td>\n",
       "      <td>9</td>\n",
       "    </tr>\n",
       "    <tr>\n",
       "      <th>5121</th>\n",
       "      <td>36</td>\n",
       "      <td>1291</td>\n",
       "      <td>5</td>\n",
       "      <td>1015904836</td>\n",
       "      <td>10</td>\n",
       "    </tr>\n",
       "    <tr>\n",
       "      <th>5122</th>\n",
       "      <td>36</td>\n",
       "      <td>2167</td>\n",
       "      <td>5</td>\n",
       "      <td>1015904905</td>\n",
       "      <td>11</td>\n",
       "    </tr>\n",
       "    <tr>\n",
       "      <th>5125</th>\n",
       "      <td>36</td>\n",
       "      <td>1295</td>\n",
       "      <td>4</td>\n",
       "      <td>1040545109</td>\n",
       "      <td>12</td>\n",
       "    </tr>\n",
       "    <tr>\n",
       "      <th>5144</th>\n",
       "      <td>36</td>\n",
       "      <td>198</td>\n",
       "      <td>5</td>\n",
       "      <td>1015904988</td>\n",
       "      <td>13</td>\n",
       "    </tr>\n",
       "    <tr>\n",
       "      <th>5169</th>\n",
       "      <td>36</td>\n",
       "      <td>1387</td>\n",
       "      <td>5</td>\n",
       "      <td>1015904819</td>\n",
       "      <td>14</td>\n",
       "    </tr>\n",
       "  </tbody>\n",
       "</table>\n",
       "</div>"
      ],
      "text/plain": [
       "      SessionId  MovieId  Rating        Time  movie_idx\n",
       "5024         36     3359       5  1015905485          0\n",
       "5033         36      581       4  1015905127          1\n",
       "5059         36     1191       4  1015905249          2\n",
       "5061         36     1266       5  1040545109          3\n",
       "5068         36     2713       1  1040544662          4\n",
       "5072         36     1912       5  1015904924          5\n",
       "5075         36      595       4  1040545109          6\n",
       "5103         36      247       4  1040545068          7\n",
       "5108         36     1283       4  1015962403          8\n",
       "5112         36     2662       3  1015904924          9\n",
       "5121         36     1291       5  1015904836         10\n",
       "5122         36     2167       5  1015904905         11\n",
       "5125         36     1295       4  1040545109         12\n",
       "5144         36      198       5  1015904988         13\n",
       "5169         36     1387       5  1015904819         14"
      ]
     },
     "execution_count": 497,
     "metadata": {},
     "output_type": "execute_result"
    }
   ],
   "source": [
    "tr_data_loader = SessionDataLoader(tr_dataset, batch_size=4)\n",
    "tr_dataset.df.head(15)"
   ]
  },
  {
   "cell_type": "code",
   "execution_count": 498,
   "id": "excessive-poison",
   "metadata": {},
   "outputs": [],
   "source": [
    "iter_ex = iter(tr_data_loader)"
   ]
  },
  {
   "cell_type": "code",
   "execution_count": 499,
   "id": "everyday-metropolitan",
   "metadata": {},
   "outputs": [
    {
     "name": "stdout",
     "output_type": "stream",
     "text": [
      "Model Input movie Idx are : [  0  34 149 155]\n",
      "Label movie Idx are :       [  1  35 150 156]\n",
      "Previous Masked Input Idx are []\n"
     ]
    }
   ],
   "source": [
    "inputs, labels, mask =  next(iter_ex)\n",
    "print(f'Model Input movie Idx are : {inputs}')\n",
    "print(f'Label movie Idx are : {\"\":5} {labels}')\n",
    "print(f'Previous Masked Input Idx are {mask}')"
   ]
  },
  {
   "cell_type": "markdown",
   "id": "wicked-forestry",
   "metadata": {},
   "source": [
    "### Step 3. 모델 구성\n",
    "이 부분도 실습코드 내역을 참고하여 다양하게 모델 구조를 시도해볼 수 있습니다."
   ]
  },
  {
   "cell_type": "code",
   "execution_count": 500,
   "id": "threaded-atlantic",
   "metadata": {},
   "outputs": [],
   "source": [
    "def mrr_k(pred, truth: int, k: int):\n",
    "    indexing = np.where(pred[:k] == truth)[0]\n",
    "    if len(indexing) > 0:\n",
    "        return 1 / (indexing[0] + 1)\n",
    "    else:\n",
    "        return 0\n",
    "\n",
    "\n",
    "def recall_k(pred, truth: int, k: int) -> int:\n",
    "    answer = truth in pred[:k]\n",
    "    return int(answer)"
   ]
  },
  {
   "cell_type": "code",
   "execution_count": 501,
   "id": "higher-nancy",
   "metadata": {},
   "outputs": [],
   "source": [
    "import numpy as np\n",
    "import tensorflow as tf\n",
    "from tensorflow.keras.layers import Input, Dense, Dropout, GRU\n",
    "from tensorflow.keras.losses import categorical_crossentropy\n",
    "from tensorflow.keras.models import Model\n",
    "from tensorflow.keras.optimizers import Adam\n",
    "from tensorflow.keras.utils import to_categorical\n",
    "from tqdm import tqdm"
   ]
  },
  {
   "cell_type": "code",
   "execution_count": 502,
   "id": "collect-fundamentals",
   "metadata": {},
   "outputs": [],
   "source": [
    "def create_model(args):\n",
    "    inputs = Input(batch_shape=(args.batch_size, 1, args.num_items))\n",
    "    gru, _ = GRU(args.hsz, stateful=True, return_state=True, name='GRU')(inputs)\n",
    "    dropout = Dropout(args.drop_rate)(gru)\n",
    "    predictions = Dense(args.num_items, activation='softmax')(dropout)\n",
    "    model = Model(inputs=inputs, outputs=[predictions])\n",
    "    model.compile(loss=categorical_crossentropy, optimizer=Adam(args.lr), metrics=['accuracy'])\n",
    "    model.summary()\n",
    "    return model"
   ]
  },
  {
   "cell_type": "code",
   "execution_count": 503,
   "id": "arranged-swing",
   "metadata": {},
   "outputs": [],
   "source": [
    "class Args :\n",
    "    def __init__(self, tr, val, test, batch_size, hsz, drop_rate, lr, epochs, k):\n",
    "        self.tr = tr\n",
    "        self.val = val\n",
    "        self.test = test\n",
    "        self.num_items = tr['MovieId'].nunique()\n",
    "        self.num_sessions = tr['SessionId'].nunique()\n",
    "        self.batch_size = batch_size\n",
    "        self.hsz = hsz\n",
    "        self.drop_rate = drop_rate\n",
    "        self.lr = lr\n",
    "        self.epochs = epochs\n",
    "        self.k = k\n",
    "args = Args(tr,val, test, batch_size=4, hsz=50, drop_rate=0.1, lr=0.001,epochs=3, k=20)\n",
    "    "
   ]
  },
  {
   "cell_type": "code",
   "execution_count": 504,
   "id": "posted-fitness",
   "metadata": {},
   "outputs": [
    {
     "name": "stdout",
     "output_type": "stream",
     "text": [
      "Model: \"model_30\"\n",
      "_________________________________________________________________\n",
      "Layer (type)                 Output Shape              Param #   \n",
      "=================================================================\n",
      "input_31 (InputLayer)        [(4, 1, 2616)]            0         \n",
      "_________________________________________________________________\n",
      "GRU (GRU)                    [(4, 50), (4, 50)]        400200    \n",
      "_________________________________________________________________\n",
      "dropout_30 (Dropout)         (4, 50)                   0         \n",
      "_________________________________________________________________\n",
      "dense_30 (Dense)             (4, 2616)                 133416    \n",
      "=================================================================\n",
      "Total params: 533,616\n",
      "Trainable params: 533,616\n",
      "Non-trainable params: 0\n",
      "_________________________________________________________________\n"
     ]
    }
   ],
   "source": [
    "model = create_model(args)"
   ]
  },
  {
   "cell_type": "markdown",
   "id": "prerequisite-corpus",
   "metadata": {},
   "source": [
    "### Step 4. 모델 학습\n",
    "다양한 하이퍼파라미터를 변경해 보며 검증해 보도록 합니다. 실습코드에 언급되었던 Recall, MRR 등의 개념들도 함께 관리될 수 있도록 합니다."
   ]
  },
  {
   "cell_type": "code",
   "execution_count": 505,
   "id": "cooperative-ribbon",
   "metadata": {},
   "outputs": [],
   "source": [
    "# train 셋으로 학습하면서 valid 셋으로 검증합니다.\n",
    "def train_model(model, args):\n",
    "    train_dataset = SessionDataset(args.tr)\n",
    "    train_loader = SessionDataLoader(train_dataset, batch_size=args.batch_size)\n",
    "\n",
    "    for epoch in range(1, args.epochs + 1):\n",
    "        total_step = len(args.tr) - args.tr['SessionId'].nunique()\n",
    "        tr_loader = tqdm(train_loader, total=total_step // args.batch_size, desc='Train', mininterval=1)\n",
    "        for feat, target, mask in tr_loader:\n",
    "            reset_hidden_states(model, mask)  # 종료된 session은 hidden_state를 초기화합니다. 아래 메서드에서 확인해주세요.\n",
    "\n",
    "            input_ohe = to_categorical(feat, num_classes=args.num_items)\n",
    "            input_ohe = np.expand_dims(input_ohe, axis=1)\n",
    "            target_ohe = to_categorical(target, num_classes=args.num_items)\n",
    "\n",
    "            result = model.train_on_batch(input_ohe, target_ohe)\n",
    "            tr_loader.set_postfix(train_loss=result[0], accuracy = result[1])\n",
    "\n",
    "        val_recall, val_mrr = get_metrics(args.val, model, args, args.k)  # valid set에 대해 검증합니다.\n",
    "\n",
    "        print(f\"\\t - Recall@{args.k} epoch {epoch}: {val_recall:3f}\")\n",
    "        print(f\"\\t - MRR@{args.k}    epoch {epoch}: {val_mrr:3f}\\n\")\n",
    "\n",
    "\n",
    "def reset_hidden_states(model, mask):\n",
    "    gru_layer = model.get_layer(name='GRU')  # model에서 gru layer를 가져옵니다.\n",
    "    hidden_states = gru_layer.states[0].numpy()  # gru_layer의 parameter를 가져옵니다.\n",
    "    for elt in mask:  # mask된 인덱스 즉, 종료된 세션의 인덱스를 돌면서\n",
    "        hidden_states[elt, :] = 0  # parameter를 초기화 합니다.\n",
    "    gru_layer.reset_states(states=hidden_states)\n",
    "\n",
    "\n",
    "def get_metrics(data, model, args, k: int):  # valid셋과 test셋을 평가하는 코드입니다. \n",
    "                                             # train과 거의 같지만 mrr, recall을 구하는 라인이 있습니다.\n",
    "    dataset = SessionDataset(data)\n",
    "    loader = SessionDataLoader(dataset, batch_size=args.batch_size)\n",
    "    recall_list, mrr_list = [], []\n",
    "\n",
    "    total_step = len(data) - data['SessionId'].nunique()\n",
    "    for inputs, label, mask in tqdm(loader, total=total_step // args.batch_size, desc='Evaluation', mininterval=1):\n",
    "        reset_hidden_states(model, mask)\n",
    "        input_ohe = to_categorical(inputs, num_classes=args.num_items)\n",
    "        input_ohe = np.expand_dims(input_ohe, axis=1)\n",
    "\n",
    "        pred = model.predict(input_ohe, batch_size=args.batch_size)\n",
    "        pred_arg = tf.argsort(pred, direction='DESCENDING')  # softmax 값이 큰 순서대로 sorting 합니다.\n",
    "\n",
    "        length = len(inputs)\n",
    "        recall_list.extend([recall_k(pred_arg[i], label[i], k) for i in range(length)])\n",
    "        mrr_list.extend([mrr_k(pred_arg[i], label[i], k) for i in range(length)])\n",
    "\n",
    "    recall, mrr = np.mean(recall_list), np.mean(mrr_list)\n",
    "    return recall, mrr"
   ]
  },
  {
   "cell_type": "code",
   "execution_count": 506,
   "id": "special-march",
   "metadata": {},
   "outputs": [
    {
     "name": "stderr",
     "output_type": "stream",
     "text": [
      "Train:  97%|█████████▋| 3303/3397 [00:25<00:00, 127.08it/s, accuracy=0, train_loss=8.06]   \n",
      "Evaluation:  88%|████████▊ | 479/547 [00:25<00:03, 19.01it/s]\n",
      "Train:   0%|          | 0/3397 [00:00<?, ?it/s, accuracy=0, train_loss=7.19]   "
     ]
    },
    {
     "name": "stdout",
     "output_type": "stream",
     "text": [
      "\t - Recall@20 epoch 1: 0.055846\n",
      "\t - MRR@20    epoch 1: 0.009824\n",
      "\n"
     ]
    },
    {
     "name": "stderr",
     "output_type": "stream",
     "text": [
      "Train:  97%|█████████▋| 3303/3397 [00:24<00:00, 134.87it/s, accuracy=0, train_loss=7.65]   \n",
      "Evaluation:  88%|████████▊ | 479/547 [00:24<00:03, 19.23it/s]\n",
      "Train:   0%|          | 0/3397 [00:00<?, ?it/s, accuracy=0, train_loss=7.03]"
     ]
    },
    {
     "name": "stdout",
     "output_type": "stream",
     "text": [
      "\t - Recall@20 epoch 2: 0.080898\n",
      "\t - MRR@20    epoch 2: 0.017973\n",
      "\n"
     ]
    },
    {
     "name": "stderr",
     "output_type": "stream",
     "text": [
      "Train:  97%|█████████▋| 3303/3397 [00:24<00:00, 134.06it/s, accuracy=0, train_loss=6.98]   \n",
      "Evaluation:  88%|████████▊ | 479/547 [00:24<00:03, 19.50it/s]"
     ]
    },
    {
     "name": "stdout",
     "output_type": "stream",
     "text": [
      "\t - Recall@20 epoch 3: 0.119520\n",
      "\t - MRR@20    epoch 3: 0.030687\n",
      "\n"
     ]
    },
    {
     "name": "stderr",
     "output_type": "stream",
     "text": [
      "\n"
     ]
    }
   ],
   "source": [
    "train_model(model, args)"
   ]
  },
  {
   "cell_type": "markdown",
   "id": "julian-plant",
   "metadata": {},
   "source": [
    "### Step 5. 모델 테스트\n",
    "미리 구성한 테스트셋을 바탕으로 Recall, MRR 을 확인해 봅니다."
   ]
  },
  {
   "cell_type": "code",
   "execution_count": 507,
   "id": "contemporary-responsibility",
   "metadata": {},
   "outputs": [
    {
     "name": "stderr",
     "output_type": "stream",
     "text": [
      "Evaluation:  94%|█████████▎| 1182/1261 [01:01<00:04, 19.12it/s]"
     ]
    },
    {
     "name": "stdout",
     "output_type": "stream",
     "text": [
      "\t - Recall@20: 0.076142\n",
      "\t - MRR@20: 0.019956\n",
      "\n"
     ]
    },
    {
     "name": "stderr",
     "output_type": "stream",
     "text": [
      "\n"
     ]
    }
   ],
   "source": [
    "def test_model(model, args, test):\n",
    "    test_recall, test_mrr = get_metrics(test, model, args, 20)\n",
    "    print(f\"\\t - Recall@{args.k}: {test_recall:3f}\")\n",
    "    print(f\"\\t - MRR@{args.k}: {test_mrr:3f}\\n\")\n",
    "\n",
    "test_model(model, args, test)"
   ]
  },
  {
   "cell_type": "markdown",
   "id": "another-teddy",
   "metadata": {},
   "source": [
    "## 회고\n",
    "\n",
    " mini batch와 기타 코드에 대한 면밀한 이해가 필요해 보인다."
   ]
  },
  {
   "cell_type": "code",
   "execution_count": null,
   "id": "gentle-testimony",
   "metadata": {},
   "outputs": [],
   "source": []
  }
 ],
 "metadata": {
  "kernelspec": {
   "display_name": "Python 3",
   "language": "python",
   "name": "python3"
  },
  "language_info": {
   "codemirror_mode": {
    "name": "ipython",
    "version": 3
   },
   "file_extension": ".py",
   "mimetype": "text/x-python",
   "name": "python",
   "nbconvert_exporter": "python",
   "pygments_lexer": "ipython3",
   "version": "3.7.9"
  }
 },
 "nbformat": 4,
 "nbformat_minor": 5
}
