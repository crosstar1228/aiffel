{
 "cells": [
  {
   "cell_type": "code",
   "execution_count": 37,
   "id": "incorrect-poster",
   "metadata": {},
   "outputs": [
    {
     "name": "stdout",
     "output_type": "stream",
     "text": [
      "PIL 라이브러리 import 완료!\n"
     ]
    }
   ],
   "source": [
    "from PIL import Image\n",
    "import os, glob\n",
    "import matplotlib.pyplot as plt\n",
    "\n",
    "print(\"PIL 라이브러리 import 완료!\")"
   ]
  },
  {
   "cell_type": "markdown",
   "id": "analyzed-venture",
   "metadata": {},
   "source": [
    "### 1. make a function for image resizing (preprocessing)"
   ]
  },
  {
   "cell_type": "code",
   "execution_count": 38,
   "id": "cordless-figure",
   "metadata": {},
   "outputs": [
    {
     "name": "stdout",
     "output_type": "stream",
     "text": [
      "599  images to be resized.\n",
      "599  images resized.\n",
      "가위 이미지 resize 완료!\n"
     ]
    }
   ],
   "source": [
    "import os\n",
    "\n",
    "def resize_images(img_path):\n",
    "\timages=glob.glob(img_path + \"/*.jpg\")  \n",
    "    \n",
    "\tprint(len(images), \" images to be resized.\")\n",
    "\n",
    "    # 파일마다 모두 28x28 사이즈로 바꾸어 저장합니다.\n",
    "\ttarget_size=(28,28)\n",
    "\tfor img in images:\n",
    "\t\told_img=Image.open(img)\n",
    "\t\tnew_img=old_img.resize(target_size,Image.ANTIALIAS)\n",
    "\t\tnew_img.save(img, \"JPEG\")\n",
    "    \n",
    "\tprint(len(images), \" images resized.\")\n",
    "\t\n",
    "# 가위 이미지가 저장된 디렉토리 아래의 모든 jpg 파일을 읽어들여서\n",
    "image_dir_path = os.getenv(\"HOME\") + \"/aiffel/rock_scissor_paper/scissor\"\n",
    "resize_images(image_dir_path)\n",
    "\n",
    "print(\"가위 이미지 resize 완료!\")"
   ]
  },
  {
   "cell_type": "markdown",
   "id": "cultural-taylor",
   "metadata": {},
   "source": [
    "Also resize images of rocks, and papers"
   ]
  },
  {
   "cell_type": "code",
   "execution_count": 39,
   "id": "final-worship",
   "metadata": {},
   "outputs": [
    {
     "name": "stdout",
     "output_type": "stream",
     "text": [
      "599  images to be resized.\n",
      "599  images resized.\n",
      "바위 이미지 resize 완료!\n",
      "599  images to be resized.\n",
      "599  images resized.\n",
      "보 이미지 resize 완료!\n"
     ]
    }
   ],
   "source": [
    "# 바위 이미지가 저장된 디렉토리 아래의 모든 jpg 파일을 읽어들여서\n",
    "image_dir_path2 = os.getenv(\"HOME\") + \"/aiffel/rock_scissor_paper/rock\"\n",
    "resize_images(image_dir_path2)\n",
    "\n",
    "print(\"바위 이미지 resize 완료!\")\n",
    "\n",
    "# 파일마다 모두 28x28 사이즈로 바꾸어 저장합니다.\n",
    "image_dir_path3 = os.getenv(\"HOME\") + \"/aiffel/rock_scissor_paper/paper\"\n",
    "resize_images(image_dir_path3)\n",
    "\n",
    "print(\"보 이미지 resize 완료!\")"
   ]
  },
  {
   "cell_type": "code",
   "execution_count": 40,
   "id": "adapted-factor",
   "metadata": {},
   "outputs": [
    {
     "name": "stdout",
     "output_type": "stream",
     "text": [
      "599  images to be resized.\n",
      "599  images resized.\n",
      "보 이미지 resize 완료!\n"
     ]
    }
   ],
   "source": [
    "image_dir_path3 = os.getenv(\"HOME\") + \"/aiffel/rock_scissor_paper/paper\"\n",
    "\n",
    "\n",
    "\n",
    "# 파일마다 모두 28x28 사이즈로 바꾸어 저장합니다.\n",
    "resize_images(image_dir_path3)\n",
    "print(\"보 이미지 resize 완료!\")"
   ]
  },
  {
   "cell_type": "markdown",
   "id": "interstate-drive",
   "metadata": {},
   "source": [
    "1) make a tensor which consists of zero, and it is the 'white space' that image and label data will written\n",
    "2) scissor, rock, paper corresponds to 0, 1 ,2 each in label data."
   ]
  },
  {
   "cell_type": "code",
   "execution_count": 45,
   "id": "offensive-reading",
   "metadata": {},
   "outputs": [
    {
     "name": "stdout",
     "output_type": "stream",
     "text": [
      "학습데이터(x_train)의 이미지 개수는 1797 입니다.\n",
      "x_train shape: (1797, 28, 28, 3)\n",
      "y_train shape: (1797,)\n"
     ]
    }
   ],
   "source": [
    "import numpy as np\n",
    "\n",
    "def load_data(img_path, number_of_data):  # 가위바위보 이미지 개수 총합에 주의하세요.\n",
    "    # 가위 : 0, 바위 : 1, 보 : 2\n",
    "    img_size=28\n",
    "    color=3\n",
    "    #이미지 데이터와 라벨(가위 : 0, 바위 : 1, 보 : 2) 데이터를 담을 행렬(matrix) 영역을 생성합니다.\n",
    "    imgs=np.zeros(number_of_data*img_size*img_size*color,dtype=np.int32).reshape(number_of_data,img_size,img_size,color)\n",
    "    labels=np.zeros(number_of_data,dtype=np.int32)\n",
    "\n",
    "    idx=0\n",
    "    for file in glob.iglob(img_path+'/scissor/*.jpg'):\n",
    "        img = np.array(Image.open(file),dtype=np.int32)\n",
    "        imgs[idx,:,:,:]=img    # 데이터 영역에 이미지 행렬을 복사\n",
    "        labels[idx]=0   # 가위 : 0\n",
    "        idx=idx+1\n",
    "\n",
    "    for file in glob.iglob(img_path+'/rock/*.jpg'):\n",
    "        img = np.array(Image.open(file),dtype=np.int32)\n",
    "        imgs[idx,:,:,:]=img    # 데이터 영역에 이미지 행렬을 복사\n",
    "        labels[idx]=1   # 바위 : 1\n",
    "        idx=idx+1  \n",
    "    \n",
    "    for file in glob.iglob(img_path+'/paper/*.jpg'):\n",
    "        img = np.array(Image.open(file),dtype=np.int32)\n",
    "        imgs[idx,:,:,:]=img    # 데이터 영역에 이미지 행렬을 복사\n",
    "        labels[idx]=2   # 보 : 2\n",
    "        idx=idx+1\n",
    "        \n",
    "    print(\"학습데이터(x_train)의 이미지 개수는\", idx,\"입니다.\")\n",
    "    return imgs, labels\n",
    "\n",
    "image_dir_path = os.getenv(\"HOME\") + \"/aiffel/rock_scissor_paper\"\n",
    "(x_train, y_train)=load_data(image_dir_path,1797)\n",
    "x_train_norm = x_train/255.0   # 입력은 0~1 사이의 값으로 정규화\n",
    "\n",
    "print(\"x_train shape: {}\".format(x_train.shape))\n",
    "print(\"y_train shape: {}\".format(y_train.shape))"
   ]
  },
  {
   "cell_type": "markdown",
   "id": "unavailable-phone",
   "metadata": {},
   "source": [
    "### Make a sequntial model( neural network)"
   ]
  },
  {
   "cell_type": "code",
   "execution_count": null,
   "id": "martial-scanning",
   "metadata": {},
   "outputs": [],
   "source": [
    "\n",
    "\n",
    "import tensorflow as tf\n",
    "from tensorflow import keras\n",
    "import numpy as np\n",
    "\n",
    "# model을 직접 만들어 보세요.\n",
    "# Hint! model의 입력/출력부에 특히 유의해 주세요. 가위바위보 데이터셋은 MNIST 데이터셋과 어떤 점이 달라졌나요?\n",
    "# [[YOUR CODE]]\n",
    "\n",
    "# MAX = np.max(x_train)\n",
    "# MIN = np.min(x_train)\n",
    "# x_train_norm = (x_train - MIN)/(MAX-MIN)\n",
    "# print(np.max(x_train_norm), np.min(x_train_norm))\n",
    "x_train_norm = x_train/255\n",
    "\n",
    "model=keras.models.Sequential()\n",
    "model.add(keras.layers.Conv2D(32, (3,3), activation='relu', input_shape=(28,28,3)))\n",
    "model.add(keras.layers.MaxPool2D(2,2))\n",
    "model.add(keras.layers.Conv2D(32, (3,3), activation='relu'))\n",
    "model.add(keras.layers.MaxPooling2D((2,2)))\n",
    "model.add(keras.layers.Flatten())\n",
    "model.add(keras.layers.Dense(64, activation='relu'))\n",
    "model.add(keras.layers.Dense(3, activation='softmax'))\n",
    "\n",
    "model.summary()\n",
    "print(x_train_norm.shape)\n",
    "\n"
   ]
  },
  {
   "cell_type": "markdown",
   "id": "champion-europe",
   "metadata": {},
   "source": [
    "### Compiling, and fitting(learning)"
   ]
  },
  {
   "cell_type": "code",
   "execution_count": 49,
   "id": "expected-centre",
   "metadata": {},
   "outputs": [
    {
     "name": "stdout",
     "output_type": "stream",
     "text": [
      "Epoch 1/25\n",
      "57/57 [==============================] - 2s 34ms/step - loss: 1.0594 - accuracy: 0.4465\n",
      "Epoch 2/25\n",
      "57/57 [==============================] - 0s 3ms/step - loss: 0.8144 - accuracy: 0.6440\n",
      "Epoch 3/25\n",
      "57/57 [==============================] - 0s 3ms/step - loss: 0.5060 - accuracy: 0.8323\n",
      "Epoch 4/25\n",
      "57/57 [==============================] - 0s 3ms/step - loss: 0.4580 - accuracy: 0.8179\n",
      "Epoch 5/25\n",
      "57/57 [==============================] - 0s 3ms/step - loss: 0.3699 - accuracy: 0.8504\n",
      "Epoch 6/25\n",
      "57/57 [==============================] - 0s 3ms/step - loss: 0.2629 - accuracy: 0.9080\n",
      "Epoch 7/25\n",
      "57/57 [==============================] - 0s 3ms/step - loss: 0.2130 - accuracy: 0.9275\n",
      "Epoch 8/25\n",
      "57/57 [==============================] - 0s 3ms/step - loss: 0.1810 - accuracy: 0.9341\n",
      "Epoch 9/25\n",
      "57/57 [==============================] - 0s 3ms/step - loss: 0.1266 - accuracy: 0.9611\n",
      "Epoch 10/25\n",
      "57/57 [==============================] - 0s 3ms/step - loss: 0.0816 - accuracy: 0.9861\n",
      "Epoch 11/25\n",
      "57/57 [==============================] - 0s 3ms/step - loss: 0.0731 - accuracy: 0.9813\n",
      "Epoch 12/25\n",
      "57/57 [==============================] - 0s 3ms/step - loss: 0.0522 - accuracy: 0.9864\n",
      "Epoch 13/25\n",
      "57/57 [==============================] - 0s 3ms/step - loss: 0.0434 - accuracy: 0.9931\n",
      "Epoch 14/25\n",
      "57/57 [==============================] - 0s 3ms/step - loss: 0.0426 - accuracy: 0.9937\n",
      "Epoch 15/25\n",
      "57/57 [==============================] - 0s 3ms/step - loss: 0.0235 - accuracy: 0.9982\n",
      "Epoch 16/25\n",
      "57/57 [==============================] - 0s 3ms/step - loss: 0.0215 - accuracy: 0.9973\n",
      "Epoch 17/25\n",
      "57/57 [==============================] - 0s 3ms/step - loss: 0.0153 - accuracy: 0.9994\n",
      "Epoch 18/25\n",
      "57/57 [==============================] - 0s 3ms/step - loss: 0.0108 - accuracy: 0.9998\n",
      "Epoch 19/25\n",
      "57/57 [==============================] - 0s 3ms/step - loss: 0.0093 - accuracy: 1.0000\n",
      "Epoch 20/25\n",
      "57/57 [==============================] - 0s 3ms/step - loss: 0.0097 - accuracy: 1.0000\n",
      "Epoch 21/25\n",
      "57/57 [==============================] - 0s 3ms/step - loss: 0.0091 - accuracy: 1.0000\n",
      "Epoch 22/25\n",
      "57/57 [==============================] - 0s 3ms/step - loss: 0.0149 - accuracy: 0.9961\n",
      "Epoch 23/25\n",
      "57/57 [==============================] - 0s 3ms/step - loss: 0.0047 - accuracy: 1.0000\n",
      "Epoch 24/25\n",
      "57/57 [==============================] - 0s 3ms/step - loss: 0.0058 - accuracy: 1.0000\n",
      "Epoch 25/25\n",
      "57/57 [==============================] - 0s 3ms/step - loss: 0.0031 - accuracy: 1.0000\n"
     ]
    },
    {
     "data": {
      "text/plain": [
       "<tensorflow.python.keras.callbacks.History at 0x7f61437a0750>"
      ]
     },
     "execution_count": 49,
     "metadata": {},
     "output_type": "execute_result"
    }
   ],
   "source": [
    "model.compile(optimizer='adam',loss = 'sparse_categorical_crossentropy', metrics =['accuracy'])\n",
    "model.fit(x_train_norm, y_train, epochs=25)"
   ]
  },
  {
   "cell_type": "markdown",
   "id": "bearing-fortune",
   "metadata": {},
   "source": [
    "### open a test dataset(also preprocess)"
   ]
  },
  {
   "cell_type": "code",
   "execution_count": 50,
   "id": "smooth-transformation",
   "metadata": {},
   "outputs": [
    {
     "name": "stdout",
     "output_type": "stream",
     "text": [
      "33  images to be resized.\n",
      "33  images resized.\n",
      "33  images to be resized.\n",
      "33  images resized.\n",
      "33  images to be resized.\n",
      "33  images resized.\n",
      "학습데이터(x_train)의 이미지 개수는 99 입니다.\n",
      "1.0\n"
     ]
    },
    {
     "data": {
      "text/plain": [
       "<matplotlib.image.AxesImage at 0x7f616f45a5d0>"
      ]
     },
     "execution_count": 50,
     "metadata": {},
     "output_type": "execute_result"
    },
    {
     "data": {
      "image/png": "[encoded data removed]",
      "text/plain": [
       "<Figure size 432x288 with 1 Axes>"
      ]
     },
     "metadata": {
      "needs_background": "light"
     },
     "output_type": "display_data"
    }
   ],
   "source": [
    "# x_test, y_test를 만드는 방법은 x_train, y_train을 만드는 방법과 아주 유사합니다.\n",
    "# [[YOUR CODE]]\n",
    "\n",
    "\n",
    "image_dir_path_1 = os.getenv(\"HOME\") + \"/aiffel/rock_scissor_paper/test/test/rock\"\n",
    "image_dir_path_2 = os.getenv(\"HOME\") + \"/aiffel/rock_scissor_paper/test/test/scissor\"\n",
    "image_dir_path_3 = os.getenv(\"HOME\") + \"/aiffel/rock_scissor_paper/test/test/paper\"\n",
    "resize_images(image_dir_path_1)\n",
    "resize_images(image_dir_path_2)\n",
    "resize_images(image_dir_path_3) \n",
    "\n",
    "image_dir_path_ = os.getenv(\"HOME\") + \"/aiffel/rock_scissor_paper/test/test\"\n",
    "\n",
    "(x_test, y_test)=load_data(image_dir_path_,number_of_data=99)\n",
    "\n",
    "x_test_norm = x_test/255\n",
    "print(np.max(x_test_norm))\n",
    "\n",
    "plt.imshow(x_test_norm[0])"
   ]
  },
  {
   "cell_type": "markdown",
   "id": "eight-cleaning",
   "metadata": {},
   "source": [
    "### Evaluate the model"
   ]
  },
  {
   "cell_type": "code",
   "execution_count": 51,
   "id": "curious-chick",
   "metadata": {},
   "outputs": [
    {
     "name": "stdout",
     "output_type": "stream",
     "text": [
      "5/5 [==============================] - 0s 2ms/step - loss: 1.3573 - accuracy: 0.6364\n",
      "test loss, test acc: [1.3573217391967773, 0.6363636255264282]\n"
     ]
    }
   ],
   "source": [
    "results = model.evaluate(x_test_norm, y_test, batch_size=20)\n",
    "print(\"test loss, test acc:\", results)"
   ]
  },
  {
   "cell_type": "markdown",
   "id": "varying-neighbor",
   "metadata": {},
   "source": [
    "### Accuracy measured with about 64%."
   ]
  }
 ],
 "metadata": {
  "kernelspec": {
   "display_name": "Python 3",
   "language": "python",
   "name": "python3"
  },
  "language_info": {
   "codemirror_mode": {
    "name": "ipython",
    "version": 3
   },
   "file_extension": ".py",
   "mimetype": "text/x-python",
   "name": "python",
   "nbconvert_exporter": "python",
   "pygments_lexer": "ipython3",
   "version": "3.7.9"
  }
 },
 "nbformat": 4,
 "nbformat_minor": 5
}
