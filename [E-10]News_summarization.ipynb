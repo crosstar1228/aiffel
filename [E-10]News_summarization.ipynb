{
 "cells": [
  {
   "cell_type": "markdown",
   "id": "behavioral-magnitude",
   "metadata": {},
   "source": [
    "# News summarization\n",
    "## 1. Abstractive summarization (text : trainset, headlines : label)\n",
    "## 2. Extractive summarization (only use text column)"
   ]
  },
  {
   "cell_type": "markdown",
   "id": "graduate-clause",
   "metadata": {},
   "source": [
    "### Step 1.  Data loading (news_summary_more.csv)"
   ]
  },
  {
   "cell_type": "code",
   "execution_count": 8,
   "id": "pleasant-hawaiian",
   "metadata": {},
   "outputs": [
    {
     "name": "stderr",
     "output_type": "stream",
     "text": [
      "[nltk_data] Downloading package stopwords to /aiffel/nltk_data...\n",
      "[nltk_data]   Package stopwords is already up-to-date!\n"
     ]
    }
   ],
   "source": [
    "import nltk\n",
    "nltk.download('stopwords')\n",
    "import numpy as np\n",
    "import os\n",
    "import re\n",
    "import matplotlib.pyplot as plt\n",
    "from nltk.corpus import stopwords\n",
    "from bs4 import BeautifulSoup \n",
    "from tensorflow.keras.preprocessing.text import Tokenizer \n",
    "from tensorflow.keras.preprocessing.sequence import pad_sequences\n",
    "\n"
   ]
  },
  {
   "cell_type": "code",
   "execution_count": 9,
   "id": "anonymous-graphics",
   "metadata": {},
   "outputs": [],
   "source": [
    "import pandas as pd\n",
    "import urllib.request\n",
    "urllib.request.urlretrieve(\"https://raw.githubusercontent.com/sunnysai12345/News_Summary/master/news_summary_more.csv\", filename=\"news_summary_more.csv\")\n",
    "data = pd.read_csv('news_summary_more.csv', encoding='iso-8859-1')"
   ]
  },
  {
   "cell_type": "code",
   "execution_count": 10,
   "id": "smaller-theta",
   "metadata": {},
   "outputs": [
    {
     "data": {
      "text/html": [
       "<div>\n",
       "<style scoped>\n",
       "    .dataframe tbody tr th:only-of-type {\n",
       "        vertical-align: middle;\n",
       "    }\n",
       "\n",
       "    .dataframe tbody tr th {\n",
       "        vertical-align: top;\n",
       "    }\n",
       "\n",
       "    .dataframe thead th {\n",
       "        text-align: right;\n",
       "    }\n",
       "</style>\n",
       "<table border=\"1\" class=\"dataframe\">\n",
       "  <thead>\n",
       "    <tr style=\"text-align: right;\">\n",
       "      <th></th>\n",
       "      <th>headlines</th>\n",
       "      <th>text</th>\n",
       "    </tr>\n",
       "  </thead>\n",
       "  <tbody>\n",
       "    <tr>\n",
       "      <th>76769</th>\n",
       "      <td>US would turn into sea of fire: N Korea over U...</td>\n",
       "      <td>North Korea has warned that the US would turn ...</td>\n",
       "    </tr>\n",
       "    <tr>\n",
       "      <th>50509</th>\n",
       "      <td>Woman pays Ã¢ÂÂ¹5 crore to marry 15 years you...</td>\n",
       "      <td>A woman in China has paid a sum of Ã¢ÂÂ¹5 cro...</td>\n",
       "    </tr>\n",
       "    <tr>\n",
       "      <th>80578</th>\n",
       "      <td>In Pictures: France celebrates Bastille Day</td>\n",
       "      <td>France on Friday celebrated its 228th Bastille...</td>\n",
       "    </tr>\n",
       "    <tr>\n",
       "      <th>56373</th>\n",
       "      <td>Keeper fielding at slip takes one-handed somer...</td>\n",
       "      <td>Melbourne Stars' regular wicketkeeper Seb Gotc...</td>\n",
       "    </tr>\n",
       "    <tr>\n",
       "      <th>37450</th>\n",
       "      <td>Virgin Hyperloop One to make Ã¢ÂÂ¹3,000 crore...</td>\n",
       "      <td>Richard Branson-led Virgin Hyperloop One will ...</td>\n",
       "    </tr>\n",
       "    <tr>\n",
       "      <th>34983</th>\n",
       "      <td>No pilot should fly for over 125 hours in 30 d...</td>\n",
       "      <td>The Delhi High Court has told the aviation reg...</td>\n",
       "    </tr>\n",
       "    <tr>\n",
       "      <th>89392</th>\n",
       "      <td>Saudi Arabia paid US soldiers protesting anti-...</td>\n",
       "      <td>Saudi Arabia paid US military veterans in an a...</td>\n",
       "    </tr>\n",
       "    <tr>\n",
       "      <th>67436</th>\n",
       "      <td>Ã¢ÂÂ¹13,000 fire pit lets users control flame...</td>\n",
       "      <td>US-based startup BioLite has developed a Ã¢ÂÂ...</td>\n",
       "    </tr>\n",
       "    <tr>\n",
       "      <th>67188</th>\n",
       "      <td>How was the Nobel-winning gravitational wave d...</td>\n",
       "      <td>For the first-ever gravitational wave detectio...</td>\n",
       "    </tr>\n",
       "    <tr>\n",
       "      <th>40586</th>\n",
       "      <td>I will visit: David Warner comments on SRH's I...</td>\n",
       "      <td>Former SunRisers Hyderabad captain David Warne...</td>\n",
       "    </tr>\n",
       "  </tbody>\n",
       "</table>\n",
       "</div>"
      ],
      "text/plain": [
       "                                               headlines  \\\n",
       "76769  US would turn into sea of fire: N Korea over U...   \n",
       "50509  Woman pays Ã¢ÂÂ¹5 crore to marry 15 years you...   \n",
       "80578        In Pictures: France celebrates Bastille Day   \n",
       "56373  Keeper fielding at slip takes one-handed somer...   \n",
       "37450  Virgin Hyperloop One to make Ã¢ÂÂ¹3,000 crore...   \n",
       "34983  No pilot should fly for over 125 hours in 30 d...   \n",
       "89392  Saudi Arabia paid US soldiers protesting anti-...   \n",
       "67436  Ã¢ÂÂ¹13,000 fire pit lets users control flame...   \n",
       "67188  How was the Nobel-winning gravitational wave d...   \n",
       "40586  I will visit: David Warner comments on SRH's I...   \n",
       "\n",
       "                                                    text  \n",
       "76769  North Korea has warned that the US would turn ...  \n",
       "50509  A woman in China has paid a sum of Ã¢ÂÂ¹5 cro...  \n",
       "80578  France on Friday celebrated its 228th Bastille...  \n",
       "56373  Melbourne Stars' regular wicketkeeper Seb Gotc...  \n",
       "37450  Richard Branson-led Virgin Hyperloop One will ...  \n",
       "34983  The Delhi High Court has told the aviation reg...  \n",
       "89392  Saudi Arabia paid US military veterans in an a...  \n",
       "67436  US-based startup BioLite has developed a Ã¢ÂÂ...  \n",
       "67188  For the first-ever gravitational wave detectio...  \n",
       "40586  Former SunRisers Hyderabad captain David Warne...  "
      ]
     },
     "execution_count": 10,
     "metadata": {},
     "output_type": "execute_result"
    }
   ],
   "source": [
    "data.sample(10)"
   ]
  },
  {
   "cell_type": "markdown",
   "id": "pleased-threat",
   "metadata": {},
   "source": [
    "### Step 2. Preprocessing\n",
    "실습에서 사용된 전처리를 참고하여 각자 필요하다고 생각하는 전처리를 추가 사용하여 텍스트를 정규화 또는 정제해 보세요. 만약, 불용어 제거를 선택한다면 상대적으로 길이가 짧은 요약 데이터에 대해서도 불용어를 제거하는 것이 좋을지 고민해 보세요."
   ]
  },
  {
   "cell_type": "code",
   "execution_count": 11,
   "id": "australian-weekly",
   "metadata": {},
   "outputs": [
    {
     "name": "stdout",
     "output_type": "stream",
     "text": [
      "Text 열에서 중복을 배제한 유일한 샘플의 수 : 98360\n",
      "Headline 열에서 중복을 배제한 유일한 샘플의 수 : 98280\n"
     ]
    }
   ],
   "source": [
    "print('Text 열에서 중복을 배제한 유일한 샘플의 수 :', data['text'].nunique())\n",
    "print('Headline 열에서 중복을 배제한 유일한 샘플의 수 :', data['headlines'].nunique())"
   ]
  },
  {
   "cell_type": "code",
   "execution_count": 12,
   "id": "fleet-cherry",
   "metadata": {},
   "outputs": [
    {
     "data": {
      "text/plain": [
       "41"
      ]
     },
     "execution_count": 12,
     "metadata": {},
     "output_type": "execute_result"
    }
   ],
   "source": [
    "data.duplicated(subset='text').sum()"
   ]
  },
  {
   "cell_type": "code",
   "execution_count": 13,
   "id": "exciting-special",
   "metadata": {},
   "outputs": [
    {
     "data": {
      "text/plain": [
       "121"
      ]
     },
     "execution_count": 13,
     "metadata": {},
     "output_type": "execute_result"
    }
   ],
   "source": [
    "data.duplicated(subset='headlines').sum()"
   ]
  },
  {
   "cell_type": "code",
   "execution_count": 14,
   "id": "finite-calendar",
   "metadata": {},
   "outputs": [
    {
     "name": "stdout",
     "output_type": "stream",
     "text": [
      "전체 샘플수 : 98280\n"
     ]
    }
   ],
   "source": [
    "# inplace=True 를 설정하면 DataFrame 타입 값을 return 하지 않고 data 내부를 직접적으로 바꿉니다\n",
    "data.drop_duplicates(subset = ['headlines'], inplace=True)\n",
    "print('전체 샘플수 :', (len(data)))"
   ]
  },
  {
   "cell_type": "code",
   "execution_count": 15,
   "id": "brief-indiana",
   "metadata": {},
   "outputs": [
    {
     "name": "stdout",
     "output_type": "stream",
     "text": [
      "headlines    0\n",
      "text         0\n",
      "dtype: int64\n"
     ]
    }
   ],
   "source": [
    "print(data.isnull().sum())"
   ]
  },
  {
   "cell_type": "code",
   "execution_count": 16,
   "id": "federal-sector",
   "metadata": {},
   "outputs": [
    {
     "name": "stdout",
     "output_type": "stream",
     "text": [
      "전체 샘플 수 : 98280\n"
     ]
    },
    {
     "data": {
      "text/html": [
       "<div>\n",
       "<style scoped>\n",
       "    .dataframe tbody tr th:only-of-type {\n",
       "        vertical-align: middle;\n",
       "    }\n",
       "\n",
       "    .dataframe tbody tr th {\n",
       "        vertical-align: top;\n",
       "    }\n",
       "\n",
       "    .dataframe thead th {\n",
       "        text-align: right;\n",
       "    }\n",
       "</style>\n",
       "<table border=\"1\" class=\"dataframe\">\n",
       "  <thead>\n",
       "    <tr style=\"text-align: right;\">\n",
       "      <th></th>\n",
       "      <th>headlines</th>\n",
       "      <th>text</th>\n",
       "    </tr>\n",
       "  </thead>\n",
       "  <tbody>\n",
       "    <tr>\n",
       "      <th>0</th>\n",
       "      <td>upGrad learner switches to career in ML &amp; Al w...</td>\n",
       "      <td>Saurav Kant, an alumnus of upGrad and IIIT-B's...</td>\n",
       "    </tr>\n",
       "    <tr>\n",
       "      <th>1</th>\n",
       "      <td>Delhi techie wins free food from Swiggy for on...</td>\n",
       "      <td>Kunal Shah's credit card bill payment platform...</td>\n",
       "    </tr>\n",
       "    <tr>\n",
       "      <th>2</th>\n",
       "      <td>New Zealand end Rohit Sharma-led India's 12-ma...</td>\n",
       "      <td>New Zealand defeated India by 8 wickets in the...</td>\n",
       "    </tr>\n",
       "    <tr>\n",
       "      <th>3</th>\n",
       "      <td>Aegon life iTerm insurance plan helps customer...</td>\n",
       "      <td>With Aegon Life iTerm Insurance plan, customer...</td>\n",
       "    </tr>\n",
       "    <tr>\n",
       "      <th>4</th>\n",
       "      <td>Have known Hirani for yrs, what if MeToo claim...</td>\n",
       "      <td>Speaking about the sexual harassment allegatio...</td>\n",
       "    </tr>\n",
       "    <tr>\n",
       "      <th>5</th>\n",
       "      <td>Rahat Fateh Ali Khan denies getting notice for...</td>\n",
       "      <td>Pakistani singer Rahat Fateh Ali Khan has deni...</td>\n",
       "    </tr>\n",
       "    <tr>\n",
       "      <th>6</th>\n",
       "      <td>India get all out for 92, their lowest ODI tot...</td>\n",
       "      <td>India recorded their lowest ODI total in New Z...</td>\n",
       "    </tr>\n",
       "    <tr>\n",
       "      <th>7</th>\n",
       "      <td>Govt directs Alok Verma to join work 1 day bef...</td>\n",
       "      <td>Weeks after ex-CBI Director Alok Verma told th...</td>\n",
       "    </tr>\n",
       "    <tr>\n",
       "      <th>8</th>\n",
       "      <td>Called PM Modi 'sir' 10 times to satisfy his e...</td>\n",
       "      <td>Andhra Pradesh CM N Chandrababu Naidu has said...</td>\n",
       "    </tr>\n",
       "    <tr>\n",
       "      <th>9</th>\n",
       "      <td>Cong wins Ramgarh bypoll in Rajasthan, takes t...</td>\n",
       "      <td>Congress candidate Shafia Zubair won the Ramga...</td>\n",
       "    </tr>\n",
       "  </tbody>\n",
       "</table>\n",
       "</div>"
      ],
      "text/plain": [
       "                                           headlines  \\\n",
       "0  upGrad learner switches to career in ML & Al w...   \n",
       "1  Delhi techie wins free food from Swiggy for on...   \n",
       "2  New Zealand end Rohit Sharma-led India's 12-ma...   \n",
       "3  Aegon life iTerm insurance plan helps customer...   \n",
       "4  Have known Hirani for yrs, what if MeToo claim...   \n",
       "5  Rahat Fateh Ali Khan denies getting notice for...   \n",
       "6  India get all out for 92, their lowest ODI tot...   \n",
       "7  Govt directs Alok Verma to join work 1 day bef...   \n",
       "8  Called PM Modi 'sir' 10 times to satisfy his e...   \n",
       "9  Cong wins Ramgarh bypoll in Rajasthan, takes t...   \n",
       "\n",
       "                                                text  \n",
       "0  Saurav Kant, an alumnus of upGrad and IIIT-B's...  \n",
       "1  Kunal Shah's credit card bill payment platform...  \n",
       "2  New Zealand defeated India by 8 wickets in the...  \n",
       "3  With Aegon Life iTerm Insurance plan, customer...  \n",
       "4  Speaking about the sexual harassment allegatio...  \n",
       "5  Pakistani singer Rahat Fateh Ali Khan has deni...  \n",
       "6  India recorded their lowest ODI total in New Z...  \n",
       "7  Weeks after ex-CBI Director Alok Verma told th...  \n",
       "8  Andhra Pradesh CM N Chandrababu Naidu has said...  \n",
       "9  Congress candidate Shafia Zubair won the Ramga...  "
      ]
     },
     "execution_count": 16,
     "metadata": {},
     "output_type": "execute_result"
    }
   ],
   "source": [
    "print('전체 샘플 수 :',len(data))\n",
    "data.head(10)"
   ]
  },
  {
   "cell_type": "code",
   "execution_count": 17,
   "id": "charming-dressing",
   "metadata": {},
   "outputs": [
    {
     "name": "stdout",
     "output_type": "stream",
     "text": [
      "정규화 사전의 수:  120\n"
     ]
    }
   ],
   "source": [
    "contractions = {\"ain't\": \"is not\", \"aren't\": \"are not\",\"can't\": \"cannot\", \"'cause\": \"because\", \"could've\": \"could have\", \"couldn't\": \"could not\",\n",
    "                           \"didn't\": \"did not\",  \"doesn't\": \"does not\", \"don't\": \"do not\", \"hadn't\": \"had not\", \"hasn't\": \"has not\", \"haven't\": \"have not\",\n",
    "                           \"he'd\": \"he would\",\"he'll\": \"he will\", \"he's\": \"he is\", \"how'd\": \"how did\", \"how'd'y\": \"how do you\", \"how'll\": \"how will\", \"how's\": \"how is\",\n",
    "                           \"I'd\": \"I would\", \"I'd've\": \"I would have\", \"I'll\": \"I will\", \"I'll've\": \"I will have\",\"I'm\": \"I am\", \"I've\": \"I have\", \"i'd\": \"i would\",\n",
    "                           \"i'd've\": \"i would have\", \"i'll\": \"i will\",  \"i'll've\": \"i will have\",\"i'm\": \"i am\", \"i've\": \"i have\", \"isn't\": \"is not\", \"it'd\": \"it would\",\n",
    "                           \"it'd've\": \"it would have\", \"it'll\": \"it will\", \"it'll've\": \"it will have\",\"it's\": \"it is\", \"let's\": \"let us\", \"ma'am\": \"madam\",\n",
    "                           \"mayn't\": \"may not\", \"might've\": \"might have\",\"mightn't\": \"might not\",\"mightn't've\": \"might not have\", \"must've\": \"must have\",\n",
    "                           \"mustn't\": \"must not\", \"mustn't've\": \"must not have\", \"needn't\": \"need not\", \"needn't've\": \"need not have\",\"o'clock\": \"of the clock\",\n",
    "                           \"oughtn't\": \"ought not\", \"oughtn't've\": \"ought not have\", \"shan't\": \"shall not\", \"sha'n't\": \"shall not\", \"shan't've\": \"shall not have\",\n",
    "                           \"she'd\": \"she would\", \"she'd've\": \"she would have\", \"she'll\": \"she will\", \"she'll've\": \"she will have\", \"she's\": \"she is\",\n",
    "                           \"should've\": \"should have\", \"shouldn't\": \"should not\", \"shouldn't've\": \"should not have\", \"so've\": \"so have\",\"so's\": \"so as\",\n",
    "                           \"this's\": \"this is\",\"that'd\": \"that would\", \"that'd've\": \"that would have\", \"that's\": \"that is\", \"there'd\": \"there would\",\n",
    "                           \"there'd've\": \"there would have\", \"there's\": \"there is\", \"here's\": \"here is\",\"they'd\": \"they would\", \"they'd've\": \"they would have\",\n",
    "                           \"they'll\": \"they will\", \"they'll've\": \"they will have\", \"they're\": \"they are\", \"they've\": \"they have\", \"to've\": \"to have\",\n",
    "                           \"wasn't\": \"was not\", \"we'd\": \"we would\", \"we'd've\": \"we would have\", \"we'll\": \"we will\", \"we'll've\": \"we will have\", \"we're\": \"we are\",\n",
    "                           \"we've\": \"we have\", \"weren't\": \"were not\", \"what'll\": \"what will\", \"what'll've\": \"what will have\", \"what're\": \"what are\",\n",
    "                           \"what's\": \"what is\", \"what've\": \"what have\", \"when's\": \"when is\", \"when've\": \"when have\", \"where'd\": \"where did\", \"where's\": \"where is\",\n",
    "                           \"where've\": \"where have\", \"who'll\": \"who will\", \"who'll've\": \"who will have\", \"who's\": \"who is\", \"who've\": \"who have\",\n",
    "                           \"why's\": \"why is\", \"why've\": \"why have\", \"will've\": \"will have\", \"won't\": \"will not\", \"won't've\": \"will not have\",\n",
    "                           \"would've\": \"would have\", \"wouldn't\": \"would not\", \"wouldn't've\": \"would not have\", \"y'all\": \"you all\",\n",
    "                           \"y'all'd\": \"you all would\",\"y'all'd've\": \"you all would have\",\"y'all're\": \"you all are\",\"y'all've\": \"you all have\",\n",
    "                           \"you'd\": \"you would\", \"you'd've\": \"you would have\", \"you'll\": \"you will\", \"you'll've\": \"you will have\",\n",
    "                           \"you're\": \"you are\", \"you've\": \"you have\"}\n",
    "\n",
    "print(\"정규화 사전의 수: \", len(contractions))"
   ]
  },
  {
   "cell_type": "code",
   "execution_count": 18,
   "id": "artificial-result",
   "metadata": {},
   "outputs": [
    {
     "name": "stdout",
     "output_type": "stream",
     "text": [
      "불용어 개수 : 179\n",
      "['i', 'me', 'my', 'myself', 'we', 'our', 'ours', 'ourselves', 'you', \"you're\", \"you've\", \"you'll\", \"you'd\", 'your', 'yours', 'yourself', 'yourselves', 'he', 'him', 'his', 'himself', 'she', \"she's\", 'her', 'hers', 'herself', 'it', \"it's\", 'its', 'itself', 'they', 'them', 'their', 'theirs', 'themselves', 'what', 'which', 'who', 'whom', 'this', 'that', \"that'll\", 'these', 'those', 'am', 'is', 'are', 'was', 'were', 'be', 'been', 'being', 'have', 'has', 'had', 'having', 'do', 'does', 'did', 'doing', 'a', 'an', 'the', 'and', 'but', 'if', 'or', 'because', 'as', 'until', 'while', 'of', 'at', 'by', 'for', 'with', 'about', 'against', 'between', 'into', 'through', 'during', 'before', 'after', 'above', 'below', 'to', 'from', 'up', 'down', 'in', 'out', 'on', 'off', 'over', 'under', 'again', 'further', 'then', 'once', 'here', 'there', 'when', 'where', 'why', 'how', 'all', 'any', 'both', 'each', 'few', 'more', 'most', 'other', 'some', 'such', 'no', 'nor', 'not', 'only', 'own', 'same', 'so', 'than', 'too', 'very', 's', 't', 'can', 'will', 'just', 'don', \"don't\", 'should', \"should've\", 'now', 'd', 'll', 'm', 'o', 're', 've', 'y', 'ain', 'aren', \"aren't\", 'couldn', \"couldn't\", 'didn', \"didn't\", 'doesn', \"doesn't\", 'hadn', \"hadn't\", 'hasn', \"hasn't\", 'haven', \"haven't\", 'isn', \"isn't\", 'ma', 'mightn', \"mightn't\", 'mustn', \"mustn't\", 'needn', \"needn't\", 'shan', \"shan't\", 'shouldn', \"shouldn't\", 'wasn', \"wasn't\", 'weren', \"weren't\", 'won', \"won't\", 'wouldn', \"wouldn't\"]\n"
     ]
    }
   ],
   "source": [
    "print('불용어 개수 :', len(stopwords.words('english') ))\n",
    "print(stopwords.words('english'))"
   ]
  },
  {
   "cell_type": "code",
   "execution_count": 19,
   "id": "molecular-rapid",
   "metadata": {},
   "outputs": [],
   "source": [
    "# 데이터 전처리 함수\n",
    "def preprocess_sentence(sentence, remove_stopwords=True):\n",
    "    sentence = sentence.lower() # 텍스트 소문자화\n",
    "    sentence = BeautifulSoup(sentence, \"lxml\").text # <br />, <a href = ...> 등의 html 태그 제거\n",
    "    sentence = re.sub(r'\\([^)]*\\)', '', sentence) # 괄호로 닫힌 문자열 (...) 제거 Ex) my husband (and myself!) for => my husband for\n",
    "    sentence = re.sub('\"','', sentence) # 쌍따옴표 \" 제거\n",
    "    sentence = ' '.join([contractions[t] if t in contractions else t for t in sentence.split(\" \")]) # 약어 정규화\n",
    "    sentence = re.sub(r\"'s\\b\",\"\", sentence) # 소유격 제거. Ex) roland's -> roland\n",
    "    sentence = re.sub(\"[^a-zA-Z]\", \" \", sentence) # 영어 외 문자(숫자, 특수문자 등) 공백으로 변환\n",
    "    sentence = re.sub('[m]{2,}', 'mm', sentence) # m이 3개 이상이면 2개로 변경. Ex) ummmmmmm yeah -> umm yeah\n",
    "    \n",
    "    # 불용어 제거 (Text)\n",
    "    if remove_stopwords:\n",
    "        tokens = ' '.join(word for word in sentence.split() if not word in stopwords.words('english') if len(word) > 1)\n",
    "    # 불용어 미제거 (Summary)\n",
    "    else:\n",
    "        tokens = ' '.join(word for word in sentence.split() if len(word) > 1)\n",
    "    return tokens"
   ]
  },
  {
   "cell_type": "markdown",
   "id": "surprised-vampire",
   "metadata": {},
   "source": [
    "## It will be nicer to \n",
    "- delete stopwords in 'texts'\n",
    "- not delete stopwords in 'headlines'"
   ]
  },
  {
   "cell_type": "code",
   "execution_count": 20,
   "id": "varying-warrior",
   "metadata": {},
   "outputs": [
    {
     "name": "stdout",
     "output_type": "stream",
     "text": [
      "everything bought great infact ordered twice third ordered wasfor mother father\n",
      "great way to start the day\n"
     ]
    }
   ],
   "source": [
    "temp_text = 'Everything I bought was great, infact I ordered twice and the third ordered was<br />for my mother and father.'\n",
    "temp_summary = 'Great way to start (or finish) the day!!!'\n",
    "\n",
    "print(preprocess_sentence(temp_text))\n",
    "print(preprocess_sentence(temp_summary, False))"
   ]
  },
  {
   "cell_type": "code",
   "execution_count": 21,
   "id": "faced-establishment",
   "metadata": {},
   "outputs": [
    {
     "name": "stdout",
     "output_type": "stream",
     "text": [
      "231.66611337661743  seconds\n",
      "['saurav kant alumnus upgrad iiit pg program machine learning artificial intelligence sr systems engineer infosys almost years work experience program upgrad degree career support helped transition data scientist tech mahindra salary hike upgrad online power learning powered lakh careers'\n",
      " 'kunal shah credit card bill payment platform cred gave users chance win free food swiggy one year pranav kaushik delhi techie bagged reward spending cred coins users get one cred coin per rupee bill paid used avail rewards brands like ixigo bookmyshow ubereats cult fit'\n",
      " 'new zealand defeated india wickets fourth odi hamilton thursday win first match five match odi series india lost international match rohit sharma captaincy consecutive victories dating back march match witnessed india getting seventh lowest total odi cricket history'\n",
      " ...\n",
      " 'according reports new version science fiction film matrix development michael jordan reportedly play lead role film screenwriter zak penn talks write script film reports added actor keanu reeves starred original film followed two sequels'\n",
      " 'new music video shows rapper snoop dogg aiming toy gun clown character parodying us president donald trump video also shows tv airing news conference headline ronald klump wants deport doggs airing live clown house video remixed version song lavender'\n",
      " 'madhesi morcha alliance seven political parties withdrawn support pm pushpa kamal dahal led nepal government failed meet seven day ultimatum fulfil demands including endorsement revised constitution amendment bill morcha seats parliament despite withdrawal support immediate threat government']\n",
      "7.587325096130371  seconds\n",
      "['upgrad learner switches to career in ml al with salary hike'\n",
      " 'delhi techie wins free food from swiggy for one year on cred'\n",
      " 'new zealand end rohit sharma led india match winning streak' ...\n",
      " 'the matrix film to get reboot reports'\n",
      " 'snoop dogg aims gun at clown dressed as trump in new video'\n",
      " 'madhesi morcha withdraws support to nepalese government']\n"
     ]
    }
   ],
   "source": [
    "import multiprocessing as mp #전처리 속도 줄이기!\n",
    "from multiprocessing import Pool\n",
    "import numpy as np\n",
    "import time\n",
    "from functools import partial # mapping 시 여러 인자 넣어줄 수 있게 함\n",
    "\n",
    "start=time.time()\n",
    "def appendTexts(sentences, remove_stopwords):\n",
    "    texts=[]\n",
    "    for s in sentences:\n",
    "        texts += preprocess_sentence(s, remove_stopwords),\n",
    "    return texts\n",
    "\n",
    "def preprocess_data(data, remove_stopwords=True):\n",
    "    start_time = time.time()\n",
    "    num_cores = mp.cpu_count() # 컴퓨터의 코어 수를 구합니다\n",
    "    \n",
    "    text_data_split=np.array_split(data,num_cores) #코어 수만큼 데이터 배분\n",
    "    pool=Pool(num_cores)\n",
    "    \n",
    "    processed_data = np.concatenate(pool.map(partial(appendTexts, remove_stopwords=remove_stopwords),text_data_split))\n",
    "    pool.close()\n",
    "    pool.join()\n",
    "    print(time.time()- start_time, \" seconds\")\n",
    "    return processed_data\n",
    "\n",
    "clean_text = preprocess_data(data['text'])  # 클라우드 기준으로 3~4분 정도 소요 됩니다\n",
    "print(clean_text)\n",
    "\n",
    "clean_summary = preprocess_data(data['headlines'], remove_stopwords=False) # 클라우드 기준 1분정도 소요됩니다.\n",
    "print(clean_summary)\n"
   ]
  },
  {
   "cell_type": "markdown",
   "id": "beginning-canyon",
   "metadata": {},
   "source": [
    "Rechecking after preprocessing.."
   ]
  },
  {
   "cell_type": "code",
   "execution_count": 24,
   "id": "operating-squad",
   "metadata": {},
   "outputs": [],
   "source": [
    "data['text'] = clean_text\n",
    "data['headlines'] = clean_summary\n",
    "\n",
    "# 빈 값을 Null 값으로 변환\n",
    "data.replace('', np.nan, inplace=True)"
   ]
  },
  {
   "cell_type": "code",
   "execution_count": 25,
   "id": "twenty-absolute",
   "metadata": {},
   "outputs": [
    {
     "data": {
      "text/plain": [
       "headlines    0\n",
       "text         0\n",
       "Text         0\n",
       "Summary      0\n",
       "dtype: int64"
      ]
     },
     "execution_count": 25,
     "metadata": {},
     "output_type": "execute_result"
    }
   ],
   "source": [
    "data.isnull().sum()"
   ]
  },
  {
   "cell_type": "code",
   "execution_count": 31,
   "id": "automatic-divide",
   "metadata": {},
   "outputs": [
    {
     "data": {
      "text/html": [
       "<div>\n",
       "<style scoped>\n",
       "    .dataframe tbody tr th:only-of-type {\n",
       "        vertical-align: middle;\n",
       "    }\n",
       "\n",
       "    .dataframe tbody tr th {\n",
       "        vertical-align: top;\n",
       "    }\n",
       "\n",
       "    .dataframe thead th {\n",
       "        text-align: right;\n",
       "    }\n",
       "</style>\n",
       "<table border=\"1\" class=\"dataframe\">\n",
       "  <thead>\n",
       "    <tr style=\"text-align: right;\">\n",
       "      <th></th>\n",
       "      <th>headlines</th>\n",
       "      <th>text</th>\n",
       "    </tr>\n",
       "  </thead>\n",
       "  <tbody>\n",
       "    <tr>\n",
       "      <th>0</th>\n",
       "      <td>upgrad learner switches to career in ml al wit...</td>\n",
       "      <td>saurav kant alumnus upgrad iiit pg program mac...</td>\n",
       "    </tr>\n",
       "    <tr>\n",
       "      <th>1</th>\n",
       "      <td>delhi techie wins free food from swiggy for on...</td>\n",
       "      <td>kunal shah credit card bill payment platform c...</td>\n",
       "    </tr>\n",
       "    <tr>\n",
       "      <th>2</th>\n",
       "      <td>new zealand end rohit sharma led india match w...</td>\n",
       "      <td>new zealand defeated india wickets fourth odi ...</td>\n",
       "    </tr>\n",
       "    <tr>\n",
       "      <th>3</th>\n",
       "      <td>aegon life iterm insurance plan helps customer...</td>\n",
       "      <td>aegon life iterm insurance plan customers enjo...</td>\n",
       "    </tr>\n",
       "    <tr>\n",
       "      <th>4</th>\n",
       "      <td>have known hirani for yrs what if metoo claims...</td>\n",
       "      <td>speaking sexual harassment allegations rajkuma...</td>\n",
       "    </tr>\n",
       "    <tr>\n",
       "      <th>...</th>\n",
       "      <td>...</td>\n",
       "      <td>...</td>\n",
       "    </tr>\n",
       "    <tr>\n",
       "      <th>98396</th>\n",
       "      <td>crpf jawan axed to death by maoists in chhatti...</td>\n",
       "      <td>crpf jawan tuesday axed death sharp edged weap...</td>\n",
       "    </tr>\n",
       "    <tr>\n",
       "      <th>98397</th>\n",
       "      <td>first song from sonakshi sinha noor titled uff...</td>\n",
       "      <td>uff yeh first song sonakshi sinha starrer upco...</td>\n",
       "    </tr>\n",
       "    <tr>\n",
       "      <th>98398</th>\n",
       "      <td>the matrix film to get reboot reports</td>\n",
       "      <td>according reports new version science fiction ...</td>\n",
       "    </tr>\n",
       "    <tr>\n",
       "      <th>98399</th>\n",
       "      <td>snoop dogg aims gun at clown dressed as trump ...</td>\n",
       "      <td>new music video shows rapper snoop dogg aiming...</td>\n",
       "    </tr>\n",
       "    <tr>\n",
       "      <th>98400</th>\n",
       "      <td>madhesi morcha withdraws support to nepalese g...</td>\n",
       "      <td>madhesi morcha alliance seven political partie...</td>\n",
       "    </tr>\n",
       "  </tbody>\n",
       "</table>\n",
       "<p>98280 rows × 2 columns</p>\n",
       "</div>"
      ],
      "text/plain": [
       "                                               headlines  \\\n",
       "0      upgrad learner switches to career in ml al wit...   \n",
       "1      delhi techie wins free food from swiggy for on...   \n",
       "2      new zealand end rohit sharma led india match w...   \n",
       "3      aegon life iterm insurance plan helps customer...   \n",
       "4      have known hirani for yrs what if metoo claims...   \n",
       "...                                                  ...   \n",
       "98396  crpf jawan axed to death by maoists in chhatti...   \n",
       "98397  first song from sonakshi sinha noor titled uff...   \n",
       "98398              the matrix film to get reboot reports   \n",
       "98399  snoop dogg aims gun at clown dressed as trump ...   \n",
       "98400  madhesi morcha withdraws support to nepalese g...   \n",
       "\n",
       "                                                    text  \n",
       "0      saurav kant alumnus upgrad iiit pg program mac...  \n",
       "1      kunal shah credit card bill payment platform c...  \n",
       "2      new zealand defeated india wickets fourth odi ...  \n",
       "3      aegon life iterm insurance plan customers enjo...  \n",
       "4      speaking sexual harassment allegations rajkuma...  \n",
       "...                                                  ...  \n",
       "98396  crpf jawan tuesday axed death sharp edged weap...  \n",
       "98397  uff yeh first song sonakshi sinha starrer upco...  \n",
       "98398  according reports new version science fiction ...  \n",
       "98399  new music video shows rapper snoop dogg aiming...  \n",
       "98400  madhesi morcha alliance seven political partie...  \n",
       "\n",
       "[98280 rows x 2 columns]"
      ]
     },
     "execution_count": 31,
     "metadata": {},
     "output_type": "execute_result"
    }
   ],
   "source": [
    "data"
   ]
  },
  {
   "cell_type": "code",
   "execution_count": 32,
   "id": "defensive-protein",
   "metadata": {},
   "outputs": [
    {
     "name": "stdout",
     "output_type": "stream",
     "text": [
      "텍스트의 최소 길이 : 1\n",
      "텍스트의 최대 길이 : 60\n",
      "텍스트의 평균 길이 : 35.10031542531542\n",
      "요약의 최소 길이 : 1\n",
      "요약의 최대 길이 : 16\n",
      "요약의 평균 길이 : 9.2995115995116\n"
     ]
    },
    {
     "data": {
      "image/png": "[encoded data removed]",
      "text/plain": [
       "<Figure size 432x288 with 2 Axes>"
      ]
     },
     "metadata": {
      "needs_background": "light"
     },
     "output_type": "display_data"
    },
    {
     "data": {
      "image/png": "[encoded data removed]",
      "text/plain": [
       "<Figure size 432x288 with 1 Axes>"
      ]
     },
     "metadata": {
      "needs_background": "light"
     },
     "output_type": "display_data"
    },
    {
     "data": {
      "image/png": "[encoded data removed]",
      "text/plain": [
       "<Figure size 432x288 with 1 Axes>"
      ]
     },
     "metadata": {
      "needs_background": "light"
     },
     "output_type": "display_data"
    }
   ],
   "source": [
    "# 길이 분포 출력\n",
    "import matplotlib.pyplot as plt\n",
    "\n",
    "text_len = [len(s.split()) for s in data['text']]\n",
    "summary_len = [len(s.split()) for s in data['headlines']]\n",
    "\n",
    "print('텍스트의 최소 길이 : {}'.format(np.min(text_len)))\n",
    "print('텍스트의 최대 길이 : {}'.format(np.max(text_len)))\n",
    "print('텍스트의 평균 길이 : {}'.format(np.mean(text_len)))\n",
    "print('요약의 최소 길이 : {}'.format(np.min(summary_len)))\n",
    "print('요약의 최대 길이 : {}'.format(np.max(summary_len)))\n",
    "print('요약의 평균 길이 : {}'.format(np.mean(summary_len)))\n",
    "\n",
    "plt.subplot(1,2,1)\n",
    "plt.boxplot(summary_len)\n",
    "plt.title('headlines')\n",
    "plt.subplot(1,2,2)\n",
    "plt.boxplot(text_len)\n",
    "plt.title('text')\n",
    "plt.tight_layout()\n",
    "plt.show()\n",
    "\n",
    "plt.title('headlines')\n",
    "plt.hist(summary_len, bins = 40)\n",
    "plt.xlabel('length of samples')\n",
    "plt.ylabel('number of samples')\n",
    "plt.show()\n",
    "\n",
    "plt.title('text')\n",
    "plt.hist(text_len, bins = 40)\n",
    "plt.xlabel('length of samples')\n",
    "plt.ylabel('number of samples')\n",
    "plt.show()"
   ]
  },
  {
   "cell_type": "code",
   "execution_count": 33,
   "id": "charged-official",
   "metadata": {},
   "outputs": [],
   "source": [
    "def below_threshold_len(max_len, nested_list):\n",
    "  cnt = 0\n",
    "  for s in nested_list:\n",
    "    if(len(s.split()) <= max_len):\n",
    "        cnt = cnt + 1\n",
    "  print('전체 샘플 중 길이가 %s 이하인 샘플의 비율: %s'%(max_len, (cnt / len(nested_list))))"
   ]
  },
  {
   "cell_type": "code",
   "execution_count": 34,
   "id": "oriented-relaxation",
   "metadata": {},
   "outputs": [],
   "source": [
    "text_max_len = 40\n",
    "headline_max_len = 11"
   ]
  },
  {
   "cell_type": "code",
   "execution_count": 36,
   "id": "forty-romania",
   "metadata": {},
   "outputs": [
    {
     "name": "stdout",
     "output_type": "stream",
     "text": [
      "전체 샘플 중 길이가 40 이하인 샘플의 비율: 0.9238196988196988\n",
      "전체 샘플 중 길이가 11 이하인 샘플의 비율: 0.944993894993895\n"
     ]
    }
   ],
   "source": [
    "below_threshold_len(text_max_len, data['text'])\n",
    "below_threshold_len(headline_max_len,  data['headlines'])"
   ]
  },
  {
   "cell_type": "markdown",
   "id": "shared-induction",
   "metadata": {},
   "source": [
    "Data 제외"
   ]
  },
  {
   "cell_type": "code",
   "execution_count": 38,
   "id": "looking-mathematics",
   "metadata": {},
   "outputs": [
    {
     "name": "stdout",
     "output_type": "stream",
     "text": [
      "전체 샘플수 : 85769\n"
     ]
    }
   ],
   "source": [
    "data = data[data['text'].apply(lambda x: len(x.split()) <= text_max_len)]\n",
    "data = data[data['headlines'].apply(lambda x: len(x.split()) <= headline_max_len)]\n",
    "print('전체 샘플수 :', (len(data)))"
   ]
  },
  {
   "cell_type": "markdown",
   "id": "modified-newton",
   "metadata": {},
   "source": [
    "### ADD start and end token in 'headlines' data"
   ]
  },
  {
   "cell_type": "code",
   "execution_count": 39,
   "id": "clean-proportion",
   "metadata": {},
   "outputs": [
    {
     "data": {
      "text/html": [
       "<div>\n",
       "<style scoped>\n",
       "    .dataframe tbody tr th:only-of-type {\n",
       "        vertical-align: middle;\n",
       "    }\n",
       "\n",
       "    .dataframe tbody tr th {\n",
       "        vertical-align: top;\n",
       "    }\n",
       "\n",
       "    .dataframe thead th {\n",
       "        text-align: right;\n",
       "    }\n",
       "</style>\n",
       "<table border=\"1\" class=\"dataframe\">\n",
       "  <thead>\n",
       "    <tr style=\"text-align: right;\">\n",
       "      <th></th>\n",
       "      <th>headlines</th>\n",
       "      <th>text</th>\n",
       "      <th>decoder_input</th>\n",
       "      <th>decoder_target</th>\n",
       "    </tr>\n",
       "  </thead>\n",
       "  <tbody>\n",
       "    <tr>\n",
       "      <th>0</th>\n",
       "      <td>upgrad learner switches to career in ml al wit...</td>\n",
       "      <td>saurav kant alumnus upgrad iiit pg program mac...</td>\n",
       "      <td>sostoken upgrad learner switches to career in ...</td>\n",
       "      <td>upgrad learner switches to career in ml al wit...</td>\n",
       "    </tr>\n",
       "    <tr>\n",
       "      <th>2</th>\n",
       "      <td>new zealand end rohit sharma led india match w...</td>\n",
       "      <td>new zealand defeated india wickets fourth odi ...</td>\n",
       "      <td>sostoken new zealand end rohit sharma led indi...</td>\n",
       "      <td>new zealand end rohit sharma led india match w...</td>\n",
       "    </tr>\n",
       "    <tr>\n",
       "      <th>3</th>\n",
       "      <td>aegon life iterm insurance plan helps customer...</td>\n",
       "      <td>aegon life iterm insurance plan customers enjo...</td>\n",
       "      <td>sostoken aegon life iterm insurance plan helps...</td>\n",
       "      <td>aegon life iterm insurance plan helps customer...</td>\n",
       "    </tr>\n",
       "    <tr>\n",
       "      <th>5</th>\n",
       "      <td>rahat fateh ali khan denies getting notice for...</td>\n",
       "      <td>pakistani singer rahat fateh ali khan denied r...</td>\n",
       "      <td>sostoken rahat fateh ali khan denies getting n...</td>\n",
       "      <td>rahat fateh ali khan denies getting notice for...</td>\n",
       "    </tr>\n",
       "    <tr>\n",
       "      <th>7</th>\n",
       "      <td>govt directs alok verma to join work day befor...</td>\n",
       "      <td>weeks ex cbi director alok verma told departme...</td>\n",
       "      <td>sostoken govt directs alok verma to join work ...</td>\n",
       "      <td>govt directs alok verma to join work day befor...</td>\n",
       "    </tr>\n",
       "  </tbody>\n",
       "</table>\n",
       "</div>"
      ],
      "text/plain": [
       "                                           headlines  \\\n",
       "0  upgrad learner switches to career in ml al wit...   \n",
       "2  new zealand end rohit sharma led india match w...   \n",
       "3  aegon life iterm insurance plan helps customer...   \n",
       "5  rahat fateh ali khan denies getting notice for...   \n",
       "7  govt directs alok verma to join work day befor...   \n",
       "\n",
       "                                                text  \\\n",
       "0  saurav kant alumnus upgrad iiit pg program mac...   \n",
       "2  new zealand defeated india wickets fourth odi ...   \n",
       "3  aegon life iterm insurance plan customers enjo...   \n",
       "5  pakistani singer rahat fateh ali khan denied r...   \n",
       "7  weeks ex cbi director alok verma told departme...   \n",
       "\n",
       "                                       decoder_input  \\\n",
       "0  sostoken upgrad learner switches to career in ...   \n",
       "2  sostoken new zealand end rohit sharma led indi...   \n",
       "3  sostoken aegon life iterm insurance plan helps...   \n",
       "5  sostoken rahat fateh ali khan denies getting n...   \n",
       "7  sostoken govt directs alok verma to join work ...   \n",
       "\n",
       "                                      decoder_target  \n",
       "0  upgrad learner switches to career in ml al wit...  \n",
       "2  new zealand end rohit sharma led india match w...  \n",
       "3  aegon life iterm insurance plan helps customer...  \n",
       "5  rahat fateh ali khan denies getting notice for...  \n",
       "7  govt directs alok verma to join work day befor...  "
      ]
     },
     "execution_count": 39,
     "metadata": {},
     "output_type": "execute_result"
    }
   ],
   "source": [
    "# 요약 데이터에는 시작 토큰과 종료 토큰을 추가한다.\n",
    "data['decoder_input'] = data['headlines'].apply(lambda x : 'sostoken '+ x)\n",
    "data['decoder_target'] = data['headlines'].apply(lambda x : x + ' eostoken')\n",
    "data.head()"
   ]
  },
  {
   "cell_type": "markdown",
   "id": "measured-philip",
   "metadata": {},
   "source": [
    "define encoder,decoder "
   ]
  },
  {
   "cell_type": "code",
   "execution_count": 40,
   "id": "pacific-factor",
   "metadata": {},
   "outputs": [],
   "source": [
    "encoder_input = np.array(data['text']) # 인코더의 입력\n",
    "decoder_input = np.array(data['decoder_input']) # 디코더의 입력\n",
    "decoder_target = np.array(data['decoder_target']) # 디코더의 레이블"
   ]
  },
  {
   "cell_type": "code",
   "execution_count": 41,
   "id": "ahead-chinese",
   "metadata": {},
   "outputs": [
    {
     "name": "stdout",
     "output_type": "stream",
     "text": [
      "[85146 48269 48028 ... 26584 45099  9519]\n"
     ]
    }
   ],
   "source": [
    "indices = np.arange(encoder_input.shape[0])\n",
    "np.random.shuffle(indices)\n",
    "print(indices)"
   ]
  },
  {
   "cell_type": "markdown",
   "id": "magnetic-globe",
   "metadata": {},
   "source": [
    "## divide train/test set"
   ]
  },
  {
   "cell_type": "code",
   "execution_count": null,
   "id": "allied-replacement",
   "metadata": {},
   "outputs": [],
   "source": []
  },
  {
   "cell_type": "code",
   "execution_count": 42,
   "id": "working-worker",
   "metadata": {},
   "outputs": [
    {
     "name": "stdout",
     "output_type": "stream",
     "text": [
      "테스트 데이터의 수 : 17153\n"
     ]
    }
   ],
   "source": [
    "n_of_val = int(len(encoder_input)*0.2)\n",
    "print('테스트 데이터의 수 :', n_of_val)"
   ]
  },
  {
   "cell_type": "code",
   "execution_count": 43,
   "id": "starting-genius",
   "metadata": {},
   "outputs": [
    {
     "name": "stdout",
     "output_type": "stream",
     "text": [
      "훈련 데이터의 개수 : 68616\n",
      "훈련 레이블의 개수 : 68616\n",
      "테스트 데이터의 개수 : 17153\n",
      "테스트 레이블의 개수 : 17153\n"
     ]
    }
   ],
   "source": [
    "encoder_input_train = encoder_input[:-n_of_val]\n",
    "decoder_input_train = decoder_input[:-n_of_val]\n",
    "decoder_target_train = decoder_target[:-n_of_val]\n",
    "\n",
    "encoder_input_test = encoder_input[-n_of_val:]\n",
    "decoder_input_test = decoder_input[-n_of_val:]\n",
    "decoder_target_test = decoder_target[-n_of_val:]\n",
    "\n",
    "print('훈련 데이터의 개수 :', len(encoder_input_train))\n",
    "print('훈련 레이블의 개수 :', len(decoder_input_train))\n",
    "print('테스트 데이터의 개수 :', len(encoder_input_test))\n",
    "print('테스트 레이블의 개수 :', len(decoder_input_test))"
   ]
  },
  {
   "cell_type": "markdown",
   "id": "arabic-reservoir",
   "metadata": {},
   "source": [
    "### integer encoding"
   ]
  },
  {
   "cell_type": "code",
   "execution_count": 45,
   "id": "optimum-surname",
   "metadata": {},
   "outputs": [],
   "source": [
    "src_tokenizer = Tokenizer() # 토크나이저 정의\n",
    "src_tokenizer.fit_on_texts(encoder_input_train) # 입력된 데이터로부터 단어 집합 생성"
   ]
  },
  {
   "cell_type": "markdown",
   "id": "threaded-stanford",
   "metadata": {},
   "source": [
    "filter the infrequent words in token"
   ]
  },
  {
   "cell_type": "code",
   "execution_count": 46,
   "id": "modern-certification",
   "metadata": {},
   "outputs": [
    {
     "name": "stdout",
     "output_type": "stream",
     "text": [
      "단어 집합(vocabulary)의 크기 : 63286\n",
      "등장 빈도가 6번 이하인 희귀 단어의 수: 42946\n",
      "단어 집합에서 희귀 단어를 제외시킬 경우의 단어 집합의 크기 20340\n",
      "단어 집합에서 희귀 단어의 비율: 67.86019024744809\n",
      "전체 등장 빈도에서 희귀 단어 등장 빈도 비율: 3.7017251819173422\n"
     ]
    }
   ],
   "source": [
    "threshold = 7\n",
    "total_cnt = len(src_tokenizer.word_index) # 단어의 수\n",
    "rare_cnt = 0 # 등장 빈도수가 threshold보다 작은 단어의 개수를 카운트\n",
    "total_freq = 0 # 훈련 데이터의 전체 단어 빈도수 총 합\n",
    "rare_freq = 0 # 등장 빈도수가 threshold보다 작은 단어의 등장 빈도수의 총 합\n",
    "\n",
    "# 단어와 빈도수의 쌍(pair)을 key와 value로 받는다.\n",
    "for key, value in src_tokenizer.word_counts.items():\n",
    "    total_freq = total_freq + value\n",
    "\n",
    "    # 단어의 등장 빈도수가 threshold보다 작으면\n",
    "    if(value < threshold):\n",
    "        rare_cnt = rare_cnt + 1\n",
    "        rare_freq = rare_freq + value\n",
    "\n",
    "print('단어 집합(vocabulary)의 크기 :', total_cnt)\n",
    "print('등장 빈도가 %s번 이하인 희귀 단어의 수: %s'%(threshold - 1, rare_cnt))\n",
    "print('단어 집합에서 희귀 단어를 제외시킬 경우의 단어 집합의 크기 %s'%(total_cnt - rare_cnt))\n",
    "print(\"단어 집합에서 희귀 단어의 비율:\", (rare_cnt / total_cnt)*100)\n",
    "print(\"전체 등장 빈도에서 희귀 단어 등장 빈도 비율:\", (rare_freq / total_freq)*100)"
   ]
  },
  {
   "cell_type": "code",
   "execution_count": 47,
   "id": "constant-command",
   "metadata": {},
   "outputs": [],
   "source": [
    "src_vocab = 8000\n",
    "src_tokenizer = Tokenizer(num_words=src_vocab) # 단어 집합의 크기를 8,000으로 제한\n",
    "src_tokenizer.fit_on_texts(encoder_input_train) # 단어 집합 재생성."
   ]
  },
  {
   "cell_type": "markdown",
   "id": "diverse-frost",
   "metadata": {},
   "source": [
    "now tokenizer was downsized"
   ]
  },
  {
   "cell_type": "markdown",
   "id": "decimal-custom",
   "metadata": {},
   "source": [
    "### Texts-to-sequences"
   ]
  },
  {
   "cell_type": "code",
   "execution_count": 48,
   "id": "israeli-beverage",
   "metadata": {},
   "outputs": [
    {
     "name": "stdout",
     "output_type": "stream",
     "text": [
      "[[6603, 1681, 1811, 2103, 1479, 646, 1782, 2356, 1323, 857, 22, 140, 1187, 1681, 2525, 655, 343, 986, 4919, 132, 3524, 2724, 1796, 1457, 2154, 205, 327, 2103, 2326, 57], [26, 771, 951, 4, 751, 665, 350, 5163, 67, 269, 10, 96, 89, 96, 350, 172, 4, 260, 113, 96, 880, 251, 5449, 1393, 7203, 1383, 170, 379, 96, 1691, 4, 474, 2650, 2640, 280, 350, 116, 506], [144, 1739, 699, 745, 4014, 316, 2253, 521, 1492, 2463, 699, 2050, 144, 1028, 431, 22, 6, 745, 3412, 2001, 7694, 4015, 162, 2207, 7204, 144, 1028, 431, 22]]\n"
     ]
    }
   ],
   "source": [
    "# 텍스트 시퀀스를 정수 시퀀스로 변환\n",
    "encoder_input_train = src_tokenizer.texts_to_sequences(encoder_input_train) \n",
    "encoder_input_test = src_tokenizer.texts_to_sequences(encoder_input_test)\n",
    "\n",
    "# 잘 진행되었는지 샘플 출력\n",
    "print(encoder_input_train[:3])"
   ]
  },
  {
   "cell_type": "markdown",
   "id": "coordinated-reservoir",
   "metadata": {},
   "source": [
    "Same process to the summary data"
   ]
  },
  {
   "cell_type": "code",
   "execution_count": 49,
   "id": "minus-disney",
   "metadata": {},
   "outputs": [],
   "source": [
    "tar_tokenizer = Tokenizer()\n",
    "tar_tokenizer.fit_on_texts(decoder_input_train)"
   ]
  },
  {
   "cell_type": "code",
   "execution_count": 50,
   "id": "veterinary-gibson",
   "metadata": {},
   "outputs": [
    {
     "name": "stdout",
     "output_type": "stream",
     "text": [
      "단어 집합(vocabulary)의 크기 : 28098\n",
      "등장 빈도가 5번 이하인 희귀 단어의 수: 18424\n",
      "단어 집합에서 희귀 단어를 제외시킬 경우의 단어 집합의 크기 9674\n",
      "단어 집합에서 희귀 단어의 비율: 65.57050323866468\n",
      "전체 등장 빈도에서 희귀 단어 등장 빈도 비율: 5.071873142292349\n"
     ]
    }
   ],
   "source": [
    "threshold = 6\n",
    "total_cnt = len(tar_tokenizer.word_index) # 단어의 수\n",
    "rare_cnt = 0 # 등장 빈도수가 threshold보다 작은 단어의 개수를 카운트\n",
    "total_freq = 0 # 훈련 데이터의 전체 단어 빈도수 총 합\n",
    "rare_freq = 0 # 등장 빈도수가 threshold보다 작은 단어의 등장 빈도수의 총 합\n",
    "\n",
    "# 단어와 빈도수의 쌍(pair)을 key와 value로 받는다.\n",
    "for key, value in tar_tokenizer.word_counts.items():\n",
    "    total_freq = total_freq + value\n",
    "\n",
    "    # 단어의 등장 빈도수가 threshold보다 작으면\n",
    "    if(value < threshold):\n",
    "        rare_cnt = rare_cnt + 1\n",
    "        rare_freq = rare_freq + value\n",
    "\n",
    "print('단어 집합(vocabulary)의 크기 :', total_cnt)\n",
    "print('등장 빈도가 %s번 이하인 희귀 단어의 수: %s'%(threshold - 1, rare_cnt))\n",
    "print('단어 집합에서 희귀 단어를 제외시킬 경우의 단어 집합의 크기 %s'%(total_cnt - rare_cnt))\n",
    "print(\"단어 집합에서 희귀 단어의 비율:\", (rare_cnt / total_cnt)*100)\n",
    "print(\"전체 등장 빈도에서 희귀 단어 등장 빈도 비율:\", (rare_freq / total_freq)*100)"
   ]
  },
  {
   "cell_type": "code",
   "execution_count": 51,
   "id": "geological-peripheral",
   "metadata": {},
   "outputs": [
    {
     "name": "stdout",
     "output_type": "stream",
     "text": [
      "input\n",
      "input  [[1, 3, 802, 4, 8, 1015, 1067], [1, 41, 1226, 347, 493, 560, 589, 9, 164, 625], [1, 195, 1896, 498, 1058, 1742, 854, 352], [1, 743, 165, 312, 626, 446, 5, 1771], [1, 22, 3, 695, 240, 50, 149, 47]]\n",
      "target\n",
      "decoder  [[3, 802, 4, 8, 1015, 1067, 2], [41, 1226, 347, 493, 560, 589, 9, 164, 625, 2], [195, 1896, 498, 1058, 1742, 854, 352, 2], [743, 165, 312, 626, 446, 5, 1771, 2], [22, 3, 695, 240, 50, 149, 47, 2]]\n"
     ]
    }
   ],
   "source": [
    "tar_vocab = 2000\n",
    "tar_tokenizer = Tokenizer(num_words=tar_vocab) \n",
    "tar_tokenizer.fit_on_texts(decoder_input_train)\n",
    "tar_tokenizer.fit_on_texts(decoder_target_train)\n",
    "\n",
    "# 텍스트 시퀀스를 정수 시퀀스로 변환\n",
    "decoder_input_train = tar_tokenizer.texts_to_sequences(decoder_input_train) \n",
    "decoder_target_train = tar_tokenizer.texts_to_sequences(decoder_target_train)\n",
    "decoder_input_test = tar_tokenizer.texts_to_sequences(decoder_input_test)\n",
    "decoder_target_test = tar_tokenizer.texts_to_sequences(decoder_target_test)\n",
    "\n",
    "# 잘 변환되었는지 확인\n",
    "print('input')\n",
    "print('input ',decoder_input_train[:5])\n",
    "print('target')\n",
    "print('decoder ',decoder_target_train[:5])"
   ]
  },
  {
   "cell_type": "markdown",
   "id": "genetic-screen",
   "metadata": {},
   "source": [
    "Now, filter vacant sequences from deleting rare words"
   ]
  },
  {
   "cell_type": "code",
   "execution_count": 52,
   "id": "insured-compatibility",
   "metadata": {},
   "outputs": [
    {
     "name": "stdout",
     "output_type": "stream",
     "text": [
      "삭제할 훈련 데이터의 개수 : 10\n",
      "삭제할 테스트 데이터의 개수 : 4\n",
      "훈련 데이터의 개수 : 68606\n",
      "훈련 레이블의 개수 : 68606\n",
      "테스트 데이터의 개수 : 17149\n",
      "테스트 레이블의 개수 : 17149\n"
     ]
    },
    {
     "name": "stderr",
     "output_type": "stream",
     "text": [
      "/opt/conda/lib/python3.7/site-packages/numpy/core/_asarray.py:83: VisibleDeprecationWarning: Creating an ndarray from ragged nested sequences (which is a list-or-tuple of lists-or-tuples-or ndarrays with different lengths or shapes) is deprecated. If you meant to do this, you must specify 'dtype=object' when creating the ndarray\n",
      "  return array(a, dtype, copy=False, order=order)\n"
     ]
    }
   ],
   "source": [
    "drop_train = [index for index, sentence in enumerate(decoder_input_train) if len(sentence) == 1]\n",
    "drop_test = [index for index, sentence in enumerate(decoder_input_test) if len(sentence) == 1]\n",
    "\n",
    "print('삭제할 훈련 데이터의 개수 :', len(drop_train))\n",
    "print('삭제할 테스트 데이터의 개수 :', len(drop_test))\n",
    "\n",
    "encoder_input_train = np.delete(encoder_input_train, drop_train, axis=0)\n",
    "decoder_input_train = np.delete(decoder_input_train, drop_train, axis=0)\n",
    "decoder_target_train = np.delete(decoder_target_train, drop_train, axis=0)\n",
    "\n",
    "encoder_input_test = np.delete(encoder_input_test, drop_test, axis=0)\n",
    "decoder_input_test = np.delete(decoder_input_test, drop_test, axis=0)\n",
    "decoder_target_test = np.delete(decoder_target_test, drop_test, axis=0)\n",
    "\n",
    "print('훈련 데이터의 개수 :', len(encoder_input_train))\n",
    "print('훈련 레이블의 개수 :', len(decoder_input_train))\n",
    "print('테스트 데이터의 개수 :', len(encoder_input_test))\n",
    "print('테스트 레이블의 개수 :', len(decoder_input_test))"
   ]
  },
  {
   "cell_type": "markdown",
   "id": "boring-candy",
   "metadata": {},
   "source": [
    "padding!!"
   ]
  },
  {
   "cell_type": "code",
   "execution_count": 54,
   "id": "controlled-cement",
   "metadata": {},
   "outputs": [],
   "source": [
    "encoder_input_train = pad_sequences(encoder_input_train, maxlen=text_max_len, padding='post')\n",
    "encoder_input_test = pad_sequences(encoder_input_test, maxlen=text_max_len, padding='post')\n",
    "decoder_input_train = pad_sequences(decoder_input_train, maxlen=headline_max_len, padding='post')\n",
    "decoder_target_train = pad_sequences(decoder_target_train, maxlen=headline_max_len, padding='post')\n",
    "decoder_input_test = pad_sequences(decoder_input_test, maxlen=headline_max_len, padding='post')\n",
    "decoder_target_test = pad_sequences(decoder_target_test, maxlen=headline_max_len, padding='post')"
   ]
  },
  {
   "cell_type": "markdown",
   "id": "democratic-light",
   "metadata": {},
   "source": [
    "### preprocessing finished"
   ]
  },
  {
   "cell_type": "markdown",
   "id": "sufficient-starter",
   "metadata": {},
   "source": [
    "## Design encoder"
   ]
  },
  {
   "cell_type": "code",
   "execution_count": 55,
   "id": "seeing-parallel",
   "metadata": {},
   "outputs": [
    {
     "name": "stdout",
     "output_type": "stream",
     "text": [
      "WARNING:tensorflow:Layer lstm will not use cuDNN kernel since it doesn't meet the cuDNN kernel criteria. It will use generic GPU kernel as fallback when running on GPU\n",
      "WARNING:tensorflow:Layer lstm_1 will not use cuDNN kernel since it doesn't meet the cuDNN kernel criteria. It will use generic GPU kernel as fallback when running on GPU\n",
      "WARNING:tensorflow:Layer lstm_2 will not use cuDNN kernel since it doesn't meet the cuDNN kernel criteria. It will use generic GPU kernel as fallback when running on GPU\n"
     ]
    }
   ],
   "source": [
    "from tensorflow.keras.layers import Input, LSTM, Embedding, Dense, Concatenate\n",
    "from tensorflow.keras.models import Model\n",
    "from tensorflow.keras.callbacks import EarlyStopping, ModelCheckpoint\n",
    "\n",
    "\n",
    "# 인코더 설계 시작\n",
    "embedding_dim = 128\n",
    "hidden_size = 256\n",
    "\n",
    "# 인코더\n",
    "encoder_inputs = Input(shape=(text_max_len,))\n",
    "\n",
    "# 인코더의 임베딩 층\n",
    "enc_emb = Embedding(src_vocab, embedding_dim)(encoder_inputs)\n",
    "\n",
    "# 인코더의 LSTM 1\n",
    "encoder_lstm1 = LSTM(hidden_size, return_sequences=True, return_state=True ,dropout = 0.4, recurrent_dropout = 0.4)\n",
    "encoder_output1, state_h1, state_c1 = encoder_lstm1(enc_emb)\n",
    "\n",
    "# 인코더의 LSTM 2\n",
    "encoder_lstm2 = LSTM(hidden_size, return_sequences=True, return_state=True, dropout=0.4, recurrent_dropout=0.4)\n",
    "encoder_output2, state_h2, state_c2 = encoder_lstm2(encoder_output1)\n",
    "\n",
    "# 인코더의 LSTM 3\n",
    "encoder_lstm3 = LSTM(hidden_size, return_state=True, return_sequences=True, dropout=0.4, recurrent_dropout=0.4)\n",
    "encoder_outputs, state_h, state_c= encoder_lstm3(encoder_output2)"
   ]
  },
  {
   "cell_type": "code",
   "execution_count": 56,
   "id": "close-kidney",
   "metadata": {},
   "outputs": [
    {
     "name": "stdout",
     "output_type": "stream",
     "text": [
      "WARNING:tensorflow:Layer lstm_3 will not use cuDNN kernel since it doesn't meet the cuDNN kernel criteria. It will use generic GPU kernel as fallback when running on GPU\n"
     ]
    }
   ],
   "source": [
    "# 디코더 설계\n",
    "decoder_inputs = Input(shape=(None,))\n",
    "\n",
    "# 디코더의 임베딩 층\n",
    "dec_emb_layer = Embedding(tar_vocab, embedding_dim)\n",
    "dec_emb = dec_emb_layer(decoder_inputs)\n",
    "\n",
    "# 디코더의 LSTM\n",
    "decoder_lstm = LSTM(hidden_size, return_sequences=True, return_state=True, dropout=0.4, recurrent_dropout=0.2)\n",
    "decoder_outputs, _, _ = decoder_lstm(dec_emb, initial_state=[state_h, state_c])\n",
    "## initial state로 hidden state와 cell state를 추가해줘야 하는것이 중요한 차이"
   ]
  },
  {
   "cell_type": "code",
   "execution_count": 57,
   "id": "scheduled-kelly",
   "metadata": {},
   "outputs": [
    {
     "name": "stdout",
     "output_type": "stream",
     "text": [
      "Model: \"model\"\n",
      "__________________________________________________________________________________________________\n",
      "Layer (type)                    Output Shape         Param #     Connected to                     \n",
      "==================================================================================================\n",
      "input_1 (InputLayer)            [(None, 40)]         0                                            \n",
      "__________________________________________________________________________________________________\n",
      "embedding (Embedding)           (None, 40, 128)      1024000     input_1[0][0]                    \n",
      "__________________________________________________________________________________________________\n",
      "lstm (LSTM)                     [(None, 40, 256), (N 394240      embedding[0][0]                  \n",
      "__________________________________________________________________________________________________\n",
      "input_2 (InputLayer)            [(None, None)]       0                                            \n",
      "__________________________________________________________________________________________________\n",
      "lstm_1 (LSTM)                   [(None, 40, 256), (N 525312      lstm[0][0]                       \n",
      "__________________________________________________________________________________________________\n",
      "embedding_1 (Embedding)         (None, None, 128)    256000      input_2[0][0]                    \n",
      "__________________________________________________________________________________________________\n",
      "lstm_2 (LSTM)                   [(None, 40, 256), (N 525312      lstm_1[0][0]                     \n",
      "__________________________________________________________________________________________________\n",
      "lstm_3 (LSTM)                   [(None, None, 256),  394240      embedding_1[0][0]                \n",
      "                                                                 lstm_2[0][1]                     \n",
      "                                                                 lstm_2[0][2]                     \n",
      "__________________________________________________________________________________________________\n",
      "dense (Dense)                   (None, None, 2000)   514000      lstm_3[0][0]                     \n",
      "==================================================================================================\n",
      "Total params: 3,633,104\n",
      "Trainable params: 3,633,104\n",
      "Non-trainable params: 0\n",
      "__________________________________________________________________________________________________\n"
     ]
    }
   ],
   "source": [
    "# 디코더의 출력층\n",
    "decoder_softmax_layer = Dense(tar_vocab, activation='softmax')\n",
    "decoder_softmax_outputs = decoder_softmax_layer(decoder_outputs) \n",
    "\n",
    "# 모델 정의\n",
    "model = Model([encoder_inputs, decoder_inputs], decoder_softmax_outputs)\n",
    "model.summary()"
   ]
  },
  {
   "cell_type": "markdown",
   "id": "double-thing",
   "metadata": {},
   "source": [
    "### Step 3. 어텐션 메커니즘 사용하기 (추상적 요약)\n",
    "\n",
    "일반적인 seq2seq보다는 어텐션 메커니즘을 사용한 seq2seq를 사용하는 것이 더 나은 성능을 얻을 수 있어요. 실습 내용을 참고하여 어텐션 메커니즘을 사용한 seq2seq를 설계해 보세요."
   ]
  },
  {
   "attachments": {
    "image.png": {
     "image/png": "[encoded data removed]"
    }
   },
   "cell_type": "markdown",
   "id": "convertible-ethnic",
   "metadata": {},
   "source": [
    "![image.png](attachment:image.png)\n",
    "\n",
    "https://arxiv.org/pdf/1812.02303.pdf"
   ]
  },
  {
   "cell_type": "code",
   "execution_count": 61,
   "id": "decimal-inside",
   "metadata": {},
   "outputs": [],
   "source": [
    "urllib.request.urlretrieve(\"https://raw.githubusercontent.com/thushv89/attention_keras/master/src/layers/attention.py\", filename=\"attention.py\")\n",
    "from attention import AttentionLayer"
   ]
  },
  {
   "cell_type": "code",
   "execution_count": 62,
   "id": "swedish-monkey",
   "metadata": {},
   "outputs": [
    {
     "name": "stdout",
     "output_type": "stream",
     "text": [
      "Model: \"model_2\"\n",
      "__________________________________________________________________________________________________\n",
      "Layer (type)                    Output Shape         Param #     Connected to                     \n",
      "==================================================================================================\n",
      "input_1 (InputLayer)            [(None, 40)]         0                                            \n",
      "__________________________________________________________________________________________________\n",
      "embedding (Embedding)           (None, 40, 128)      1024000     input_1[0][0]                    \n",
      "__________________________________________________________________________________________________\n",
      "lstm (LSTM)                     [(None, 40, 256), (N 394240      embedding[0][0]                  \n",
      "__________________________________________________________________________________________________\n",
      "input_2 (InputLayer)            [(None, None)]       0                                            \n",
      "__________________________________________________________________________________________________\n",
      "lstm_1 (LSTM)                   [(None, 40, 256), (N 525312      lstm[0][0]                       \n",
      "__________________________________________________________________________________________________\n",
      "embedding_1 (Embedding)         (None, None, 128)    256000      input_2[0][0]                    \n",
      "__________________________________________________________________________________________________\n",
      "lstm_2 (LSTM)                   [(None, 40, 256), (N 525312      lstm_1[0][0]                     \n",
      "__________________________________________________________________________________________________\n",
      "lstm_3 (LSTM)                   [(None, None, 256),  394240      embedding_1[0][0]                \n",
      "                                                                 lstm_2[0][1]                     \n",
      "                                                                 lstm_2[0][2]                     \n",
      "__________________________________________________________________________________________________\n",
      "attention_layer (AttentionLayer ((None, None, 256),  131328      lstm_2[0][0]                     \n",
      "                                                                 lstm_3[0][0]                     \n",
      "__________________________________________________________________________________________________\n",
      "concat_layer (Concatenate)      (None, None, 512)    0           lstm_3[0][0]                     \n",
      "                                                                 attention_layer[0][0]            \n",
      "__________________________________________________________________________________________________\n",
      "dense_2 (Dense)                 (None, None, 2000)   1026000     concat_layer[0][0]               \n",
      "==================================================================================================\n",
      "Total params: 4,276,432\n",
      "Trainable params: 4,276,432\n",
      "Non-trainable params: 0\n",
      "__________________________________________________________________________________________________\n"
     ]
    }
   ],
   "source": [
    "# 어텐션 층(어텐션 함수)\n",
    "attn_layer = AttentionLayer(name='attention_layer')\n",
    "# 인코더와 디코더의 모든 time step의 hidden state를 어텐션 층에 전달하고 결과를 리턴\n",
    "attn_out, attn_states = attn_layer([encoder_outputs, decoder_outputs])\n",
    "\n",
    "# 어텐션의 결과와 디코더의 hidden state들을 연결\n",
    "decoder_concat_input = Concatenate(axis=-1, name='concat_layer')([decoder_outputs, attn_out])\n",
    "\n",
    "# 디코더의 출력층\n",
    "decoder_softmax_layer = Dense(tar_vocab, activation='softmax')\n",
    "decoder_softmax_outputs = decoder_softmax_layer(decoder_concat_input)\n",
    "\n",
    "# 모델 정의\n",
    "model = Model([encoder_inputs, decoder_inputs], decoder_softmax_outputs)\n",
    "model.summary()"
   ]
  },
  {
   "cell_type": "code",
   "execution_count": 63,
   "id": "exotic-crowd",
   "metadata": {},
   "outputs": [
    {
     "name": "stdout",
     "output_type": "stream",
     "text": [
      "Epoch 1/50\n",
      "268/268 [==============================] - 221s 771ms/step - loss: 4.5408 - val_loss: 3.7000\n",
      "Epoch 2/50\n",
      "268/268 [==============================] - 206s 770ms/step - loss: 3.7768 - val_loss: 3.4295\n",
      "Epoch 3/50\n",
      "268/268 [==============================] - 206s 769ms/step - loss: 3.4786 - val_loss: 3.2271\n",
      "Epoch 4/50\n",
      "268/268 [==============================] - 206s 769ms/step - loss: 3.2583 - val_loss: 3.0997\n",
      "Epoch 5/50\n",
      "268/268 [==============================] - 206s 768ms/step - loss: 3.0788 - val_loss: 2.9968\n",
      "Epoch 6/50\n",
      "268/268 [==============================] - 205s 766ms/step - loss: 2.9520 - val_loss: 2.9199\n",
      "Epoch 7/50\n",
      "268/268 [==============================] - 202s 755ms/step - loss: 2.8387 - val_loss: 2.8526\n",
      "Epoch 8/50\n",
      "268/268 [==============================] - 200s 747ms/step - loss: 2.7479 - val_loss: 2.8042\n",
      "Epoch 9/50\n",
      "268/268 [==============================] - 200s 745ms/step - loss: 2.6678 - val_loss: 2.7598\n",
      "Epoch 10/50\n",
      "268/268 [==============================] - 200s 746ms/step - loss: 2.5924 - val_loss: 2.7309\n",
      "Epoch 11/50\n",
      "268/268 [==============================] - 200s 745ms/step - loss: 2.5329 - val_loss: 2.7163\n",
      "Epoch 12/50\n",
      "268/268 [==============================] - 199s 744ms/step - loss: 2.4748 - val_loss: 2.6838\n",
      "Epoch 13/50\n",
      "268/268 [==============================] - 200s 746ms/step - loss: 2.4211 - val_loss: 2.6613\n",
      "Epoch 14/50\n",
      "268/268 [==============================] - 200s 745ms/step - loss: 2.3715 - val_loss: 2.6518\n",
      "Epoch 15/50\n",
      "268/268 [==============================] - 200s 746ms/step - loss: 2.3305 - val_loss: 2.6326\n",
      "Epoch 16/50\n",
      "268/268 [==============================] - 200s 746ms/step - loss: 2.2916 - val_loss: 2.6258\n",
      "Epoch 17/50\n",
      "268/268 [==============================] - 200s 746ms/step - loss: 2.2522 - val_loss: 2.6207\n",
      "Epoch 18/50\n",
      "268/268 [==============================] - 200s 749ms/step - loss: 2.2205 - val_loss: 2.6115\n",
      "Epoch 19/50\n",
      "268/268 [==============================] - 201s 749ms/step - loss: 2.1810 - val_loss: 2.6061\n",
      "Epoch 20/50\n",
      "268/268 [==============================] - 200s 748ms/step - loss: 2.1474 - val_loss: 2.5966\n",
      "Epoch 21/50\n",
      "268/268 [==============================] - 200s 745ms/step - loss: 2.1208 - val_loss: 2.5965\n",
      "Epoch 22/50\n",
      "268/268 [==============================] - 200s 746ms/step - loss: 2.0910 - val_loss: 2.6027\n",
      "Epoch 23/50\n",
      "268/268 [==============================] - 200s 745ms/step - loss: 2.0693 - val_loss: 2.5960\n",
      "Epoch 24/50\n",
      "268/268 [==============================] - 199s 744ms/step - loss: 2.0415 - val_loss: 2.5991\n",
      "Epoch 25/50\n",
      "268/268 [==============================] - 200s 745ms/step - loss: 2.0188 - val_loss: 2.5961\n",
      "Epoch 00025: early stopping\n"
     ]
    }
   ],
   "source": [
    "model.compile(optimizer='rmsprop', loss='sparse_categorical_crossentropy')\n",
    "es = EarlyStopping(monitor='val_loss', patience=2, verbose=1)\n",
    "history = model.fit(x=[encoder_input_train, decoder_input_train], y=decoder_target_train, \\\n",
    "          validation_data=([encoder_input_test, decoder_input_test], decoder_target_test), \\\n",
    "          batch_size=256, callbacks=[es], epochs=50)"
   ]
  },
  {
   "cell_type": "code",
   "execution_count": 64,
   "id": "phantom-paradise",
   "metadata": {},
   "outputs": [
    {
     "data": {
      "image/png": "[encoded data removed]",
      "text/plain": [
       "<Figure size 432x288 with 1 Axes>"
      ]
     },
     "metadata": {
      "needs_background": "light"
     },
     "output_type": "display_data"
    }
   ],
   "source": [
    "plt.plot(history.history['loss'], label='train')\n",
    "plt.plot(history.history['val_loss'], label='test')\n",
    "plt.legend()\n",
    "plt.show()"
   ]
  },
  {
   "cell_type": "markdown",
   "id": "placed-classification",
   "metadata": {},
   "source": [
    "## Embodying inference model"
   ]
  },
  {
   "cell_type": "code",
   "execution_count": 67,
   "id": "capable-reply",
   "metadata": {},
   "outputs": [],
   "source": [
    "src_index_to_word = src_tokenizer.index_word # 원문 단어 집합에서 정수 -> 단어를 얻음\n",
    "tar_word_to_index = tar_tokenizer.word_index # 요약 단어 집합에서 단어 -> 정수를 얻음\n",
    "tar_index_to_word = tar_tokenizer.index_word # 요약 단어 집합에서 정수 -> 단어를 얻음"
   ]
  },
  {
   "cell_type": "code",
   "execution_count": 68,
   "id": "capital-adventure",
   "metadata": {},
   "outputs": [],
   "source": [
    "# 인코더 설계\n",
    "encoder_model = Model(inputs=encoder_inputs, outputs=[encoder_outputs, state_h, state_c])\n",
    "\n",
    "# 이전 시점의 상태들을 저장하는 텐서\n",
    "decoder_state_input_h = Input(shape=(hidden_size,))\n",
    "decoder_state_input_c = Input(shape=(hidden_size,))\n",
    "\n",
    "dec_emb2 = dec_emb_layer(decoder_inputs)\n",
    "\n",
    "# 문장의 다음 단어를 예측하기 위해서 초기 상태(initial_state)를 이전 시점의 상태로 사용. 이는 뒤의 함수 decode_sequence()에 구현\n",
    "# 훈련 과정에서와 달리 LSTM의 리턴하는 은닉 상태와 셀 상태인 state_h와 state_c를 버리지 않음.\n",
    "decoder_outputs2, state_h2, state_c2 = decoder_lstm(dec_emb2, initial_state=[decoder_state_input_h, decoder_state_input_c])"
   ]
  },
  {
   "cell_type": "code",
   "execution_count": 69,
   "id": "adverse-federal",
   "metadata": {},
   "outputs": [],
   "source": [
    "# 어텐션 함수\n",
    "decoder_hidden_state_input = Input(shape=(text_max_len, hidden_size))\n",
    "attn_out_inf, attn_states_inf = attn_layer([decoder_hidden_state_input, decoder_outputs2])\n",
    "decoder_inf_concat = Concatenate(axis=-1, name='concat')([decoder_outputs2, attn_out_inf])\n",
    "\n",
    "# 디코더의 출력층\n",
    "decoder_outputs2 = decoder_softmax_layer(decoder_inf_concat) \n",
    "\n",
    "# 최종 디코더 모델\n",
    "decoder_model = Model(\n",
    "    [decoder_inputs] + [decoder_hidden_state_input,decoder_state_input_h, decoder_state_input_c],\n",
    "    [decoder_outputs2] + [state_h2, state_c2])"
   ]
  },
  {
   "cell_type": "code",
   "execution_count": 74,
   "id": "living-miniature",
   "metadata": {},
   "outputs": [],
   "source": [
    "def decode_sequence(input_seq):\n",
    "    # 입력으로부터 인코더의 상태를 얻음\n",
    "    e_out, e_h, e_c = encoder_model.predict(input_seq)\n",
    "\n",
    "     # <SOS>에 해당하는 토큰 생성\n",
    "    target_seq = np.zeros((1,1))\n",
    "    target_seq[0, 0] = tar_word_to_index['sostoken']\n",
    "\n",
    "    stop_condition = False\n",
    "    decoded_sentence = ''\n",
    "    while not stop_condition: # stop_condition이 True가 될 때까지 루프 반복\n",
    "\n",
    "        output_tokens, h, c = decoder_model.predict([target_seq] + [e_out, e_h, e_c])\n",
    "        sampled_token_index = np.argmax(output_tokens[0, -1, :])\n",
    "        sampled_token = tar_index_to_word[sampled_token_index]\n",
    "\n",
    "        if (sampled_token!='eostoken'):\n",
    "            decoded_sentence += ' '+sampled_token\n",
    "\n",
    "        #  <eos>에 도달하거나 최대 길이를 넘으면 중단.\n",
    "        if (sampled_token == 'eostoken'  or len(decoded_sentence.split()) >= (headline_max_len-1)):\n",
    "            stop_condition = True\n",
    "\n",
    "        # 길이가 1인 타겟 시퀀스를 업데이트\n",
    "        target_seq = np.zeros((1,1))\n",
    "        target_seq[0, 0] = sampled_token_index\n",
    "\n",
    "        # 상태를 업데이트 합니다.\n",
    "        e_h, e_c = h, c\n",
    "\n",
    "    return decoded_sentence"
   ]
  },
  {
   "cell_type": "markdown",
   "id": "graphic-toolbox",
   "metadata": {},
   "source": [
    "### Step 4. 실제 결과와 요약문 비교하기 (추상적 요약)\n",
    "원래의 요약문(headlines 열)과 학습을 통해 얻은 추상적 요약의 결과를 비교해 보세요."
   ]
  },
  {
   "cell_type": "markdown",
   "id": "perfect-calibration",
   "metadata": {},
   "source": [
    "### Testing the model"
   ]
  },
  {
   "cell_type": "code",
   "execution_count": 75,
   "id": "dramatic-bacteria",
   "metadata": {},
   "outputs": [],
   "source": [
    "# 원문의 정수 시퀀스를 텍스트 시퀀스로 변환\n",
    "def seq2text(input_seq):\n",
    "    temp=''\n",
    "    for i in input_seq:\n",
    "        if (i!=0):\n",
    "            temp = temp + src_index_to_word[i]+' '\n",
    "    return temp\n",
    "\n",
    "# 요약문의 정수 시퀀스를 텍스트 시퀀스로 변환\n",
    "def seq2summary(input_seq):\n",
    "    temp=''\n",
    "    for i in input_seq:\n",
    "        if ((i!=0 and i!=tar_word_to_index['sostoken']) and i!=tar_word_to_index['eostoken']):\n",
    "            temp = temp + tar_index_to_word[i] + ' '\n",
    "    return temp"
   ]
  },
  {
   "cell_type": "code",
   "execution_count": 76,
   "id": "daily-holmes",
   "metadata": {},
   "outputs": [
    {
     "name": "stdout",
     "output_type": "stream",
     "text": [
      "원문 : according report indian computer emergency response team least one cyber attack reported every minutes first six months many cases cyber attacks reported january june higher one every minutes added report \n",
      "실제 요약 : attack every minutes in india in report \n",
      "예측 요약 :  indian air force in indonesia\n",
      "\n",
      "\n",
      "원문 : google announced initiative youtube called method take users searching terrorism related violent instead measure success method google analyse amount engagement counter terrorism content gets people \n",
      "실제 요약 : seeking terror video takes youtube users to anti hate videos \n",
      "예측 요약 :  google search for news\n",
      "\n",
      "\n",
      "원문 : former buddhist monk charged rape girl money laundering fraud thai court following extradition us dubbed jet set monk made news footage emerged two private jet carrying louis designer bags \n",
      "실제 요약 : thai court charges jet set with rape \n",
      "예측 요약 :  ex ex director of raping year old\n",
      "\n",
      "\n",
      "원문 : per monitor premiere episode game thrones season nearly crore times six times many official view count includes illegal streaming direct illegal views came united states followed uk germany india indonesia \n",
      "실제 요약 : game of season crore times \n",
      "예측 요약 :  game game of crore season\n",
      "\n",
      "\n",
      "원문 : eight time olympic gold winner usain bolt posted first sub second metre time year diamond league meeting friday went germany treatment back issues years seconds winning race three second \n",
      "실제 요약 : runs race in under sec for first time this year \n",
      "예측 요약 :  time champion out of his th time\n",
      "\n",
      "\n",
      "원문 : upcoming north america tour rock band park scheduled begin next week cancelled lead demise earlier week reportedly committed suicide california residence formed park sold million worldwide two awards \n",
      "실제 요약 : park upcoming tour cancelled after \n",
      "예측 요약 :  video of park house goes on day\n",
      "\n",
      "\n",
      "원문 : director upcoming film said actress singh return fee charged film quitting project mid way added want back well expectations anything left project citing shooting intimate scenes denied claims \n",
      "실제 요약 : did not return fee \n",
      "예측 요약 :  director told me to pay for me director\n",
      "\n",
      "\n",
      "원문 : delhi metro non executive staff friday staged protest increase salary sitting various platforms black around arms reportedly threatened total shutdown services monday demands met protestors said assured increased grade pay nothing done far \n",
      "실제 요약 : delhi metro support staff stage protest for salary hike \n",
      "예측 요약 :  delhi metro workers protest over anti anti\n",
      "\n",
      "\n",
      "원문 : maharashtra government friday issued draft rules reportedly allow illegal built december fee senior official said within six months rules coming force planning authorities invite applications owners consideration cases \n",
      "실제 요약 : maha issues rules to illegal \n",
      "예측 요약 :  maha govt to ban on\n",
      "\n",
      "\n",
      "원문 : appointments committee cabinet appointed sanjay kothari batch ias officer haryana secretary president ram nath kovind committee also declared senior journalist ashok malik press secretary kovind appointments cleared initial period two years committee headed prime minister narendra modi \n",
      "실제 요약 : sanjay appointed secretary to president kovind \n",
      "예측 요약 :  appointed new chief justice of the president\n",
      "\n",
      "\n",
      "원문 : bitcoin friday split two currencies development community supported software upgrade would improve network ability process increasing number transactions miners backed first step implementation new software miners represent computer operators secure public bitcoin transactions \n",
      "실제 요약 : bitcoin into two digital \n",
      "예측 요약 :  bitcoin to be by\n",
      "\n",
      "\n",
      "원문 : south korean technology company samsung reportedly working wireless compete apple powered samsung smart assistant could possibly launched galaxy note next month according reports also believed feature noise technology \n",
      "실제 요약 : samsung making to rival reports \n",
      "예측 요약 :  samsung samsung to launch smartphone in new zealand\n",
      "\n",
      "\n",
      "원문 : experts late artist dal body revealed remains nearly three decades death said still past liked body settle case wherein woman claimed mother affair \n",
      "실제 요약 : three after death \n",
      "예측 요약 :  was yrs ago\n",
      "\n",
      "\n",
      "원문 : gold manufacturing giant rajesh exports among biggest fortune global list jumping much ranks previous year company featured list th spot revenue billion moreover many seven indian companies featured list including mukesh ambani led reliance industries \n",
      "실제 요약 : jumps on global list \n",
      "예측 요약 :  gold worth lakh in list of\n",
      "\n",
      "\n",
      "원문 : industry body termed launch effective zero price marketing position move help company save licence fee government director general rajan termed phone launch clearly big win jio put pressure incumbent telecom operators \n",
      "실제 요약 : at industry body \n",
      "예측 요약 :  to be its own\n",
      "\n",
      "\n",
      "원문 : filmmaker imtiaz ali said shah rukh khan anushka sharma would films faced nepotism imtiaz added welcomed love support joined films anushka said launched banner like yash raj films put anything new talent priority \n",
      "실제 요약 : srk anushka would not be if we ali \n",
      "예측 요약 :  anushka is the of anushka sharma\n",
      "\n",
      "\n",
      "원문 : singer wax statue madame tussauds new york modified fans singer said white earlier appeared singer real life madame tussauds said statement statue back display figure \n",
      "실제 요약 : after fans say it is too white \n",
      "예측 요약 :  statue of statue in\n",
      "\n",
      "\n",
      "원문 : gautam gambhir made men world cup final said indian win ongoing icc women world cup would bigger title home tournament women semi final australia difficult conditions gambhir added \n",
      "실제 요약 : women world cup win will be than win gambhir \n",
      "예측 요약 :  gambhir gambhir to win world cup title\n",
      "\n",
      "\n",
      "원문 : fir registered aap mla prakash molesting year old woman following refuted charges alleging complaint politically motivated complainant bjp worker notably similar complaint filed vihar resident earlier \n",
      "실제 요약 : aap mla booked for \n",
      "예측 요약 :  aap mla booked for assaulting woman\n",
      "\n",
      "\n",
      "원문 : case accused singh domestic help held guilty murder attempted rape year old woman cbi court saturday one several cases two serial killings sexual multiple women minor girls residence \n",
      "실제 요약 : case accused convicted of yr old woman \n",
      "예측 요약 :  cbi officer accused of rape by rape accused\n",
      "\n",
      "\n",
      "원문 : members indian women cricket team awarded lakh bcci performance ongoing icc women world cup indian women team lost two matches route final tournament face hosts england notably india second appearance final competition \n",
      "실제 요약 : women team to be given lakh each for wc \n",
      "예측 요약 :  indian women team team to women team in wc\n",
      "\n",
      "\n",
      "원문 : indian kashyap earned victories friday enter men singles semi finals us open grand prix gold badminton face veteran th seed kashyap play south korea \n",
      "실제 요약 : enter us open \n",
      "예측 요약 :  indian to tour world tour for st time\n",
      "\n",
      "\n",
      "원문 : australian cricketers association sent general manager tim india look deals players contracts cricket australia expired association marketing intellectual property rights top players generate source income players board new pay structure \n",
      "실제 요약 : aus seeking in india \n",
      "예측 요약 :  aus players to play cricket cricket\n",
      "\n",
      "\n",
      "원문 : delhi civic bodies decided construct parking lots next delhi metro stations six parking lots constructed north delhi three south delhi one east delhi parking facilities reportedly open visitors well residents living areas \n",
      "실제 요약 : to be near delhi metro stations \n",
      "예측 요약 :  delhi civic body to build in buses\n",
      "\n",
      "\n",
      "원문 : sri lankan spin legend became player pick test wickets dismissed india final ball test career july notably remains fastest player terms matches played pick test wickets \n",
      "실제 요약 : up th test wicket with career last ball \n",
      "예측 요약 :  test hit by runs in test innings\n",
      "\n",
      "\n",
      "원문 : national green tribunal friday directed delhi development authority submit action plan restoration yamuna comes expert committee appointed ngt claimed acres affected world culture festival organised art living \n",
      "실제 요약 : to action plan for \n",
      "예측 요약 :  ngt orders ngt to\n",
      "\n",
      "\n",
      "원문 : woman allegedly duped lakh married lover wife lover allegedly said wanted leave estranged wife asked pay wife lakh marry managed pay lakh wife told leave alone happy \n",
      "실제 요약 : couple bad marriage to husband of lakh \n",
      "예측 요약 :  woman gives lakh to wife for lakh\n",
      "\n",
      "\n",
      "원문 : rss bjp affiliated think tank bharat niti reportedly planned raise dedicated unit people protect promote hinduism online group also planned hinduism social media november would discuss ways promote hinduism high tech means notably yogi adityanath invited chief guest event \n",
      "실제 요약 : rss think to get people to protect online \n",
      "예측 요약 :  bjp leaders to launch social media\n",
      "\n",
      "\n",
      "원문 : new temporary swimming zone opened la canal paris nearly century swimming city waters banned fears water quality forming huge visit swimming zone opened part summer festival paris \n",
      "실제 요약 : paris opens to after century \n",
      "예측 요약 :  begins paris paris\n",
      "\n",
      "\n",
      "원문 : cbfc chief pahlaj nihalani sent legal notice organisers allegedly act awards notice said nihalani picture used inappropriate manner referred also demanded apology pledge nihalani \n",
      "실제 요약 : cbfc chief sends legal notice to for defamation \n",
      "예측 요약 :  sends notice to ban on\n",
      "\n",
      "\n",
      "원문 : akshay kumar toilet ek prem katha leaked online days release choreographer director remo souza notified film makers leak met someone film drive reacting akshay tweeted police looking matter urged fans say \n",
      "실제 요약 : akshay toilet leaked online before release \n",
      "예측 요약 :  toilet toilet akshay on toilet row\n",
      "\n",
      "\n",
      "원문 : responding saif ali khan letter wherein discussed nepotism kangana ranaut wrote letter would farmer saif point true added skills hard work saif written people interested star kids parents \n",
      "실제 요약 : would be farmer if saif on is kangana \n",
      "예측 요약 :  people have kangana on kangana\n",
      "\n",
      "\n",
      "원문 : report auditor general india revealed three made payments amounting crore fy iit spent crore construction lines delayed four years besides paying crore service tax services exempted iit madras paid crore penal charges electricity consumption \n",
      "실제 요약 : made payments of cr in \n",
      "예측 요약 :  indian firms to cr in cr\n",
      "\n",
      "\n",
      "원문 : team army men civilian clothes allegedly beat eight policemen stopped returning amarnath yatra reportedly injured policemen hospitalised fir registered army men notably non locals including allowed travel night light recent terror attacks \n",
      "실제 요약 : army jawans attack police post in injured \n",
      "예측 요약 :  army cops to join police station\n",
      "\n",
      "\n",
      "원문 : delhi cm arvind kejriwal thursday allocated tourism ministry deputy cm manish sisodia earlier held water minister gautam sisodia reportedly asked kejriwal drop sisodia revenue department turn given gautam transport minister kailash respectively \n",
      "실제 요약 : kejriwal \n",
      "예측 요약 :  delhi cm kejriwal to take charge of\n",
      "\n",
      "\n",
      "원문 : group representing major technology companies like google amazon facebook supported apple legal dispute chipmaker qualcomm group called regulators qualcomm bid ban import iphones us apple accused qualcomm fees use technologies iphones \n",
      "실제 요약 : google amazon facebook back apple lawsuit against \n",
      "예측 요약 :  google responds to iphone on iphone\n",
      "\n",
      "\n",
      "원문 : five year old girl fined running stall london last week father said said cried enforcement officer launched script accused trading without licence approaching council later cancelled fine saying expect enforcement officers show common sense \n",
      "실제 요약 : five year old girl fined for running \n",
      "예측 요약 :  son fined lakh for son name\n",
      "\n",
      "\n",
      "원문 : government seek explanation philip marketing practices reports suggested tobacco giant used indian law philip cigarettes tobacco shops free young people promote brand reports stated strategy laid internal documents period \n",
      "실제 요약 : govt to maker on free to \n",
      "예측 요약 :  no for in india govt\n",
      "\n",
      "\n",
      "원문 : actress sonam kapoor turned designers abu sandeep new collection walked ramp coloured lehenga era inspired featuring jewellery including completed sonam look \n",
      "실제 요약 : sonam turns for \n",
      "예측 요약 :  sonam kapoor to walk on\n",
      "\n",
      "\n",
      "원문 : delhi court friday ordered de hotel leela palace room sealed since january congress leader shashi tharoor wife pushkar found dead court stated hotel could made suffer continuously police reached conclusion regarding pushkar death \n",
      "실제 요약 : court orders hotel room where died \n",
      "예측 요약 :  hotel hotel hotel to hotel\n",
      "\n",
      "\n",
      "원문 : railway minister suresh prabhu friday said government working global technology firms like apple take indian railways next level prabhu added government aiming increase train speeds kmph help major technology developers also revealed plans using self coaches detect rail \n",
      "실제 요약 : indian railways working with apple to train \n",
      "예측 요약 :  railway to railway railway stations\n",
      "\n",
      "\n",
      "원문 : new airport project mumbai take away forest land cover planted across play crucial role rehabilitation families villages airport also directed \n",
      "실제 요약 : new mumbai airport to take away of land \n",
      "예측 요약 :  airport to be held at mumbai airport\n",
      "\n",
      "\n",
      "원문 : renault british formula one driver said burnt ahead grand prix next week sidelined british grand prix yet score point season run bad luck end said \n",
      "실제 요약 : one driver \n",
      "예측 요약 :  driver claims he is\n",
      "\n",
      "\n",
      "원문 : cbi filed case delhi based company using cheap china made parts passed german made production guns used army cbi alleged company entered criminal conspiracy officials supply spare parts later tests found unacceptable due \n",
      "실제 요약 : chinese off as german made in cbi \n",
      "예측 요약 :  cbi books cbi in china\n",
      "\n",
      "\n",
      "원문 : ipl chairman senior bcci official rajeev shukla made twitter writing champions trophy instead world cup congratulating indian women team reaching final shukla trolled error following deleted tweet wishes shukla called women team achievements moment indian cricket \n",
      "실제 요약 : ipl chief wishes women world cup team for trophy \n",
      "예측 요약 :  bcci vijay mallya to help wc trophy\n",
      "\n",
      "\n",
      "원문 : gold worth nearly lakh found hidden toilets customs officials mumbai airport friday customs official said ten gold bars worth lakh found wall washroom airport another case customs officials found ten gold bars worth lakh toilet dubai mumbai flight \n",
      "실제 요약 : gold worth lakh in of mumbai airport plane \n",
      "예측 요약 :  gold worth lakh found in toilet toilet found in mumbai\n",
      "\n",
      "\n",
      "원문 : india first food truck park launched july mumbai shut thursday brihanmumbai municipal corporation official said west ward given permission company run park meanwhile bombay food truck company founder said issue soon adding soon \n",
      "실제 요약 : india st food truck park shut down within week \n",
      "예측 요약 :  indian to pay for mumbai buses\n",
      "\n",
      "\n",
      "원문 : iit delhi saw increase number female students masters courses severe shortage rooms temporary several students building meant associate reportedly students asked sleep spread floor due \n",
      "실제 요약 : iit delhi faces of for its female students \n",
      "예측 요약 :  iit delhi to students for students\n",
      "\n",
      "\n",
      "원문 : lord cricket ground allow fans bring much like guests emerged first england south africa test members allowed bring two beer alcohol single wine bottle \n",
      "실제 요약 : lord to of alcohol being by fans \n",
      "예측 요약 :  team to play in england\n",
      "\n",
      "\n",
      "원문 : cricketer harmanpreet kaur scored australia women world cup semi final thanked idol virender sehwag praising knock twitter sehwag termed innings innings lifetime harmanpreet wrote thank idol years \n",
      "실제 요약 : thanks her sehwag after record innings \n",
      "예측 요약 :  sehwag on his own in wc\n",
      "\n",
      "\n"
     ]
    }
   ],
   "source": [
    "for i in range(50, 100):\n",
    "    print(\"원문 :\", seq2text(encoder_input_test[i]))\n",
    "    print(\"실제 요약 :\", seq2summary(decoder_input_test[i]))\n",
    "    print(\"예측 요약 :\", decode_sequence(encoder_input_test[i].reshape(1, text_max_len)))\n",
    "    print(\"\\n\")"
   ]
  },
  {
   "cell_type": "markdown",
   "id": "smart-jefferson",
   "metadata": {},
   "source": [
    "predicted headline(summary) is not good"
   ]
  },
  {
   "cell_type": "markdown",
   "id": "optical-loading",
   "metadata": {},
   "source": [
    "### Step 5. Summa을 이용해서 추출적 요약해보기\n",
    "추상적 요약은 추출적 요약과는 달리 문장의 표현력을 다양하게 가져갈 수 있지만, 추출적 요약에 비해서 난이도가 높아요. 반대로 말하면 추출적 요약은 추상적 요약에 비해 난이도가 낮고 기존 문장에서 문장을 꺼내오는 것이므로 잘못된 요약이 나올 가능성이 낮아요.\n",
    "\n",
    "Summa의 summarize를 사용하여 추출적 요약을 해보세요."
   ]
  },
  {
   "cell_type": "code",
   "execution_count": 78,
   "id": "effective-turkish",
   "metadata": {},
   "outputs": [
    {
     "data": {
      "text/html": [
       "<div>\n",
       "<style scoped>\n",
       "    .dataframe tbody tr th:only-of-type {\n",
       "        vertical-align: middle;\n",
       "    }\n",
       "\n",
       "    .dataframe tbody tr th {\n",
       "        vertical-align: top;\n",
       "    }\n",
       "\n",
       "    .dataframe thead th {\n",
       "        text-align: right;\n",
       "    }\n",
       "</style>\n",
       "<table border=\"1\" class=\"dataframe\">\n",
       "  <thead>\n",
       "    <tr style=\"text-align: right;\">\n",
       "      <th></th>\n",
       "      <th>headlines</th>\n",
       "      <th>text</th>\n",
       "    </tr>\n",
       "  </thead>\n",
       "  <tbody>\n",
       "    <tr>\n",
       "      <th>0</th>\n",
       "      <td>upGrad learner switches to career in ML &amp; Al w...</td>\n",
       "      <td>Saurav Kant, an alumnus of upGrad and IIIT-B's...</td>\n",
       "    </tr>\n",
       "    <tr>\n",
       "      <th>1</th>\n",
       "      <td>Delhi techie wins free food from Swiggy for on...</td>\n",
       "      <td>Kunal Shah's credit card bill payment platform...</td>\n",
       "    </tr>\n",
       "    <tr>\n",
       "      <th>2</th>\n",
       "      <td>New Zealand end Rohit Sharma-led India's 12-ma...</td>\n",
       "      <td>New Zealand defeated India by 8 wickets in the...</td>\n",
       "    </tr>\n",
       "    <tr>\n",
       "      <th>3</th>\n",
       "      <td>Aegon life iTerm insurance plan helps customer...</td>\n",
       "      <td>With Aegon Life iTerm Insurance plan, customer...</td>\n",
       "    </tr>\n",
       "    <tr>\n",
       "      <th>4</th>\n",
       "      <td>Have known Hirani for yrs, what if MeToo claim...</td>\n",
       "      <td>Speaking about the sexual harassment allegatio...</td>\n",
       "    </tr>\n",
       "    <tr>\n",
       "      <th>5</th>\n",
       "      <td>Rahat Fateh Ali Khan denies getting notice for...</td>\n",
       "      <td>Pakistani singer Rahat Fateh Ali Khan has deni...</td>\n",
       "    </tr>\n",
       "    <tr>\n",
       "      <th>6</th>\n",
       "      <td>India get all out for 92, their lowest ODI tot...</td>\n",
       "      <td>India recorded their lowest ODI total in New Z...</td>\n",
       "    </tr>\n",
       "    <tr>\n",
       "      <th>7</th>\n",
       "      <td>Govt directs Alok Verma to join work 1 day bef...</td>\n",
       "      <td>Weeks after ex-CBI Director Alok Verma told th...</td>\n",
       "    </tr>\n",
       "    <tr>\n",
       "      <th>8</th>\n",
       "      <td>Called PM Modi 'sir' 10 times to satisfy his e...</td>\n",
       "      <td>Andhra Pradesh CM N Chandrababu Naidu has said...</td>\n",
       "    </tr>\n",
       "    <tr>\n",
       "      <th>9</th>\n",
       "      <td>Cong wins Ramgarh bypoll in Rajasthan, takes t...</td>\n",
       "      <td>Congress candidate Shafia Zubair won the Ramga...</td>\n",
       "    </tr>\n",
       "  </tbody>\n",
       "</table>\n",
       "</div>"
      ],
      "text/plain": [
       "                                           headlines  \\\n",
       "0  upGrad learner switches to career in ML & Al w...   \n",
       "1  Delhi techie wins free food from Swiggy for on...   \n",
       "2  New Zealand end Rohit Sharma-led India's 12-ma...   \n",
       "3  Aegon life iTerm insurance plan helps customer...   \n",
       "4  Have known Hirani for yrs, what if MeToo claim...   \n",
       "5  Rahat Fateh Ali Khan denies getting notice for...   \n",
       "6  India get all out for 92, their lowest ODI tot...   \n",
       "7  Govt directs Alok Verma to join work 1 day bef...   \n",
       "8  Called PM Modi 'sir' 10 times to satisfy his e...   \n",
       "9  Cong wins Ramgarh bypoll in Rajasthan, takes t...   \n",
       "\n",
       "                                                text  \n",
       "0  Saurav Kant, an alumnus of upGrad and IIIT-B's...  \n",
       "1  Kunal Shah's credit card bill payment platform...  \n",
       "2  New Zealand defeated India by 8 wickets in the...  \n",
       "3  With Aegon Life iTerm Insurance plan, customer...  \n",
       "4  Speaking about the sexual harassment allegatio...  \n",
       "5  Pakistani singer Rahat Fateh Ali Khan has deni...  \n",
       "6  India recorded their lowest ODI total in New Z...  \n",
       "7  Weeks after ex-CBI Director Alok Verma told th...  \n",
       "8  Andhra Pradesh CM N Chandrababu Naidu has said...  \n",
       "9  Congress candidate Shafia Zubair won the Ramga...  "
      ]
     },
     "execution_count": 78,
     "metadata": {},
     "output_type": "execute_result"
    }
   ],
   "source": [
    "import requests\n",
    "from summa.summarizer import summarize\n",
    "urllib.request.urlretrieve(\"https://raw.githubusercontent.com/sunnysai12345/News_Summary/master/news_summary_more.csv\", filename=\"news_summary_more.csv\")\n",
    "data = pd.read_csv('news_summary_more.csv', encoding='iso-8859-1')\n",
    "data.head(10)"
   ]
  },
  {
   "cell_type": "code",
   "execution_count": 79,
   "id": "closed-aging",
   "metadata": {},
   "outputs": [
    {
     "name": "stdout",
     "output_type": "stream",
     "text": [
      "0       Saurav Kant, an alumnus of upGrad and IIIT-B's...\n",
      "1       Kunal Shah's credit card bill payment platform...\n",
      "2       New Zealand defeated India by 8 wickets in the...\n",
      "3       With Aegon Life iTerm Insurance plan, customer...\n",
      "4       Speaking about the sexual harassment allegatio...\n",
      "                              ...                        \n",
      "1495    India head coach Ravi Shastri has said that he...\n",
      "1496    Italian tennis player Andreas Seppi ensured hi...\n",
      "1497    World number three Roger Federer was stopped b...\n",
      "1498    A cutout of TMC chief and West Bengal CM Mamat...\n",
      "1499    A Delhi court on Saturday pulled up Delhi Poli...\n",
      "Name: text, Length: 1500, dtype: object\n"
     ]
    }
   ],
   "source": [
    "print(data['text'][:1500])"
   ]
  },
  {
   "cell_type": "code",
   "execution_count": 109,
   "id": "removed-ability",
   "metadata": {},
   "outputs": [
    {
     "name": "stdout",
     "output_type": "stream",
     "text": [
      "전체 샘플수 : 98280\n",
      "[\"upGrad's Online Power Learning has powered 3 lakh+ careers.\", '', 'The match witnessed India getting all out for 92, their seventh lowest total in ODI cricket history.', '', '', '', \"India's previous lowest ODI total in New Zealand was 108.\", '', '', '']\n"
     ]
    }
   ],
   "source": [
    "# drop duplicate\n",
    "\n",
    "data.drop_duplicates(subset = ['headlines'], inplace=True)\n",
    "print('전체 샘플수 :', (len(data)))\n",
    "summary_list=[summarize(text,words=10) for text in data['text']]\n",
    "print(summary_list[:10])"
   ]
  },
  {
   "cell_type": "code",
   "execution_count": 110,
   "id": "civic-welsh",
   "metadata": {},
   "outputs": [
    {
     "data": {
      "text/html": [
       "<div>\n",
       "<style scoped>\n",
       "    .dataframe tbody tr th:only-of-type {\n",
       "        vertical-align: middle;\n",
       "    }\n",
       "\n",
       "    .dataframe tbody tr th {\n",
       "        vertical-align: top;\n",
       "    }\n",
       "\n",
       "    .dataframe thead th {\n",
       "        text-align: right;\n",
       "    }\n",
       "</style>\n",
       "<table border=\"1\" class=\"dataframe\">\n",
       "  <thead>\n",
       "    <tr style=\"text-align: right;\">\n",
       "      <th></th>\n",
       "      <th>headlines</th>\n",
       "      <th>text</th>\n",
       "      <th>summarized</th>\n",
       "    </tr>\n",
       "  </thead>\n",
       "  <tbody>\n",
       "    <tr>\n",
       "      <th>0</th>\n",
       "      <td>upGrad learner switches to career in ML &amp; Al w...</td>\n",
       "      <td>Saurav Kant, an alumnus of upGrad and IIIT-B's...</td>\n",
       "      <td>upGrad's Online Power Learning has powered 3 l...</td>\n",
       "    </tr>\n",
       "    <tr>\n",
       "      <th>1</th>\n",
       "      <td>Delhi techie wins free food from Swiggy for on...</td>\n",
       "      <td>Kunal Shah's credit card bill payment platform...</td>\n",
       "      <td></td>\n",
       "    </tr>\n",
       "    <tr>\n",
       "      <th>2</th>\n",
       "      <td>New Zealand end Rohit Sharma-led India's 12-ma...</td>\n",
       "      <td>New Zealand defeated India by 8 wickets in the...</td>\n",
       "      <td>The match witnessed India getting all out for ...</td>\n",
       "    </tr>\n",
       "    <tr>\n",
       "      <th>3</th>\n",
       "      <td>Aegon life iTerm insurance plan helps customer...</td>\n",
       "      <td>With Aegon Life iTerm Insurance plan, customer...</td>\n",
       "      <td></td>\n",
       "    </tr>\n",
       "    <tr>\n",
       "      <th>4</th>\n",
       "      <td>Have known Hirani for yrs, what if MeToo claim...</td>\n",
       "      <td>Speaking about the sexual harassment allegatio...</td>\n",
       "      <td></td>\n",
       "    </tr>\n",
       "    <tr>\n",
       "      <th>5</th>\n",
       "      <td>Rahat Fateh Ali Khan denies getting notice for...</td>\n",
       "      <td>Pakistani singer Rahat Fateh Ali Khan has deni...</td>\n",
       "      <td></td>\n",
       "    </tr>\n",
       "    <tr>\n",
       "      <th>6</th>\n",
       "      <td>India get all out for 92, their lowest ODI tot...</td>\n",
       "      <td>India recorded their lowest ODI total in New Z...</td>\n",
       "      <td>India's previous lowest ODI total in New Zeala...</td>\n",
       "    </tr>\n",
       "    <tr>\n",
       "      <th>7</th>\n",
       "      <td>Govt directs Alok Verma to join work 1 day bef...</td>\n",
       "      <td>Weeks after ex-CBI Director Alok Verma told th...</td>\n",
       "      <td></td>\n",
       "    </tr>\n",
       "    <tr>\n",
       "      <th>8</th>\n",
       "      <td>Called PM Modi 'sir' 10 times to satisfy his e...</td>\n",
       "      <td>Andhra Pradesh CM N Chandrababu Naidu has said...</td>\n",
       "      <td></td>\n",
       "    </tr>\n",
       "    <tr>\n",
       "      <th>9</th>\n",
       "      <td>Cong wins Ramgarh bypoll in Rajasthan, takes t...</td>\n",
       "      <td>Congress candidate Shafia Zubair won the Ramga...</td>\n",
       "      <td></td>\n",
       "    </tr>\n",
       "  </tbody>\n",
       "</table>\n",
       "</div>"
      ],
      "text/plain": [
       "                                           headlines  \\\n",
       "0  upGrad learner switches to career in ML & Al w...   \n",
       "1  Delhi techie wins free food from Swiggy for on...   \n",
       "2  New Zealand end Rohit Sharma-led India's 12-ma...   \n",
       "3  Aegon life iTerm insurance plan helps customer...   \n",
       "4  Have known Hirani for yrs, what if MeToo claim...   \n",
       "5  Rahat Fateh Ali Khan denies getting notice for...   \n",
       "6  India get all out for 92, their lowest ODI tot...   \n",
       "7  Govt directs Alok Verma to join work 1 day bef...   \n",
       "8  Called PM Modi 'sir' 10 times to satisfy his e...   \n",
       "9  Cong wins Ramgarh bypoll in Rajasthan, takes t...   \n",
       "\n",
       "                                                text  \\\n",
       "0  Saurav Kant, an alumnus of upGrad and IIIT-B's...   \n",
       "1  Kunal Shah's credit card bill payment platform...   \n",
       "2  New Zealand defeated India by 8 wickets in the...   \n",
       "3  With Aegon Life iTerm Insurance plan, customer...   \n",
       "4  Speaking about the sexual harassment allegatio...   \n",
       "5  Pakistani singer Rahat Fateh Ali Khan has deni...   \n",
       "6  India recorded their lowest ODI total in New Z...   \n",
       "7  Weeks after ex-CBI Director Alok Verma told th...   \n",
       "8  Andhra Pradesh CM N Chandrababu Naidu has said...   \n",
       "9  Congress candidate Shafia Zubair won the Ramga...   \n",
       "\n",
       "                                          summarized  \n",
       "0  upGrad's Online Power Learning has powered 3 l...  \n",
       "1                                                     \n",
       "2  The match witnessed India getting all out for ...  \n",
       "3                                                     \n",
       "4                                                     \n",
       "5                                                     \n",
       "6  India's previous lowest ODI total in New Zeala...  \n",
       "7                                                     \n",
       "8                                                     \n",
       "9                                                     "
      ]
     },
     "execution_count": 110,
     "metadata": {},
     "output_type": "execute_result"
    }
   ],
   "source": [
    "data['summarized'] = pd.DataFrame(summary_list)\n",
    "\n",
    "data.head(10)"
   ]
  },
  {
   "cell_type": "code",
   "execution_count": 111,
   "id": "fresh-peninsula",
   "metadata": {},
   "outputs": [
    {
     "name": "stdout",
     "output_type": "stream",
     "text": [
      "실제 요약 : Yashwant Sinha demands probe into alleged fund diversion by DHFL\n",
      "Extractive Summarization : \n",
      "abstractive Summarization :  indian air force in indonesia\n",
      "\n",
      "\n",
      "실제 요약 : Boeing sales cross $100bn for 1st time in its 102-yr history\n",
      "Extractive Summarization : Boeing retained its position as the world's largest planemaker for the seventh straight year, delivering 806 aircraft in 2018.\n",
      "abstractive Summarization :  google search for news\n",
      "\n",
      "\n",
      "실제 요약 : headlines\n",
      "Extractive Summarization : \n",
      "abstractive Summarization :  ex ex director of raping year old\n",
      "\n",
      "\n",
      "실제 요약 : OnePlus named bestselling premium smartphone brand of 2018: Report\n",
      "Extractive Summarization : Further, its OnePlus 6 emerged as the highest selling premium smartphone of 2018 followed by OnePlus 6T.\n",
      "abstractive Summarization :  game game of crore season\n",
      "\n",
      "\n",
      "실제 요약 : Can never look at female body, even if naked, in vulgar way: Pooja\n",
      "Extractive Summarization : \n",
      "abstractive Summarization :  time champion out of his th time\n",
      "\n",
      "\n",
      "실제 요약 : Kangana made fake promises to cast: 'Manikarnika' actress Mishti\n",
      "Extractive Summarization : \n",
      "abstractive Summarization :  video of park house goes on day\n",
      "\n",
      "\n",
      "실제 요약 : PM-led panel to meet on Friday to pick new CBI chief: Kharge\n",
      "Extractive Summarization : \n",
      "abstractive Summarization :  director told me to pay for me director\n",
      "\n",
      "\n",
      "실제 요약 : McGregor fined Ã¢ÂÂ¹35 lakh, Khabib Ã¢ÂÂ¹3.5 crore for brawl; both banned\n",
      "Extractive Summarization : \n",
      "abstractive Summarization :  delhi metro workers protest over anti anti\n",
      "\n",
      "\n",
      "실제 요약 : Banned for 4 matches, Sarfaraz shares 'log hai na' poem for critics\n",
      "Extractive Summarization : \n",
      "abstractive Summarization :  maha govt to ban on\n",
      "\n",
      "\n",
      "실제 요약 : Confessed to spot-fixing to escape police torture: Sreesanth to SC\n",
      "Extractive Summarization : Sreesanth further said the bookie tried dragging him into spot-fixing but he didn't fall for it.\n",
      "abstractive Summarization :  appointed new chief justice of the president\n",
      "\n",
      "\n",
      "실제 요약 : Govt to present Interim Budget, not full Budget on February 1\n",
      "Extractive Summarization : The Finance Ministry on Wednesday said the government will present an Interim Budget on February 1.\n",
      "abstractive Summarization :  bitcoin to be by\n",
      "\n",
      "\n",
      "실제 요약 : US intelligence naive and wrong, should go back to school: Trump\n",
      "Extractive Summarization : \n",
      "abstractive Summarization :  samsung samsung to launch smartphone in new zealand\n",
      "\n",
      "\n",
      "실제 요약 : Vatican priest handling sex abuse cases quits over alleged sex abuse\n",
      "Extractive Summarization : \n",
      "abstractive Summarization :  was yrs ago\n",
      "\n",
      "\n",
      "실제 요약 : Woman rejects job after CEO bullies her in interview; he apologises\n",
      "Extractive Summarization : \n",
      "abstractive Summarization :  gold worth lakh in list of\n",
      "\n",
      "\n",
      "실제 요약 : Police officer probing Paytm extortion case arrested for extortion\n",
      "Extractive Summarization : \n",
      "abstractive Summarization :  to be its own\n",
      "\n",
      "\n",
      "실제 요약 : Qatar to invest $200 million in Airtel Africa\n",
      "Extractive Summarization : Airtel Africa, the holding company for Airtel's operations in 14 African countries, is preparing for an initial public offering.\n",
      "abstractive Summarization :  anushka is the of anushka sharma\n",
      "\n",
      "\n",
      "실제 요약 : Rohit Shetty still working on script for Golmaal 5: Shreyas\n",
      "Extractive Summarization : \n",
      "abstractive Summarization :  statue of statue in\n",
      "\n",
      "\n",
      "실제 요약 : Man sues Avengers actress Gwyneth for Ã¢ÂÂ¹22 crore over ski crash\n",
      "Extractive Summarization : \n",
      "abstractive Summarization :  gambhir gambhir to win world cup title\n",
      "\n",
      "\n",
      "실제 요약 : Yami Gautam felicitated by BSF for performance in 'Uri...'\n",
      "Extractive Summarization : Yami Gautam was felicitated by Border Security Force (BSF) in Amritsar for her performance in 'Uri: The Surgical Strike'.\n",
      "abstractive Summarization :  aap mla booked for assaulting woman\n",
      "\n",
      "\n",
      "실제 요약 : Facebook hires its privacy critic as privacy policy manager\n",
      "Extractive Summarization : \n",
      "abstractive Summarization :  cbi officer accused of rape by rape accused\n",
      "\n",
      "\n",
      "실제 요약 : Apple to cut some iPhones' prices outside US over strong dollar\n",
      "Extractive Summarization : \"WeÃ¢ÂÂve decided to go back to (iPhone prices) more commensurate with...local prices...a year ago,\" Cook added.\n",
      "abstractive Summarization :  indian women team team to women team in wc\n",
      "\n",
      "\n",
      "실제 요약 : Scientists test wetsuit to protect wearer after shark attack\n",
      "Extractive Summarization : \"The majority of fatalities from shark bites is due to blood loss...shock from blood loss,\" a scientist said.\n",
      "abstractive Summarization :  indian to tour world tour for st time\n",
      "\n",
      "\n",
      "실제 요약 : Come armed with sticks for PM Modi's rally in WB: BJP leader\n",
      "Extractive Summarization : \n",
      "abstractive Summarization :  aus players to play cricket cricket\n",
      "\n",
      "\n",
      "실제 요약 : '4B' for Opposition is 'Bua-Bhatija-Bhai-Behen': Amit Shah\n",
      "Extractive Summarization : \n",
      "abstractive Summarization :  delhi civic body to build in buses\n",
      "\n",
      "\n",
      "실제 요약 : Volkswagen retains top spot in global sales, beats Toyota\n",
      "Extractive Summarization : \n",
      "abstractive Summarization :  test hit by runs in test innings\n",
      "\n",
      "\n",
      "실제 요약 : Plot, treason by Nissan executives led to my arrest: Ghosn\n",
      "Extractive Summarization : \n",
      "abstractive Summarization :  ngt orders ngt to\n",
      "\n",
      "\n",
      "실제 요약 : Govt cuts customs duty on electric vehicle parts to 10-15%\n",
      "Extractive Summarization : \n",
      "abstractive Summarization :  woman gives lakh to wife for lakh\n",
      "\n",
      "\n",
      "실제 요약 : Swine flu outbreak kills 76 in Rajasthan\n",
      "Extractive Summarization : Government officials on Wednesday said that a swine flu outbreak has killed 76 people this year in Rajasthan.\n",
      "abstractive Summarization :  bjp leaders to launch social media\n",
      "\n",
      "\n",
      "실제 요약 : N Korea unlikely to give up nuclear weapons: US intelligence chief\n",
      "Extractive Summarization : \"North Korean leaders view nuclear arms as critical to regime survival,\" he added.\n",
      "abstractive Summarization :  begins paris paris\n",
      "\n",
      "\n",
      "실제 요약 : Jet Airways denies being told to ground aircraft\n",
      "Extractive Summarization : Further, three aircraft have been temporarily grounded to carry out an engine normalisation exercise, it added.\n",
      "abstractive Summarization :  sends notice to ban on\n",
      "\n",
      "\n",
      "실제 요약 : ICICI fires Chanda Kochhar, to take back bonuses paid in last 9 yrs\n",
      "Extractive Summarization : Retired Justice Srikrishna's enquiry panel has found that ex-CEO Chanda Kochhar violated ICICI Bank's code of conduct.\n",
      "abstractive Summarization :  toilet toilet akshay on toilet row\n",
      "\n",
      "\n",
      "실제 요약 : Ex-cricketer Martin out of ICU after being on ventilator for a month\n",
      "Extractive Summarization : \n",
      "abstractive Summarization :  people have kangana on kangana\n",
      "\n",
      "\n",
      "실제 요약 : Malinga's wife targets Perera on Facebook, he seeks board's help\n",
      "Extractive Summarization : Tanya accused Perera of meeting country's Sports Minister to secure his place in the team.\n",
      "abstractive Summarization :  indian firms to cr in cr\n",
      "\n",
      "\n",
      "실제 요약 : Don't use visit to ailing man for political gains: Goa CM to Rahul\n",
      "Extractive Summarization : \n",
      "abstractive Summarization :  army cops to join police station\n",
      "\n",
      "\n",
      "실제 요약 : PM Modi stops speech after cameraman faints, asks officers to help\n",
      "Extractive Summarization : PM Modi then asked his officers to urgently arrange for an ambulance for the cameraman.\n",
      "abstractive Summarization :  delhi cm kejriwal to take charge of\n",
      "\n",
      "\n",
      "실제 요약 : Couple divorces minutes after marriage as families fight over lunch\n",
      "Extractive Summarization : \n",
      "abstractive Summarization :  google responds to iphone on iphone\n",
      "\n",
      "\n",
      "실제 요약 : Minister praises rape-convict Asaram over Matru-Pitru Divas\n",
      "Extractive Summarization : \n",
      "abstractive Summarization :  son fined lakh for son name\n",
      "\n",
      "\n",
      "실제 요약 : Trump ordered to kill me: Venezuela President Maduro\n",
      "Extractive Summarization : \n",
      "abstractive Summarization :  no for in india govt\n",
      "\n",
      "\n",
      "실제 요약 : 8 Asian billionaires aged over 90, including Mistry, control $125bn\n",
      "Extractive Summarization : The richest among them is Hong Kong's Li Ka Shing with a net worth of $30.5 billion.\n",
      "abstractive Summarization :  sonam kapoor to walk on\n",
      "\n",
      "\n",
      "실제 요약 : 1,000 kg banned plastic seized from Saravana Bhavan in Chennai\n",
      "Extractive Summarization : \n",
      "abstractive Summarization :  hotel hotel hotel to hotel\n",
      "\n",
      "\n",
      "실제 요약 : Shamita Shetty abused, driver slapped after accident: Report\n",
      "Extractive Summarization : \n",
      "abstractive Summarization :  railway to railway railway stations\n",
      "\n",
      "\n",
      "실제 요약 : Trolling has become the norm on social media: Vaani\n",
      "Extractive Summarization : \n",
      "abstractive Summarization :  airport to be held at mumbai airport\n",
      "\n",
      "\n",
      "실제 요약 : Whoever invented marriage was creepy as hell: Sushmita posts joke\n",
      "Extractive Summarization : \"This is an insult to [the] beauty of marriage,\" an Instagram user commented on her post.\n",
      "abstractive Summarization :  driver claims he is\n",
      "\n",
      "\n",
      "실제 요약 : Actor Karanvir Bohra detained in Russia over passport damage\n",
      "Extractive Summarization : \n",
      "abstractive Summarization :  cbi books cbi in china\n",
      "\n",
      "\n",
      "실제 요약 : If I don't get an award, that award is at loss: SRK\n",
      "Extractive Summarization : \n",
      "abstractive Summarization :  bcci vijay mallya to help wc trophy\n",
      "\n",
      "\n",
      "실제 요약 : Actress Patralekhaa to make her Kannada film debut \n",
      "Extractive Summarization : \n",
      "abstractive Summarization :  gold worth lakh found in toilet toilet found in mumbai\n",
      "\n",
      "\n",
      "실제 요약 : Gmail faces temporary global outage, users face '404 error'\n",
      "Extractive Summarization : \n",
      "abstractive Summarization :  indian to pay for mumbai buses\n",
      "\n",
      "\n",
      "실제 요약 : Decide about an alliance within 15 days: Uddhav to BJP\n",
      "Extractive Summarization : \n",
      "abstractive Summarization :  iit delhi to students for students\n",
      "\n",
      "\n",
      "실제 요약 : Grand alliance, if wins, will see a new PM every day: Shah\n",
      "Extractive Summarization : He said the Opposition is thinking about leading the country but does not have a leader.\n",
      "abstractive Summarization :  team to play in england\n",
      "\n",
      "\n",
      "실제 요약 : Demonetisation made homes affordable for youth: PM Modi\n",
      "Extractive Summarization : \n",
      "abstractive Summarization :  sehwag on his own in wc\n",
      "\n",
      "\n"
     ]
    }
   ],
   "source": [
    "for i in range(50, 100):\n",
    "    print(\"실제 요약 :\", data.headlines[i])\n",
    "    print('Extractive Summarization :', data.summarized[i] )\n",
    "    print(\"abstractive Summarization :\", decode_sequence(encoder_input_test[i].reshape(1, text_max_len)))\n",
    "    print(\"\\n\")"
   ]
  },
  {
   "cell_type": "markdown",
   "id": "spiritual-entry",
   "metadata": {},
   "source": [
    "## Abstractive VS Extractive\n",
    "### Extractive summarization -> not good\n",
    "1) in argument 'ratio' makes output(summary) vacant. So I used 'word=10' argument.\n",
    " but even that trial still included many null output, showing bad performance.\n",
    "\n",
    "2) Grammartically better than abstractive, making a full sentence. But semantically a bit out of focus.\n",
    "\n",
    "### Abstractive summarization -> not very good\n",
    "1) redundant words are investigated, and showed phrase rather than full sentence\n",
    "\n",
    "2) Semantically more similar to real summary(label), but still poor performance\n",
    "\n",
    "## Conclusion\n",
    "### -> more data and better modelling in abstractive summarization would make 'ideal' summary bot. \n"
   ]
  }
 ],
 "metadata": {
  "kernelspec": {
   "display_name": "Python 3",
   "language": "python",
   "name": "python3"
  },
  "language_info": {
   "codemirror_mode": {
    "name": "ipython",
    "version": 3
   },
   "file_extension": ".py",
   "mimetype": "text/x-python",
   "name": "python",
   "nbconvert_exporter": "python",
   "pygments_lexer": "ipython3",
   "version": "3.7.9"
  }
 },
 "nbformat": 4,
 "nbformat_minor": 5
}
