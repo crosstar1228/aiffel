{
  "nbformat": 4,
  "nbformat_minor": 0,
  "metadata": {
    "colab": {
      "name": "EXPLORATION2-(3)_load_breast_cancer.ipynb",
      "provenance": [],
      "collapsed_sections": []
    },
    "kernelspec": {
      "name": "python3",
      "display_name": "Python 3"
    },
    "language_info": {
      "name": "python"
    }
  },
  "cells": [
    {
      "cell_type": "markdown",
      "metadata": {
        "id": "Y0zh3ZPFLAdQ"
      },
      "source": [
        "## Breast Cancer binary classification"
      ]
    },
    {
      "cell_type": "markdown",
      "metadata": {
        "id": "tjcctWAlGoWp"
      },
      "source": [
        "### 1. Import scikit modules"
      ]
    },
    {
      "cell_type": "code",
      "metadata": {
        "id": "Vs6YREFZ_8ql"
      },
      "source": [
        "from sklearn.datasets import load_breast_cancer\n",
        "from sklearn.model_selection import train_test_split\n",
        "from sklearn.metrics import classification_report\n",
        "from sklearn import svm\n",
        "from sklearn.linear_model import SGDClassifier\n",
        "from sklearn.linear_model import LogisticRegression\n",
        "from sklearn.tree import DecisionTreeClassifier\n",
        "from sklearn.ensemble import RandomForestClassifier\n",
        "\n",
        "import numpy as np\n",
        "import matplotlib.pyplot as plt\n"
      ],
      "execution_count": 2,
      "outputs": []
    },
    {
      "cell_type": "markdown",
      "metadata": {
        "id": "xI7iRNHaG9LY"
      },
      "source": [
        "###2. load data and preprocessing"
      ]
    },
    {
      "cell_type": "code",
      "metadata": {
        "colab": {
          "base_uri": "https://localhost:8080/"
        },
        "id": "cDETRyTvLdSQ",
        "outputId": "4f23b9d4-b0a7-4dff-9dc7-3f8aae215b96"
      },
      "source": [
        " breast_cancer = load_breast_cancer()\n",
        " print(breast_cancer.keys())\n",
        " breast_cancer.target_names\n"
      ],
      "execution_count": 5,
      "outputs": [
        {
          "output_type": "stream",
          "text": [
            "dict_keys(['data', 'target', 'target_names', 'DESCR', 'feature_names', 'filename'])\n"
          ],
          "name": "stdout"
        },
        {
          "output_type": "execute_result",
          "data": {
            "text/plain": [
              "array(['malignant', 'benign'], dtype='<U9')"
            ]
          },
          "metadata": {
            "tags": []
          },
          "execution_count": 5
        }
      ]
    },
    {
      "cell_type": "code",
      "metadata": {
        "colab": {
          "base_uri": "https://localhost:8080/"
        },
        "id": "ybYnn9iaL8L2",
        "outputId": "eadf7342-5c8f-4910-f34f-a389d4fd70a9"
      },
      "source": [
        "breast_cancer_data = breast_cancer.data\n",
        "breast_cancer_label = breast_cancer.target\n",
        "print(breast_cancer_data.shape,breast_cancer_label.shape)"
      ],
      "execution_count": 7,
      "outputs": [
        {
          "output_type": "stream",
          "text": [
            "(569, 30) (569,)\n"
          ],
          "name": "stdout"
        }
      ]
    },
    {
      "cell_type": "code",
      "metadata": {
        "colab": {
          "base_uri": "https://localhost:8080/"
        },
        "id": "TkvZudI4MeE4",
        "outputId": "e5591ae3-23d6-44c3-99ed-62ed5a3cff46"
      },
      "source": [
        "X_train, X_test, y_train, y_test = train_test_split(breast_cancer_data,\n",
        "                                                    breast_cancer_label,       \n",
        "                                                    test_size = 0.2,\n",
        "                                                    random_state = 20)\n",
        "X_test.shape"
      ],
      "execution_count": 9,
      "outputs": [
        {
          "output_type": "execute_result",
          "data": {
            "text/plain": [
              "(114, 30)"
            ]
          },
          "metadata": {
            "tags": []
          },
          "execution_count": 9
        }
      ]
    },
    {
      "cell_type": "markdown",
      "metadata": {
        "id": "AGmeszKoKo72"
      },
      "source": [
        "###3. Modelling & Fitting"
      ]
    },
    {
      "cell_type": "markdown",
      "metadata": {
        "id": "DytM23BaLB6_"
      },
      "source": [
        "1)SVM"
      ]
    },
    {
      "cell_type": "code",
      "metadata": {
        "colab": {
          "base_uri": "https://localhost:8080/"
        },
        "id": "reijPpdANMt1",
        "outputId": "f61d9a47-edcd-43f6-9981-76cdb0e3f7c3"
      },
      "source": [
        "svm_model = svm.SVC()\n",
        "svm_model.fit(X_train, y_train)\n",
        "y_pred1 = svm_model.predict(X_test)\n",
        "\n",
        "report1 = classification_report(y_test,y_pred1, output_dict=True) #output을 dictionary로 반환\n",
        "\n",
        "\n",
        "print(report1['macro avg']['precision'])\n",
        "print(report1['macro avg']['recall'])\n",
        "print(report1['accuracy'])"
      ],
      "execution_count": 10,
      "outputs": [
        {
          "output_type": "stream",
          "text": [
            "0.9459459459459459\n",
            "0.9166666666666667\n",
            "0.9298245614035088\n"
          ],
          "name": "stdout"
        }
      ]
    },
    {
      "cell_type": "markdown",
      "metadata": {
        "id": "ZKVmaMyDLJmn"
      },
      "source": [
        "2)SGD Classifier"
      ]
    },
    {
      "cell_type": "code",
      "metadata": {
        "colab": {
          "base_uri": "https://localhost:8080/"
        },
        "id": "2gANcd6INPuP",
        "outputId": "7ce033be-89de-43dd-bbdd-07d21463db5f"
      },
      "source": [
        "sgd_model = SGDClassifier()\n",
        "sgd_model.fit(X_train, y_train)\n",
        "y_pred2 = sgd_model.predict(X_test)\n",
        "\n",
        "report2 = classification_report(y_test,y_pred2, output_dict=True) #output을 dictionary로 반환\n",
        "\n",
        "\n",
        "print(report2['macro avg']['precision'])\n",
        "print(report2['macro avg']['recall'])\n",
        "print(report2['accuracy'])"
      ],
      "execution_count": 11,
      "outputs": [
        {
          "output_type": "stream",
          "text": [
            "0.9024390243902439\n",
            "0.8333333333333333\n",
            "0.8596491228070176\n"
          ],
          "name": "stdout"
        }
      ]
    },
    {
      "cell_type": "markdown",
      "metadata": {
        "id": "PfEE8kpALPxn"
      },
      "source": [
        "3) Logistic regression"
      ]
    },
    {
      "cell_type": "code",
      "metadata": {
        "colab": {
          "base_uri": "https://localhost:8080/"
        },
        "id": "FjeQ0LmyNb1f",
        "outputId": "e6d0f536-9d66-4881-9276-d7370e892f5f"
      },
      "source": [
        "logistic_model = LogisticRegression()\n",
        "logistic_model.fit(X_train, y_train)\n",
        "y_pred3 = logistic_model.predict(X_test)\n",
        "\n",
        "report3 = classification_report(y_test,y_pred3, output_dict=True) #output을 dictionary로 반환\n",
        "\n",
        "\n",
        "print(report3['macro avg']['precision'])\n",
        "print(report3['macro avg']['recall'])\n",
        "print(report3['accuracy'])"
      ],
      "execution_count": 12,
      "outputs": [
        {
          "output_type": "stream",
          "text": [
            "0.9306265984654731\n",
            "0.925189393939394\n",
            "0.9298245614035088\n"
          ],
          "name": "stdout"
        },
        {
          "output_type": "stream",
          "text": [
            "/usr/local/lib/python3.7/dist-packages/sklearn/linear_model/_logistic.py:940: ConvergenceWarning: lbfgs failed to converge (status=1):\n",
            "STOP: TOTAL NO. of ITERATIONS REACHED LIMIT.\n",
            "\n",
            "Increase the number of iterations (max_iter) or scale the data as shown in:\n",
            "    https://scikit-learn.org/stable/modules/preprocessing.html\n",
            "Please also refer to the documentation for alternative solver options:\n",
            "    https://scikit-learn.org/stable/modules/linear_model.html#logistic-regression\n",
            "  extra_warning_msg=_LOGISTIC_SOLVER_CONVERGENCE_MSG)\n"
          ],
          "name": "stderr"
        }
      ]
    },
    {
      "cell_type": "markdown",
      "metadata": {
        "id": "c3l0hkoEMKN9"
      },
      "source": [
        "4) Decision tree"
      ]
    },
    {
      "cell_type": "code",
      "metadata": {
        "colab": {
          "base_uri": "https://localhost:8080/"
        },
        "id": "Yz9ghkMBNgA3",
        "outputId": "5fe70929-4773-44d8-9473-14a6604b44db"
      },
      "source": [
        "decision_tree = DecisionTreeClassifier(random_state=30)\n",
        "decision_tree.fit(X_train, y_train)\n",
        "y_pred4 = decision_tree.predict(X_test)\n",
        "\n",
        "report4 = classification_report(y_test,y_pred4, output_dict=True) #output을 dictionary로 반환\n",
        "\n",
        "\n",
        "print(report4['macro avg']['precision'])\n",
        "print(report4['macro avg']['recall'])\n",
        "print(report4['accuracy'])"
      ],
      "execution_count": 13,
      "outputs": [
        {
          "output_type": "stream",
          "text": [
            "0.948849104859335\n",
            "0.9431818181818181\n",
            "0.9473684210526315\n"
          ],
          "name": "stdout"
        }
      ]
    },
    {
      "cell_type": "markdown",
      "metadata": {
        "id": "GG_DpN1eMPm_"
      },
      "source": [
        "5) Random Forest(ensemble of decision tree)"
      ]
    },
    {
      "cell_type": "code",
      "metadata": {
        "colab": {
          "base_uri": "https://localhost:8080/"
        },
        "id": "SCjth1IpNjX_",
        "outputId": "0feed67b-b94e-43a8-cb34-790980d7bac9"
      },
      "source": [
        "random_forest = RandomForestClassifier(random_state=28)\n",
        "random_forest.fit(X_train, y_train)\n",
        "y_pred5 = random_forest.predict(X_test)\n",
        "\n",
        "report5 = classification_report(y_test,y_pred5, output_dict=True) #output을 dictionary로 반환\n",
        "\n",
        "\n",
        "print(report5['macro avg']['precision'])\n",
        "print(report5['macro avg']['recall'])\n",
        "print(report5['accuracy'])"
      ],
      "execution_count": 14,
      "outputs": [
        {
          "output_type": "stream",
          "text": [
            "0.9925373134328358\n",
            "0.9895833333333333\n",
            "0.9912280701754386\n"
          ],
          "name": "stdout"
        }
      ]
    },
    {
      "cell_type": "markdown",
      "metadata": {
        "id": "yU0rUr9wM0GP"
      },
      "source": [
        "### 4. Evaluating each Model and analysing metrics"
      ]
    },
    {
      "cell_type": "code",
      "metadata": {
        "colab": {
          "base_uri": "https://localhost:8080/"
        },
        "id": "DoupAvJdNnAn",
        "outputId": "73f1a8c0-52ed-481e-f3d4-e78251937850"
      },
      "source": [
        "print(report1['macro avg']['precision'])\n",
        "print(report1['macro avg']['recall'])\n",
        "print(report1['accuracy'])\n",
        "precision_list = []\n",
        "recall_list = []\n",
        "accuracy_list = []\n",
        "\n",
        "\n",
        "precision_list.extend([report1['macro avg']['precision'],\n",
        "                      report2['macro avg']['precision'],\n",
        "                       report3['macro avg']['precision'],\n",
        "                       report4['macro avg']['precision'],\n",
        "                       report5['macro avg']['precision']\n",
        "                      ])\n",
        "recall_list.extend([report1['macro avg']['recall'],\n",
        "                      report2['macro avg']['recall'],\n",
        "                       report3['macro avg']['recall'],\n",
        "                       report4['macro avg']['recall'],\n",
        "                       report5['macro avg']['recall']\n",
        "                      ])\n",
        "accuracy_list.extend([report1['accuracy'],\n",
        "                      report2['accuracy'],\n",
        "                       report3['accuracy'],\n",
        "                       report4['accuracy'],\n",
        "                       report5['accuracy']])\n",
        "\n",
        "print(precision_list)\n",
        "models_list = ['SVM', 'SGD', 'LOGI', 'DTree', 'RanFor']\n"
      ],
      "execution_count": 15,
      "outputs": [
        {
          "output_type": "stream",
          "text": [
            "0.9459459459459459\n",
            "0.9166666666666667\n",
            "0.9298245614035088\n",
            "[0.9459459459459459, 0.9024390243902439, 0.9306265984654731, 0.948849104859335, 0.9925373134328358]\n"
          ],
          "name": "stdout"
        }
      ]
    },
    {
      "cell_type": "code",
      "metadata": {
        "colab": {
          "base_uri": "https://localhost:8080/",
          "height": 530
        },
        "id": "SeB__lPRNtBQ",
        "outputId": "5e2c0bd1-6a3b-407d-d39d-98b192391f67"
      },
      "source": [
        "\n",
        "plt.figure(figsize=(20,10))\n",
        "plt.subplot(131)\n",
        "plt.bar(models_list,precision_list)\n",
        "plt.xlabel('Precision')\n",
        "plt.subplot(132)\n",
        "plt.bar(models_list,recall_list, color = 'pink')\n",
        "plt.xlabel('Recall')\n",
        "plt.subplot(133)\n",
        "plt.bar(models_list,accuracy_list, color = 'green')\n",
        "plt.xlabel('Accuracy')\n",
        "plt.show()\n",
        "\n",
        "print(f'In precision, {models_list[np.argmax(precision_list)]} is the best of the five by {max(precision_list)}')\n",
        "print(f'In recall, {models_list[np.argmax(recall_list)]} is the best of the five by {max(recall_list)}')\n",
        "print(f'In accuracy, {models_list[np.argmax(accuracy_list)]} is the best of the five by {max(accuracy_list)}')\n"
      ],
      "execution_count": 16,
      "outputs": [
        {
          "output_type": "display_data",
          "data": {
            "image/png": "[encoded data removed]",
            "text/plain": [
              "<Figure size 1440x720 with 3 Axes>"
            ]
          },
          "metadata": {
            "tags": [],
            "needs_background": "light"
          }
        },
        {
          "output_type": "stream",
          "text": [
            "In precision, RanFor is the best of the five by 0.9925373134328358\n",
            "In recall, RanFor is the best of the five by 0.9895833333333333\n",
            "In accuracy, RanFor is the best of the five by 0.9912280701754386\n"
          ],
          "name": "stdout"
        }
      ]
    },
    {
      "cell_type": "markdown",
      "metadata": {
        "id": "14pCeKVxNBVm"
      },
      "source": [
        "## What is the best model and why is it the best?"
      ]
    },
    {
      "cell_type": "markdown",
      "metadata": {
        "id": "vrDxb8mVNUP1"
      },
      "source": [
        "## -> **Random Forest** is the best model because it has the highest value of the three major metrics"
      ]
    },
    {
      "cell_type": "markdown",
      "metadata": {
        "id": "rV0DS26cD8qG"
      },
      "source": [
        "## why did i  choose these metrics?\n",
        "## -> it is the basic metrics in classification"
      ]
    },
    {
      "cell_type": "markdown",
      "metadata": {
        "id": "4joW3FmON073"
      },
      "source": [
        "*Retrospect*\n",
        "\n",
        "additional, qulitative and quantitative analysis of the data is needed"
      ]
    }
  ]
}