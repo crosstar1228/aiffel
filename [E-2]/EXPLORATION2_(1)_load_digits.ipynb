{
  "nbformat": 4,
  "nbformat_minor": 0,
  "metadata": {
    "colab": {
      "name": "EXPLORATION2-(1)_load_digits.ipynb",
      "provenance": []
    },
    "kernelspec": {
      "name": "python3",
      "display_name": "Python 3"
    },
    "language_info": {
      "name": "python"
    }
  },
  "cells": [
    {
      "cell_type": "markdown",
      "metadata": {
        "id": "wyWOQI82Gt_I"
      },
      "source": [
        "# digit classification"
      ]
    },
    {
      "cell_type": "markdown",
      "metadata": {
        "id": "tjcctWAlGoWp"
      },
      "source": [
        "### 1. Import scikit modules"
      ]
    },
    {
      "cell_type": "code",
      "metadata": {
        "id": "RXJuj5i86v7K"
      },
      "source": [
        "from sklearn.datasets import load_digits\n",
        "from sklearn.model_selection import train_test_split\n",
        "from sklearn.metrics import classification_report\n",
        "from sklearn import svm\n",
        "from sklearn.linear_model import SGDClassifier\n",
        "from sklearn.linear_model import LogisticRegression\n",
        "from sklearn.tree import DecisionTreeClassifier\n",
        "from sklearn.ensemble import RandomForestClassifier\n",
        "\n",
        "import numpy as np\n",
        "import matplotlib.pyplot as plt"
      ],
      "execution_count": 90,
      "outputs": []
    },
    {
      "cell_type": "markdown",
      "metadata": {
        "id": "xI7iRNHaG9LY"
      },
      "source": [
        "###2. load data and preprocessing"
      ]
    },
    {
      "cell_type": "code",
      "metadata": {
        "colab": {
          "base_uri": "https://localhost:8080/",
          "height": 181
        },
        "id": "TZL6RUJb8mha",
        "outputId": "1d026b51-9723-4b63-e97b-fb8e8a50aac4"
      },
      "source": [
        " digits = load_digits()\n",
        " print(digits.keys())\n",
        " digits.target_names\n",
        " digits.DESCR"
      ],
      "execution_count": 14,
      "outputs": [
        {
          "output_type": "stream",
          "text": [
            "dict_keys(['data', 'target', 'target_names', 'images', 'DESCR'])\n"
          ],
          "name": "stdout"
        },
        {
          "output_type": "execute_result",
          "data": {
            "application/vnd.google.colaboratory.intrinsic+json": {
              "type": "string"
            },
            "text/plain": [
              "\".. _digits_dataset:\\n\\nOptical recognition of handwritten digits dataset\\n--------------------------------------------------\\n\\n**Data Set Characteristics:**\\n\\n    :Number of Instances: 5620\\n    :Number of Attributes: 64\\n    :Attribute Information: 8x8 image of integer pixels in the range 0..16.\\n    :Missing Attribute Values: None\\n    :Creator: E. Alpaydin (alpaydin '@' boun.edu.tr)\\n    :Date: July; 1998\\n\\nThis is a copy of the test set of the UCI ML hand-written digits datasets\\nhttps://archive.ics.uci.edu/ml/datasets/Optical+Recognition+of+Handwritten+Digits\\n\\nThe data set contains images of hand-written digits: 10 classes where\\neach class refers to a digit.\\n\\nPreprocessing programs made available by NIST were used to extract\\nnormalized bitmaps of handwritten digits from a preprinted form. From a\\ntotal of 43 people, 30 contributed to the training set and different 13\\nto the test set. 32x32 bitmaps are divided into nonoverlapping blocks of\\n4x4 and the number of on pixels are counted in each block. This generates\\nan input matrix of 8x8 where each element is an integer in the range\\n0..16. This reduces dimensionality and gives invariance to small\\ndistortions.\\n\\nFor info on NIST preprocessing routines, see M. D. Garris, J. L. Blue, G.\\nT. Candela, D. L. Dimmick, J. Geist, P. J. Grother, S. A. Janet, and C.\\nL. Wilson, NIST Form-Based Handprint Recognition System, NISTIR 5469,\\n1994.\\n\\n.. topic:: References\\n\\n  - C. Kaynak (1995) Methods of Combining Multiple Classifiers and Their\\n    Applications to Handwritten Digit Recognition, MSc Thesis, Institute of\\n    Graduate Studies in Science and Engineering, Bogazici University.\\n  - E. Alpaydin, C. Kaynak (1998) Cascading Classifiers, Kybernetika.\\n  - Ken Tang and Ponnuthurai N. Suganthan and Xi Yao and A. Kai Qin.\\n    Linear dimensionalityreduction using relevance weighted LDA. School of\\n    Electrical and Electronic Engineering Nanyang Technological University.\\n    2005.\\n  - Claudio Gentile. A New Approximate Maximal Margin Classification\\n    Algorithm. NIPS. 2000.\""
            ]
          },
          "metadata": {
            "tags": []
          },
          "execution_count": 14
        }
      ]
    },
    {
      "cell_type": "code",
      "metadata": {
        "colab": {
          "base_uri": "https://localhost:8080/"
        },
        "id": "m6Pzide7ET7B",
        "outputId": "58138dab-e30a-4f8c-e629-4b665d3ea710"
      },
      "source": [
        "digits_data = digits.data\n",
        "digits_label = digits.target\n",
        "print(digits_data.shape,digits_label.shape)"
      ],
      "execution_count": 7,
      "outputs": [
        {
          "output_type": "stream",
          "text": [
            "(1797, 64) (1797,)\n"
          ],
          "name": "stdout"
        }
      ]
    },
    {
      "cell_type": "code",
      "metadata": {
        "colab": {
          "base_uri": "https://localhost:8080/"
        },
        "id": "X7FM2ApLHNod",
        "outputId": "b9115ad2-749f-4ab4-bf69-497d14c3a50b"
      },
      "source": [
        "X_train, X_test, y_train, y_test = train_test_split(digits_data,\n",
        "                                                    digits_label,       \n",
        "                                                    test_size = 0.2,\n",
        "                                                    random_state = 20)\n",
        "X_test.shape"
      ],
      "execution_count": 12,
      "outputs": [
        {
          "output_type": "execute_result",
          "data": {
            "text/plain": [
              "(360, 64)"
            ]
          },
          "metadata": {
            "tags": []
          },
          "execution_count": 12
        }
      ]
    },
    {
      "cell_type": "markdown",
      "metadata": {
        "id": "AGmeszKoKo72"
      },
      "source": [
        "###3. Modelling & Fitting"
      ]
    },
    {
      "cell_type": "markdown",
      "metadata": {
        "id": "DytM23BaLB6_"
      },
      "source": [
        "1)SVM"
      ]
    },
    {
      "cell_type": "code",
      "metadata": {
        "colab": {
          "base_uri": "https://localhost:8080/"
        },
        "id": "BuE1q7uKIoRY",
        "outputId": "2bca2d21-27bb-45fd-9b42-d1fffc6b3b19"
      },
      "source": [
        "svm_model = svm.SVC()\n",
        "svm_model.fit(X_train, y_train)\n",
        "y_pred1 = svm_model.predict(X_test)\n",
        "\n",
        "report1 = classification_report(y_test,y_pred1, output_dict=True) #output을 dictionary로 반환\n",
        "\n",
        "\n",
        "print(report1['macro avg']['precision'])\n",
        "print(report1['macro avg']['recall'])\n",
        "print(report1['accuracy'])"
      ],
      "execution_count": 36,
      "outputs": [
        {
          "output_type": "stream",
          "text": [
            "0.9820391414141414\n",
            "0.983201307500088\n",
            "0.9833333333333333\n"
          ],
          "name": "stdout"
        }
      ]
    },
    {
      "cell_type": "markdown",
      "metadata": {
        "id": "ZKVmaMyDLJmn"
      },
      "source": [
        "2)SGD Classifier"
      ]
    },
    {
      "cell_type": "code",
      "metadata": {
        "colab": {
          "base_uri": "https://localhost:8080/"
        },
        "id": "51Sr74GDKwPX",
        "outputId": "a9278bf7-2792-41cb-ce71-4fde7a6a203f"
      },
      "source": [
        "sgd_model = SGDClassifier()\n",
        "sgd_model.fit(X_train, y_train)\n",
        "y_pred2 = sgd_model.predict(X_test)\n",
        "\n",
        "report2 = classification_report(y_test,y_pred2, output_dict=True) #output을 dictionary로 반환\n",
        "\n",
        "\n",
        "print(report2['macro avg']['precision'])\n",
        "print(report2['macro avg']['recall'])\n",
        "print(report2['accuracy'])"
      ],
      "execution_count": 37,
      "outputs": [
        {
          "output_type": "stream",
          "text": [
            "0.9423616600790513\n",
            "0.9329762263659888\n",
            "0.9333333333333333\n"
          ],
          "name": "stdout"
        }
      ]
    },
    {
      "cell_type": "markdown",
      "metadata": {
        "id": "PfEE8kpALPxn"
      },
      "source": [
        "3) Logistic regression"
      ]
    },
    {
      "cell_type": "code",
      "metadata": {
        "colab": {
          "base_uri": "https://localhost:8080/"
        },
        "id": "A_6ogvjLKwdP",
        "outputId": "3d0bb9bc-13b7-4f05-cecf-10ec3c6d3c87"
      },
      "source": [
        "logistic_model = LogisticRegression()\n",
        "logistic_model.fit(X_train, y_train)\n",
        "y_pred3 = logistic_model.predict(X_test)\n",
        "\n",
        "report3 = classification_report(y_test,y_pred3, output_dict=True) #output을 dictionary로 반환\n",
        "\n",
        "\n",
        "print(report3['macro avg']['precision'])\n",
        "print(report3['macro avg']['recall'])\n",
        "print(report3['accuracy'])"
      ],
      "execution_count": 38,
      "outputs": [
        {
          "output_type": "stream",
          "text": [
            "0.9797161127403061\n",
            "0.9803326439056178\n",
            "0.9805555555555555\n"
          ],
          "name": "stdout"
        },
        {
          "output_type": "stream",
          "text": [
            "/usr/local/lib/python3.7/dist-packages/sklearn/linear_model/_logistic.py:940: ConvergenceWarning: lbfgs failed to converge (status=1):\n",
            "STOP: TOTAL NO. of ITERATIONS REACHED LIMIT.\n",
            "\n",
            "Increase the number of iterations (max_iter) or scale the data as shown in:\n",
            "    https://scikit-learn.org/stable/modules/preprocessing.html\n",
            "Please also refer to the documentation for alternative solver options:\n",
            "    https://scikit-learn.org/stable/modules/linear_model.html#logistic-regression\n",
            "  extra_warning_msg=_LOGISTIC_SOLVER_CONVERGENCE_MSG)\n"
          ],
          "name": "stderr"
        }
      ]
    },
    {
      "cell_type": "markdown",
      "metadata": {
        "id": "c3l0hkoEMKN9"
      },
      "source": [
        "4) Decision tree"
      ]
    },
    {
      "cell_type": "code",
      "metadata": {
        "colab": {
          "base_uri": "https://localhost:8080/"
        },
        "id": "CzlOhATaMM1P",
        "outputId": "7b5829cb-202d-4c14-d212-c0a2ec7fe79f"
      },
      "source": [
        "decision_tree = DecisionTreeClassifier(random_state=30)\n",
        "decision_tree.fit(X_train, y_train)\n",
        "y_pred4 = decision_tree.predict(X_test)\n",
        "\n",
        "report4 = classification_report(y_test,y_pred4, output_dict=True) #output을 dictionary로 반환\n",
        "\n",
        "\n",
        "print(report4['macro avg']['precision'])\n",
        "print(report4['macro avg']['recall'])\n",
        "print(report4['accuracy'])"
      ],
      "execution_count": 40,
      "outputs": [
        {
          "output_type": "stream",
          "text": [
            "0.8710909093061044\n",
            "0.8673627724644849\n",
            "0.8694444444444445\n"
          ],
          "name": "stdout"
        }
      ]
    },
    {
      "cell_type": "markdown",
      "metadata": {
        "id": "GG_DpN1eMPm_"
      },
      "source": [
        "5) Random Forest(ensemble of decision tree)"
      ]
    },
    {
      "cell_type": "code",
      "metadata": {
        "colab": {
          "base_uri": "https://localhost:8080/"
        },
        "id": "TVnsHijsMOF_",
        "outputId": "6c0f0c5a-f801-41ab-e31f-1252e40781f4"
      },
      "source": [
        "random_forest = RandomForestClassifier(random_state=28)\n",
        "random_forest.fit(X_train, y_train)\n",
        "y_pred5 = random_forest.predict(X_test)\n",
        "\n",
        "report5 = classification_report(y_test,y_pred5, output_dict=True) #output을 dictionary로 반환\n",
        "\n",
        "\n",
        "print(report5['macro avg']['precision'])\n",
        "print(report5['macro avg']['recall'])\n",
        "print(report5['accuracy'])"
      ],
      "execution_count": 41,
      "outputs": [
        {
          "output_type": "stream",
          "text": [
            "0.9767952306314376\n",
            "0.9774957835275551\n",
            "0.9777777777777777\n"
          ],
          "name": "stdout"
        }
      ]
    },
    {
      "cell_type": "markdown",
      "metadata": {
        "id": "yU0rUr9wM0GP"
      },
      "source": [
        "### 4. Evaluating each Model and analysing metrics"
      ]
    },
    {
      "cell_type": "code",
      "metadata": {
        "colab": {
          "base_uri": "https://localhost:8080/"
        },
        "id": "2GprJc0WMsRv",
        "outputId": "071d1d52-b973-4ae4-8bbf-a097dec2da82"
      },
      "source": [
        "print(report1['macro avg']['precision'])\n",
        "print(report1['macro avg']['recall'])\n",
        "print(report1['accuracy'])\n",
        "precision_list = []\n",
        "recall_list = []\n",
        "accuracy_list = []\n",
        "\n",
        "\n",
        "precision_list.extend([report1['macro avg']['precision'],\n",
        "                      report2['macro avg']['precision'],\n",
        "                       report3['macro avg']['precision'],\n",
        "                       report4['macro avg']['precision'],\n",
        "                       report5['macro avg']['precision']\n",
        "                      ])\n",
        "recall_list.extend([report1['macro avg']['recall'],\n",
        "                      report2['macro avg']['recall'],\n",
        "                       report3['macro avg']['recall'],\n",
        "                       report4['macro avg']['recall'],\n",
        "                       report5['macro avg']['recall']\n",
        "                      ])\n",
        "accuracy_list.extend([report1['accuracy'],\n",
        "                      report2['accuracy'],\n",
        "                       report3['accuracy'],\n",
        "                       report4['accuracy'],\n",
        "                       report5['accuracy']])\n",
        "\n",
        "print(precision_list)\n",
        "models_list = ['SVM', 'SGD', 'LOGI', 'DTree', 'RanFor']\n"
      ],
      "execution_count": 75,
      "outputs": [
        {
          "output_type": "stream",
          "text": [
            "0.9820391414141414\n",
            "0.983201307500088\n",
            "0.9833333333333333\n",
            "[0.9820391414141414, 0.9423616600790513, 0.9797161127403061, 0.8710909093061044, 0.9767952306314376]\n"
          ],
          "name": "stdout"
        }
      ]
    },
    {
      "cell_type": "code",
      "metadata": {
        "colab": {
          "base_uri": "https://localhost:8080/",
          "height": 604
        },
        "id": "7Hx53mlI8CnK",
        "outputId": "b2c23103-75ad-4795-a571-cc6e6e2fd2c3"
      },
      "source": [
        "\n",
        "plt.figure(figsize=(20,10))\n",
        "plt.subplot(131)\n",
        "plt.bar(models_list,precision_list)\n",
        "plt.xlabel('Precision')\n",
        "plt.subplot(132)\n",
        "plt.bar(models_list,recall_list, color = 'pink')\n",
        "plt.xlabel('Recall')\n",
        "plt.subplot(133)\n",
        "plt.bar(models_list,accuracy_list, color = 'green')\n",
        "plt.xlabel('Accuracy')\n",
        "plt.show()\n",
        "\n",
        "print(f'In precision, {models_list[np.argmax(precision_list)]} is the best of the five by {max(precision_list)}')\n",
        "print(f'In recall, {models_list[np.argmax(recall_list)]} is the best of the five by {max(recall_list)}')\n",
        "print(f'In accuracy, {models_list[np.argmax(accuracy_list)]} is the best of the five by {max(accuracy_list)}')\n"
      ],
      "execution_count": 94,
      "outputs": [
        {
          "output_type": "display_data",
          "data": {
            "image/png": "[encoded data removed]",
            "text/plain": [
              "<Figure size 1440x720 with 3 Axes>"
            ]
          },
          "metadata": {
            "tags": [],
            "needs_background": "light"
          }
        },
        {
          "output_type": "stream",
          "text": [
            "In precision, SVM is the best of the five by 0.9820391414141414\n",
            "In recall, SVM is the best of the five by 0.983201307500088\n",
            "In accuracy, SVM is the best of the five by 0.9833333333333333\n"
          ],
          "name": "stdout"
        }
      ]
    },
    {
      "cell_type": "markdown",
      "metadata": {
        "id": "14pCeKVxNBVm"
      },
      "source": [
        "## What is the best model and why is it the best?"
      ]
    },
    {
      "cell_type": "markdown",
      "metadata": {
        "id": "vrDxb8mVNUP1"
      },
      "source": [
        "## -> **SVM** is the best model because it has the highest value of the three major metrics"
      ]
    },
    {
      "cell_type": "markdown",
      "metadata": {
        "id": "rV0DS26cD8qG"
      },
      "source": [
        "## why did i  choose these metrics?\n",
        "## -> it is the basic metrics in classification"
      ]
    }
  ]
}