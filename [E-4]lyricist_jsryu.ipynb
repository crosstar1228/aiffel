{
 "cells": [
  {
   "cell_type": "code",
   "execution_count": 1,
   "id": "personal-costs",
   "metadata": {},
   "outputs": [
    {
     "name": "stdout",
     "output_type": "stream",
     "text": [
      "데이터 크기: 187088\n",
      "Examples:\n",
      " ['At first I was afraid', 'I was petrified', 'I kept thinking I could never live without you']\n",
      "['I would have made you leave your key', 'If I had known for just one second', \"You'd be back to bother me Well now go,\", 'Walk out the door', 'Just turn around', \"Now, you're not welcome anymore Weren't you the one\", 'Who tried to break me with desire?', \"Did you think I'd crumble?\", \"Did you think I'd lay down and die? Oh not I,\", 'I will survive']\n"
     ]
    }
   ],
   "source": [
    "import glob\n",
    "import os\n",
    "import numpy as np\n",
    "import re\n",
    "import tensorflow as tf\n",
    "\n",
    "from tensorflow.keras.preprocessing.text import Tokenizer\n",
    "from tensorflow.keras.preprocessing.sequence import pad_sequences\n",
    "from sklearn.model_selection import train_test_split\n",
    "from tensorflow.keras.callbacks import ModelCheckpoint\n",
    "\n",
    "txt_file_path = os.getenv('HOME') + '/aiffel/lyricist/data/lyrics/*'\n",
    "\n",
    "txt_list = glob.glob(txt_file_path)\n",
    "\n",
    "raw_corpus = []\n",
    "\n",
    "for txt_file in txt_list:\n",
    "    with open(txt_file, \"r\") as f:\n",
    "        raw = f.read().splitlines()\n",
    "        raw_corpus.extend(raw)\n",
    "\n",
    "print(\"데이터 크기:\", len(raw_corpus))\n",
    "print(\"Examples:\\n\", raw_corpus[:3])\n",
    "print(raw_corpus[10:20])"
   ]
  },
  {
   "cell_type": "markdown",
   "id": "communist-florence",
   "metadata": {},
   "source": [
    "Step 3. 데이터 정제\n",
    "앞서 배운 테크닉들을 활용해 문장 생성에 적합한 모양새로 데이터를 정제하세요!\n",
    "\n",
    "preprocess_sentence() 함수를 만든 것을 기억하시죠? 이를 활용해 데이터를 정제하도록 하겠습니다.\n",
    "\n",
    "추가로 지나치게 긴 문장은 다른 데이터들이 과도한 Padding을 갖게 하므로 제거합니다. 너무 긴 문장은 노래 가사 작사하기에 어울리지 않을 수도 있겠죠.\n",
    "그래서 이번에는 문장을 토큰화 했을 때 토큰의 개수가 15개를 넘어가는 문장을 학습 데이터에서 제외하기 를 권합니다."
   ]
  },
  {
   "cell_type": "code",
   "execution_count": 2,
   "id": "inclusive-layer",
   "metadata": {},
   "outputs": [
    {
     "name": "stdout",
     "output_type": "stream",
     "text": [
      "You'd be back to bother me Well now go,\n"
     ]
    }
   ],
   "source": [
    "line1 = raw_corpus[12]\n",
    "print(line1)"
   ]
  },
  {
   "cell_type": "code",
   "execution_count": 3,
   "id": "legendary-immune",
   "metadata": {},
   "outputs": [],
   "source": [
    "def preprocess_line(line):\n",
    "    line = line.lower().strip()\n",
    "    line = re.sub(r\"([?!,.¿])\", r\" \\1 \", line)\n",
    "    line = re.sub(r'[\" \"]+', r\" \",line)\n",
    "    line = re.sub(r\"[^a-zA-Z?!,.¿]+\", r\" \", line)\n",
    "    line = line.strip()\n",
    "    line = '<start> ' + line + ' <end>'\n",
    "    return line\n",
    "#print(preprocess_sentence(line1))"
   ]
  },
  {
   "cell_type": "code",
   "execution_count": 4,
   "id": "hairy-public",
   "metadata": {},
   "outputs": [
    {
     "name": "stdout",
     "output_type": "stream",
     "text": [
      "187088\n"
     ]
    },
    {
     "data": {
      "text/plain": [
       "['<start> at first i was afraid <end>',\n",
       " '<start> i was petrified <end>',\n",
       " '<start> i kept thinking i could never live without you <end>',\n",
       " '<start> by my side but then i spent so many nights <end>',\n",
       " '<start> just thinking how you ve done me wrong <end>',\n",
       " '<start> i grew strong <end>',\n",
       " '<start> i learned how to get along and so you re back <end>',\n",
       " '<start> from outer space <end>',\n",
       " '<start> i just walked in to find you <end>',\n",
       " '<start> here without that look upon your face i should have changed that fucking lock <end>']"
      ]
     },
     "execution_count": 4,
     "metadata": {},
     "output_type": "execute_result"
    }
   ],
   "source": [
    "corpus = []\n",
    "print(len(raw_corpus))\n",
    "\n",
    "for i in raw_corpus :\n",
    "    if len(i) == 0:\n",
    "        continue\n",
    "    if i[-1] == \":\":\n",
    "        continue\n",
    "    preprocessed_line = preprocess_line(i)\n",
    "    corpus.append(preprocessed_line)\n",
    "corpus[:10]"
   ]
  },
  {
   "cell_type": "markdown",
   "id": "together-regular",
   "metadata": {},
   "source": [
    "### generate 'Token box' and fit on it!"
   ]
  },
  {
   "cell_type": "code",
   "execution_count": 5,
   "id": "advanced-valuation",
   "metadata": {},
   "outputs": [
    {
     "name": "stdout",
     "output_type": "stream",
     "text": [
      "<keras_preprocessing.text.Tokenizer object at 0x7f31e6941d10>\n"
     ]
    }
   ],
   "source": [
    "tokenizer = Tokenizer(num_words = 12000,\n",
    "                     oov_token = \"<OOV>\"\n",
    "                     )\n",
    "tokenizer.fit_on_texts(corpus)\n",
    "print(tokenizer)"
   ]
  },
  {
   "cell_type": "markdown",
   "id": "christian-species",
   "metadata": {},
   "source": [
    "### Vectorization : Change preprocessed lines to 'tensor'\n",
    "1)texts_to_sequences\n",
    "2)pad_sequences"
   ]
  },
  {
   "cell_type": "code",
   "execution_count": 6,
   "id": "worthy-century",
   "metadata": {},
   "outputs": [
    {
     "name": "stdout",
     "output_type": "stream",
     "text": [
      "[[3, 67, 237, 4, 54, 658, 2], [3, 4, 54, 6475, 2], [3, 4, 1088, 528, 4, 100, 75, 201, 254, 6, 2], [3, 118, 12, 295, 34, 90, 4, 1125, 28, 297, 852, 2], [3, 33, 528, 74, 6, 87, 250, 11, 263, 2]]\n",
      "175749\n",
      "(175749, 15)\n"
     ]
    }
   ],
   "source": [
    "tensor = tokenizer.texts_to_sequences(corpus)\n",
    "print(tensor[:5])\n",
    "\n",
    "## 문장 token 15개 넘는 것 제거!\n",
    "\n",
    "for line in tensor:\n",
    "    if len(line) > 15:\n",
    "        line.pop()\n",
    "print(len(tensor))\n",
    "#padding도 간결하게!!\n",
    "\n",
    "tensor = pad_sequences(tensor,maxlen=15, padding = 'post')\n",
    "\n",
    "print(tensor.shape)"
   ]
  },
  {
   "cell_type": "code",
   "execution_count": 7,
   "id": "jewish-tobago",
   "metadata": {},
   "outputs": [
    {
     "name": "stdout",
     "output_type": "stream",
     "text": [
      "1 : <OOV>\n",
      "2 : end\n",
      "3 : start\n",
      "4 : i\n",
      "5 : the\n",
      "6 : you\n",
      "7 : and\n",
      "8 : a\n",
      "9 : to\n",
      "10 : it\n"
     ]
    }
   ],
   "source": [
    "for idx in tokenizer.index_word:\n",
    "    print(idx, \":\", tokenizer.index_word[idx])\n",
    "\n",
    "    if idx >= 10: break"
   ]
  },
  {
   "cell_type": "code",
   "execution_count": 8,
   "id": "packed-triumph",
   "metadata": {},
   "outputs": [
    {
     "name": "stdout",
     "output_type": "stream",
     "text": [
      "[  3  67 237   4  54 658   2   0   0   0   0   0   0   0]\n",
      "[ 67 237   4  54 658   2   0   0   0   0   0   0   0   0]\n"
     ]
    }
   ],
   "source": [
    "# tensor에서 마지막 토큰을 잘라내서 소스 문장을 생성합니다\n",
    "# 마지막 토큰은 <end>가 아니라 <pad>일 가능성이 높습니다.\n",
    "src_input = tensor[:, :-1]  \n",
    "# tensor에서 <start>를 잘라내서 타겟 문장을 생성합니다.\n",
    "tgt_input = tensor[:, 1:]    \n",
    "\n",
    "print(src_input[0])\n",
    "print(tgt_input[0])"
   ]
  },
  {
   "cell_type": "markdown",
   "id": "meaningful-criticism",
   "metadata": {},
   "source": [
    "Step 4. 평가 데이터셋 분리\n",
    "훈련 데이터와 평가 데이터를 분리하세요!\n",
    "\n",
    "tokenize() 함수로 데이터를 Tensor로 변환한 후, sklearn 모듈의 train_test_split() 함수를 사용해 훈련 데이터와 평가 데이터를 분리하도록 하겠습니다. 단어장의 크기는 12,000 이상 으로 설정하세요! 총 데이터의 20% 를 평가 데이터셋으로 사용해 주세요!"
   ]
  },
  {
   "cell_type": "code",
   "execution_count": 9,
   "id": "federal-bundle",
   "metadata": {},
   "outputs": [],
   "source": [
    "enc_train, enc_val, dec_train, dec_val = train_test_split(src_input,tgt_input,\n",
    "    test_size = 0.2,\n",
    "    random_state = 20)"
   ]
  },
  {
   "cell_type": "markdown",
   "id": "narrow-malpractice",
   "metadata": {},
   "source": [
    "### Now, check the result"
   ]
  },
  {
   "cell_type": "code",
   "execution_count": 10,
   "id": "curious-picnic",
   "metadata": {},
   "outputs": [
    {
     "name": "stdout",
     "output_type": "stream",
     "text": [
      "Source Train: (140599, 14)\n",
      "Target Train: (140599, 14)\n",
      "(35150, 14)\n",
      "(35150, 14)\n"
     ]
    }
   ],
   "source": [
    "print(\"Source Train:\", enc_train.shape)\n",
    "print(\"Target Train:\", dec_train.shape)\n",
    "print(enc_val.shape)\n",
    "print(dec_val.shape)"
   ]
  },
  {
   "cell_type": "markdown",
   "id": "comparable-colony",
   "metadata": {},
   "source": [
    "out:\n",
    "\n",
    "Source Train: (124960, 14)\n",
    "Target Train: (124960, 14)\n",
    "\n",
    "만약 결과가 다르다면 천천히 과정을 다시 살펴 동일한 결과를 얻도록 하세요! 만약 학습 데이터 개수가 124960보다 크다면 위 Step 3.의 데이터 정제 과정을 다시 한번 검토해 보시기를 권합니다."
   ]
  },
  {
   "cell_type": "markdown",
   "id": "criminal-tournament",
   "metadata": {},
   "source": [
    "Step 5. 인공지능 만들기\n",
    "모델의 Embedding Size와 Hidden Size를 조절하며 10 Epoch 안에 val_loss 값을 2.2 수준으로 줄일 수 있는 모델을 설계하세요! (Loss는 아래 제시된 Loss 함수를 그대로 사용!)\n",
    "\n",
    "그리고 멋진 모델이 생성한 가사 한 줄을 제출하시길 바랍니다!"
   ]
  },
  {
   "cell_type": "code",
   "execution_count": 11,
   "id": "acknowledged-repair",
   "metadata": {},
   "outputs": [
    {
     "name": "stdout",
     "output_type": "stream",
     "text": [
      "137 12001\n",
      "<BatchDataset shapes: ((1024, 14), (1024, 14)), types: (tf.int32, tf.int32)>\n",
      "<BatchDataset shapes: ((1024, 1024, 14), (1024, 1024, 14)), types: (tf.int32, tf.int32)>\n"
     ]
    }
   ],
   "source": [
    "BUFFER_SIZE = enc_train.shape[0]\n",
    "BATCH_SIZE = 1024\n",
    "steps_per_epoch = BUFFER_SIZE // BATCH_SIZE\n",
    "\n",
    "VOCAB_SIZE = tokenizer.num_words +1\n",
    "\n",
    "print(steps_per_epoch,VOCAB_SIZE)\n",
    "\n",
    "dataset = tf.data.Dataset.from_tensor_slices((enc_train, dec_train))\n",
    "dataset = dataset.shuffle(BUFFER_SIZE)\n",
    "dataset = dataset.batch(BATCH_SIZE, drop_remainder=True)\n",
    "print(dataset)\n",
    "BUFFER_SIZE_2 = enc_val.shape[0]\n",
    "\n",
    "#print(BUFFER_SIZE_2)\n",
    "valset = tf.data.Dataset.from_tensor_slices((enc_val, dec_val))\n",
    "valset = dataset.shuffle(BUFFER_SIZE_2)\n",
    "valset = dataset.batch(BATCH_SIZE, drop_remainder=True)\n",
    "print(valset)"
   ]
  },
  {
   "cell_type": "code",
   "execution_count": 12,
   "id": "harmful-indicator",
   "metadata": {},
   "outputs": [],
   "source": [
    "class TextGenerator(tf.keras.Model):\n",
    "    def __init__(self, vocab_size, embedding_size, hidden_size):\n",
    "        super().__init__()\n",
    "        \n",
    "        self.embedding = tf.keras.layers.Embedding(vocab_size, embedding_size)\n",
    "        self.dropout_1 = tf.keras.layers.Dropout(0.2)\n",
    "        self.rnn_1 = tf.keras.layers.Bidirectional(tf.keras.layers.LSTM(hidden_size, return_sequences=True))\n",
    "        self.rnn_2 = tf.keras.layers.Bidirectional(tf.keras.layers.LSTM(hidden_size, return_sequences=True))\n",
    "        self.dropout_2 = tf.keras.layers.Dropout(0.2)\n",
    "        self.linear = tf.keras.layers.Dense(vocab_size)\n",
    "        \n",
    "    def call(self, x):\n",
    "        out = self.embedding(x)\n",
    "        out = self.dropout_1(out)\n",
    "        out = self.rnn_1(out)\n",
    "        out = self.rnn_2(out)\n",
    "        out = self.dropout_2(out)\n",
    "        out = self.linear(out)\n",
    "        \n",
    "        return out\n",
    "    \n",
    "embedding_size = 256\n",
    "hidden_size = 1024\n",
    "model = TextGenerator(tokenizer.num_words + 1, embedding_size , hidden_size)\n"
   ]
  },
  {
   "cell_type": "code",
   "execution_count": 13,
   "id": "welcome-dispute",
   "metadata": {},
   "outputs": [
    {
     "name": "stdout",
     "output_type": "stream",
     "text": [
      "Model: \"text_generator\"\n",
      "_________________________________________________________________\n",
      "Layer (type)                 Output Shape              Param #   \n",
      "=================================================================\n",
      "embedding (Embedding)        multiple                  3072256   \n",
      "_________________________________________________________________\n",
      "dropout (Dropout)            multiple                  0         \n",
      "_________________________________________________________________\n",
      "bidirectional (Bidirectional multiple                  10493952  \n",
      "_________________________________________________________________\n",
      "bidirectional_1 (Bidirection multiple                  25174016  \n",
      "_________________________________________________________________\n",
      "dropout_1 (Dropout)          multiple                  0         \n",
      "_________________________________________________________________\n",
      "dense (Dense)                multiple                  24590049  \n",
      "=================================================================\n",
      "Total params: 63,330,273\n",
      "Trainable params: 63,330,273\n",
      "Non-trainable params: 0\n",
      "_________________________________________________________________\n"
     ]
    }
   ],
   "source": [
    "# 데이터셋에서 데이터 한 배치만 불러오는 방법입니다.\n",
    "# 지금은 동작 원리에 너무 빠져들지 마세요~\n",
    "for src_sample, tgt_sample in dataset.take(1): break\n",
    "\n",
    "# 한 배치만 불러온 데이터를 모델에 넣어봅니다\n",
    "\n",
    "model(src_sample)\n",
    "model.summary()"
   ]
  },
  {
   "cell_type": "code",
   "execution_count": 14,
   "id": "polyphonic-student",
   "metadata": {},
   "outputs": [],
   "source": [
    "optimizer = tf.keras.optimizers.Adam()\n",
    "#Loss\n",
    "loss = tf.keras.losses.SparseCategoricalCrossentropy(\n",
    "     from_logits=True, reduction='none')\n",
    "\n",
    "#loss = 'sparse_categorical_crossentropy'"
   ]
  },
  {
   "cell_type": "code",
   "execution_count": 15,
   "id": "annual-thumbnail",
   "metadata": {},
   "outputs": [],
   "source": [
    "checkpoint_path = 'my_checkpoint.ckpt'\n",
    "checkpoint = ModelCheckpoint(checkpoint_path, \n",
    "                             save_weights_only=True, \n",
    "                             save_best_only=True, \n",
    "                             monitor='val_loss',\n",
    "                             verbose=1)"
   ]
  },
  {
   "cell_type": "code",
   "execution_count": 16,
   "id": "fourth-parameter",
   "metadata": {},
   "outputs": [
    {
     "name": "stdout",
     "output_type": "stream",
     "text": [
      "Epoch 1/10\n",
      "137/137 [==============================] - 401s 3s/step - loss: 4.4256 - val_loss: 3.0157\n",
      "\n",
      "Epoch 00001: val_loss improved from inf to 3.01571, saving model to my_checkpoint.ckpt\n",
      "Epoch 2/10\n",
      "137/137 [==============================] - 398s 3s/step - loss: 2.2522 - val_loss: 0.6350\n",
      "\n",
      "Epoch 00002: val_loss improved from 3.01571 to 0.63500, saving model to my_checkpoint.ckpt\n",
      "Epoch 3/10\n",
      "137/137 [==============================] - 397s 3s/step - loss: 0.4991 - val_loss: 0.2888\n",
      "\n",
      "Epoch 00003: val_loss improved from 0.63500 to 0.28878, saving model to my_checkpoint.ckpt\n",
      "Epoch 4/10\n",
      "137/137 [==============================] - 397s 3s/step - loss: 0.2076 - val_loss: 0.1824\n",
      "\n",
      "Epoch 00004: val_loss improved from 0.28878 to 0.18240, saving model to my_checkpoint.ckpt\n",
      "Epoch 5/10\n",
      "137/137 [==============================] - 396s 3s/step - loss: 0.1060 - val_loss: 0.1370\n",
      "\n",
      "Epoch 00005: val_loss improved from 0.18240 to 0.13703, saving model to my_checkpoint.ckpt\n",
      "Epoch 6/10\n",
      "137/137 [==============================] - 396s 3s/step - loss: 0.0609 - val_loss: 0.1164\n",
      "\n",
      "Epoch 00006: val_loss improved from 0.13703 to 0.11637, saving model to my_checkpoint.ckpt\n",
      "Epoch 7/10\n",
      "137/137 [==============================] - 396s 3s/step - loss: 0.0386 - val_loss: 0.1056\n",
      "\n",
      "Epoch 00007: val_loss improved from 0.11637 to 0.10557, saving model to my_checkpoint.ckpt\n",
      "Epoch 8/10\n",
      "137/137 [==============================] - 396s 3s/step - loss: 0.0254 - val_loss: 0.0987\n",
      "\n",
      "Epoch 00008: val_loss improved from 0.10557 to 0.09870, saving model to my_checkpoint.ckpt\n",
      "Epoch 9/10\n",
      "137/137 [==============================] - 396s 3s/step - loss: 0.0184 - val_loss: 0.0947\n",
      "\n",
      "Epoch 00009: val_loss improved from 0.09870 to 0.09466, saving model to my_checkpoint.ckpt\n",
      "Epoch 10/10\n",
      "137/137 [==============================] - 396s 3s/step - loss: 0.0135 - val_loss: 0.0919\n",
      "\n",
      "Epoch 00010: val_loss improved from 0.09466 to 0.09193, saving model to my_checkpoint.ckpt\n"
     ]
    }
   ],
   "source": [
    "model.compile(loss = loss, optimizer = optimizer)\n",
    "history = model.fit(dataset,validation_data=(enc_val, dec_val), batch_size = BATCH_SIZE, callbacks=[checkpoint], epochs = 10)"
   ]
  },
  {
   "cell_type": "code",
   "execution_count": 26,
   "id": "fourth-truck",
   "metadata": {},
   "outputs": [],
   "source": [
    "def generate_text(model, tokenizer, init_sentence=\"<start>\", max_len=20):\n",
    "    # 테스트를 위해서 입력받은 init_sentence도 텐서로 변환합니다\n",
    "    test_input = tokenizer.texts_to_sequences([init_sentence])\n",
    "    test_tensor = tf.convert_to_tensor(test_input, dtype=tf.int64)\n",
    "    enc_val\n",
    "    end_token = tokenizer.word_index[\"end\"]\n",
    "\n",
    "    # 단어 하나씩 예측해 문장을 만듭니다\n",
    "    #    1. 입력받은 문장의 텐서를 입력합니다\n",
    "    #    2. 예측된 값 중 가장 높은 확률인 word index를 뽑아냅니다\n",
    "    #    3. 2에서 예측된 word index를 문장 뒤에 붙입니다\n",
    "    #    4. 모델이 <end>를 예측했거나, max_len에 도달했다면 문장 생성을 마칩니다\n",
    "    while True:\n",
    "        # 1\n",
    "        predict = model(test_tensor) \n",
    "        # 2\n",
    "        predict_word = tf.argmax(tf.nn.softmax(predict, axis=-1), axis=-1)[:, -1] \n",
    "        # 3 \n",
    "        test_tensor = tf.concat([test_tensor, tf.expand_dims(predict_word, axis=0)], axis=-1)\n",
    "        # 4\n",
    "        if predict_word.numpy()[0] == end_token: break\n",
    "        if test_tensor.shape[1] >= max_len: break\n",
    "\n",
    "    generated = \"\"\n",
    "    # tokenizer를 이용해 word index를 단어로 하나씩 변환합니다 \n",
    "    for word_index in test_tensor[0].numpy():\n",
    "        generated += tokenizer.index_word[word_index] + \" \"\n",
    "\n",
    "    return generated"
   ]
  },
  {
   "cell_type": "code",
   "execution_count": 27,
   "id": "geographic-baseball",
   "metadata": {},
   "outputs": [
    {
     "data": {
      "text/plain": [
       "<tensorflow.python.training.tracking.util.CheckpointLoadStatus at 0x7f316c29eb90>"
      ]
     },
     "execution_count": 27,
     "metadata": {},
     "output_type": "execute_result"
    }
   ],
   "source": [
    "model.load_weights(checkpoint_path)"
   ]
  },
  {
   "cell_type": "code",
   "execution_count": 33,
   "id": "aboriginal-china",
   "metadata": {},
   "outputs": [
    {
     "data": {
      "text/plain": [
       "'start i love you so much older older older la la la la la la la end '"
      ]
     },
     "execution_count": 33,
     "metadata": {},
     "output_type": "execute_result"
    }
   ],
   "source": [
    "generate_text(model, tokenizer, init_sentence=\"<start> i love \", max_len=20)"
   ]
  },
  {
   "cell_type": "markdown",
   "id": "thorough-communication",
   "metadata": {},
   "source": [
    "### Finally, submit a line of lyrics the model generated."
   ]
  },
  {
   "cell_type": "markdown",
   "id": "attractive-organization",
   "metadata": {},
   "source": [
    "i love you so much older older older la la la la la la la"
   ]
  },
  {
   "cell_type": "markdown",
   "id": "ancient-camping",
   "metadata": {},
   "source": [
    "## What i did for less loss\n",
    "### 1) adjusted batch size and hidden size\n",
    "### 2) Try to check the validation loss with checkpoint and print!\n",
    "### 3) Change model\n",
    "  - add bidirectional layer in RNN layer\n",
    "  - add 2 Dropout layer "
   ]
  },
  {
   "cell_type": "markdown",
   "id": "manual-clerk",
   "metadata": {},
   "source": [
    "## +Bonus, plot loss and val_loss "
   ]
  },
  {
   "cell_type": "code",
   "execution_count": 41,
   "id": "younger-subcommittee",
   "metadata": {},
   "outputs": [
    {
     "data": {
      "image/png": "[encoded data removed]",
      "text/plain": [
       "<Figure size 432x288 with 1 Axes>"
      ]
     },
     "metadata": {
      "needs_background": "light"
     },
     "output_type": "display_data"
    }
   ],
   "source": [
    "import matplotlib.pyplot as plt\n",
    "\n",
    "epochs = 10\n",
    "fig = plt.figure()\n",
    "\n",
    "plt.plot(np.arange(1,epochs + 1),history.history['loss'])\n",
    "plt.plot(np.arange(1,epochs + 1),history.history['val_loss'])\n",
    "plt.title('loss VS val_loss')\n",
    "plt.ylabel('loss')\n",
    "plt.xlabel('epochs')\n",
    "plt.legend(['loss','val_loss'])\n",
    "plt.show()"
   ]
  },
  {
   "cell_type": "code",
   "execution_count": null,
   "id": "vertical-electronics",
   "metadata": {},
   "outputs": [],
   "source": []
  }
 ],
 "metadata": {
  "kernelspec": {
   "display_name": "Python 3",
   "language": "python",
   "name": "python3"
  },
  "language_info": {
   "codemirror_mode": {
    "name": "ipython",
    "version": 3
   },
   "file_extension": ".py",
   "mimetype": "text/x-python",
   "name": "python",
   "nbconvert_exporter": "python",
   "pygments_lexer": "ipython3",
   "version": "3.7.9"
  }
 },
 "nbformat": 4,
 "nbformat_minor": 5
}
