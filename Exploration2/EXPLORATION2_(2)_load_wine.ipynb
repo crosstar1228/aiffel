{
  "nbformat": 4,
  "nbformat_minor": 0,
  "metadata": {
    "colab": {
      "name": "EXPLORATION2-(2)_load_wine.ipynb",
      "provenance": [],
      "collapsed_sections": []
    },
    "kernelspec": {
      "name": "python3",
      "display_name": "Python 3"
    },
    "language_info": {
      "name": "python"
    }
  },
  "cells": [
    {
      "cell_type": "markdown",
      "metadata": {
        "id": "wyWOQI82Gt_I"
      },
      "source": [
        "# wine classification"
      ]
    },
    {
      "cell_type": "code",
      "metadata": {
        "id": "Ik9BtuvnAK_3"
      },
      "source": [
        "from sklearn.datasets import load_wine\n",
        "from sklearn.model_selection import train_test_split\n",
        "from sklearn.metrics import classification_report\n",
        "from sklearn import svm\n",
        "from sklearn.linear_model import SGDClassifier\n",
        "from sklearn.linear_model import LogisticRegression\n",
        "from sklearn.tree import DecisionTreeClassifier\n",
        "from sklearn.ensemble import RandomForestClassifier\n",
        "\n",
        "import numpy as np\n",
        "import matplotlib.pyplot as plt"
      ],
      "execution_count": 1,
      "outputs": []
    },
    {
      "cell_type": "markdown",
      "metadata": {
        "id": "xI7iRNHaG9LY"
      },
      "source": [
        "###2. load data and preprocessing"
      ]
    },
    {
      "cell_type": "code",
      "metadata": {
        "colab": {
          "base_uri": "https://localhost:8080/"
        },
        "id": "qFcrcOplHZru",
        "outputId": "a693a007-8a29-49c2-ae60-2b736321474b"
      },
      "source": [
        " wine = load_wine()\n",
        " print(wine.keys())\n",
        " wine.target_names\n"
      ],
      "execution_count": 3,
      "outputs": [
        {
          "output_type": "stream",
          "text": [
            "dict_keys(['data', 'target', 'target_names', 'DESCR', 'feature_names'])\n"
          ],
          "name": "stdout"
        },
        {
          "output_type": "execute_result",
          "data": {
            "text/plain": [
              "array(['class_0', 'class_1', 'class_2'], dtype='<U7')"
            ]
          },
          "metadata": {
            "tags": []
          },
          "execution_count": 3
        }
      ]
    },
    {
      "cell_type": "code",
      "metadata": {
        "colab": {
          "base_uri": "https://localhost:8080/"
        },
        "id": "UOw4dcdoHfKQ",
        "outputId": "3488f7f2-f7b8-4000-cdc5-acbe5182fae8"
      },
      "source": [
        "wine_data = wine.data\n",
        "wine_label = wine.target\n",
        "print(wine_data.shape,wine_label.shape)\n",
        "\n"
      ],
      "execution_count": 4,
      "outputs": [
        {
          "output_type": "stream",
          "text": [
            "(178, 13) (178,)\n"
          ],
          "name": "stdout"
        }
      ]
    },
    {
      "cell_type": "code",
      "metadata": {
        "colab": {
          "base_uri": "https://localhost:8080/"
        },
        "id": "6OD_DRR2H3eb",
        "outputId": "c136e260-59a3-4b3b-a960-7e90e6990d01"
      },
      "source": [
        "X_train, X_test, y_train, y_test = train_test_split(wine_data,\n",
        "                                                    wine_label,       \n",
        "                                                    test_size = 0.2,\n",
        "                                                    random_state = 22)\n",
        "X_test.shape"
      ],
      "execution_count": 5,
      "outputs": [
        {
          "output_type": "execute_result",
          "data": {
            "text/plain": [
              "(36, 13)"
            ]
          },
          "metadata": {
            "tags": []
          },
          "execution_count": 5
        }
      ]
    },
    {
      "cell_type": "markdown",
      "metadata": {
        "id": "AGmeszKoKo72"
      },
      "source": [
        "###3. Modelling & Fitting"
      ]
    },
    {
      "cell_type": "markdown",
      "metadata": {
        "id": "DytM23BaLB6_"
      },
      "source": [
        "1)SVM"
      ]
    },
    {
      "cell_type": "code",
      "metadata": {
        "colab": {
          "base_uri": "https://localhost:8080/"
        },
        "id": "MHCwLTLGKFMF",
        "outputId": "888b2be3-be9a-41f4-eda5-1e9b3012361d"
      },
      "source": [
        "svm_model = svm.SVC()\n",
        "svm_model.fit(X_train, y_train)\n",
        "y_pred1 = svm_model.predict(X_test)\n",
        "\n",
        "report1 = classification_report(y_test,y_pred1, output_dict=True) #output을 dictionary로 반환\n",
        "\n",
        "\n",
        "print(report1['macro avg']['precision'])\n",
        "print(report1['macro avg']['recall'])\n",
        "print(report1['accuracy'])"
      ],
      "execution_count": 6,
      "outputs": [
        {
          "output_type": "stream",
          "text": [
            "0.4336677814938685\n",
            "0.625\n",
            "0.6388888888888888\n"
          ],
          "name": "stdout"
        },
        {
          "output_type": "stream",
          "text": [
            "/usr/local/lib/python3.7/dist-packages/sklearn/metrics/_classification.py:1272: UndefinedMetricWarning: Precision and F-score are ill-defined and being set to 0.0 in labels with no predicted samples. Use `zero_division` parameter to control this behavior.\n",
            "  _warn_prf(average, modifier, msg_start, len(result))\n"
          ],
          "name": "stderr"
        }
      ]
    },
    {
      "cell_type": "markdown",
      "metadata": {
        "id": "ZKVmaMyDLJmn"
      },
      "source": [
        "2)SGD Classifier"
      ]
    },
    {
      "cell_type": "code",
      "metadata": {
        "colab": {
          "base_uri": "https://localhost:8080/"
        },
        "id": "HsOmfIhyKOSP",
        "outputId": "ba7d0560-346b-43c5-a526-82ad3f74f85e"
      },
      "source": [
        "sgd_model = SGDClassifier()\n",
        "sgd_model.fit(X_train, y_train)\n",
        "y_pred2 = sgd_model.predict(X_test)\n",
        "\n",
        "report2 = classification_report(y_test,y_pred2, output_dict=True) #output을 dictionary로 반환\n",
        "\n",
        "\n",
        "print(report2['macro avg']['precision'])\n",
        "print(report2['macro avg']['recall'])\n",
        "print(report2['accuracy'])"
      ],
      "execution_count": 7,
      "outputs": [
        {
          "output_type": "stream",
          "text": [
            "0.4424242424242424\n",
            "0.6087962962962963\n",
            "0.6388888888888888\n"
          ],
          "name": "stdout"
        },
        {
          "output_type": "stream",
          "text": [
            "/usr/local/lib/python3.7/dist-packages/sklearn/metrics/_classification.py:1272: UndefinedMetricWarning: Precision and F-score are ill-defined and being set to 0.0 in labels with no predicted samples. Use `zero_division` parameter to control this behavior.\n",
            "  _warn_prf(average, modifier, msg_start, len(result))\n"
          ],
          "name": "stderr"
        }
      ]
    },
    {
      "cell_type": "markdown",
      "metadata": {
        "id": "PfEE8kpALPxn"
      },
      "source": [
        "3) Logistic regression"
      ]
    },
    {
      "cell_type": "code",
      "metadata": {
        "colab": {
          "base_uri": "https://localhost:8080/"
        },
        "id": "FRyEA7P1KT-f",
        "outputId": "f208be3d-67b5-4338-e890-c58cce93eb85"
      },
      "source": [
        "logistic_model = LogisticRegression()\n",
        "logistic_model.fit(X_train, y_train)\n",
        "y_pred3 = logistic_model.predict(X_test)\n",
        "\n",
        "report3 = classification_report(y_test,y_pred3, output_dict=True) #output을 dictionary로 반환\n",
        "\n",
        "\n",
        "print(report3['macro avg']['precision'])\n",
        "print(report3['macro avg']['recall'])\n",
        "print(report3['accuracy'])"
      ],
      "execution_count": 8,
      "outputs": [
        {
          "output_type": "stream",
          "text": [
            "0.9473684210526315\n",
            "0.9023569023569024\n",
            "0.9166666666666666\n"
          ],
          "name": "stdout"
        },
        {
          "output_type": "stream",
          "text": [
            "/usr/local/lib/python3.7/dist-packages/sklearn/linear_model/_logistic.py:940: ConvergenceWarning: lbfgs failed to converge (status=1):\n",
            "STOP: TOTAL NO. of ITERATIONS REACHED LIMIT.\n",
            "\n",
            "Increase the number of iterations (max_iter) or scale the data as shown in:\n",
            "    https://scikit-learn.org/stable/modules/preprocessing.html\n",
            "Please also refer to the documentation for alternative solver options:\n",
            "    https://scikit-learn.org/stable/modules/linear_model.html#logistic-regression\n",
            "  extra_warning_msg=_LOGISTIC_SOLVER_CONVERGENCE_MSG)\n"
          ],
          "name": "stderr"
        }
      ]
    },
    {
      "cell_type": "markdown",
      "metadata": {
        "id": "c3l0hkoEMKN9"
      },
      "source": [
        "4) Decision tree"
      ]
    },
    {
      "cell_type": "code",
      "metadata": {
        "colab": {
          "base_uri": "https://localhost:8080/"
        },
        "id": "OkNUUJMuKYe4",
        "outputId": "23f16805-1902-4012-dce4-25dde9329176"
      },
      "source": [
        "decision_tree = DecisionTreeClassifier(random_state=30)\n",
        "decision_tree.fit(X_train, y_train)\n",
        "y_pred4 = decision_tree.predict(X_test)\n",
        "\n",
        "report4 = classification_report(y_test,y_pred4, output_dict=True) #output을 dictionary로 반환\n",
        "\n",
        "\n",
        "print(report4['macro avg']['precision'])\n",
        "print(report4['macro avg']['recall'])\n",
        "print(report4['accuracy'])"
      ],
      "execution_count": 9,
      "outputs": [
        {
          "output_type": "stream",
          "text": [
            "0.8863636363636364\n",
            "0.9071969696969697\n",
            "0.8888888888888888\n"
          ],
          "name": "stdout"
        }
      ]
    },
    {
      "cell_type": "markdown",
      "metadata": {
        "id": "GG_DpN1eMPm_"
      },
      "source": [
        "5) Random Forest(ensemble of decision tree)"
      ]
    },
    {
      "cell_type": "code",
      "metadata": {
        "colab": {
          "base_uri": "https://localhost:8080/"
        },
        "id": "X9iEXEJVKbkn",
        "outputId": "de4e99bc-53eb-4412-a02f-cc0ccd2d0cf4"
      },
      "source": [
        "random_forest = RandomForestClassifier(random_state=28)\n",
        "random_forest.fit(X_train, y_train)\n",
        "y_pred5 = random_forest.predict(X_test)\n",
        "\n",
        "report5 = classification_report(y_test,y_pred5, output_dict=True) #output을 dictionary로 반환\n",
        "\n",
        "\n",
        "print(report5['macro avg']['precision'])\n",
        "print(report5['macro avg']['recall'])\n",
        "print(report5['accuracy'])"
      ],
      "execution_count": 10,
      "outputs": [
        {
          "output_type": "stream",
          "text": [
            "0.9666666666666667\n",
            "0.9791666666666666\n",
            "0.9722222222222222\n"
          ],
          "name": "stdout"
        }
      ]
    },
    {
      "cell_type": "markdown",
      "metadata": {
        "id": "yU0rUr9wM0GP"
      },
      "source": [
        "### 4. Evaluating each Model and analysing metrics"
      ]
    },
    {
      "cell_type": "code",
      "metadata": {
        "colab": {
          "base_uri": "https://localhost:8080/"
        },
        "id": "FE9JgrJHKfr_",
        "outputId": "c8d45169-3fa2-4082-f6e6-4768bf66f2de"
      },
      "source": [
        "print(report1['macro avg']['precision'])\n",
        "print(report1['macro avg']['recall'])\n",
        "print(report1['accuracy'])\n",
        "precision_list = []\n",
        "recall_list = []\n",
        "accuracy_list = []\n",
        "\n",
        "\n",
        "precision_list.extend([report1['macro avg']['precision'],\n",
        "                      report2['macro avg']['precision'],\n",
        "                       report3['macro avg']['precision'],\n",
        "                       report4['macro avg']['precision'],\n",
        "                       report5['macro avg']['precision']\n",
        "                      ])\n",
        "recall_list.extend([report1['macro avg']['recall'],\n",
        "                      report2['macro avg']['recall'],\n",
        "                       report3['macro avg']['recall'],\n",
        "                       report4['macro avg']['recall'],\n",
        "                       report5['macro avg']['recall']\n",
        "                      ])\n",
        "accuracy_list.extend([report1['accuracy'],\n",
        "                      report2['accuracy'],\n",
        "                       report3['accuracy'],\n",
        "                       report4['accuracy'],\n",
        "                       report5['accuracy']])\n",
        "\n",
        "print(precision_list)\n",
        "models_list = ['SVM', 'SGD', 'LOGI', 'DTree', 'RanFor']\n"
      ],
      "execution_count": 11,
      "outputs": [
        {
          "output_type": "stream",
          "text": [
            "0.4336677814938685\n",
            "0.625\n",
            "0.6388888888888888\n",
            "[0.4336677814938685, 0.4424242424242424, 0.9473684210526315, 0.8863636363636364, 0.9666666666666667]\n"
          ],
          "name": "stdout"
        }
      ]
    },
    {
      "cell_type": "code",
      "metadata": {
        "colab": {
          "base_uri": "https://localhost:8080/",
          "height": 626
        },
        "id": "sjR9vkXQKmAn",
        "outputId": "83375d4c-507a-402b-ff33-f9be48c01f3a"
      },
      "source": [
        "\n",
        "plt.figure(figsize=(20,10))\n",
        "plt.subplot(131)\n",
        "plt.bar(models_list,precision_list)\n",
        "plt.xlabel('Precision')\n",
        "plt.subplot(132)\n",
        "plt.bar(models_list,recall_list, color = 'pink')\n",
        "plt.xlabel('Recall')\n",
        "plt.subplot(133)\n",
        "plt.bar(models_list,accuracy_list, color = 'green')\n",
        "plt.xlabel('Accuracy')\n",
        "plt.show()"
      ],
      "execution_count": 12,
      "outputs": [
        {
          "output_type": "display_data",
          "data": {
            "image/png": "[encoded data removed]",
            "text/plain": [
              "<Figure size 1440x720 with 3 Axes>"
            ]
          },
          "metadata": {
            "tags": [],
            "needs_background": "light"
          }
        }
      ]
    },
    {
      "cell_type": "code",
      "metadata": {
        "colab": {
          "base_uri": "https://localhost:8080/"
        },
        "id": "-769bxChKtbZ",
        "outputId": "89f57b6d-134b-4373-c63b-1f76905f137d"
      },
      "source": [
        "print(f'In precision, {models_list[np.argmax(precision_list)]} is the best of the five by {max(precision_list)}')\n",
        "print(f'In recall, {models_list[np.argmax(recall_list)]} is the best of the five by {max(recall_list)}')\n",
        "print(f'In accuracy, {models_list[np.argmax(accuracy_list)]} is the best of the five by {max(accuracy_list)}')"
      ],
      "execution_count": 13,
      "outputs": [
        {
          "output_type": "stream",
          "text": [
            "In precision, RanFor is the best of the five by 0.9666666666666667\n",
            "In recall, RanFor is the best of the five by 0.9791666666666666\n",
            "In accuracy, RanFor is the best of the five by 0.9722222222222222\n"
          ],
          "name": "stdout"
        }
      ]
    },
    {
      "cell_type": "markdown",
      "metadata": {
        "id": "14pCeKVxNBVm"
      },
      "source": [
        "## What is the best model and why is it the best?"
      ]
    },
    {
      "cell_type": "markdown",
      "metadata": {
        "id": "vrDxb8mVNUP1"
      },
      "source": [
        "## -> **Random Forest** is the best model because it has the highest value of the three major metrics"
      ]
    },
    {
      "cell_type": "markdown",
      "metadata": {
        "id": "rV0DS26cD8qG"
      },
      "source": [
        "## why did i  choose these metrics?\n",
        "## -> it is the basic metrics in classification"
      ]
    }
  ]
}